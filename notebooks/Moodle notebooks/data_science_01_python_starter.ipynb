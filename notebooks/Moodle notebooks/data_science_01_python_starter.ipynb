{
 "cells": [
  {
   "cell_type": "markdown",
   "id": "bc331479",
   "metadata": {},
   "source": [
    "# Einführung Python (Crash-Course)"
   ]
  },
  {
   "cell_type": "markdown",
   "id": "63a2e66b",
   "metadata": {},
   "source": [
    "Wir werden überwiegend mit Jupyter Notebooks arbeiten. \n",
    "Einer der großen Vorteile daran: In den Notebooks können wir Code, Kommentare und Grafiken kombinieren, teilen, und erneut ausführen!\n",
    "\n",
    "Start with Markdown block\n",
    "\n",
    "# Übung\n",
    "## Jupyter Notebooks und Pandas\n",
    "### Beispiele für DAISies\n",
    "\n",
    "+ Punkt 1\n",
    "+ Noch ein Punkt\n",
    "\n",
    "`some fancy code`\n",
    "\n",
    "Geht auch alles noch *schöner* oder **wichtiger**.\n",
    "\n",
    "Und noch vieles mehr...\n",
    "\n",
    "| A | B | C |\n",
    "| --- | --- | --- |\n",
    "| Eins | Zwei | Drei |\n",
    "| Eins | Zwei | Drei |"
   ]
  },
  {
   "cell_type": "markdown",
   "id": "18252aa9",
   "metadata": {},
   "source": [
    "---\n",
    "### Python basics\n",
    "(für alle die noch nicht -oder fast nicht- mit Python gearbeitet haben)"
   ]
  },
  {
   "cell_type": "code",
   "execution_count": 1,
   "id": "2104c08d",
   "metadata": {},
   "outputs": [
    {
     "name": "stdout",
     "output_type": "stream",
     "text": [
      "Hello world!\n"
     ]
    }
   ],
   "source": [
    "# Werte, Variablen etc. gibt man in Python üblicherweise mit `print` aus\n",
    "print(\"Hello world!\")"
   ]
  },
  {
   "cell_type": "code",
   "execution_count": 2,
   "id": "ebbdbb05",
   "metadata": {},
   "outputs": [
    {
     "data": {
      "text/plain": [
       "'Hello world without print!'"
      ]
     },
     "execution_count": 2,
     "metadata": {},
     "output_type": "execute_result"
    }
   ],
   "source": [
    "# Jupyter Notebooks (und viele andere Python Interpreter) \n",
    "# geben Werte aber auch aus wenn diese (als Einziges) aufgerufen werden.\n",
    "\"Hello world without print!\""
   ]
  },
  {
   "cell_type": "markdown",
   "id": "99b1b5c0",
   "metadata": {},
   "source": [
    "#### Kurz zu einigen Datentypen: numerische und Strings"
   ]
  },
  {
   "cell_type": "code",
   "execution_count": 3,
   "id": "3f054836",
   "metadata": {},
   "outputs": [
    {
     "data": {
      "text/plain": [
       "5.01"
      ]
     },
     "execution_count": 3,
     "metadata": {},
     "output_type": "execute_result"
    }
   ],
   "source": [
    "# Zahlen werden ziemlich intuitiv bedient\n",
    "5.01"
   ]
  },
  {
   "cell_type": "code",
   "execution_count": 4,
   "id": "886d59af",
   "metadata": {},
   "outputs": [
    {
     "data": {
      "text/plain": [
       "float"
      ]
     },
     "execution_count": 4,
     "metadata": {},
     "output_type": "execute_result"
    }
   ],
   "source": [
    "# mit type() können wir auch den Typen abfragen\n",
    "type(5.01)"
   ]
  },
  {
   "cell_type": "code",
   "execution_count": 5,
   "id": "bab300ba",
   "metadata": {},
   "outputs": [
    {
     "data": {
      "text/plain": [
       "int"
      ]
     },
     "execution_count": 5,
     "metadata": {},
     "output_type": "execute_result"
    }
   ],
   "source": [
    "type(5)"
   ]
  },
  {
   "cell_type": "code",
   "execution_count": 6,
   "id": "4c3bd206",
   "metadata": {},
   "outputs": [
    {
     "data": {
      "text/plain": [
       "10.02"
      ]
     },
     "execution_count": 6,
     "metadata": {},
     "output_type": "execute_result"
    }
   ],
   "source": [
    "5.01 * 2"
   ]
  },
  {
   "cell_type": "code",
   "execution_count": 7,
   "id": "383dfce2",
   "metadata": {},
   "outputs": [
    {
     "data": {
      "text/plain": [
       "0.019999999999999574"
      ]
     },
     "execution_count": 7,
     "metadata": {},
     "output_type": "execute_result"
    }
   ],
   "source": [
    "5.01 * 2 - 10"
   ]
  },
  {
   "cell_type": "code",
   "execution_count": 8,
   "id": "0cd3e352",
   "metadata": {},
   "outputs": [
    {
     "data": {
      "text/plain": [
       "2"
      ]
     },
     "execution_count": 8,
     "metadata": {},
     "output_type": "execute_result"
    }
   ],
   "source": [
    "# // integer division (ganzzahlige Division)\n",
    "5 // 2  # (this is NOT the same as rounding!)"
   ]
  },
  {
   "cell_type": "code",
   "execution_count": 9,
   "id": "0ffd2145",
   "metadata": {},
   "outputs": [
    {
     "data": {
      "text/plain": [
       "1"
      ]
     },
     "execution_count": 9,
     "metadata": {},
     "output_type": "execute_result"
    }
   ],
   "source": [
    "# % modulo\n",
    "5 % 2"
   ]
  },
  {
   "cell_type": "code",
   "execution_count": 10,
   "id": "510e8148",
   "metadata": {},
   "outputs": [
    {
     "data": {
      "text/plain": [
       "100"
      ]
     },
     "execution_count": 10,
     "metadata": {},
     "output_type": "execute_result"
    }
   ],
   "source": [
    "# ** power (Potenz)\n",
    "10 ** 2"
   ]
  },
  {
   "cell_type": "markdown",
   "id": "cd2d8af3",
   "metadata": {},
   "source": [
    "Mini-Quiz: Welche der folgenden Befehle funktioniert?\n",
    "> (1) `\"five\" + \"five\"`  \n",
    "> (2) `\"five\" + 5`  \n",
    "> (3) `2 * \"five\"`  \n",
    "> (4) `\"five\" - \"ive\"`  "
   ]
  },
  {
   "cell_type": "code",
   "execution_count": 11,
   "id": "47f3eb54",
   "metadata": {},
   "outputs": [
    {
     "data": {
      "text/plain": [
       "'This is a string'"
      ]
     },
     "execution_count": 11,
     "metadata": {},
     "output_type": "execute_result"
    }
   ],
   "source": [
    "# Strings werden einfach durch Anführungszeichen dargestellt\n",
    "\"This is a string\""
   ]
  },
  {
   "cell_type": "code",
   "execution_count": 12,
   "id": "4e7dac0c",
   "metadata": {},
   "outputs": [
    {
     "data": {
      "text/plain": [
       "str"
      ]
     },
     "execution_count": 12,
     "metadata": {},
     "output_type": "execute_result"
    }
   ],
   "source": [
    "type(\"this is a string\")"
   ]
  },
  {
   "cell_type": "code",
   "execution_count": 13,
   "id": "8966dff3",
   "metadata": {},
   "outputs": [
    {
     "name": "stdout",
     "output_type": "stream",
     "text": [
      "Take this! And that!\n"
     ]
    }
   ],
   "source": [
    "# Strings können auch addiert werden\n",
    "print(\"Take this!\" + \" And that!\")"
   ]
  },
  {
   "cell_type": "raw",
   "id": "21710a2b",
   "metadata": {
    "vscode": {
     "languageId": "raw"
    }
   },
   "source": [
    "# Nicht allerdings Strings und Zahlen (irgendwie auch logisch)\n",
    "\"100\" + 5"
   ]
  },
  {
   "cell_type": "code",
   "execution_count": 14,
   "id": "33d84695",
   "metadata": {},
   "outputs": [
    {
     "data": {
      "text/plain": [
       "'1005'"
      ]
     },
     "execution_count": 14,
     "metadata": {},
     "output_type": "execute_result"
    }
   ],
   "source": [
    "# Wir können aber Zahlen in strings umwandeln\n",
    "\"100\" + str(5)"
   ]
  },
  {
   "cell_type": "code",
   "execution_count": 15,
   "id": "d63b2163",
   "metadata": {},
   "outputs": [
    {
     "name": "stdout",
     "output_type": "stream",
     "text": [
      "7 + 5 = 12\n"
     ]
    }
   ],
   "source": [
    "print(\"7 + 5 = \" + str(7 + 5))"
   ]
  },
  {
   "cell_type": "markdown",
   "id": "a8b48ff3",
   "metadata": {},
   "source": [
    "Aber am besten ist eigentlich der sogenannte \"f-strings\""
   ]
  },
  {
   "cell_type": "code",
   "execution_count": 16,
   "id": "30272067",
   "metadata": {},
   "outputs": [
    {
     "name": "stdout",
     "output_type": "stream",
     "text": [
      "This is 8 times better than that.\n"
     ]
    }
   ],
   "source": [
    "print(f\"This is {8} times better than that.\")"
   ]
  },
  {
   "cell_type": "markdown",
   "id": "bd1734af",
   "metadata": {},
   "source": [
    "## Variablen\n",
    "In Python werden Daten den Variablen einfach mit dem `=` Operator zugewiesen. \n",
    "\n",
    "**Achtung.** Wer bisher noch nicht mit dynamischer Typisierung gearbeitet hat wird eventuell überrascht sein, dass bei Python der Variablentyp nicht festgelegt wird (und sich sogar ändern darf)."
   ]
  },
  {
   "cell_type": "code",
   "execution_count": 17,
   "id": "7c0e0f53",
   "metadata": {},
   "outputs": [
    {
     "name": "stdout",
     "output_type": "stream",
     "text": [
      "0.8333333333333334\n"
     ]
    }
   ],
   "source": [
    "a = 5\n",
    "print(a / 6)"
   ]
  },
  {
   "cell_type": "code",
   "execution_count": 18,
   "id": "8c71618e",
   "metadata": {},
   "outputs": [
    {
     "data": {
      "text/plain": [
       "int"
      ]
     },
     "execution_count": 18,
     "metadata": {},
     "output_type": "execute_result"
    }
   ],
   "source": [
    "type(a)"
   ]
  },
  {
   "cell_type": "code",
   "execution_count": 19,
   "id": "9659d091",
   "metadata": {},
   "outputs": [
    {
     "data": {
      "text/plain": [
       "float"
      ]
     },
     "execution_count": 19,
     "metadata": {},
     "output_type": "execute_result"
    }
   ],
   "source": [
    "a = 5\n",
    "a = a + 0.001\n",
    "type(a)"
   ]
  },
  {
   "cell_type": "code",
   "execution_count": 20,
   "id": "63208629",
   "metadata": {},
   "outputs": [
    {
     "name": "stdout",
     "output_type": "stream",
     "text": [
      "<class 'float'> 5.0\n"
     ]
    }
   ],
   "source": [
    "a = a - 0.001\n",
    "print(type(a), a)"
   ]
  },
  {
   "cell_type": "markdown",
   "id": "7943422b",
   "metadata": {},
   "source": [
    "Sehr zu empfehlen: den Variablen Namen geben die einen\n",
    "Hinweis auf ihren Inhalt enthalten..."
   ]
  },
  {
   "cell_type": "code",
   "execution_count": 21,
   "id": "7c4f1db3",
   "metadata": {},
   "outputs": [
    {
     "name": "stdout",
     "output_type": "stream",
     "text": [
      "5.25\n"
     ]
    }
   ],
   "source": [
    "training_seconds = 18900\n",
    "sec_per_hour = 60 * 60\n",
    "training_hours = training_seconds / sec_per_hour\n",
    "\n",
    "print(training_hours)"
   ]
  },
  {
   "cell_type": "markdown",
   "id": "3f8c89d4",
   "metadata": {},
   "source": [
    "### !! Best practices !!\n",
    "Regeln für Variablennamen\n",
    "\n",
    "- Namen mit Bedeutung\n",
    "- Kleinbuchstaben (und Unterstriche)\n",
    "- Verboten: [\"reserved keywords\"](https://docs.python.org/3/reference/lexical_analysis.html#keywords)\n",
    "- Verboten: Beginn mit Zahl (also `321count = 15`)\n",
    "- Auch keine Funktionennamen benutzten (Standardfunktionen oder Funktionen die im Programm vorkommen)\n",
    "- Andere Sprachen als Englisch sind natürlich OK (je nach Kontext)\n",
    "- Allerdings machen Sonderzeichen manches komplizierter (z.B. ä oder ü)"
   ]
  },
  {
   "cell_type": "markdown",
   "id": "f32a7458",
   "metadata": {},
   "source": [
    "## Sequenzen: List, Tuple und string\n",
    "\n",
    "Drei zentrale Datentypen sind `list`, `tuple` und `string`. Alle drei sind Sequenzen und damit können die folgenden Operationen auf allen drei Typen ausgeführt werden:\n",
    "\n",
    "|     Operation        |     Ergebnis                                                                                                          |\n",
    "|----------------------|-----------------------------------------------------------------------------------------------------------------------|\n",
    "|     x in s           |     True wenn ein Element mit dem   Wert x in der Sequenz s enthalten ist, sonst False.                               |\n",
    "|     x not in   s     |     False   wenn ein Element mit dem Wert x in der Sequenz s enthalten ist, sonst True.                               |\n",
    "|     s + t            |     Konkatenation der beiden   Sequenzen s und t.                                                                     |\n",
    "|     s * n            |     n Kopien der Sequenz s werden hintereinandergehängt.                                                              |\n",
    "|     s[i]             |     Wiedergeben des i-ten Elementes   von s.                                                                          |\n",
    "|     s[i:j]           |     Wiedergabe des Ausschnitts   (slice) von s, der vom i-ten bis zum j-ten Element (nicht einschließlich)   geht.    |\n",
    "|     s[i:]            |     Wiedergabe des Ausschnitts   (slice) von s, der vom i-ten bis zum letzten Element geht.                           |\n",
    "|     len(s)           |     Gibt die Länge der Sequenz s   wieder.                                                                            |\n",
    "|     min(s)           |     Gibt das kleinste Element der   Sequenz s wieder.                                                                 |\n",
    "|     max(s)           |     Gibt das größte Element der   Sequenz s wieder                                                                    |"
   ]
  },
  {
   "cell_type": "markdown",
   "id": "8c49c5b2",
   "metadata": {},
   "source": [
    "---\n",
    "## Mini-Übung\n",
    "Wir haben einen String:\n",
    "```\n",
    "my_str = \"Ein String ist auch eine Sequenz.\"\n",
    "```\n",
    "- Was ist die Länge des strings (`len()`)?\n",
    "- Was ist das \"größte\" Element (`max()`)?\n",
    "- Ist \"eq\" im String enthalten?"
   ]
  },
  {
   "cell_type": "code",
   "execution_count": 22,
   "id": "470b74d5",
   "metadata": {},
   "outputs": [
    {
     "data": {
      "text/plain": [
       "'in'"
      ]
     },
     "execution_count": 22,
     "metadata": {},
     "output_type": "execute_result"
    }
   ],
   "source": [
    "my_str = \"Ein String ist auch eine Sequenz.\"\n",
    "my_str[1:3]"
   ]
  },
  {
   "cell_type": "code",
   "execution_count": 23,
   "id": "cec6d03a",
   "metadata": {},
   "outputs": [
    {
     "data": {
      "text/plain": [
       "True"
      ]
     },
     "execution_count": 23,
     "metadata": {},
     "output_type": "execute_result"
    }
   ],
   "source": [
    "\"enz\" in my_str"
   ]
  },
  {
   "cell_type": "code",
   "execution_count": 24,
   "id": "aafcc534",
   "metadata": {},
   "outputs": [
    {
     "data": {
      "text/plain": [
       "'ja, ja, ja, ja, ja, vielleicht...'"
      ]
     },
     "execution_count": 24,
     "metadata": {},
     "output_type": "execute_result"
    }
   ],
   "source": [
    "5 * \"ja, \" + \"vielleicht...\""
   ]
  },
  {
   "cell_type": "markdown",
   "id": "65619057",
   "metadata": {},
   "source": [
    "### List"
   ]
  },
  {
   "cell_type": "code",
   "execution_count": 25,
   "id": "f388fd8c",
   "metadata": {},
   "outputs": [
    {
     "data": {
      "text/plain": [
       "'orange'"
      ]
     },
     "execution_count": 25,
     "metadata": {},
     "output_type": "execute_result"
    }
   ],
   "source": [
    "# Ein sehr häufig genutzter Datentyp in Python sind Listen\n",
    "fruit = [\"apple\", \"orange\", \"banana\", \"pear\"]\n",
    "fruit[1]"
   ]
  },
  {
   "cell_type": "code",
   "execution_count": 26,
   "id": "eadd0d14",
   "metadata": {},
   "outputs": [
    {
     "data": {
      "text/plain": [
       "-0.014"
      ]
     },
     "execution_count": 26,
     "metadata": {},
     "output_type": "execute_result"
    }
   ],
   "source": [
    "# Listen können auch Elemente mit verschiedenen Typen enthalten\n",
    "my_list = [\"a string\", 52, -0.014, \"another string\"]\n",
    "my_list[2]"
   ]
  },
  {
   "cell_type": "code",
   "execution_count": 27,
   "id": "39abb5be",
   "metadata": {},
   "outputs": [
    {
     "data": {
      "text/plain": [
       "[7, 2]"
      ]
     },
     "execution_count": 27,
     "metadata": {},
     "output_type": "execute_result"
    }
   ],
   "source": [
    "# Listen können auch Listen enthalten\n",
    "my_list = [3, [7, 2], \"example\"]\n",
    "my_list[1]"
   ]
  },
  {
   "cell_type": "code",
   "execution_count": 28,
   "id": "6a2c0a4b",
   "metadata": {},
   "outputs": [
    {
     "data": {
      "text/plain": [
       "7"
      ]
     },
     "execution_count": 28,
     "metadata": {},
     "output_type": "execute_result"
    }
   ],
   "source": [
    "my_list[1][0]"
   ]
  },
  {
   "cell_type": "markdown",
   "id": "efc04317",
   "metadata": {},
   "source": [
    "### Tuple\n",
    "Ein Tuple ist in Python eine andere Form der Sammlung. Anders als `list`\n",
    "wird ein Tuple mit runden Klammern erstellt. Die Elemente eines Tuples sind -genau wie Listen-\n",
    "über Indices adressierbar:"
   ]
  },
  {
   "cell_type": "code",
   "execution_count": 29,
   "id": "d2a746fc",
   "metadata": {},
   "outputs": [
    {
     "data": {
      "text/plain": [
       "'orange'"
      ]
     },
     "execution_count": 29,
     "metadata": {},
     "output_type": "execute_result"
    }
   ],
   "source": [
    "fruit_tuple = (\"apple\", \"orange\", \"banana\", \"pear\")\n",
    "fruit_tuple[1]"
   ]
  },
  {
   "cell_type": "markdown",
   "id": "f5a1a079",
   "metadata": {},
   "source": [
    "Sieht eigentlich alles aus wie bei der Liste.  \n",
    "Was ist jetzt da der Unterschied zur Liste?  \n",
    "In Python unterscheiden wir veränderbare (**mutable**) und unveränderbare\n",
    "(**immutable**) Datentypen. Listen zählen zu den veränderbaren, Tuple dagegen\n",
    "sind unveränderbar."
   ]
  },
  {
   "cell_type": "code",
   "execution_count": 30,
   "id": "22f6da7e",
   "metadata": {},
   "outputs": [
    {
     "name": "stdout",
     "output_type": "stream",
     "text": [
      "['apple', 'orange', 'banana', 'mango']\n"
     ]
    }
   ],
   "source": [
    "fruit = [\"apple\", \"orange\", \"banana\", \"pear\"]\n",
    "fruit[-1] = \"mango\"\n",
    "print(fruit)"
   ]
  },
  {
   "cell_type": "raw",
   "id": "9ee73975",
   "metadata": {
    "vscode": {
     "languageId": "raw"
    }
   },
   "source": [
    "fruit_tuple = (\"apple\", \"orange\", \"banana\", \"pear\")\n",
    "fruit_tuple[-1] = \"mango\"  # => TypeError:"
   ]
  },
  {
   "cell_type": "markdown",
   "id": "fd41e33b",
   "metadata": {},
   "source": [
    "Auch strings sind in Python übrigens unveränderbar."
   ]
  },
  {
   "cell_type": "raw",
   "id": "4409f351",
   "metadata": {
    "vscode": {
     "languageId": "raw"
    }
   },
   "source": [
    "my_str = \"Leder\"\n",
    "my_str[0] = \"F\""
   ]
  },
  {
   "cell_type": "markdown",
   "id": "8994a835",
   "metadata": {},
   "source": [
    "### Noch mehr Listen\n",
    "Listen sind Sequenzen. Für Listen gibt es aber noch viele andere eingebaute Methoden, hier einige davon:\n",
    "\n",
    "|     Operation                  |     Ergebnis                                                                                                          |\n",
    "|--------------------------------|-----------------------------------------------------------------------------------------------------------------------|\n",
    "|     my_list[i]   = x           |     Das Element mit Index i wird   durch x ersetzt.                                                                   |\n",
    "|     my_list.append(x)          |     An die Liste s wird ein neues   Element x angehängt.                                                              |\n",
    "|     my_list.extend(t)          |     Die Liste my_list   wird um die Element der Sequenz t verlängert.                                                 |\n",
    "|     my_list.count(x)           |     Gibt die Anzahl der   Listenelemente mit dem Wert x zurück.                                                       |\n",
    "|     del my_list   [i]          |     Das Element mit Index i wird aus   der Liste s entfernt, damit veringert   sich auch die Länge der Liste um 1.    |\n",
    "|     my_list.index(x)           |     Gibt den kleinsten Index von my_list   zurück an dem ein Element gleich x ist.                                    |\n",
    "|     my_list.insert(i,   x)     |     Falls i >= 0 wird x vor dem   Index i in die Liste my_list eingefügt.                                             |\n",
    "|     my_list.remove(x)          |     Das erste Element gleich x wird   aus der Liste my_list entfernt.                                                 |\n",
    "|     my_list.sort()             |     Die Elemente der Liste werden   aufsteigend sortiert                                                              |\n",
    "|     max(s)                     |     Gibt das größte Element der   Sequenz s wieder                                                                    |"
   ]
  },
  {
   "cell_type": "code",
   "execution_count": 31,
   "id": "2d869d02",
   "metadata": {},
   "outputs": [
    {
     "data": {
      "text/plain": [
       "['apple', 'banana', 'orange', 'pear']"
      ]
     },
     "execution_count": 31,
     "metadata": {},
     "output_type": "execute_result"
    }
   ],
   "source": [
    "fruit = [\"orange\", \"apple\", \"banana\", \"pear\"]\n",
    "fruit.sort()\n",
    "fruit"
   ]
  },
  {
   "cell_type": "code",
   "execution_count": 32,
   "id": "aa553fa8",
   "metadata": {},
   "outputs": [
    {
     "data": {
      "text/plain": [
       "3"
      ]
     },
     "execution_count": 32,
     "metadata": {},
     "output_type": "execute_result"
    }
   ],
   "source": [
    "fruit.index(\"pear\")"
   ]
  },
  {
   "cell_type": "code",
   "execution_count": 33,
   "id": "0473eb8f",
   "metadata": {},
   "outputs": [
    {
     "data": {
      "text/plain": [
       "['apple', 'banana', 'orange', 'pear', 'mango']"
      ]
     },
     "execution_count": 33,
     "metadata": {},
     "output_type": "execute_result"
    }
   ],
   "source": [
    "fruit.append(\"mango\")\n",
    "fruit"
   ]
  },
  {
   "cell_type": "markdown",
   "id": "9ce13a72",
   "metadata": {},
   "source": [
    "---\n",
    "## Mini-Übung\n",
    "Wir haben zwei Listen:\n",
    "```python\n",
    "fruits1 = [\"apple\", \"orange\", \"mango\"]\n",
    "fruits2 = [\"banana\", \"ananas\"]\n",
    "```\n",
    "- Geben sie mit `len()` die Länge der Listen wieder\n",
    "- Fügen sie beide Listen zu einer Liste (`all_fruits`) zusammen\n",
    "- Nutzen sie `.append()` um noch \"lemon\" hinzuzufügen\n",
    "- Nutzen sie `.extend()` um noch \"marakuja\" und \"melon\" hinzuzufügen."
   ]
  },
  {
   "cell_type": "code",
   "execution_count": 34,
   "id": "56d304f3",
   "metadata": {},
   "outputs": [],
   "source": [
    "fruits1 = [\"apple\", \"orange\", \"mango\"]\n",
    "fruits2 = [\"banana\", \"ananas\"]"
   ]
  },
  {
   "cell_type": "markdown",
   "id": "5a26f570",
   "metadata": {},
   "source": [
    "---\n",
    "## Verzweigungen --> If-else\n",
    "(\"case\" gibt es in Python nicht)"
   ]
  },
  {
   "cell_type": "code",
   "execution_count": 35,
   "id": "5a7f1668",
   "metadata": {},
   "outputs": [
    {
     "name": "stdout",
     "output_type": "stream",
     "text": [
      "0.01 ist eine positive Zahl.\n"
     ]
    }
   ],
   "source": [
    "number = 0.01\n",
    "\n",
    "if number > 0:\n",
    "    print(f\"{number} ist eine positive Zahl.\")\n",
    "elif number < 0:\n",
    "    print(f\"{number} ist eine negative Zahl.\")\n",
    "else:\n",
    "    print(f\"{number} müsste 0 sein?\")"
   ]
  },
  {
   "cell_type": "markdown",
   "id": "10837b3c",
   "metadata": {},
   "source": [
    "Wie man hier sieht, arbeitet Python nur mit Einrückungen und nicht mit Klammern!\n",
    "\n",
    "Die Art der Einrückungen kann im Prinzip frei gewählt werden, sie muss nur Konsistent sein. Meistens werden als Standard aber 4 Leerzeichen gewählt."
   ]
  },
  {
   "cell_type": "markdown",
   "id": "f0635afa",
   "metadata": {},
   "source": [
    "## Schleifen\n",
    "In Python gibt es die üblichen `for` und `while` Schleifen."
   ]
  },
  {
   "cell_type": "code",
   "execution_count": 36,
   "id": "3c659efc",
   "metadata": {},
   "outputs": [
    {
     "name": "stdout",
     "output_type": "stream",
     "text": [
      "4\n",
      "16\n",
      "256\n",
      "65536\n"
     ]
    }
   ],
   "source": [
    "x = 2\n",
    "while x < 1000:\n",
    "    x = x**2\n",
    "    print(x)"
   ]
  },
  {
   "cell_type": "code",
   "execution_count": 37,
   "id": "08cf9856",
   "metadata": {},
   "outputs": [
    {
     "name": "stdout",
     "output_type": "stream",
     "text": [
      "Ich sag mal...ja\n",
      "Ich sag mal...nee\n",
      "Ich sag mal...vielleicht\n",
      "Ich sag mal...weiss nicht\n"
     ]
    }
   ],
   "source": [
    "for antwort in [\"ja\", \"nee\", \"vielleicht\", \"weiss nicht\"]:\n",
    "    print(f\"Ich sag mal...{antwort}\")"
   ]
  },
  {
   "cell_type": "markdown",
   "id": "0f0492b2",
   "metadata": {},
   "source": [
    "### Best friends: `range` and `for`\n",
    "Oft möchten wir eine Programmteil n-mal laufen lassen. Dafür nutzt man in Python `range`. `range` ist ein \"generator\", einen Funktionstyp den wir später noch genauer besprechen. An dieser Stelle reicht es zu wissen, dass es eine Funktion ist, die Werte erst ausgibt, wenn sie ausgelesen werden.\n",
    "`range` generiert Integer ein einem gewünschten Intervall und Abstand\n"
   ]
  },
  {
   "cell_type": "code",
   "execution_count": 38,
   "id": "8b3db6bd",
   "metadata": {},
   "outputs": [
    {
     "data": {
      "text/plain": [
       "range(0, 5)"
      ]
     },
     "execution_count": 38,
     "metadata": {},
     "output_type": "execute_result"
    }
   ],
   "source": [
    "range(5)  # das ist ein sogenannter Iterator"
   ]
  },
  {
   "cell_type": "code",
   "execution_count": 39,
   "id": "6be4b290",
   "metadata": {},
   "outputs": [
    {
     "data": {
      "text/plain": [
       "[0, 1, 2, 3, 4]"
      ]
     },
     "execution_count": 39,
     "metadata": {},
     "output_type": "execute_result"
    }
   ],
   "source": [
    "list(range(5))"
   ]
  },
  {
   "cell_type": "code",
   "execution_count": 40,
   "id": "d2737bee",
   "metadata": {},
   "outputs": [
    {
     "name": "stdout",
     "output_type": "stream",
     "text": [
      "[0, 1, 2, 3, 4]\n",
      "[4, 5, 6, 7]\n",
      "[10, 14, 18, 22, 26]\n"
     ]
    }
   ],
   "source": [
    "print(list(range(5)))\n",
    "print(list(range(4, 8)))\n",
    "print(list(range(10, 30, 4)))"
   ]
  },
  {
   "cell_type": "markdown",
   "id": "55a43385",
   "metadata": {},
   "source": [
    "> ### Mini Quiz\n",
    "> Was gibt `list(range(-3, 3)` aus?  \n",
    "> a) [-3, 0, 3]  \n",
    "> b) [-3, -2, -1, 0, 1, 2, 3]  \n",
    "> c) [-3, -2, -1, 0, 1, 2]  "
   ]
  },
  {
   "cell_type": "code",
   "execution_count": 41,
   "id": "db93e2e8",
   "metadata": {},
   "outputs": [
    {
     "name": "stdout",
     "output_type": "stream",
     "text": [
      "0\n",
      "1\n",
      "2\n",
      "3\n",
      "4\n"
     ]
    }
   ],
   "source": [
    "for i in range(5):\n",
    "    print(i)"
   ]
  },
  {
   "cell_type": "markdown",
   "id": "1016b533",
   "metadata": {},
   "source": [
    "### Zwei weitere wichtige Optionen in Loops: `break` und `continue`\n",
    "`break` ermöglicht es aus Loops vorzeitig auszubrechen. \n",
    "\n",
    "`continue` ist dagegen die Aufforderung den laufenden Zyklus des Loops\n",
    "zu verlassen, aber dann mit dem Loop fortzufahren."
   ]
  },
  {
   "cell_type": "code",
   "execution_count": 42,
   "id": "e9115f54",
   "metadata": {},
   "outputs": [
    {
     "name": "stdout",
     "output_type": "stream",
     "text": [
      "J\n",
      "a\n",
      " \n",
      "g\n",
      "e\n",
      "n\n",
      "a\n",
      "u\n",
      "Punkt gefunden!\n"
     ]
    }
   ],
   "source": [
    "for zeichen in \"Ja genau. Dies ist ein string.\":\n",
    "    if zeichen == \".\":\n",
    "        print(\"Punkt gefunden!\")\n",
    "        break\n",
    "    # Hier kommt man nur hin wenn break nicht ausgeführt wurde\n",
    "    print(zeichen)"
   ]
  },
  {
   "cell_type": "code",
   "execution_count": 43,
   "id": "ccb325bb",
   "metadata": {},
   "outputs": [
    {
     "name": "stdout",
     "output_type": "stream",
     "text": [
      "3 ist durch 3 teilbar!\n",
      "9 ist durch 3 teilbar!\n",
      "233358 ist durch 3 teilbar!\n"
     ]
    }
   ],
   "source": [
    "zahlen = [2, 3, 5, 9, 557, 1232, 233358]\n",
    "for zahl in zahlen:\n",
    "    if zahl%3 != 0:\n",
    "        continue\n",
    "    # Hier kommt man nur hin wenn continue nicht ausgeführt wurde\n",
    "    print(f\"{zahl} ist durch 3 teilbar!\")"
   ]
  },
  {
   "cell_type": "markdown",
   "id": "5194e106",
   "metadata": {},
   "source": [
    "---\n",
    "# Funktionen\n",
    "Die allgemeine Struktur einer Funktionsdefinition in Python ist:\n",
    "```python\n",
    "def function_name(parameter1, parameter2, etc):\n",
    "    ... code ...\n",
    "    return result\n",
    "```\n",
    "\n",
    "Besser sogar noch so, mit einem sogenannten Docstring der die grundlegende Dokumentation der Funktion darstellt. \n",
    "```python\n",
    "def function_name(parameter1, parameter2, ...):\n",
    "    \"\"\"Hier wird die Funktion beschrieben\n",
    "    \"\"\"\n",
    "    ... code ...\n",
    "    return result\n",
    "```\n",
    "\n",
    "`return` definiert die Ausgabe der Funktion. Funktionen können aber auch ohne `return` definiert werden (in diesen Fällen gibt Python automatisch `None` zurück)."
   ]
  },
  {
   "cell_type": "code",
   "execution_count": 44,
   "id": "3e442a73",
   "metadata": {},
   "outputs": [
    {
     "name": "stdout",
     "output_type": "stream",
     "text": [
      "10 is smaller than 70\n"
     ]
    }
   ],
   "source": [
    "def x_vs_y(x, y):\n",
    "    \"\"\"Compare the numbers x and y.\n",
    "    \"\"\"\n",
    "    if x == y:\n",
    "        print(\"They are equal!\")\n",
    "    elif x > y:\n",
    "        print(f\"{x} is bigger than {y}\")\n",
    "    else:\n",
    "        print(f\"{x} is smaller than {y}\")\n",
    "\n",
    "x_vs_y(10, 70)"
   ]
  },
  {
   "cell_type": "code",
   "execution_count": 45,
   "id": "36510c8d",
   "metadata": {},
   "outputs": [
    {
     "data": {
      "text/plain": [
       "19"
      ]
     },
     "execution_count": 45,
     "metadata": {},
     "output_type": "execute_result"
    }
   ],
   "source": [
    "def add_it_twice(a, b):\n",
    "    \"\"\"Macht keinen Sinn. Egal.\"\"\"\n",
    "    return a + b + b\n",
    "\n",
    "add_it_twice(5, 7)"
   ]
  }
 ],
 "metadata": {
  "kernelspec": {
   "display_name": "Python 3 (ipykernel)",
   "language": "python",
   "name": "python3"
  },
  "language_info": {
   "codemirror_mode": {
    "name": "ipython",
    "version": 3
   },
   "file_extension": ".py",
   "mimetype": "text/x-python",
   "name": "python",
   "nbconvert_exporter": "python",
   "pygments_lexer": "ipython3",
   "version": "3.9.19"
  }
 },
 "nbformat": 4,
 "nbformat_minor": 5
}
