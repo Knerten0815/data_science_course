{
 "cells": [
  {
   "cell_type": "markdown",
   "id": "05edee22",
   "metadata": {},
   "source": [
    "# Einführung Data Science - Live Coding 2 (MMI)\n",
    "\n"
   ]
  },
  {
   "cell_type": "markdown",
   "id": "7bd8b089",
   "metadata": {},
   "source": [
    "### Find the current working directory"
   ]
  },
  {
   "cell_type": "code",
   "execution_count": 11,
   "id": "9122ae0c",
   "metadata": {},
   "outputs": [
    {
     "name": "stdout",
     "output_type": "stream",
     "text": [
      "\n",
      "Current working directory: c:\\Users\\kevin\\Documents\\MMI\\Data Science\\data_science_course\\notebooks\\Moodle notebooks\n",
      "\n"
     ]
    }
   ],
   "source": [
    "import os\n",
    "\n",
    "current_directory = os.getcwd()\n",
    "print(f\"\\nCurrent working directory: {current_directory}\\n\")"
   ]
  },
  {
   "cell_type": "markdown",
   "id": "4627cc4b",
   "metadata": {},
   "source": [
    "### Load the data using pandas"
   ]
  },
  {
   "cell_type": "markdown",
   "id": "ae1aad19",
   "metadata": {},
   "source": [
    "Here we use a scraped dataset from IMDB (taken [from Kaggle](https://www.kaggle.com/datasets/harshitshankhdhar/imdb-dataset-of-top-1000-movies-and-tv-shows/data)).\n",
    "\n",
    "Load the data using pandas. Set the encoding to \"**latin-1**\"."
   ]
  },
  {
   "cell_type": "code",
   "execution_count": 12,
   "id": "13d05dd1",
   "metadata": {},
   "outputs": [
    {
     "data": {
      "text/plain": [
       "'c:\\\\Users\\\\kevin\\\\Documents\\\\MMI\\\\Data Science\\\\data_science_course\\\\notebooks\\\\Moodle notebooks'"
      ]
     },
     "execution_count": 12,
     "metadata": {},
     "output_type": "execute_result"
    }
   ],
   "source": [
    "os.getcwd()"
   ]
  },
  {
   "cell_type": "code",
   "execution_count": 13,
   "id": "262edaf6",
   "metadata": {},
   "outputs": [],
   "source": [
    "import pandas as pd\n",
    "\n",
    "path_data = \"c:\\\\Users\\\\kevin\\\\Documents\\\\MMI\\\\Data Science\\\\data_science_course\\\\datasets\"\n",
    "filename = os.path.join(path_data, \"imdb_top_1000.csv\")\n",
    "data = pd.read_csv(filename, encoding=\"latin-1\")"
   ]
  },
  {
   "cell_type": "markdown",
   "id": "1d091136",
   "metadata": {},
   "source": [
    "### Inspect the dataset"
   ]
  },
  {
   "cell_type": "markdown",
   "id": "45679629",
   "metadata": {},
   "source": [
    "Preview of the first five rows of the dataset using **head()**."
   ]
  },
  {
   "cell_type": "code",
   "execution_count": 14,
   "id": "9deee122",
   "metadata": {},
   "outputs": [],
   "source": [
    "# your code here"
   ]
  },
  {
   "cell_type": "markdown",
   "id": "7da049d7",
   "metadata": {},
   "source": [
    "Preview of the first ten rows of the dataset using **head()**."
   ]
  },
  {
   "cell_type": "code",
   "execution_count": 15,
   "id": "2a7ac19b",
   "metadata": {},
   "outputs": [],
   "source": [
    "# your code here"
   ]
  },
  {
   "cell_type": "markdown",
   "id": "aabf13c6",
   "metadata": {},
   "source": [
    "Check out the column names."
   ]
  },
  {
   "cell_type": "code",
   "execution_count": 16,
   "id": "23d50079",
   "metadata": {},
   "outputs": [],
   "source": [
    "# your code here"
   ]
  },
  {
   "cell_type": "markdown",
   "id": "8f732fc0",
   "metadata": {},
   "source": [
    "Count the non-null values for each column in the dataset using **count()**."
   ]
  },
  {
   "cell_type": "code",
   "execution_count": 17,
   "id": "9fb91488",
   "metadata": {},
   "outputs": [],
   "source": [
    "# your code here"
   ]
  },
  {
   "cell_type": "markdown",
   "id": "a25cc7c7",
   "metadata": {},
   "source": [
    "Get an overview of the dataset's structure, including column names, data types, and number of non-null values using **info()**."
   ]
  },
  {
   "cell_type": "code",
   "execution_count": 18,
   "id": "64a6a750",
   "metadata": {
    "scrolled": true
   },
   "outputs": [],
   "source": [
    "# your code here"
   ]
  },
  {
   "cell_type": "markdown",
   "id": "4ace98fe",
   "metadata": {},
   "source": [
    "Get summary statistics for the **numerical** columns using **describe()**."
   ]
  },
  {
   "cell_type": "code",
   "execution_count": 19,
   "id": "faba782d",
   "metadata": {},
   "outputs": [],
   "source": [
    "# your code here"
   ]
  },
  {
   "cell_type": "markdown",
   "id": "3d57efb4",
   "metadata": {},
   "source": [
    "How many movies genres are there? Use **value_counts()**."
   ]
  },
  {
   "cell_type": "code",
   "execution_count": 20,
   "id": "ba3b53c5-e519-4996-ae88-4ed2820c13b6",
   "metadata": {},
   "outputs": [],
   "source": [
    "# your code here"
   ]
  },
  {
   "cell_type": "markdown",
   "id": "1918d292-6b35-4f1a-9219-4b48ca9acc73",
   "metadata": {},
   "source": [
    "Count the number of movies that include the genre \"comedy\". Check Pandas Docs for \"**str.contains()**\""
   ]
  },
  {
   "cell_type": "code",
   "execution_count": 21,
   "id": "b6a5083d",
   "metadata": {},
   "outputs": [
    {
     "ename": "SyntaxError",
     "evalue": "invalid syntax (1798386264.py, line 1)",
     "output_type": "error",
     "traceback": [
      "\u001b[1;36m  Cell \u001b[1;32mIn[21], line 1\u001b[1;36m\u001b[0m\n\u001b[1;33m    mask = # your code here (condition)\u001b[0m\n\u001b[1;37m           ^\u001b[0m\n\u001b[1;31mSyntaxError\u001b[0m\u001b[1;31m:\u001b[0m invalid syntax\n"
     ]
    }
   ],
   "source": [
    "mask = # your code here (condition)\n",
    "data[mask]"
   ]
  },
  {
   "cell_type": "markdown",
   "id": "b50b4ead-2417-4b40-a869-a4f4292bb51d",
   "metadata": {},
   "source": [
    "An alternative approach would be to split the genre entries using `.str.split(...)` with `expand=True`."
   ]
  },
  {
   "cell_type": "code",
   "execution_count": null,
   "id": "177cf4c3-9fe5-4bae-9bf4-c9fce97017e8",
   "metadata": {},
   "outputs": [],
   "source": [
    "new_columns = data.Genre.str.split(\", \", expand=True)\n",
    "new_columns.columns = [\"Genre1\", \"Genre2\", \"Genre3\"]\n",
    "new_columns"
   ]
  },
  {
   "cell_type": "markdown",
   "id": "e5283f01-1b49-4ea6-bf9a-62d541d41f99",
   "metadata": {},
   "source": [
    "Now count all Genres in the first of those columns using `.value_counts()`."
   ]
  },
  {
   "cell_type": "code",
   "execution_count": null,
   "id": "634f35b7-bd27-4756-85b5-dac1a3423387",
   "metadata": {},
   "outputs": [],
   "source": [
    "# your code here"
   ]
  },
  {
   "cell_type": "markdown",
   "id": "d636513e-397e-4016-8726-91c2ca93bdf4",
   "metadata": {},
   "source": [
    "### Movie run time\n",
    "\n",
    "- Convert the runtime column so that it only contains the values in minutes (as integer)."
   ]
  },
  {
   "cell_type": "code",
   "execution_count": null,
   "id": "dfe8f7a2-7fe6-4f95-b3d3-4eeeac3bc60a",
   "metadata": {},
   "outputs": [],
   "source": [
    "# your code here"
   ]
  },
  {
   "cell_type": "code",
   "execution_count": null,
   "id": "793fcfb6-d4d1-4b6f-811f-fbd3e7ba3c13",
   "metadata": {},
   "outputs": [],
   "source": [
    "# replace original column with converted values\n",
    "data[\"Runtime\"] = # your code here"
   ]
  },
  {
   "cell_type": "markdown",
   "id": "a579765d-289c-403e-a620-3ad71cba6b45",
   "metadata": {},
   "source": [
    "Plot the distribution of the run times using `.plot(kind=\"hist\")`."
   ]
  },
  {
   "cell_type": "code",
   "execution_count": null,
   "id": "1c4b4f27-b636-4055-b9f8-0c3489a17ec8",
   "metadata": {},
   "outputs": [],
   "source": [
    "# your code here"
   ]
  },
  {
   "cell_type": "markdown",
   "id": "08a16e8e",
   "metadata": {},
   "source": [
    "Get all movies that are longer than 200 min."
   ]
  },
  {
   "cell_type": "code",
   "execution_count": null,
   "id": "278b365f",
   "metadata": {},
   "outputs": [],
   "source": [
    "mask = # your code here (condition)\n",
    "data[mask]"
   ]
  },
  {
   "cell_type": "markdown",
   "id": "77b6f284",
   "metadata": {},
   "source": [
    "Select all movies from 1950, 1951, and 1952."
   ]
  },
  {
   "cell_type": "code",
   "execution_count": null,
   "id": "718c1e79",
   "metadata": {},
   "outputs": [],
   "source": [
    "mask = # your code here (condition)\n",
    "data[mask]"
   ]
  },
  {
   "cell_type": "markdown",
   "id": "62ea510d",
   "metadata": {},
   "source": [
    "How many movies in the dataset were directed by Alfred Hitchcock. And are those indeed correct?"
   ]
  },
  {
   "cell_type": "code",
   "execution_count": null,
   "id": "d51f1269",
   "metadata": {},
   "outputs": [],
   "source": [
    "mask = # your code here (condition)\n",
    "data[mask]"
   ]
  },
  {
   "cell_type": "markdown",
   "id": "f8521cbf",
   "metadata": {},
   "source": [
    "Compute the average runtime of movies released in 2020"
   ]
  },
  {
   "cell_type": "code",
   "execution_count": null,
   "id": "8eda6a6a",
   "metadata": {},
   "outputs": [],
   "source": [
    "mask = # your code here (condition)\n",
    "df[mask]"
   ]
  },
  {
   "cell_type": "markdown",
   "id": "68038ed4",
   "metadata": {},
   "source": [
    "Examine the histogram for the runtime column."
   ]
  },
  {
   "cell_type": "code",
   "execution_count": null,
   "id": "432612b8",
   "metadata": {},
   "outputs": [],
   "source": [
    "# your code"
   ]
  },
  {
   "cell_type": "markdown",
   "id": "0876c93e",
   "metadata": {},
   "source": [
    "## Inner & Outer Merge"
   ]
  },
  {
   "cell_type": "markdown",
   "id": "61cc842a",
   "metadata": {},
   "source": [
    "Have a look at DataFrame 1 and 2"
   ]
  },
  {
   "cell_type": "code",
   "execution_count": null,
   "id": "74498c92",
   "metadata": {},
   "outputs": [],
   "source": [
    "# create example DataFrame 1\n",
    "df1 = pd.DataFrame({\n",
    "    'Title': ['Enter the Anime', 'The App', 'Drive', 'Paradox', 'The Call'],\n",
    "    'Genre': ['Documentary', 'Science fiction/Drama', 'Action', 'Musical/Western/Fantasy', 'Drama'],\n",
    "    'Language': ['English/Japanese', 'Italian', 'Hindi', 'English', 'Korean']\n",
    "})\n",
    "\n",
    "df1"
   ]
  },
  {
   "cell_type": "code",
   "execution_count": null,
   "id": "89bda5ed",
   "metadata": {},
   "outputs": [],
   "source": [
    "# create example DataFrame 2\n",
    "df2 = pd.DataFrame({\n",
    "    'Language': ['English/Japanese', 'Italian', 'Spanish', 'Hindi', 'Korean'],\n",
    "    'Premiere Year': [2019, 2020, 2021, 2018, 2020],\n",
    "    'Runtime (mins)': [58, 79, 147, 73, 112]\n",
    "})\n",
    "\n",
    "df2"
   ]
  },
  {
   "cell_type": "markdown",
   "id": "eccfe305",
   "metadata": {},
   "source": [
    "Perform an inner merge on the \"Language\" column."
   ]
  },
  {
   "cell_type": "code",
   "execution_count": null,
   "id": "7f0c4838",
   "metadata": {
    "scrolled": true
   },
   "outputs": [],
   "source": [
    "inner_merged = # your code here\n",
    "print(\"Inner Merged DataFrame:\")\n",
    "\n",
    "inner_merged"
   ]
  },
  {
   "cell_type": "markdown",
   "id": "aa41a980",
   "metadata": {},
   "source": [
    "Perform an outer merge on the \"Language\" column."
   ]
  },
  {
   "cell_type": "code",
   "execution_count": null,
   "id": "f23a69a7",
   "metadata": {
    "scrolled": true
   },
   "outputs": [],
   "source": [
    "outer_merged = # your code here\n",
    "print(\"\\nOuter Merged DataFrame:\")\n",
    "\n",
    "outer_merged"
   ]
  },
  {
   "cell_type": "markdown",
   "id": "86860463",
   "metadata": {},
   "source": [
    "Add another \"Language\" entry called \"Italian\" to df1 and examine the merge behavior. \n",
    "\n",
    "- What problem arises?\n",
    "- How can you fix this to manage another inner and outer merge?\n",
    "- What are the differences for inner and outer merge?"
   ]
  },
  {
   "cell_type": "code",
   "execution_count": null,
   "id": "ade93305",
   "metadata": {},
   "outputs": [],
   "source": [
    "# Your Code here"
   ]
  },
  {
   "cell_type": "markdown",
   "id": "364e667b",
   "metadata": {},
   "source": [
    "Use the DataFrame that now includes NaN values. Drop all rows with NaN-Values"
   ]
  },
  {
   "cell_type": "code",
   "execution_count": null,
   "id": "3fc743ed",
   "metadata": {},
   "outputs": [],
   "source": [
    "# your code here"
   ]
  },
  {
   "cell_type": "markdown",
   "id": "bdbb1ee1",
   "metadata": {},
   "source": [
    "Drop the Column \"Premiere Year\""
   ]
  },
  {
   "cell_type": "code",
   "execution_count": null,
   "id": "5855e24c",
   "metadata": {},
   "outputs": [],
   "source": [
    "# your code here"
   ]
  }
 ],
 "metadata": {
  "kernelspec": {
   "display_name": "Python 3 (ipykernel)",
   "language": "python",
   "name": "python3"
  },
  "language_info": {
   "codemirror_mode": {
    "name": "ipython",
    "version": 3
   },
   "file_extension": ".py",
   "mimetype": "text/x-python",
   "name": "python",
   "nbconvert_exporter": "python",
   "pygments_lexer": "ipython3",
   "version": "3.9.19"
  }
 },
 "nbformat": 4,
 "nbformat_minor": 5
}
