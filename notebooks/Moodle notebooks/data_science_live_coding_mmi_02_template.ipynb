{
 "cells": [
  {
   "cell_type": "markdown",
   "id": "05edee22",
   "metadata": {},
   "source": [
    "# Einführung Data Science - Live Coding 2 (MMI)\n",
    "\n"
   ]
  },
  {
   "cell_type": "markdown",
   "id": "7bd8b089",
   "metadata": {},
   "source": [
    "### Find the current working directory"
   ]
  },
  {
   "cell_type": "code",
   "execution_count": 77,
   "id": "9122ae0c",
   "metadata": {},
   "outputs": [
    {
     "name": "stdout",
     "output_type": "stream",
     "text": [
      "\n",
      "Current working directory: c:\\Users\\kevin\\Documents\\MMI\\Data Science\\data_science_course\\notebooks\\Moodle notebooks\n",
      "\n"
     ]
    }
   ],
   "source": [
    "import os\n",
    "\n",
    "current_directory = os.getcwd()\n",
    "print(f\"\\nCurrent working directory: {current_directory}\\n\")"
   ]
  },
  {
   "cell_type": "markdown",
   "id": "4627cc4b",
   "metadata": {},
   "source": [
    "### Load the data using pandas"
   ]
  },
  {
   "cell_type": "markdown",
   "id": "ae1aad19",
   "metadata": {},
   "source": [
    "Here we use a scraped dataset from IMDB (taken [from Kaggle](https://www.kaggle.com/datasets/harshitshankhdhar/imdb-dataset-of-top-1000-movies-and-tv-shows/data)).\n",
    "\n",
    "Load the data using pandas. Set the encoding to \"**latin-1**\"."
   ]
  },
  {
   "cell_type": "code",
   "execution_count": 78,
   "id": "13d05dd1",
   "metadata": {},
   "outputs": [
    {
     "data": {
      "text/plain": [
       "'c:\\\\Users\\\\kevin\\\\Documents\\\\MMI\\\\Data Science\\\\data_science_course\\\\notebooks\\\\Moodle notebooks'"
      ]
     },
     "execution_count": 78,
     "metadata": {},
     "output_type": "execute_result"
    }
   ],
   "source": [
    "os.getcwd()"
   ]
  },
  {
   "cell_type": "code",
   "execution_count": 79,
   "id": "262edaf6",
   "metadata": {},
   "outputs": [],
   "source": [
    "import pandas as pd\n",
    "\n",
    "path_data = \"../../datasets\"\n",
    "#path_data = \"c:\\\\Users\\\\kevin\\\\Documents\\\\MMI\\\\Data Science\\\\data_science_course\\\\datasets\"\n",
    "filename = os.path.join(path_data, \"imdb_top_1000.csv\")\n",
    "data = pd.read_csv(filename, encoding=\"latin-1\")"
   ]
  },
  {
   "cell_type": "markdown",
   "id": "1d091136",
   "metadata": {},
   "source": [
    "### Inspect the dataset"
   ]
  },
  {
   "cell_type": "markdown",
   "id": "45679629",
   "metadata": {},
   "source": [
    "Preview of the first five rows of the dataset using **head()**."
   ]
  },
  {
   "cell_type": "code",
   "execution_count": 80,
   "id": "9deee122",
   "metadata": {},
   "outputs": [
    {
     "data": {
      "text/html": [
       "<div>\n",
       "<style scoped>\n",
       "    .dataframe tbody tr th:only-of-type {\n",
       "        vertical-align: middle;\n",
       "    }\n",
       "\n",
       "    .dataframe tbody tr th {\n",
       "        vertical-align: top;\n",
       "    }\n",
       "\n",
       "    .dataframe thead th {\n",
       "        text-align: right;\n",
       "    }\n",
       "</style>\n",
       "<table border=\"1\" class=\"dataframe\">\n",
       "  <thead>\n",
       "    <tr style=\"text-align: right;\">\n",
       "      <th></th>\n",
       "      <th>Poster_Link</th>\n",
       "      <th>Series_Title</th>\n",
       "      <th>Released_Year</th>\n",
       "      <th>Certificate</th>\n",
       "      <th>Runtime</th>\n",
       "      <th>Genre</th>\n",
       "      <th>IMDB_Rating</th>\n",
       "      <th>Overview</th>\n",
       "      <th>Meta_score</th>\n",
       "      <th>Director</th>\n",
       "      <th>Star1</th>\n",
       "      <th>Star2</th>\n",
       "      <th>Star3</th>\n",
       "      <th>Star4</th>\n",
       "      <th>No_of_Votes</th>\n",
       "      <th>Gross</th>\n",
       "    </tr>\n",
       "  </thead>\n",
       "  <tbody>\n",
       "    <tr>\n",
       "      <th>0</th>\n",
       "      <td>https://m.media-amazon.com/images/M/MV5BMDFkYT...</td>\n",
       "      <td>The Shawshank Redemption</td>\n",
       "      <td>1994</td>\n",
       "      <td>A</td>\n",
       "      <td>142 min</td>\n",
       "      <td>Drama</td>\n",
       "      <td>9.3</td>\n",
       "      <td>Two imprisoned men bond over a number of years...</td>\n",
       "      <td>80.0</td>\n",
       "      <td>Frank Darabont</td>\n",
       "      <td>Tim Robbins</td>\n",
       "      <td>Morgan Freeman</td>\n",
       "      <td>Bob Gunton</td>\n",
       "      <td>William Sadler</td>\n",
       "      <td>2343110</td>\n",
       "      <td>28,341,469</td>\n",
       "    </tr>\n",
       "    <tr>\n",
       "      <th>1</th>\n",
       "      <td>https://m.media-amazon.com/images/M/MV5BM2MyNj...</td>\n",
       "      <td>The Godfather</td>\n",
       "      <td>1972</td>\n",
       "      <td>A</td>\n",
       "      <td>175 min</td>\n",
       "      <td>Crime, Drama</td>\n",
       "      <td>9.2</td>\n",
       "      <td>An organized crime dynasty's aging patriarch t...</td>\n",
       "      <td>100.0</td>\n",
       "      <td>Francis Ford Coppola</td>\n",
       "      <td>Marlon Brando</td>\n",
       "      <td>Al Pacino</td>\n",
       "      <td>James Caan</td>\n",
       "      <td>Diane Keaton</td>\n",
       "      <td>1620367</td>\n",
       "      <td>134,966,411</td>\n",
       "    </tr>\n",
       "    <tr>\n",
       "      <th>2</th>\n",
       "      <td>https://m.media-amazon.com/images/M/MV5BMTMxNT...</td>\n",
       "      <td>The Dark Knight</td>\n",
       "      <td>2008</td>\n",
       "      <td>UA</td>\n",
       "      <td>152 min</td>\n",
       "      <td>Action, Crime, Drama</td>\n",
       "      <td>9.0</td>\n",
       "      <td>When the menace known as the Joker wreaks havo...</td>\n",
       "      <td>84.0</td>\n",
       "      <td>Christopher Nolan</td>\n",
       "      <td>Christian Bale</td>\n",
       "      <td>Heath Ledger</td>\n",
       "      <td>Aaron Eckhart</td>\n",
       "      <td>Michael Caine</td>\n",
       "      <td>2303232</td>\n",
       "      <td>534,858,444</td>\n",
       "    </tr>\n",
       "    <tr>\n",
       "      <th>3</th>\n",
       "      <td>https://m.media-amazon.com/images/M/MV5BMWMwMG...</td>\n",
       "      <td>The Godfather: Part II</td>\n",
       "      <td>1974</td>\n",
       "      <td>A</td>\n",
       "      <td>202 min</td>\n",
       "      <td>Crime, Drama</td>\n",
       "      <td>9.0</td>\n",
       "      <td>The early life and career of Vito Corleone in ...</td>\n",
       "      <td>90.0</td>\n",
       "      <td>Francis Ford Coppola</td>\n",
       "      <td>Al Pacino</td>\n",
       "      <td>Robert De Niro</td>\n",
       "      <td>Robert Duvall</td>\n",
       "      <td>Diane Keaton</td>\n",
       "      <td>1129952</td>\n",
       "      <td>57,300,000</td>\n",
       "    </tr>\n",
       "    <tr>\n",
       "      <th>4</th>\n",
       "      <td>https://m.media-amazon.com/images/M/MV5BMWU4N2...</td>\n",
       "      <td>12 Angry Men</td>\n",
       "      <td>1957</td>\n",
       "      <td>U</td>\n",
       "      <td>96 min</td>\n",
       "      <td>Crime, Drama</td>\n",
       "      <td>9.0</td>\n",
       "      <td>A jury holdout attempts to prevent a miscarria...</td>\n",
       "      <td>96.0</td>\n",
       "      <td>Sidney Lumet</td>\n",
       "      <td>Henry Fonda</td>\n",
       "      <td>Lee J. Cobb</td>\n",
       "      <td>Martin Balsam</td>\n",
       "      <td>John Fiedler</td>\n",
       "      <td>689845</td>\n",
       "      <td>4,360,000</td>\n",
       "    </tr>\n",
       "  </tbody>\n",
       "</table>\n",
       "</div>"
      ],
      "text/plain": [
       "                                         Poster_Link  \\\n",
       "0  https://m.media-amazon.com/images/M/MV5BMDFkYT...   \n",
       "1  https://m.media-amazon.com/images/M/MV5BM2MyNj...   \n",
       "2  https://m.media-amazon.com/images/M/MV5BMTMxNT...   \n",
       "3  https://m.media-amazon.com/images/M/MV5BMWMwMG...   \n",
       "4  https://m.media-amazon.com/images/M/MV5BMWU4N2...   \n",
       "\n",
       "               Series_Title  Released_Year Certificate  Runtime  \\\n",
       "0  The Shawshank Redemption           1994           A  142 min   \n",
       "1             The Godfather           1972           A  175 min   \n",
       "2           The Dark Knight           2008          UA  152 min   \n",
       "3    The Godfather: Part II           1974           A  202 min   \n",
       "4              12 Angry Men           1957           U   96 min   \n",
       "\n",
       "                  Genre  IMDB_Rating  \\\n",
       "0                 Drama          9.3   \n",
       "1          Crime, Drama          9.2   \n",
       "2  Action, Crime, Drama          9.0   \n",
       "3          Crime, Drama          9.0   \n",
       "4          Crime, Drama          9.0   \n",
       "\n",
       "                                            Overview  Meta_score  \\\n",
       "0  Two imprisoned men bond over a number of years...        80.0   \n",
       "1  An organized crime dynasty's aging patriarch t...       100.0   \n",
       "2  When the menace known as the Joker wreaks havo...        84.0   \n",
       "3  The early life and career of Vito Corleone in ...        90.0   \n",
       "4  A jury holdout attempts to prevent a miscarria...        96.0   \n",
       "\n",
       "               Director           Star1           Star2          Star3  \\\n",
       "0        Frank Darabont     Tim Robbins  Morgan Freeman     Bob Gunton   \n",
       "1  Francis Ford Coppola   Marlon Brando       Al Pacino     James Caan   \n",
       "2     Christopher Nolan  Christian Bale    Heath Ledger  Aaron Eckhart   \n",
       "3  Francis Ford Coppola       Al Pacino  Robert De Niro  Robert Duvall   \n",
       "4          Sidney Lumet     Henry Fonda     Lee J. Cobb  Martin Balsam   \n",
       "\n",
       "            Star4  No_of_Votes        Gross  \n",
       "0  William Sadler      2343110   28,341,469  \n",
       "1    Diane Keaton      1620367  134,966,411  \n",
       "2   Michael Caine      2303232  534,858,444  \n",
       "3    Diane Keaton      1129952   57,300,000  \n",
       "4    John Fiedler       689845    4,360,000  "
      ]
     },
     "execution_count": 80,
     "metadata": {},
     "output_type": "execute_result"
    }
   ],
   "source": [
    "data.head()"
   ]
  },
  {
   "cell_type": "markdown",
   "id": "7da049d7",
   "metadata": {},
   "source": [
    "Preview of the first ten rows of the dataset using **head()**."
   ]
  },
  {
   "cell_type": "code",
   "execution_count": 81,
   "id": "2a7ac19b",
   "metadata": {},
   "outputs": [
    {
     "data": {
      "text/html": [
       "<div>\n",
       "<style scoped>\n",
       "    .dataframe tbody tr th:only-of-type {\n",
       "        vertical-align: middle;\n",
       "    }\n",
       "\n",
       "    .dataframe tbody tr th {\n",
       "        vertical-align: top;\n",
       "    }\n",
       "\n",
       "    .dataframe thead th {\n",
       "        text-align: right;\n",
       "    }\n",
       "</style>\n",
       "<table border=\"1\" class=\"dataframe\">\n",
       "  <thead>\n",
       "    <tr style=\"text-align: right;\">\n",
       "      <th></th>\n",
       "      <th>Poster_Link</th>\n",
       "      <th>Series_Title</th>\n",
       "      <th>Released_Year</th>\n",
       "      <th>Certificate</th>\n",
       "      <th>Runtime</th>\n",
       "      <th>Genre</th>\n",
       "      <th>IMDB_Rating</th>\n",
       "      <th>Overview</th>\n",
       "      <th>Meta_score</th>\n",
       "      <th>Director</th>\n",
       "      <th>Star1</th>\n",
       "      <th>Star2</th>\n",
       "      <th>Star3</th>\n",
       "      <th>Star4</th>\n",
       "      <th>No_of_Votes</th>\n",
       "      <th>Gross</th>\n",
       "    </tr>\n",
       "  </thead>\n",
       "  <tbody>\n",
       "    <tr>\n",
       "      <th>0</th>\n",
       "      <td>https://m.media-amazon.com/images/M/MV5BMDFkYT...</td>\n",
       "      <td>The Shawshank Redemption</td>\n",
       "      <td>1994</td>\n",
       "      <td>A</td>\n",
       "      <td>142 min</td>\n",
       "      <td>Drama</td>\n",
       "      <td>9.3</td>\n",
       "      <td>Two imprisoned men bond over a number of years...</td>\n",
       "      <td>80.0</td>\n",
       "      <td>Frank Darabont</td>\n",
       "      <td>Tim Robbins</td>\n",
       "      <td>Morgan Freeman</td>\n",
       "      <td>Bob Gunton</td>\n",
       "      <td>William Sadler</td>\n",
       "      <td>2343110</td>\n",
       "      <td>28,341,469</td>\n",
       "    </tr>\n",
       "    <tr>\n",
       "      <th>1</th>\n",
       "      <td>https://m.media-amazon.com/images/M/MV5BM2MyNj...</td>\n",
       "      <td>The Godfather</td>\n",
       "      <td>1972</td>\n",
       "      <td>A</td>\n",
       "      <td>175 min</td>\n",
       "      <td>Crime, Drama</td>\n",
       "      <td>9.2</td>\n",
       "      <td>An organized crime dynasty's aging patriarch t...</td>\n",
       "      <td>100.0</td>\n",
       "      <td>Francis Ford Coppola</td>\n",
       "      <td>Marlon Brando</td>\n",
       "      <td>Al Pacino</td>\n",
       "      <td>James Caan</td>\n",
       "      <td>Diane Keaton</td>\n",
       "      <td>1620367</td>\n",
       "      <td>134,966,411</td>\n",
       "    </tr>\n",
       "    <tr>\n",
       "      <th>2</th>\n",
       "      <td>https://m.media-amazon.com/images/M/MV5BMTMxNT...</td>\n",
       "      <td>The Dark Knight</td>\n",
       "      <td>2008</td>\n",
       "      <td>UA</td>\n",
       "      <td>152 min</td>\n",
       "      <td>Action, Crime, Drama</td>\n",
       "      <td>9.0</td>\n",
       "      <td>When the menace known as the Joker wreaks havo...</td>\n",
       "      <td>84.0</td>\n",
       "      <td>Christopher Nolan</td>\n",
       "      <td>Christian Bale</td>\n",
       "      <td>Heath Ledger</td>\n",
       "      <td>Aaron Eckhart</td>\n",
       "      <td>Michael Caine</td>\n",
       "      <td>2303232</td>\n",
       "      <td>534,858,444</td>\n",
       "    </tr>\n",
       "    <tr>\n",
       "      <th>3</th>\n",
       "      <td>https://m.media-amazon.com/images/M/MV5BMWMwMG...</td>\n",
       "      <td>The Godfather: Part II</td>\n",
       "      <td>1974</td>\n",
       "      <td>A</td>\n",
       "      <td>202 min</td>\n",
       "      <td>Crime, Drama</td>\n",
       "      <td>9.0</td>\n",
       "      <td>The early life and career of Vito Corleone in ...</td>\n",
       "      <td>90.0</td>\n",
       "      <td>Francis Ford Coppola</td>\n",
       "      <td>Al Pacino</td>\n",
       "      <td>Robert De Niro</td>\n",
       "      <td>Robert Duvall</td>\n",
       "      <td>Diane Keaton</td>\n",
       "      <td>1129952</td>\n",
       "      <td>57,300,000</td>\n",
       "    </tr>\n",
       "    <tr>\n",
       "      <th>4</th>\n",
       "      <td>https://m.media-amazon.com/images/M/MV5BMWU4N2...</td>\n",
       "      <td>12 Angry Men</td>\n",
       "      <td>1957</td>\n",
       "      <td>U</td>\n",
       "      <td>96 min</td>\n",
       "      <td>Crime, Drama</td>\n",
       "      <td>9.0</td>\n",
       "      <td>A jury holdout attempts to prevent a miscarria...</td>\n",
       "      <td>96.0</td>\n",
       "      <td>Sidney Lumet</td>\n",
       "      <td>Henry Fonda</td>\n",
       "      <td>Lee J. Cobb</td>\n",
       "      <td>Martin Balsam</td>\n",
       "      <td>John Fiedler</td>\n",
       "      <td>689845</td>\n",
       "      <td>4,360,000</td>\n",
       "    </tr>\n",
       "    <tr>\n",
       "      <th>5</th>\n",
       "      <td>https://m.media-amazon.com/images/M/MV5BNzA5ZD...</td>\n",
       "      <td>The Lord of the Rings: The Return of the King</td>\n",
       "      <td>2003</td>\n",
       "      <td>U</td>\n",
       "      <td>201 min</td>\n",
       "      <td>Action, Adventure, Drama</td>\n",
       "      <td>8.9</td>\n",
       "      <td>Gandalf and Aragorn lead the World of Men agai...</td>\n",
       "      <td>94.0</td>\n",
       "      <td>Peter Jackson</td>\n",
       "      <td>Elijah Wood</td>\n",
       "      <td>Viggo Mortensen</td>\n",
       "      <td>Ian McKellen</td>\n",
       "      <td>Orlando Bloom</td>\n",
       "      <td>1642758</td>\n",
       "      <td>377,845,905</td>\n",
       "    </tr>\n",
       "    <tr>\n",
       "      <th>6</th>\n",
       "      <td>https://m.media-amazon.com/images/M/MV5BNGNhMD...</td>\n",
       "      <td>Pulp Fiction</td>\n",
       "      <td>1994</td>\n",
       "      <td>A</td>\n",
       "      <td>154 min</td>\n",
       "      <td>Crime, Drama</td>\n",
       "      <td>8.9</td>\n",
       "      <td>The lives of two mob hitmen, a boxer, a gangst...</td>\n",
       "      <td>94.0</td>\n",
       "      <td>Quentin Tarantino</td>\n",
       "      <td>John Travolta</td>\n",
       "      <td>Uma Thurman</td>\n",
       "      <td>Samuel L. Jackson</td>\n",
       "      <td>Bruce Willis</td>\n",
       "      <td>1826188</td>\n",
       "      <td>107,928,762</td>\n",
       "    </tr>\n",
       "    <tr>\n",
       "      <th>7</th>\n",
       "      <td>https://m.media-amazon.com/images/M/MV5BNDE4OT...</td>\n",
       "      <td>Schindler's List</td>\n",
       "      <td>1993</td>\n",
       "      <td>A</td>\n",
       "      <td>195 min</td>\n",
       "      <td>Biography, Drama, History</td>\n",
       "      <td>8.9</td>\n",
       "      <td>In German-occupied Poland during World War II,...</td>\n",
       "      <td>94.0</td>\n",
       "      <td>Steven Spielberg</td>\n",
       "      <td>Liam Neeson</td>\n",
       "      <td>Ralph Fiennes</td>\n",
       "      <td>Ben Kingsley</td>\n",
       "      <td>Caroline Goodall</td>\n",
       "      <td>1213505</td>\n",
       "      <td>96,898,818</td>\n",
       "    </tr>\n",
       "    <tr>\n",
       "      <th>8</th>\n",
       "      <td>https://m.media-amazon.com/images/M/MV5BMjAxMz...</td>\n",
       "      <td>Inception</td>\n",
       "      <td>2010</td>\n",
       "      <td>UA</td>\n",
       "      <td>148 min</td>\n",
       "      <td>Action, Adventure, Sci-Fi</td>\n",
       "      <td>8.8</td>\n",
       "      <td>A thief who steals corporate secrets through t...</td>\n",
       "      <td>74.0</td>\n",
       "      <td>Christopher Nolan</td>\n",
       "      <td>Leonardo DiCaprio</td>\n",
       "      <td>Joseph Gordon-Levitt</td>\n",
       "      <td>Elliot Page</td>\n",
       "      <td>Ken Watanabe</td>\n",
       "      <td>2067042</td>\n",
       "      <td>292,576,195</td>\n",
       "    </tr>\n",
       "    <tr>\n",
       "      <th>9</th>\n",
       "      <td>https://m.media-amazon.com/images/M/MV5BMmEzNT...</td>\n",
       "      <td>Fight Club</td>\n",
       "      <td>1999</td>\n",
       "      <td>A</td>\n",
       "      <td>139 min</td>\n",
       "      <td>Drama</td>\n",
       "      <td>8.8</td>\n",
       "      <td>An insomniac office worker and a devil-may-car...</td>\n",
       "      <td>66.0</td>\n",
       "      <td>David Fincher</td>\n",
       "      <td>Brad Pitt</td>\n",
       "      <td>Edward Norton</td>\n",
       "      <td>Meat Loaf</td>\n",
       "      <td>Zach Grenier</td>\n",
       "      <td>1854740</td>\n",
       "      <td>37,030,102</td>\n",
       "    </tr>\n",
       "  </tbody>\n",
       "</table>\n",
       "</div>"
      ],
      "text/plain": [
       "                                         Poster_Link  \\\n",
       "0  https://m.media-amazon.com/images/M/MV5BMDFkYT...   \n",
       "1  https://m.media-amazon.com/images/M/MV5BM2MyNj...   \n",
       "2  https://m.media-amazon.com/images/M/MV5BMTMxNT...   \n",
       "3  https://m.media-amazon.com/images/M/MV5BMWMwMG...   \n",
       "4  https://m.media-amazon.com/images/M/MV5BMWU4N2...   \n",
       "5  https://m.media-amazon.com/images/M/MV5BNzA5ZD...   \n",
       "6  https://m.media-amazon.com/images/M/MV5BNGNhMD...   \n",
       "7  https://m.media-amazon.com/images/M/MV5BNDE4OT...   \n",
       "8  https://m.media-amazon.com/images/M/MV5BMjAxMz...   \n",
       "9  https://m.media-amazon.com/images/M/MV5BMmEzNT...   \n",
       "\n",
       "                                    Series_Title  Released_Year Certificate  \\\n",
       "0                       The Shawshank Redemption           1994           A   \n",
       "1                                  The Godfather           1972           A   \n",
       "2                                The Dark Knight           2008          UA   \n",
       "3                         The Godfather: Part II           1974           A   \n",
       "4                                   12 Angry Men           1957           U   \n",
       "5  The Lord of the Rings: The Return of the King           2003           U   \n",
       "6                                   Pulp Fiction           1994           A   \n",
       "7                               Schindler's List           1993           A   \n",
       "8                                      Inception           2010          UA   \n",
       "9                                     Fight Club           1999           A   \n",
       "\n",
       "   Runtime                      Genre  IMDB_Rating  \\\n",
       "0  142 min                      Drama          9.3   \n",
       "1  175 min               Crime, Drama          9.2   \n",
       "2  152 min       Action, Crime, Drama          9.0   \n",
       "3  202 min               Crime, Drama          9.0   \n",
       "4   96 min               Crime, Drama          9.0   \n",
       "5  201 min   Action, Adventure, Drama          8.9   \n",
       "6  154 min               Crime, Drama          8.9   \n",
       "7  195 min  Biography, Drama, History          8.9   \n",
       "8  148 min  Action, Adventure, Sci-Fi          8.8   \n",
       "9  139 min                      Drama          8.8   \n",
       "\n",
       "                                            Overview  Meta_score  \\\n",
       "0  Two imprisoned men bond over a number of years...        80.0   \n",
       "1  An organized crime dynasty's aging patriarch t...       100.0   \n",
       "2  When the menace known as the Joker wreaks havo...        84.0   \n",
       "3  The early life and career of Vito Corleone in ...        90.0   \n",
       "4  A jury holdout attempts to prevent a miscarria...        96.0   \n",
       "5  Gandalf and Aragorn lead the World of Men agai...        94.0   \n",
       "6  The lives of two mob hitmen, a boxer, a gangst...        94.0   \n",
       "7  In German-occupied Poland during World War II,...        94.0   \n",
       "8  A thief who steals corporate secrets through t...        74.0   \n",
       "9  An insomniac office worker and a devil-may-car...        66.0   \n",
       "\n",
       "               Director              Star1                 Star2  \\\n",
       "0        Frank Darabont        Tim Robbins        Morgan Freeman   \n",
       "1  Francis Ford Coppola      Marlon Brando             Al Pacino   \n",
       "2     Christopher Nolan     Christian Bale          Heath Ledger   \n",
       "3  Francis Ford Coppola          Al Pacino        Robert De Niro   \n",
       "4          Sidney Lumet        Henry Fonda           Lee J. Cobb   \n",
       "5         Peter Jackson        Elijah Wood       Viggo Mortensen   \n",
       "6     Quentin Tarantino      John Travolta           Uma Thurman   \n",
       "7      Steven Spielberg        Liam Neeson         Ralph Fiennes   \n",
       "8     Christopher Nolan  Leonardo DiCaprio  Joseph Gordon-Levitt   \n",
       "9         David Fincher          Brad Pitt         Edward Norton   \n",
       "\n",
       "               Star3             Star4  No_of_Votes        Gross  \n",
       "0         Bob Gunton    William Sadler      2343110   28,341,469  \n",
       "1         James Caan      Diane Keaton      1620367  134,966,411  \n",
       "2      Aaron Eckhart     Michael Caine      2303232  534,858,444  \n",
       "3      Robert Duvall      Diane Keaton      1129952   57,300,000  \n",
       "4      Martin Balsam      John Fiedler       689845    4,360,000  \n",
       "5       Ian McKellen     Orlando Bloom      1642758  377,845,905  \n",
       "6  Samuel L. Jackson      Bruce Willis      1826188  107,928,762  \n",
       "7       Ben Kingsley  Caroline Goodall      1213505   96,898,818  \n",
       "8        Elliot Page      Ken Watanabe      2067042  292,576,195  \n",
       "9          Meat Loaf      Zach Grenier      1854740   37,030,102  "
      ]
     },
     "execution_count": 81,
     "metadata": {},
     "output_type": "execute_result"
    }
   ],
   "source": [
    "data.head(10)"
   ]
  },
  {
   "cell_type": "markdown",
   "id": "aabf13c6",
   "metadata": {},
   "source": [
    "Check out the column names."
   ]
  },
  {
   "cell_type": "code",
   "execution_count": 82,
   "id": "23d50079",
   "metadata": {},
   "outputs": [
    {
     "data": {
      "text/plain": [
       "Index(['Poster_Link', 'Series_Title', 'Released_Year', 'Certificate',\n",
       "       'Runtime', 'Genre', 'IMDB_Rating', 'Overview', 'Meta_score', 'Director',\n",
       "       'Star1', 'Star2', 'Star3', 'Star4', 'No_of_Votes', 'Gross'],\n",
       "      dtype='object')"
      ]
     },
     "execution_count": 82,
     "metadata": {},
     "output_type": "execute_result"
    }
   ],
   "source": [
    "data.columns"
   ]
  },
  {
   "cell_type": "markdown",
   "id": "8f732fc0",
   "metadata": {},
   "source": [
    "Count the non-null values for each column in the dataset using **count()**."
   ]
  },
  {
   "cell_type": "code",
   "execution_count": 83,
   "id": "9fb91488",
   "metadata": {},
   "outputs": [
    {
     "data": {
      "text/plain": [
       "Poster_Link      1000\n",
       "Series_Title     1000\n",
       "Released_Year    1000\n",
       "Certificate       899\n",
       "Runtime          1000\n",
       "Genre            1000\n",
       "IMDB_Rating      1000\n",
       "Overview         1000\n",
       "Meta_score        843\n",
       "Director         1000\n",
       "Star1            1000\n",
       "Star2            1000\n",
       "Star3            1000\n",
       "Star4            1000\n",
       "No_of_Votes      1000\n",
       "Gross             831\n",
       "dtype: int64"
      ]
     },
     "execution_count": 83,
     "metadata": {},
     "output_type": "execute_result"
    }
   ],
   "source": [
    "data.count()"
   ]
  },
  {
   "cell_type": "markdown",
   "id": "a25cc7c7",
   "metadata": {},
   "source": [
    "Get an overview of the dataset's structure, including column names, data types, and number of non-null values using **info()**."
   ]
  },
  {
   "cell_type": "code",
   "execution_count": 84,
   "id": "64a6a750",
   "metadata": {
    "scrolled": true
   },
   "outputs": [
    {
     "name": "stdout",
     "output_type": "stream",
     "text": [
      "<class 'pandas.core.frame.DataFrame'>\n",
      "RangeIndex: 1000 entries, 0 to 999\n",
      "Data columns (total 16 columns):\n",
      " #   Column         Non-Null Count  Dtype  \n",
      "---  ------         --------------  -----  \n",
      " 0   Poster_Link    1000 non-null   object \n",
      " 1   Series_Title   1000 non-null   object \n",
      " 2   Released_Year  1000 non-null   int64  \n",
      " 3   Certificate    899 non-null    object \n",
      " 4   Runtime        1000 non-null   object \n",
      " 5   Genre          1000 non-null   object \n",
      " 6   IMDB_Rating    1000 non-null   float64\n",
      " 7   Overview       1000 non-null   object \n",
      " 8   Meta_score     843 non-null    float64\n",
      " 9   Director       1000 non-null   object \n",
      " 10  Star1          1000 non-null   object \n",
      " 11  Star2          1000 non-null   object \n",
      " 12  Star3          1000 non-null   object \n",
      " 13  Star4          1000 non-null   object \n",
      " 14  No_of_Votes    1000 non-null   int64  \n",
      " 15  Gross          831 non-null    object \n",
      "dtypes: float64(2), int64(2), object(12)\n",
      "memory usage: 125.1+ KB\n"
     ]
    }
   ],
   "source": [
    "data.info()"
   ]
  },
  {
   "cell_type": "markdown",
   "id": "4ace98fe",
   "metadata": {},
   "source": [
    "Get summary statistics for the **numerical** columns using **describe()**."
   ]
  },
  {
   "cell_type": "code",
   "execution_count": 85,
   "id": "faba782d",
   "metadata": {},
   "outputs": [
    {
     "data": {
      "text/html": [
       "<div>\n",
       "<style scoped>\n",
       "    .dataframe tbody tr th:only-of-type {\n",
       "        vertical-align: middle;\n",
       "    }\n",
       "\n",
       "    .dataframe tbody tr th {\n",
       "        vertical-align: top;\n",
       "    }\n",
       "\n",
       "    .dataframe thead th {\n",
       "        text-align: right;\n",
       "    }\n",
       "</style>\n",
       "<table border=\"1\" class=\"dataframe\">\n",
       "  <thead>\n",
       "    <tr style=\"text-align: right;\">\n",
       "      <th></th>\n",
       "      <th>Released_Year</th>\n",
       "      <th>IMDB_Rating</th>\n",
       "      <th>Meta_score</th>\n",
       "      <th>No_of_Votes</th>\n",
       "    </tr>\n",
       "  </thead>\n",
       "  <tbody>\n",
       "    <tr>\n",
       "      <th>count</th>\n",
       "      <td>1000.000000</td>\n",
       "      <td>1000.000000</td>\n",
       "      <td>843.000000</td>\n",
       "      <td>1.000000e+03</td>\n",
       "    </tr>\n",
       "    <tr>\n",
       "      <th>mean</th>\n",
       "      <td>1991.221000</td>\n",
       "      <td>7.949300</td>\n",
       "      <td>77.971530</td>\n",
       "      <td>2.736929e+05</td>\n",
       "    </tr>\n",
       "    <tr>\n",
       "      <th>std</th>\n",
       "      <td>23.285669</td>\n",
       "      <td>0.275491</td>\n",
       "      <td>12.376099</td>\n",
       "      <td>3.273727e+05</td>\n",
       "    </tr>\n",
       "    <tr>\n",
       "      <th>min</th>\n",
       "      <td>1920.000000</td>\n",
       "      <td>7.600000</td>\n",
       "      <td>28.000000</td>\n",
       "      <td>2.508800e+04</td>\n",
       "    </tr>\n",
       "    <tr>\n",
       "      <th>25%</th>\n",
       "      <td>1976.000000</td>\n",
       "      <td>7.700000</td>\n",
       "      <td>70.000000</td>\n",
       "      <td>5.552625e+04</td>\n",
       "    </tr>\n",
       "    <tr>\n",
       "      <th>50%</th>\n",
       "      <td>1999.000000</td>\n",
       "      <td>7.900000</td>\n",
       "      <td>79.000000</td>\n",
       "      <td>1.385485e+05</td>\n",
       "    </tr>\n",
       "    <tr>\n",
       "      <th>75%</th>\n",
       "      <td>2009.000000</td>\n",
       "      <td>8.100000</td>\n",
       "      <td>87.000000</td>\n",
       "      <td>3.741612e+05</td>\n",
       "    </tr>\n",
       "    <tr>\n",
       "      <th>max</th>\n",
       "      <td>2020.000000</td>\n",
       "      <td>9.300000</td>\n",
       "      <td>100.000000</td>\n",
       "      <td>2.343110e+06</td>\n",
       "    </tr>\n",
       "  </tbody>\n",
       "</table>\n",
       "</div>"
      ],
      "text/plain": [
       "       Released_Year  IMDB_Rating  Meta_score   No_of_Votes\n",
       "count    1000.000000  1000.000000  843.000000  1.000000e+03\n",
       "mean     1991.221000     7.949300   77.971530  2.736929e+05\n",
       "std        23.285669     0.275491   12.376099  3.273727e+05\n",
       "min      1920.000000     7.600000   28.000000  2.508800e+04\n",
       "25%      1976.000000     7.700000   70.000000  5.552625e+04\n",
       "50%      1999.000000     7.900000   79.000000  1.385485e+05\n",
       "75%      2009.000000     8.100000   87.000000  3.741612e+05\n",
       "max      2020.000000     9.300000  100.000000  2.343110e+06"
      ]
     },
     "execution_count": 85,
     "metadata": {},
     "output_type": "execute_result"
    }
   ],
   "source": [
    "data.describe()"
   ]
  },
  {
   "cell_type": "markdown",
   "id": "3d57efb4",
   "metadata": {},
   "source": [
    "How many movies genres are there? Use **value_counts()**."
   ]
  },
  {
   "cell_type": "code",
   "execution_count": 86,
   "id": "acdf0986",
   "metadata": {},
   "outputs": [
    {
     "data": {
      "text/plain": [
       "Genre\n",
       "Drama                        85\n",
       "Drama, Romance               37\n",
       "Comedy, Drama                35\n",
       "Comedy, Drama, Romance       31\n",
       "Action, Crime, Drama         30\n",
       "                             ..\n",
       "Adventure, Thriller           1\n",
       "Animation, Action, Sci-Fi     1\n",
       "Action, Crime, Comedy         1\n",
       "Animation, Crime, Mystery     1\n",
       "Adventure, Comedy, War        1\n",
       "Name: count, Length: 202, dtype: int64"
      ]
     },
     "execution_count": 86,
     "metadata": {},
     "output_type": "execute_result"
    }
   ],
   "source": [
    "data[\"Genre\"].value_counts()"
   ]
  },
  {
   "cell_type": "code",
   "execution_count": 87,
   "id": "ba3b53c5-e519-4996-ae88-4ed2820c13b6",
   "metadata": {},
   "outputs": [
    {
     "data": {
      "text/plain": [
       "202"
      ]
     },
     "execution_count": 87,
     "metadata": {},
     "output_type": "execute_result"
    }
   ],
   "source": [
    "data[\"Genre\"].value_counts().count()"
   ]
  },
  {
   "cell_type": "markdown",
   "id": "1918d292-6b35-4f1a-9219-4b48ca9acc73",
   "metadata": {},
   "source": [
    "Count the number of movies that include the genre \"comedy\". Check Pandas Docs for \"**str.contains()**\""
   ]
  },
  {
   "cell_type": "code",
   "execution_count": 88,
   "id": "10e1364f",
   "metadata": {},
   "outputs": [
    {
     "data": {
      "text/plain": [
       "233"
      ]
     },
     "execution_count": 88,
     "metadata": {},
     "output_type": "execute_result"
    }
   ],
   "source": [
    "data.Genre.str.contains(\"Comedy\").value_counts()\n",
    "data.Genre.str.contains(\"Comedy\").sum()"
   ]
  },
  {
   "cell_type": "markdown",
   "id": "52706c85",
   "metadata": {},
   "source": [
    "Dataframe Masks"
   ]
  },
  {
   "cell_type": "code",
   "execution_count": 89,
   "id": "b6a5083d",
   "metadata": {},
   "outputs": [
    {
     "data": {
      "text/html": [
       "<div>\n",
       "<style scoped>\n",
       "    .dataframe tbody tr th:only-of-type {\n",
       "        vertical-align: middle;\n",
       "    }\n",
       "\n",
       "    .dataframe tbody tr th {\n",
       "        vertical-align: top;\n",
       "    }\n",
       "\n",
       "    .dataframe thead th {\n",
       "        text-align: right;\n",
       "    }\n",
       "</style>\n",
       "<table border=\"1\" class=\"dataframe\">\n",
       "  <thead>\n",
       "    <tr style=\"text-align: right;\">\n",
       "      <th></th>\n",
       "      <th>Poster_Link</th>\n",
       "      <th>Series_Title</th>\n",
       "      <th>Released_Year</th>\n",
       "      <th>Certificate</th>\n",
       "      <th>Runtime</th>\n",
       "      <th>Genre</th>\n",
       "      <th>IMDB_Rating</th>\n",
       "      <th>Overview</th>\n",
       "      <th>Meta_score</th>\n",
       "      <th>Director</th>\n",
       "      <th>Star1</th>\n",
       "      <th>Star2</th>\n",
       "      <th>Star3</th>\n",
       "      <th>Star4</th>\n",
       "      <th>No_of_Votes</th>\n",
       "      <th>Gross</th>\n",
       "    </tr>\n",
       "  </thead>\n",
       "  <tbody>\n",
       "    <tr>\n",
       "      <th>19</th>\n",
       "      <td>https://m.media-amazon.com/images/M/MV5BYWZjMj...</td>\n",
       "      <td>Gisaengchung</td>\n",
       "      <td>2019</td>\n",
       "      <td>A</td>\n",
       "      <td>132 min</td>\n",
       "      <td>Comedy, Drama, Thriller</td>\n",
       "      <td>8.6</td>\n",
       "      <td>Greed and class discrimination threaten the ne...</td>\n",
       "      <td>96.0</td>\n",
       "      <td>Bong Joon Ho</td>\n",
       "      <td>Kang-ho Song</td>\n",
       "      <td>Lee Sun-kyun</td>\n",
       "      <td>Cho Yeo-jeong</td>\n",
       "      <td>Choi Woo-sik</td>\n",
       "      <td>552778</td>\n",
       "      <td>53,367,844</td>\n",
       "    </tr>\n",
       "    <tr>\n",
       "      <th>26</th>\n",
       "      <td>https://m.media-amazon.com/images/M/MV5BYmJmM2...</td>\n",
       "      <td>La vita Ã¨ bella</td>\n",
       "      <td>1997</td>\n",
       "      <td>U</td>\n",
       "      <td>116 min</td>\n",
       "      <td>Comedy, Drama, Romance</td>\n",
       "      <td>8.6</td>\n",
       "      <td>When an open-minded Jewish librarian and his s...</td>\n",
       "      <td>59.0</td>\n",
       "      <td>Roberto Benigni</td>\n",
       "      <td>Roberto Benigni</td>\n",
       "      <td>Nicoletta Braschi</td>\n",
       "      <td>Giorgio Cantarini</td>\n",
       "      <td>Giustino Durano</td>\n",
       "      <td>623629</td>\n",
       "      <td>57,598,247</td>\n",
       "    </tr>\n",
       "    <tr>\n",
       "      <th>35</th>\n",
       "      <td>https://m.media-amazon.com/images/M/MV5BMTYxND...</td>\n",
       "      <td>The Intouchables</td>\n",
       "      <td>2011</td>\n",
       "      <td>UA</td>\n",
       "      <td>112 min</td>\n",
       "      <td>Biography, Comedy, Drama</td>\n",
       "      <td>8.5</td>\n",
       "      <td>After he becomes a quadriplegic from a paragli...</td>\n",
       "      <td>57.0</td>\n",
       "      <td>Olivier Nakache</td>\n",
       "      <td>Ãric Toledano</td>\n",
       "      <td>FranÃ§ois Cluzet</td>\n",
       "      <td>Omar Sy</td>\n",
       "      <td>Anne Le Ny</td>\n",
       "      <td>760360</td>\n",
       "      <td>13,182,281</td>\n",
       "    </tr>\n",
       "    <tr>\n",
       "      <th>47</th>\n",
       "      <td>https://m.media-amazon.com/images/M/MV5BZmU0M2...</td>\n",
       "      <td>Back to the Future</td>\n",
       "      <td>1985</td>\n",
       "      <td>U</td>\n",
       "      <td>116 min</td>\n",
       "      <td>Adventure, Comedy, Sci-Fi</td>\n",
       "      <td>8.5</td>\n",
       "      <td>Marty McFly, a 17-year-old high school student...</td>\n",
       "      <td>87.0</td>\n",
       "      <td>Robert Zemeckis</td>\n",
       "      <td>Michael J. Fox</td>\n",
       "      <td>Christopher Lloyd</td>\n",
       "      <td>Lea Thompson</td>\n",
       "      <td>Crispin Glover</td>\n",
       "      <td>1058081</td>\n",
       "      <td>210,609,762</td>\n",
       "    </tr>\n",
       "    <tr>\n",
       "      <th>51</th>\n",
       "      <td>https://m.media-amazon.com/images/M/MV5BYjJiZj...</td>\n",
       "      <td>Modern Times</td>\n",
       "      <td>1936</td>\n",
       "      <td>G</td>\n",
       "      <td>87 min</td>\n",
       "      <td>Comedy, Drama, Family</td>\n",
       "      <td>8.5</td>\n",
       "      <td>The Tramp struggles to live in modern industri...</td>\n",
       "      <td>96.0</td>\n",
       "      <td>Charles Chaplin</td>\n",
       "      <td>Charles Chaplin</td>\n",
       "      <td>Paulette Goddard</td>\n",
       "      <td>Henry Bergman</td>\n",
       "      <td>Tiny Sandford</td>\n",
       "      <td>217881</td>\n",
       "      <td>163,245</td>\n",
       "    </tr>\n",
       "    <tr>\n",
       "      <th>...</th>\n",
       "      <td>...</td>\n",
       "      <td>...</td>\n",
       "      <td>...</td>\n",
       "      <td>...</td>\n",
       "      <td>...</td>\n",
       "      <td>...</td>\n",
       "      <td>...</td>\n",
       "      <td>...</td>\n",
       "      <td>...</td>\n",
       "      <td>...</td>\n",
       "      <td>...</td>\n",
       "      <td>...</td>\n",
       "      <td>...</td>\n",
       "      <td>...</td>\n",
       "      <td>...</td>\n",
       "      <td>...</td>\n",
       "    </tr>\n",
       "    <tr>\n",
       "      <th>984</th>\n",
       "      <td>https://m.media-amazon.com/images/M/MV5BMGQ0OG...</td>\n",
       "      <td>The Muppet Movie</td>\n",
       "      <td>1979</td>\n",
       "      <td>U</td>\n",
       "      <td>95 min</td>\n",
       "      <td>Adventure, Comedy, Family</td>\n",
       "      <td>7.6</td>\n",
       "      <td>Kermit and his newfound friends trek across Am...</td>\n",
       "      <td>74.0</td>\n",
       "      <td>James Frawley</td>\n",
       "      <td>Jim Henson</td>\n",
       "      <td>Frank Oz</td>\n",
       "      <td>Jerry Nelson</td>\n",
       "      <td>Richard Hunt</td>\n",
       "      <td>32802</td>\n",
       "      <td>76,657,000</td>\n",
       "    </tr>\n",
       "    <tr>\n",
       "      <th>989</th>\n",
       "      <td>https://m.media-amazon.com/images/M/MV5BYzZhOD...</td>\n",
       "      <td>The Long Goodbye</td>\n",
       "      <td>1973</td>\n",
       "      <td>A</td>\n",
       "      <td>112 min</td>\n",
       "      <td>Comedy, Crime, Drama</td>\n",
       "      <td>7.6</td>\n",
       "      <td>Private investigator Philip Marlowe helps a fr...</td>\n",
       "      <td>87.0</td>\n",
       "      <td>Robert Altman</td>\n",
       "      <td>Elliott Gould</td>\n",
       "      <td>Nina van Pallandt</td>\n",
       "      <td>Sterling Hayden</td>\n",
       "      <td>Mark Rydell</td>\n",
       "      <td>26337</td>\n",
       "      <td>959,000</td>\n",
       "    </tr>\n",
       "    <tr>\n",
       "      <th>991</th>\n",
       "      <td>https://m.media-amazon.com/images/M/MV5BMzAyND...</td>\n",
       "      <td>Kelly's Heroes</td>\n",
       "      <td>1970</td>\n",
       "      <td>GP</td>\n",
       "      <td>144 min</td>\n",
       "      <td>Adventure, Comedy, War</td>\n",
       "      <td>7.6</td>\n",
       "      <td>A group of U.S. soldiers sneaks across enemy l...</td>\n",
       "      <td>50.0</td>\n",
       "      <td>Brian G. Hutton</td>\n",
       "      <td>Clint Eastwood</td>\n",
       "      <td>Telly Savalas</td>\n",
       "      <td>Don Rickles</td>\n",
       "      <td>Carroll O'Connor</td>\n",
       "      <td>45338</td>\n",
       "      <td>1,378,435</td>\n",
       "    </tr>\n",
       "    <tr>\n",
       "      <th>994</th>\n",
       "      <td>https://m.media-amazon.com/images/M/MV5BZjQyMG...</td>\n",
       "      <td>A Hard Day's Night</td>\n",
       "      <td>1964</td>\n",
       "      <td>U</td>\n",
       "      <td>87 min</td>\n",
       "      <td>Comedy, Music, Musical</td>\n",
       "      <td>7.6</td>\n",
       "      <td>Over two \"typical\" days in the life of The Bea...</td>\n",
       "      <td>96.0</td>\n",
       "      <td>Richard Lester</td>\n",
       "      <td>John Lennon</td>\n",
       "      <td>Paul McCartney</td>\n",
       "      <td>George Harrison</td>\n",
       "      <td>Ringo Starr</td>\n",
       "      <td>40351</td>\n",
       "      <td>13,780,024</td>\n",
       "    </tr>\n",
       "    <tr>\n",
       "      <th>995</th>\n",
       "      <td>https://m.media-amazon.com/images/M/MV5BNGEwMT...</td>\n",
       "      <td>Breakfast at Tiffany's</td>\n",
       "      <td>1961</td>\n",
       "      <td>A</td>\n",
       "      <td>115 min</td>\n",
       "      <td>Comedy, Drama, Romance</td>\n",
       "      <td>7.6</td>\n",
       "      <td>A young New York socialite becomes interested ...</td>\n",
       "      <td>76.0</td>\n",
       "      <td>Blake Edwards</td>\n",
       "      <td>Audrey Hepburn</td>\n",
       "      <td>George Peppard</td>\n",
       "      <td>Patricia Neal</td>\n",
       "      <td>Buddy Ebsen</td>\n",
       "      <td>166544</td>\n",
       "      <td>NaN</td>\n",
       "    </tr>\n",
       "  </tbody>\n",
       "</table>\n",
       "<p>233 rows × 16 columns</p>\n",
       "</div>"
      ],
      "text/plain": [
       "                                           Poster_Link  \\\n",
       "19   https://m.media-amazon.com/images/M/MV5BYWZjMj...   \n",
       "26   https://m.media-amazon.com/images/M/MV5BYmJmM2...   \n",
       "35   https://m.media-amazon.com/images/M/MV5BMTYxND...   \n",
       "47   https://m.media-amazon.com/images/M/MV5BZmU0M2...   \n",
       "51   https://m.media-amazon.com/images/M/MV5BYjJiZj...   \n",
       "..                                                 ...   \n",
       "984  https://m.media-amazon.com/images/M/MV5BMGQ0OG...   \n",
       "989  https://m.media-amazon.com/images/M/MV5BYzZhOD...   \n",
       "991  https://m.media-amazon.com/images/M/MV5BMzAyND...   \n",
       "994  https://m.media-amazon.com/images/M/MV5BZjQyMG...   \n",
       "995  https://m.media-amazon.com/images/M/MV5BNGEwMT...   \n",
       "\n",
       "               Series_Title  Released_Year Certificate  Runtime  \\\n",
       "19             Gisaengchung           2019           A  132 min   \n",
       "26         La vita Ã¨ bella           1997           U  116 min   \n",
       "35         The Intouchables           2011          UA  112 min   \n",
       "47       Back to the Future           1985           U  116 min   \n",
       "51             Modern Times           1936           G   87 min   \n",
       "..                      ...            ...         ...      ...   \n",
       "984        The Muppet Movie           1979           U   95 min   \n",
       "989        The Long Goodbye           1973           A  112 min   \n",
       "991          Kelly's Heroes           1970          GP  144 min   \n",
       "994      A Hard Day's Night           1964           U   87 min   \n",
       "995  Breakfast at Tiffany's           1961           A  115 min   \n",
       "\n",
       "                         Genre  IMDB_Rating  \\\n",
       "19     Comedy, Drama, Thriller          8.6   \n",
       "26      Comedy, Drama, Romance          8.6   \n",
       "35    Biography, Comedy, Drama          8.5   \n",
       "47   Adventure, Comedy, Sci-Fi          8.5   \n",
       "51       Comedy, Drama, Family          8.5   \n",
       "..                         ...          ...   \n",
       "984  Adventure, Comedy, Family          7.6   \n",
       "989       Comedy, Crime, Drama          7.6   \n",
       "991     Adventure, Comedy, War          7.6   \n",
       "994     Comedy, Music, Musical          7.6   \n",
       "995     Comedy, Drama, Romance          7.6   \n",
       "\n",
       "                                              Overview  Meta_score  \\\n",
       "19   Greed and class discrimination threaten the ne...        96.0   \n",
       "26   When an open-minded Jewish librarian and his s...        59.0   \n",
       "35   After he becomes a quadriplegic from a paragli...        57.0   \n",
       "47   Marty McFly, a 17-year-old high school student...        87.0   \n",
       "51   The Tramp struggles to live in modern industri...        96.0   \n",
       "..                                                 ...         ...   \n",
       "984  Kermit and his newfound friends trek across Am...        74.0   \n",
       "989  Private investigator Philip Marlowe helps a fr...        87.0   \n",
       "991  A group of U.S. soldiers sneaks across enemy l...        50.0   \n",
       "994  Over two \"typical\" days in the life of The Bea...        96.0   \n",
       "995  A young New York socialite becomes interested ...        76.0   \n",
       "\n",
       "            Director            Star1              Star2              Star3  \\\n",
       "19      Bong Joon Ho     Kang-ho Song       Lee Sun-kyun      Cho Yeo-jeong   \n",
       "26   Roberto Benigni  Roberto Benigni  Nicoletta Braschi  Giorgio Cantarini   \n",
       "35   Olivier Nakache   Ãric Toledano   FranÃ§ois Cluzet            Omar Sy   \n",
       "47   Robert Zemeckis   Michael J. Fox  Christopher Lloyd       Lea Thompson   \n",
       "51   Charles Chaplin  Charles Chaplin   Paulette Goddard      Henry Bergman   \n",
       "..               ...              ...                ...                ...   \n",
       "984    James Frawley       Jim Henson           Frank Oz       Jerry Nelson   \n",
       "989    Robert Altman    Elliott Gould  Nina van Pallandt    Sterling Hayden   \n",
       "991  Brian G. Hutton   Clint Eastwood      Telly Savalas        Don Rickles   \n",
       "994   Richard Lester      John Lennon     Paul McCartney    George Harrison   \n",
       "995    Blake Edwards   Audrey Hepburn     George Peppard      Patricia Neal   \n",
       "\n",
       "                Star4  No_of_Votes        Gross  \n",
       "19       Choi Woo-sik       552778   53,367,844  \n",
       "26    Giustino Durano       623629   57,598,247  \n",
       "35         Anne Le Ny       760360   13,182,281  \n",
       "47     Crispin Glover      1058081  210,609,762  \n",
       "51      Tiny Sandford       217881      163,245  \n",
       "..                ...          ...          ...  \n",
       "984      Richard Hunt        32802   76,657,000  \n",
       "989       Mark Rydell        26337      959,000  \n",
       "991  Carroll O'Connor        45338    1,378,435  \n",
       "994       Ringo Starr        40351   13,780,024  \n",
       "995       Buddy Ebsen       166544          NaN  \n",
       "\n",
       "[233 rows x 16 columns]"
      ]
     },
     "execution_count": 89,
     "metadata": {},
     "output_type": "execute_result"
    }
   ],
   "source": [
    "mask = data.Genre.str.contains(\"Comedy\")\n",
    "data[mask]"
   ]
  },
  {
   "cell_type": "markdown",
   "id": "b50b4ead-2417-4b40-a869-a4f4292bb51d",
   "metadata": {},
   "source": [
    "An alternative approach would be to split the genre entries using `.str.split(...)` with `expand=True`."
   ]
  },
  {
   "cell_type": "code",
   "execution_count": 90,
   "id": "177cf4c3-9fe5-4bae-9bf4-c9fce97017e8",
   "metadata": {},
   "outputs": [
    {
     "data": {
      "text/html": [
       "<div>\n",
       "<style scoped>\n",
       "    .dataframe tbody tr th:only-of-type {\n",
       "        vertical-align: middle;\n",
       "    }\n",
       "\n",
       "    .dataframe tbody tr th {\n",
       "        vertical-align: top;\n",
       "    }\n",
       "\n",
       "    .dataframe thead th {\n",
       "        text-align: right;\n",
       "    }\n",
       "</style>\n",
       "<table border=\"1\" class=\"dataframe\">\n",
       "  <thead>\n",
       "    <tr style=\"text-align: right;\">\n",
       "      <th></th>\n",
       "      <th>Genre1</th>\n",
       "      <th>Genre2</th>\n",
       "      <th>Genre3</th>\n",
       "    </tr>\n",
       "  </thead>\n",
       "  <tbody>\n",
       "    <tr>\n",
       "      <th>0</th>\n",
       "      <td>Drama</td>\n",
       "      <td>None</td>\n",
       "      <td>None</td>\n",
       "    </tr>\n",
       "    <tr>\n",
       "      <th>1</th>\n",
       "      <td>Crime</td>\n",
       "      <td>Drama</td>\n",
       "      <td>None</td>\n",
       "    </tr>\n",
       "    <tr>\n",
       "      <th>2</th>\n",
       "      <td>Action</td>\n",
       "      <td>Crime</td>\n",
       "      <td>Drama</td>\n",
       "    </tr>\n",
       "    <tr>\n",
       "      <th>3</th>\n",
       "      <td>Crime</td>\n",
       "      <td>Drama</td>\n",
       "      <td>None</td>\n",
       "    </tr>\n",
       "    <tr>\n",
       "      <th>4</th>\n",
       "      <td>Crime</td>\n",
       "      <td>Drama</td>\n",
       "      <td>None</td>\n",
       "    </tr>\n",
       "    <tr>\n",
       "      <th>...</th>\n",
       "      <td>...</td>\n",
       "      <td>...</td>\n",
       "      <td>...</td>\n",
       "    </tr>\n",
       "    <tr>\n",
       "      <th>995</th>\n",
       "      <td>Comedy</td>\n",
       "      <td>Drama</td>\n",
       "      <td>Romance</td>\n",
       "    </tr>\n",
       "    <tr>\n",
       "      <th>996</th>\n",
       "      <td>Drama</td>\n",
       "      <td>Western</td>\n",
       "      <td>None</td>\n",
       "    </tr>\n",
       "    <tr>\n",
       "      <th>997</th>\n",
       "      <td>Drama</td>\n",
       "      <td>Romance</td>\n",
       "      <td>War</td>\n",
       "    </tr>\n",
       "    <tr>\n",
       "      <th>998</th>\n",
       "      <td>Drama</td>\n",
       "      <td>War</td>\n",
       "      <td>None</td>\n",
       "    </tr>\n",
       "    <tr>\n",
       "      <th>999</th>\n",
       "      <td>Crime</td>\n",
       "      <td>Mystery</td>\n",
       "      <td>Thriller</td>\n",
       "    </tr>\n",
       "  </tbody>\n",
       "</table>\n",
       "<p>1000 rows × 3 columns</p>\n",
       "</div>"
      ],
      "text/plain": [
       "     Genre1   Genre2    Genre3\n",
       "0     Drama     None      None\n",
       "1     Crime    Drama      None\n",
       "2    Action    Crime     Drama\n",
       "3     Crime    Drama      None\n",
       "4     Crime    Drama      None\n",
       "..      ...      ...       ...\n",
       "995  Comedy    Drama   Romance\n",
       "996   Drama  Western      None\n",
       "997   Drama  Romance       War\n",
       "998   Drama      War      None\n",
       "999   Crime  Mystery  Thriller\n",
       "\n",
       "[1000 rows x 3 columns]"
      ]
     },
     "execution_count": 90,
     "metadata": {},
     "output_type": "execute_result"
    }
   ],
   "source": [
    "new_columns = data.Genre.str.split(\", \", expand=True)\n",
    "new_columns.columns = [\"Genre1\", \"Genre2\", \"Genre3\"]\n",
    "new_columns"
   ]
  },
  {
   "cell_type": "markdown",
   "id": "e5283f01-1b49-4ea6-bf9a-62d541d41f99",
   "metadata": {},
   "source": [
    "Now count all Genres in the first of those columns using `.value_counts()`."
   ]
  },
  {
   "cell_type": "code",
   "execution_count": 91,
   "id": "634f35b7-bd27-4756-85b5-dac1a3423387",
   "metadata": {},
   "outputs": [
    {
     "name": "stdout",
     "output_type": "stream",
     "text": [
      "Genre1\n",
      "Drama        289\n",
      "Action       172\n",
      "Comedy       155\n",
      "Crime        107\n",
      "Biography     88\n",
      "Animation     82\n",
      "Adventure     72\n",
      "Mystery       12\n",
      "Horror        11\n",
      "Western        4\n",
      "Film-Noir      3\n",
      "Fantasy        2\n",
      "Family         2\n",
      "Thriller       1\n",
      "Name: count, dtype: int64\n",
      "Genre2\n",
      "Drama        320\n",
      "Adventure    113\n",
      "Crime         84\n",
      "Romance       53\n",
      "Comedy        43\n",
      "Mystery       41\n",
      "Thriller      37\n",
      "Family        26\n",
      "Sci-Fi        23\n",
      "Music         21\n",
      "Biography     20\n",
      "War           18\n",
      "Horror        18\n",
      "Fantasy       18\n",
      "History       18\n",
      "Action        17\n",
      "Film-Noir     10\n",
      "Western        6\n",
      "Sport          6\n",
      "Musical        3\n",
      "Name: count, dtype: int64\n",
      "Genre3\n",
      "Drama        115\n",
      "Thriller      99\n",
      "Romance       72\n",
      "Fantasy       46\n",
      "Mystery       46\n",
      "Sci-Fi        44\n",
      "History       38\n",
      "Comedy        35\n",
      "War           33\n",
      "Family        28\n",
      "Crime         18\n",
      "Music         14\n",
      "Musical       14\n",
      "Sport         13\n",
      "Adventure     11\n",
      "Western       10\n",
      "Film-Noir      6\n",
      "Horror         3\n",
      "Biography      1\n",
      "Name: count, dtype: int64\n"
     ]
    }
   ],
   "source": [
    "print(new_columns.Genre1.value_counts())\n",
    "print(new_columns.Genre2.value_counts())\n",
    "print(new_columns.Genre3.value_counts())"
   ]
  },
  {
   "cell_type": "code",
   "execution_count": 92,
   "id": "05044afd",
   "metadata": {},
   "outputs": [
    {
     "data": {
      "text/plain": [
       "<Axes: ylabel='Genre1'>"
      ]
     },
     "execution_count": 92,
     "metadata": {},
     "output_type": "execute_result"
    },
    {
     "data": {
      "image/png": "[encoded data removed]",
      "text/plain": [
       "<Figure size 640x480 with 1 Axes>"
      ]
     },
     "metadata": {},
     "output_type": "display_data"
    }
   ],
   "source": [
    "new_columns.Genre1.value_counts().plot(kind=\"barh\")"
   ]
  },
  {
   "cell_type": "markdown",
   "id": "d636513e-397e-4016-8726-91c2ca93bdf4",
   "metadata": {},
   "source": [
    "### Movie run time\n",
    "\n",
    "- Convert the runtime column so that it only contains the values in minutes (as integer)."
   ]
  },
  {
   "cell_type": "code",
   "execution_count": 94,
   "id": "dfe8f7a2-7fe6-4f95-b3d3-4eeeac3bc60a",
   "metadata": {},
   "outputs": [
    {
     "data": {
      "text/plain": [
       "0      142\n",
       "1      175\n",
       "2      152\n",
       "3      202\n",
       "4       96\n",
       "      ... \n",
       "995    115\n",
       "996    201\n",
       "997    118\n",
       "998     97\n",
       "999     86\n",
       "Name: Runtime, Length: 1000, dtype: int32"
      ]
     },
     "execution_count": 94,
     "metadata": {},
     "output_type": "execute_result"
    }
   ],
   "source": [
    "data.Runtime.str.removesuffix(\" min\").astype(int)"
   ]
  },
  {
   "cell_type": "code",
   "execution_count": 95,
   "id": "793fcfb6-d4d1-4b6f-811f-fbd3e7ba3c13",
   "metadata": {},
   "outputs": [
    {
     "data": {
      "text/plain": [
       "0      142\n",
       "1      175\n",
       "2      152\n",
       "3      202\n",
       "4       96\n",
       "      ... \n",
       "995    115\n",
       "996    201\n",
       "997    118\n",
       "998     97\n",
       "999     86\n",
       "Name: Runtime, Length: 1000, dtype: int32"
      ]
     },
     "execution_count": 95,
     "metadata": {},
     "output_type": "execute_result"
    }
   ],
   "source": [
    "# replace original column with converted values\n",
    "data[\"Runtime\"] = data.Runtime.str.replace(\" min\", \"\").astype(int)\n",
    "data.Runtime"
   ]
  },
  {
   "cell_type": "markdown",
   "id": "a579765d-289c-403e-a620-3ad71cba6b45",
   "metadata": {},
   "source": [
    "Plot the distribution of the run times using `.plot(kind=\"hist\")`."
   ]
  },
  {
   "cell_type": "code",
   "execution_count": 98,
   "id": "1c4b4f27-b636-4055-b9f8-0c3489a17ec8",
   "metadata": {},
   "outputs": [
    {
     "data": {
      "text/plain": [
       "<Axes: ylabel='Frequency'>"
      ]
     },
     "execution_count": 98,
     "metadata": {},
     "output_type": "execute_result"
    },
    {
     "data": {
      "image/png": "[encoded data removed]",
      "text/plain": [
       "<Figure size 640x480 with 1 Axes>"
      ]
     },
     "metadata": {},
     "output_type": "display_data"
    }
   ],
   "source": [
    "data.Runtime.plot(kind=\"hist\")"
   ]
  },
  {
   "cell_type": "markdown",
   "id": "08a16e8e",
   "metadata": {},
   "source": [
    "Get all movies that are longer than 200 min."
   ]
  },
  {
   "cell_type": "code",
   "execution_count": 106,
   "id": "5d5570fe",
   "metadata": {},
   "outputs": [
    {
     "data": {
      "text/plain": [
       "3                             The Godfather: Part II\n",
       "5      The Lord of the Rings: The Return of the King\n",
       "31                              Shichinin no samurai\n",
       "71                       Once Upon a Time in America\n",
       "116                               Lawrence of Arabia\n",
       "140                               Gangs of Wasseypur\n",
       "156                           Swades: We, the People\n",
       "177                                           Sholay\n",
       "247                Lagaan: Once Upon a Time in India\n",
       "290                                    Andrei Rublev\n",
       "300                                          Ben-Hur\n",
       "314                               Gone with the Wind\n",
       "484                                     The Irishman\n",
       "552                             The Ten Commandments\n",
       "812                                           Hamlet\n",
       "820                                        Malcolm X\n",
       "996                                            Giant\n",
       "Name: Series_Title, dtype: object"
      ]
     },
     "execution_count": 106,
     "metadata": {},
     "output_type": "execute_result"
    }
   ],
   "source": [
    "mask = data.Runtime > 200\n",
    "data[mask].Series_Title"
   ]
  },
  {
   "cell_type": "code",
   "execution_count": 105,
   "id": "278b365f",
   "metadata": {},
   "outputs": [
    {
     "data": {
      "text/plain": [
       "0      142.0\n",
       "1      175.0\n",
       "2      152.0\n",
       "3      202.0\n",
       "4        NaN\n",
       "       ...  \n",
       "995      NaN\n",
       "996    201.0\n",
       "997      NaN\n",
       "998      NaN\n",
       "999      NaN\n",
       "Name: Runtime, Length: 1000, dtype: float64"
      ]
     },
     "execution_count": 105,
     "metadata": {},
     "output_type": "execute_result"
    }
   ],
   "source": [
    "data.Runtime.where(data.Runtime > 140)"
   ]
  },
  {
   "cell_type": "markdown",
   "id": "77b6f284",
   "metadata": {},
   "source": [
    "Select all movies from 1950, 1951, and 1952."
   ]
  },
  {
   "cell_type": "code",
   "execution_count": 110,
   "id": "718c1e79",
   "metadata": {},
   "outputs": [
    {
     "data": {
      "text/plain": [
       "82                      Sunset Blvd.\n",
       "120              Singin' in the Rain\n",
       "121                            Ikiru\n",
       "189                        RashÃ´mon\n",
       "190                    All About Eve\n",
       "307                  Ace in the Hole\n",
       "447         A Streetcar Named Desire\n",
       "448                In a Lonely Place\n",
       "555                        High Noon\n",
       "556             Strangers on a Train\n",
       "557                           Harvey\n",
       "871                    The Quiet Man\n",
       "872    The Day the Earth Stood Still\n",
       "873                The African Queen\n",
       "Name: Series_Title, dtype: object"
      ]
     },
     "execution_count": 110,
     "metadata": {},
     "output_type": "execute_result"
    }
   ],
   "source": [
    "mask = (data.Released_Year >= 1950) & (data.Released_Year <= 1952)\n",
    "data[mask].Series_Title"
   ]
  },
  {
   "cell_type": "markdown",
   "id": "62ea510d",
   "metadata": {},
   "source": [
    "How many movies in the dataset were directed by Alfred Hitchcock. And are those indeed correct?"
   ]
  },
  {
   "cell_type": "code",
   "execution_count": 119,
   "id": "d51f1269",
   "metadata": {},
   "outputs": [
    {
     "data": {
      "text/plain": [
       "49                   Psycho\n",
       "81              Rear Window\n",
       "118      North by Northwest\n",
       "119                 Vertigo\n",
       "187       Dial M for Murder\n",
       "312                 Rebecca\n",
       "450                    Rope\n",
       "556    Strangers on a Train\n",
       "559               Notorious\n",
       "712       Shadow of a Doubt\n",
       "714       The Lady Vanishes\n",
       "862               The Birds\n",
       "998                Lifeboat\n",
       "999            The 39 Steps\n",
       "Name: Series_Title, dtype: object"
      ]
     },
     "execution_count": 119,
     "metadata": {},
     "output_type": "execute_result"
    }
   ],
   "source": [
    "mask = data.Director == \"Alfred Hitchcock\"\n",
    "data[mask].Series_Title"
   ]
  },
  {
   "cell_type": "markdown",
   "id": "f8521cbf",
   "metadata": {},
   "source": [
    "Compute the average runtime of movies released in 2020"
   ]
  },
  {
   "cell_type": "code",
   "execution_count": 121,
   "id": "8eda6a6a",
   "metadata": {},
   "outputs": [
    {
     "data": {
      "text/plain": [
       "<Axes: ylabel='Frequency'>"
      ]
     },
     "execution_count": 121,
     "metadata": {},
     "output_type": "execute_result"
    },
    {
     "data": {
      "image/png": "[encoded data removed]",
      "text/plain": [
       "<Figure size 640x480 with 1 Axes>"
      ]
     },
     "metadata": {},
     "output_type": "display_data"
    }
   ],
   "source": [
    "mask = data.Released_Year >= 2020\n",
    "data[mask].Runtime.plot(kind = \"hist\")"
   ]
  },
  {
   "cell_type": "markdown",
   "id": "68038ed4",
   "metadata": {},
   "source": [
    "Examine the histogram for the runtime column."
   ]
  },
  {
   "cell_type": "code",
   "execution_count": null,
   "id": "432612b8",
   "metadata": {},
   "outputs": [],
   "source": [
    "# your code"
   ]
  },
  {
   "cell_type": "markdown",
   "id": "0876c93e",
   "metadata": {},
   "source": [
    "## Inner & Outer Merge"
   ]
  },
  {
   "cell_type": "markdown",
   "id": "61cc842a",
   "metadata": {},
   "source": [
    "Have a look at DataFrame 1 and 2"
   ]
  },
  {
   "cell_type": "code",
   "execution_count": null,
   "id": "74498c92",
   "metadata": {},
   "outputs": [],
   "source": [
    "# create example DataFrame 1\n",
    "df1 = pd.DataFrame({\n",
    "    'Title': ['Enter the Anime', 'The App', 'Drive', 'Paradox', 'The Call'],\n",
    "    'Genre': ['Documentary', 'Science fiction/Drama', 'Action', 'Musical/Western/Fantasy', 'Drama'],\n",
    "    'Language': ['English/Japanese', 'Italian', 'Hindi', 'English', 'Korean']\n",
    "})\n",
    "\n",
    "df1"
   ]
  },
  {
   "cell_type": "code",
   "execution_count": null,
   "id": "89bda5ed",
   "metadata": {},
   "outputs": [],
   "source": [
    "# create example DataFrame 2\n",
    "df2 = pd.DataFrame({\n",
    "    'Language': ['English/Japanese', 'Italian', 'Spanish', 'Hindi', 'Korean'],\n",
    "    'Premiere Year': [2019, 2020, 2021, 2018, 2020],\n",
    "    'Runtime (mins)': [58, 79, 147, 73, 112]\n",
    "})\n",
    "\n",
    "df2"
   ]
  },
  {
   "cell_type": "markdown",
   "id": "eccfe305",
   "metadata": {},
   "source": [
    "Perform an inner merge on the \"Language\" column."
   ]
  },
  {
   "cell_type": "code",
   "execution_count": null,
   "id": "7f0c4838",
   "metadata": {
    "scrolled": true
   },
   "outputs": [],
   "source": [
    "inner_merged = # your code here\n",
    "print(\"Inner Merged DataFrame:\")\n",
    "\n",
    "inner_merged"
   ]
  },
  {
   "cell_type": "markdown",
   "id": "aa41a980",
   "metadata": {},
   "source": [
    "Perform an outer merge on the \"Language\" column."
   ]
  },
  {
   "cell_type": "code",
   "execution_count": null,
   "id": "f23a69a7",
   "metadata": {
    "scrolled": true
   },
   "outputs": [],
   "source": [
    "outer_merged = # your code here\n",
    "print(\"\\nOuter Merged DataFrame:\")\n",
    "\n",
    "outer_merged"
   ]
  },
  {
   "cell_type": "markdown",
   "id": "86860463",
   "metadata": {},
   "source": [
    "Add another \"Language\" entry called \"Italian\" to df1 and examine the merge behavior. \n",
    "\n",
    "- What problem arises?\n",
    "- How can you fix this to manage another inner and outer merge?\n",
    "- What are the differences for inner and outer merge?"
   ]
  },
  {
   "cell_type": "code",
   "execution_count": null,
   "id": "ade93305",
   "metadata": {},
   "outputs": [],
   "source": [
    "# Your Code here"
   ]
  },
  {
   "cell_type": "markdown",
   "id": "364e667b",
   "metadata": {},
   "source": [
    "Use the DataFrame that now includes NaN values. Drop all rows with NaN-Values"
   ]
  },
  {
   "cell_type": "code",
   "execution_count": null,
   "id": "3fc743ed",
   "metadata": {},
   "outputs": [],
   "source": [
    "# your code here"
   ]
  },
  {
   "cell_type": "markdown",
   "id": "bdbb1ee1",
   "metadata": {},
   "source": [
    "Drop the Column \"Premiere Year\""
   ]
  },
  {
   "cell_type": "code",
   "execution_count": null,
   "id": "5855e24c",
   "metadata": {},
   "outputs": [],
   "source": [
    "# your code here"
   ]
  }
 ],
 "metadata": {
  "kernelspec": {
   "display_name": "Python 3 (ipykernel)",
   "language": "python",
   "name": "python3"
  },
  "language_info": {
   "codemirror_mode": {
    "name": "ipython",
    "version": 3
   },
   "file_extension": ".py",
   "mimetype": "text/x-python",
   "name": "python",
   "nbconvert_exporter": "python",
   "pygments_lexer": "ipython3",
   "version": "3.9.19"
  }
 },
 "nbformat": 4,
 "nbformat_minor": 5
}
