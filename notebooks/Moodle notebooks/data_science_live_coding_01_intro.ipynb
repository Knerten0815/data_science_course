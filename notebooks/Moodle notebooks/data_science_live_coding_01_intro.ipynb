{
 "cells": [
  {
   "cell_type": "markdown",
   "id": "873defb2",
   "metadata": {},
   "source": [
    "# Einführung Data Science - Wiederholung\n",
    "\n",
    "- Wiederholung Bibliothek `os`\n",
    "- Wiederholung Bibliothek `pandas`"
   ]
  },
  {
   "cell_type": "markdown",
   "id": "d6578817",
   "metadata": {},
   "source": [
    "## Die Bibliothek `os`\n",
    "### Curent Working Directory (CWD)"
   ]
  },
  {
   "cell_type": "code",
   "execution_count": null,
   "id": "a36ab7b1",
   "metadata": {},
   "outputs": [],
   "source": [
    "import os\n",
    "\n",
    "# Using os.getcwd() to find the current working directory\n",
    "current_directory = os.getcwd()\n",
    "\n",
    "print(f\"\\nCurrent working directory: {current_directory}\\n\")"
   ]
  },
  {
   "cell_type": "markdown",
   "id": "7fb5da91",
   "metadata": {},
   "source": [
    "### Ordner erstellen `makedirs()`"
   ]
  },
  {
   "cell_type": "code",
   "execution_count": null,
   "id": "3d986c75",
   "metadata": {},
   "outputs": [],
   "source": [
    "# dataset_directory = 'dataset'\n",
    "# os.makedirs(dataset_directory)"
   ]
  },
  {
   "cell_type": "markdown",
   "id": "df17664a",
   "metadata": {},
   "source": [
    "Versuchen wir das nochmal, bekommen wir einen `FileExistsError`:"
   ]
  },
  {
   "cell_type": "code",
   "execution_count": null,
   "id": "29aa2264",
   "metadata": {
    "scrolled": true
   },
   "outputs": [],
   "source": [
    "# dataset_directory = 'dataset'\n",
    "# os.makedirs(dataset_directory)"
   ]
  },
  {
   "cell_type": "markdown",
   "id": "7e878513",
   "metadata": {},
   "source": [
    "Best Practise für dieses Problem:"
   ]
  },
  {
   "cell_type": "code",
   "execution_count": null,
   "id": "576ef12f",
   "metadata": {},
   "outputs": [],
   "source": [
    "dataset_directory = 'dataset'\n",
    "if not os.path.exists(dataset_directory):\n",
    "    os.makedirs(dataset_directory)"
   ]
  },
  {
   "cell_type": "markdown",
   "id": "0284fbba",
   "metadata": {},
   "source": [
    "## Pfade angeben\n",
    "\n",
    "Um eine Datei zu erstellen oder zu öffnen, müssen wir auf geeignete Weise den genauen Pfad angeben.\n",
    "\n",
    "Hier unterscheiden wir zwei unterschiedliche Methoden: \n",
    "- Relative Pfade (also: relativ zum \"aktuellen\" Ordner)\n",
    "- Absolute Pfade (genaue Pfadangabe unabhangig von der aktuellen Position)\n",
    "\n",
    "### Pfade erstellen/verbinden\n",
    "Pfade werden bei Python meistens als einfache String angegeben. Das kombinieren von Pfaden (und Dateinamen) kann allerdings zu einigen Fehlern führen. Am beliebtesten: die Trennzeichen `/` bzw. `\\\\` (beides geht) vs. `\\` (geht nicht).\n",
    "\n",
    "Pfade können kombiniert werden mit `os.path.join()`, z.B. sowas wie `os.path.join(path1, folder1, subfolder1, \"my_file.txt\")`."
   ]
  },
  {
   "cell_type": "markdown",
   "id": "cca4bc65",
   "metadata": {},
   "source": [
    "### Relative Pfade\n",
    "\n",
    "Ein relativer Pfad ist ein Dateipfad, der relativ zum aktuellen Arbeitsverzeichnis (CWD) ist.\n",
    "Wenn Ihr Arbeitsverzeichnis zum Beispiel '/home/user/project' ist, würde ein relativer Pfad von 'dataset/data.csv' auf '/home/user/project/dataset/data.csv' verweisen.\n",
    "\n",
    "Beispiele für relative Pfade\n",
    "Hier sind einige Beispiele für relative Pfade:\n",
    "\n",
    "#### 'file.txt' -> '/home/user/project/file.txt'\n",
    "\n",
    "#### 'dataset/data.csv' -> '/home/user/project/dataset/data.csv'\n",
    "\n",
    "#### '../file.txt' -> '/home/user/file.txt'"
   ]
  },
  {
   "cell_type": "markdown",
   "id": "d65079c6",
   "metadata": {},
   "source": [
    "### Ordner untersuchen `listdirs()`\n",
    "\n",
    "#### Leere Dateien erstellen:\n",
    "Hier erstellen wir leere Dateien einfach mit dem `open` Befehl. Wir nutzen zudem einen absoluten Pfad der über `os.path.join()` erstellt wurde."
   ]
  },
  {
   "cell_type": "code",
   "execution_count": null,
   "id": "52703bb7",
   "metadata": {},
   "outputs": [],
   "source": [
    "cwd = os.getcwd()\n",
    "dataset_directory = \"dataset\"\n",
    "filename = \"sample\"\n",
    "filetype = \".csv\"\n",
    "\n",
    "for i in range(6):\n",
    "    file = f\"{filename}{i}{filetype}\"\n",
    "    path = os.path.join(cwd, dataset_directory, file)\n",
    "    print(f\"{i}. Path: {path}\\n\")\n",
    "          \n",
    "    with open(path, 'w') as creating_new_csv_file: \n",
    "       pass "
   ]
  },
  {
   "cell_type": "markdown",
   "id": "d2c40e9c",
   "metadata": {},
   "source": [
    "### Mini-Aufgabe: Ausgabe aller Dateinamen\n",
    "- Laufe mit einem for-Loop über alle Dateinamen im Ordner und gebe diese mit print aus.\n",
    "- Nutze dazu `os.listdir(dataset_directory)`"
   ]
  },
  {
   "cell_type": "code",
   "execution_count": null,
   "id": "e64fb76d",
   "metadata": {},
   "outputs": [],
   "source": [
    "# Using os.listdir() to list the contents of a directory\n",
    "\n",
    "print(f\"\\nContents of the '{dataset_directory}' directory:\\n\")\n",
    "\n",
    "# Erstelle for loop und gebe alle Dateinamen im Ordner dataset_directory aus"
   ]
  },
  {
   "cell_type": "markdown",
   "id": "937b36b5",
   "metadata": {},
   "source": [
    "---\n",
    "## Die Bibliothek `pandas`\n",
    "\n",
    "### Importieren und Alias-Konvention `pd`"
   ]
  },
  {
   "cell_type": "code",
   "execution_count": null,
   "id": "ac1c4d71",
   "metadata": {},
   "outputs": [],
   "source": [
    "# Importing pandas\n",
    "import pandas as pd\n",
    "\n",
    "# Creating a DataFrame from a dictionary\n",
    "data = {'Name': ['Gisela', 'Ursula', 'Jupp', 'Dieter'],\n",
    "        'Age': [25, 30, 35, 62],\n",
    "        'City': ['Schabernack', 'Faulebutter', 'Welt', 'Oberbillig']} # Echte deutsche Städtenamen"
   ]
  },
  {
   "cell_type": "markdown",
   "id": "59310d22",
   "metadata": {},
   "source": [
    "### Pandas Dataframe aus Dicitionary erstellen"
   ]
  },
  {
   "cell_type": "code",
   "execution_count": null,
   "id": "e623c42e",
   "metadata": {},
   "outputs": [],
   "source": [
    "df = pd.DataFrame(data)"
   ]
  },
  {
   "cell_type": "markdown",
   "id": "c608ad8a",
   "metadata": {},
   "source": [
    "### Spaltenzugriff"
   ]
  },
  {
   "cell_type": "code",
   "execution_count": null,
   "id": "04b603b9",
   "metadata": {},
   "outputs": [],
   "source": [
    "# Accessing a column\n",
    "print(\"\\nNames in the DataFrame:\\n\")\n",
    "print(df['Name'])"
   ]
  },
  {
   "cell_type": "markdown",
   "id": "8f9801e6",
   "metadata": {},
   "source": [
    "### Zeilenzugriff"
   ]
  },
  {
   "cell_type": "code",
   "execution_count": null,
   "id": "554713d2",
   "metadata": {},
   "outputs": [],
   "source": [
    "# Default Index 0, 1, 2....\n",
    "print(\"\\nDefault Index:\\n\")\n",
    "print(df)"
   ]
  },
  {
   "cell_type": "code",
   "execution_count": null,
   "id": "f9717b1c",
   "metadata": {},
   "outputs": [],
   "source": [
    "# Selecting a row by index position\n",
    "\n",
    "print(df.iloc[1])"
   ]
  },
  {
   "cell_type": "code",
   "execution_count": null,
   "id": "b503717f",
   "metadata": {},
   "outputs": [],
   "source": [
    "# Set your own Index\n",
    "my_index = [\"A\", \"B\", \"C\"]\n",
    "df_with_index = pd.DataFrame(data, index=my_index)\n",
    "\n",
    "print(\"\\nMy Index:\\n\")\n",
    "print(df_with_index)"
   ]
  },
  {
   "cell_type": "code",
   "execution_count": null,
   "id": "ddc23001",
   "metadata": {
    "scrolled": true
   },
   "outputs": [],
   "source": [
    "# Selecting a row by index label\n",
    "print(\"\\nRow with index label C:\\n\")\n",
    "print(df_with_index.loc[\"C\"])"
   ]
  },
  {
   "cell_type": "markdown",
   "id": "6bec9bd9",
   "metadata": {},
   "source": [
    "### Wert setzen"
   ]
  },
  {
   "cell_type": "code",
   "execution_count": null,
   "id": "b29c6adb",
   "metadata": {},
   "outputs": [],
   "source": [
    "# Modifying a value\n",
    "df.loc[1, 'Age'] = 31\n",
    "print(\"\\nModified DataFrame:\\n\")\n",
    "print(df)"
   ]
  },
  {
   "cell_type": "markdown",
   "id": "00534ddc",
   "metadata": {},
   "source": [
    "### Dataframe untersuchen (Basics)"
   ]
  },
  {
   "cell_type": "code",
   "execution_count": null,
   "id": "459ceb57",
   "metadata": {},
   "outputs": [],
   "source": [
    "# First two rows of the DataFrame\n",
    "print(\"\\nFirst two rows:\\n\")\n",
    "print(df.head(2))\n",
    "\n",
    "# Last two rows of the DataFrame\n",
    "print(\"\\nLast two rows:\\n\")\n",
    "print(df.tail(2))"
   ]
  },
  {
   "cell_type": "markdown",
   "id": "44d8ae3f",
   "metadata": {},
   "source": [
    "### Was ist der Mittelwert der Spalte `Age`?"
   ]
  },
  {
   "cell_type": "code",
   "execution_count": null,
   "id": "a5245d50",
   "metadata": {
    "scrolled": true
   },
   "outputs": [],
   "source": [
    "# Summary statistics for the DataFrame\n",
    "print(\"\\nSummary statistics:\\n\")\n",
    "print(df.describe())"
   ]
  },
  {
   "cell_type": "code",
   "execution_count": null,
   "id": "928a2270",
   "metadata": {},
   "outputs": [],
   "source": [
    "# Basic information on the DataFrame\n",
    "print(\"\\nBasic information:\\n\")\n",
    "print(df.info())"
   ]
  },
  {
   "cell_type": "markdown",
   "id": "07e2f2f1",
   "metadata": {},
   "source": [
    "### Weitere Daten hinzufügen"
   ]
  },
  {
   "cell_type": "markdown",
   "id": "40ecb5ef",
   "metadata": {},
   "source": [
    "#### Wichtiger Hinweis! Wenn man ein DataFrame aus einem Dictionary erstellen will und es zu den Keys nur einen Wert gibt, müssen diese dennoch in einer Liste stehen"
   ]
  },
  {
   "cell_type": "code",
   "execution_count": null,
   "id": "b3eab116",
   "metadata": {},
   "outputs": [],
   "source": [
    "# New person's data\n",
    "new_data = {\n",
    "    'Name': ['Lotta'],\n",
    "    'Age': [94],\n",
    "    'City': ['Hamburg']\n",
    "}\n",
    "\n",
    "df_new = pd.DataFrame(new_data)\n",
    "\n",
    "# Appending the new person to the existing DataFrame\n",
    "updated_df = pd.concat([df, df_new])\n",
    "\n",
    "# Updated DataFrame with the new person added\n",
    "print(\"\\nUpdated DataFrame with new person:\\n\")\n",
    "print(updated_df)"
   ]
  },
  {
   "cell_type": "markdown",
   "id": "0f2eb60d",
   "metadata": {},
   "source": [
    "### Index ignorieren"
   ]
  },
  {
   "cell_type": "code",
   "execution_count": null,
   "id": "2fd5068e",
   "metadata": {},
   "outputs": [],
   "source": [
    "# Creating a DataFrame from a dictionary\n",
    "data = {'Name': ['Gisela', 'Ursula', 'Jupp', 'Dieter'],\n",
    "        'Age': [25, 30, 35, 62],\n",
    "        'City': ['Schabernack', 'Faulebutter', 'Welt', 'Oberbillig']}\n",
    "\n",
    "df = pd.DataFrame(data)\n",
    "\n",
    "# New person's data\n",
    "new_data = {\n",
    "    'Name': ['Lotta'],\n",
    "    'Age': [94],\n",
    "    'City': ['Hamburg']\n",
    "}\n",
    "\n",
    "df_new = pd.DataFrame(new_data)\n",
    "\n",
    "# Appending the new person to the existing DataFrame\n",
    "updated_df = pd.concat([df, df_new], ignore_index=True)\n",
    "\n",
    "# Updated DataFrame with the new person added\n",
    "print(\"\\nUpdated DataFrame with new person:\")\n",
    "print(updated_df)"
   ]
  },
  {
   "cell_type": "markdown",
   "id": "94caea71",
   "metadata": {},
   "source": [
    "### Weitere Spalte hinzufügen"
   ]
  },
  {
   "cell_type": "code",
   "execution_count": null,
   "id": "ef65b90c",
   "metadata": {},
   "outputs": [],
   "source": [
    "new_column = {\n",
    "    \"Height\": [160, 170, 190, 150]\n",
    "}\n",
    "\n",
    "df_new_column = pd.DataFrame(new_column)\n",
    "\n",
    "# Concat along the column axis by choosing axis=1\n",
    "updated_df = pd.concat([updated_df, df_new_column], axis=1)\n",
    "\n",
    "print(updated_df)"
   ]
  },
  {
   "cell_type": "code",
   "execution_count": null,
   "id": "ceee27c4",
   "metadata": {},
   "outputs": [],
   "source": [
    "# eine Alternative ohne pd.concat wäre\n",
    "updated_df[\"Height\"] = [160, 170, 190, 150]\n",
    "updated_df"
   ]
  },
  {
   "cell_type": "markdown",
   "id": "d5c7b131",
   "metadata": {},
   "source": [
    "### CSV Files schreiben und lesen mit Pandas"
   ]
  },
  {
   "cell_type": "code",
   "execution_count": null,
   "id": "1e73047c",
   "metadata": {},
   "outputs": [],
   "source": [
    "# Creating simple sample data\n",
    "sample_data = {\n",
    "    'Name': ['John', 'Alice', 'Bob', 'Cathy', 'David'],\n",
    "    'Age': [32, 24, 28, 35, 30],\n",
    "    'City': ['New York', 'San Francisco', 'Los Angeles', 'Chicago', 'Austin']\n",
    "}\n",
    "\n",
    "sample_df = pd.DataFrame(sample_data)\n",
    "\n",
    "# Save the sample DataFrame as a CSV file in the \"dataset\" folder\n",
    "sample_df.to_csv('dataset/sample_data.csv', index=False)"
   ]
  },
  {
   "cell_type": "markdown",
   "id": "e221c5d8",
   "metadata": {},
   "source": [
    "### Mini-Aufgabe: Die gerade geschriebene Datei wieder einlesen!"
   ]
  },
  {
   "cell_type": "code",
   "execution_count": null,
   "id": "444173d2",
   "metadata": {},
   "outputs": [],
   "source": [
    "# Read the CSV file we just saved into a new DataFrame\n",
    "loaded_df = pd.read_csv(...your code here...)\n",
    "print(\"\\nLoaded DataFrame from CSV:\\n\")\n",
    "print(loaded_df)\n",
    "\n",
    "# Exercise: Read a CSV file from the \"dataset\" folder and save a modified version\n",
    "# In a new code cell, read a CSV file from the \"dataset\" folder, modify the DataFrame,\n",
    "# and save the modified DataFrame as a new CSV file."
   ]
  },
  {
   "cell_type": "markdown",
   "id": "93cec4e4",
   "metadata": {},
   "source": [
    "### Kurzer Einblick in weitere Pandas Funktionen"
   ]
  },
  {
   "cell_type": "code",
   "execution_count": null,
   "id": "6e1ef75f",
   "metadata": {},
   "outputs": [],
   "source": [
    "# Sorting a DataFrame\n",
    "\n",
    "sorted_df = sample_df.sort_values(by=...add column name here...)\n",
    "print(\"\\nSorted DataFrame by age:\\n\")\n",
    "print(sorted_df)"
   ]
  },
  {
   "cell_type": "code",
   "execution_count": null,
   "id": "e7f0dc93",
   "metadata": {},
   "outputs": [],
   "source": [
    "# Filtering a DataFrame\n",
    "\n",
    "mask = sample_df['Age'] > 30\n",
    "filtered_df = sample_df[mask]\n",
    "print(\"\\nFiltered DataFrame with ages greater than 30:\\n\")\n",
    "print(filtered_df)"
   ]
  },
  {
   "cell_type": "code",
   "execution_count": null,
   "id": "c4e10209",
   "metadata": {},
   "outputs": [],
   "source": [
    "# Renaming columns in a DataFrame\n",
    "\n",
    "renamed_df = sample_df.rename(columns={'Name': 'Full Name', 'Age': 'Age in Years', 'City': 'Hometown'})\n",
    "print(\"\\nRenamed columns in DataFrame:\\n\")\n",
    "print(renamed_df)"
   ]
  },
  {
   "cell_type": "code",
   "execution_count": null,
   "id": "a077990b",
   "metadata": {},
   "outputs": [],
   "source": [
    "# Adding a new column to a DataFrame\n",
    "\n",
    "sample_df['Country'] = 'USA'\n",
    "print(\"\\nDataFrame with a new column 'Country':\\n\")\n",
    "print(sample_df)"
   ]
  },
  {
   "cell_type": "code",
   "execution_count": null,
   "id": "98135946",
   "metadata": {},
   "outputs": [],
   "source": [
    "# Dropping a column from a DataFrame\n",
    "\n",
    "dropped_df = sample_df.drop('Country', axis=1)\n",
    "print(\"\\nDataFrame with the 'Country' column dropped:\\n\")\n",
    "print(dropped_df)"
   ]
  }
 ],
 "metadata": {
  "kernelspec": {
   "display_name": "Python 3 (ipykernel)",
   "language": "python",
   "name": "python3"
  },
  "language_info": {
   "codemirror_mode": {
    "name": "ipython",
    "version": 3
   },
   "file_extension": ".py",
   "mimetype": "text/x-python",
   "name": "python",
   "nbconvert_exporter": "python",
   "pygments_lexer": "ipython3",
   "version": "3.9.18"
  }
 },
 "nbformat": 4,
 "nbformat_minor": 5
}
