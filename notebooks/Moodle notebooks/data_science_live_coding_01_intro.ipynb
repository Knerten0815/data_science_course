{
 "cells": [
  {
   "cell_type": "markdown",
   "id": "873defb2",
   "metadata": {},
   "source": [
    "# Einführung Data Science - Wiederholung\n",
    "\n",
    "- Wiederholung Bibliothek `os`\n",
    "- Wiederholung Bibliothek `pandas`"
   ]
  },
  {
   "cell_type": "markdown",
   "id": "d6578817",
   "metadata": {},
   "source": [
    "## Die Bibliothek `os`\n",
    "### Curent Working Directory (CWD)"
   ]
  },
  {
   "cell_type": "code",
   "execution_count": 1,
   "id": "a36ab7b1",
   "metadata": {},
   "outputs": [
    {
     "name": "stdout",
     "output_type": "stream",
     "text": [
      "\n",
      "Current working directory: c:\\Users\\kevin\\OneDrive - Hochschule Düsseldorf\\MMI\\Data Science\\data_science_course\\notebooks\\Moodle notebooks\n",
      "\n"
     ]
    }
   ],
   "source": [
    "import os\n",
    "\n",
    "# Using os.getcwd() to find the current working directory\n",
    "current_directory = os.getcwd()\n",
    "\n",
    "print(f\"\\nCurrent working directory: {current_directory}\\n\")"
   ]
  },
  {
   "cell_type": "markdown",
   "id": "7fb5da91",
   "metadata": {},
   "source": [
    "### Ordner erstellen `makedirs()`"
   ]
  },
  {
   "cell_type": "code",
   "execution_count": null,
   "id": "3d986c75",
   "metadata": {},
   "outputs": [],
   "source": [
    "# dataset_directory = 'dataset'\n",
    "# os.makedirs(dataset_directory)"
   ]
  },
  {
   "cell_type": "markdown",
   "id": "df17664a",
   "metadata": {},
   "source": [
    "Versuchen wir das nochmal, bekommen wir einen `FileExistsError`:"
   ]
  },
  {
   "cell_type": "code",
   "execution_count": null,
   "id": "29aa2264",
   "metadata": {
    "scrolled": true
   },
   "outputs": [],
   "source": [
    "# dataset_directory = 'dataset'\n",
    "# os.makedirs(dataset_directory)"
   ]
  },
  {
   "cell_type": "markdown",
   "id": "7e878513",
   "metadata": {},
   "source": [
    "Best Practise für dieses Problem:"
   ]
  },
  {
   "cell_type": "code",
   "execution_count": 2,
   "id": "576ef12f",
   "metadata": {},
   "outputs": [],
   "source": [
    "dataset_directory = 'dataset'\n",
    "if not os.path.exists(dataset_directory):\n",
    "    os.makedirs(dataset_directory)"
   ]
  },
  {
   "cell_type": "markdown",
   "id": "0284fbba",
   "metadata": {},
   "source": [
    "## Pfade angeben\n",
    "\n",
    "Um eine Datei zu erstellen oder zu öffnen, müssen wir auf geeignete Weise den genauen Pfad angeben.\n",
    "\n",
    "Hier unterscheiden wir zwei unterschiedliche Methoden: \n",
    "- Relative Pfade (also: relativ zum \"aktuellen\" Ordner)\n",
    "- Absolute Pfade (genaue Pfadangabe unabhangig von der aktuellen Position)\n",
    "\n",
    "### Pfade erstellen/verbinden\n",
    "Pfade werden bei Python meistens als einfache String angegeben. Das kombinieren von Pfaden (und Dateinamen) kann allerdings zu einigen Fehlern führen. Am beliebtesten: die Trennzeichen `/` bzw. `\\\\` (beides geht) vs. `\\` (geht nicht).\n",
    "\n",
    "Pfade können kombiniert werden mit `os.path.join()`, z.B. sowas wie `os.path.join(path1, folder1, subfolder1, \"my_file.txt\")`."
   ]
  },
  {
   "cell_type": "markdown",
   "id": "cca4bc65",
   "metadata": {},
   "source": [
    "### Relative Pfade\n",
    "\n",
    "Ein relativer Pfad ist ein Dateipfad, der relativ zum aktuellen Arbeitsverzeichnis (CWD) ist.\n",
    "Wenn Ihr Arbeitsverzeichnis zum Beispiel '/home/user/project' ist, würde ein relativer Pfad von 'dataset/data.csv' auf '/home/user/project/dataset/data.csv' verweisen.\n",
    "\n",
    "Beispiele für relative Pfade\n",
    "Hier sind einige Beispiele für relative Pfade:\n",
    "\n",
    "#### 'file.txt' -> '/home/user/project/file.txt'\n",
    "\n",
    "#### 'dataset/data.csv' -> '/home/user/project/dataset/data.csv'\n",
    "\n",
    "#### '../file.txt' -> '/home/user/file.txt'"
   ]
  },
  {
   "cell_type": "markdown",
   "id": "d65079c6",
   "metadata": {},
   "source": [
    "### Ordner untersuchen `listdirs()`\n",
    "\n",
    "#### Leere Dateien erstellen:\n",
    "Hier erstellen wir leere Dateien einfach mit dem `open` Befehl. Wir nutzen zudem einen absoluten Pfad der über `os.path.join()` erstellt wurde."
   ]
  },
  {
   "cell_type": "code",
   "execution_count": 4,
   "id": "52703bb7",
   "metadata": {},
   "outputs": [
    {
     "name": "stdout",
     "output_type": "stream",
     "text": [
      "0. Path: c:\\Users\\kevin\\OneDrive - Hochschule Düsseldorf\\MMI\\Data Science\\data_science_course\\notebooks\\Moodle notebooks\\dataset\\sample0.csv\n",
      "\n",
      "1. Path: c:\\Users\\kevin\\OneDrive - Hochschule Düsseldorf\\MMI\\Data Science\\data_science_course\\notebooks\\Moodle notebooks\\dataset\\sample1.csv\n",
      "\n",
      "2. Path: c:\\Users\\kevin\\OneDrive - Hochschule Düsseldorf\\MMI\\Data Science\\data_science_course\\notebooks\\Moodle notebooks\\dataset\\sample2.csv\n",
      "\n",
      "3. Path: c:\\Users\\kevin\\OneDrive - Hochschule Düsseldorf\\MMI\\Data Science\\data_science_course\\notebooks\\Moodle notebooks\\dataset\\sample3.csv\n",
      "\n",
      "4. Path: c:\\Users\\kevin\\OneDrive - Hochschule Düsseldorf\\MMI\\Data Science\\data_science_course\\notebooks\\Moodle notebooks\\dataset\\sample4.csv\n",
      "\n",
      "5. Path: c:\\Users\\kevin\\OneDrive - Hochschule Düsseldorf\\MMI\\Data Science\\data_science_course\\notebooks\\Moodle notebooks\\dataset\\sample5.csv\n",
      "\n"
     ]
    }
   ],
   "source": [
    "cwd = os.getcwd()\n",
    "dataset_directory = \"dataset\"\n",
    "filename = \"sample\"\n",
    "filetype = \".csv\"\n",
    "\n",
    "for i in range(6):\n",
    "    file = f\"{filename}{i}{filetype}\"\n",
    "    path = os.path.join(cwd, dataset_directory, file)\n",
    "    print(f\"{i}. Path: {path}\\n\")\n",
    "\n",
    "    with open(path, 'w') as creating_new_csv_file: \n",
    "        pass "
   ]
  },
  {
   "cell_type": "markdown",
   "id": "d2c40e9c",
   "metadata": {},
   "source": [
    "### Mini-Aufgabe: Ausgabe aller Dateinamen\n",
    "- Laufe mit einem for-Loop über alle Dateinamen im Ordner und gebe diese mit print aus.\n",
    "- Nutze dazu `os.listdir(dataset_directory)`"
   ]
  },
  {
   "cell_type": "code",
   "execution_count": 6,
   "id": "e64fb76d",
   "metadata": {},
   "outputs": [
    {
     "name": "stdout",
     "output_type": "stream",
     "text": [
      "\n",
      "Contents of the 'dataset' directory:\n",
      "\n",
      "sample0.csv\n",
      "sample1.csv\n",
      "sample2.csv\n",
      "sample3.csv\n",
      "sample4.csv\n",
      "sample5.csv\n"
     ]
    }
   ],
   "source": [
    "# Using os.listdir() to list the contents of a directory\n",
    "\n",
    "print(f\"\\nContents of the '{dataset_directory}' directory:\\n\")\n",
    "\n",
    "# Erstelle for loop und gebe alle Dateinamen im Ordner dataset_directory aus\n",
    "\n",
    "for file in os.listdir(dataset_directory):\n",
    "    print(file)"
   ]
  },
  {
   "cell_type": "markdown",
   "id": "937b36b5",
   "metadata": {},
   "source": [
    "---\n",
    "## Die Bibliothek `pandas`\n",
    "\n",
    "### Importieren und Alias-Konvention `pd`"
   ]
  },
  {
   "cell_type": "code",
   "execution_count": 7,
   "id": "ac1c4d71",
   "metadata": {},
   "outputs": [],
   "source": [
    "# Importing pandas\n",
    "import pandas as pd\n",
    "\n",
    "# Creating a DataFrame from a dictionary\n",
    "data = {'Name': ['Gisela', 'Ursula', 'Jupp', 'Dieter'],\n",
    "        'Age': [25, 30, 35, 62],\n",
    "        'City': ['Schabernack', 'Faulebutter', 'Welt', 'Oberbillig']} # Echte deutsche Städtenamen"
   ]
  },
  {
   "cell_type": "markdown",
   "id": "59310d22",
   "metadata": {},
   "source": [
    "### Pandas Dataframe aus Dicitionary erstellen"
   ]
  },
  {
   "cell_type": "code",
   "execution_count": 8,
   "id": "e623c42e",
   "metadata": {},
   "outputs": [
    {
     "data": {
      "text/html": [
       "<div>\n",
       "<style scoped>\n",
       "    .dataframe tbody tr th:only-of-type {\n",
       "        vertical-align: middle;\n",
       "    }\n",
       "\n",
       "    .dataframe tbody tr th {\n",
       "        vertical-align: top;\n",
       "    }\n",
       "\n",
       "    .dataframe thead th {\n",
       "        text-align: right;\n",
       "    }\n",
       "</style>\n",
       "<table border=\"1\" class=\"dataframe\">\n",
       "  <thead>\n",
       "    <tr style=\"text-align: right;\">\n",
       "      <th></th>\n",
       "      <th>Name</th>\n",
       "      <th>Age</th>\n",
       "      <th>City</th>\n",
       "    </tr>\n",
       "  </thead>\n",
       "  <tbody>\n",
       "    <tr>\n",
       "      <th>0</th>\n",
       "      <td>Gisela</td>\n",
       "      <td>25</td>\n",
       "      <td>Schabernack</td>\n",
       "    </tr>\n",
       "    <tr>\n",
       "      <th>1</th>\n",
       "      <td>Ursula</td>\n",
       "      <td>30</td>\n",
       "      <td>Faulebutter</td>\n",
       "    </tr>\n",
       "    <tr>\n",
       "      <th>2</th>\n",
       "      <td>Jupp</td>\n",
       "      <td>35</td>\n",
       "      <td>Welt</td>\n",
       "    </tr>\n",
       "    <tr>\n",
       "      <th>3</th>\n",
       "      <td>Dieter</td>\n",
       "      <td>62</td>\n",
       "      <td>Oberbillig</td>\n",
       "    </tr>\n",
       "  </tbody>\n",
       "</table>\n",
       "</div>"
      ],
      "text/plain": [
       "     Name  Age         City\n",
       "0  Gisela   25  Schabernack\n",
       "1  Ursula   30  Faulebutter\n",
       "2    Jupp   35         Welt\n",
       "3  Dieter   62   Oberbillig"
      ]
     },
     "execution_count": 8,
     "metadata": {},
     "output_type": "execute_result"
    }
   ],
   "source": [
    "df = pd.DataFrame(data)\n",
    "df"
   ]
  },
  {
   "cell_type": "markdown",
   "id": "c608ad8a",
   "metadata": {},
   "source": [
    "### Spaltenzugriff"
   ]
  },
  {
   "cell_type": "code",
   "execution_count": 9,
   "id": "04b603b9",
   "metadata": {},
   "outputs": [
    {
     "name": "stdout",
     "output_type": "stream",
     "text": [
      "\n",
      "Names in the DataFrame:\n",
      "\n",
      "0    Gisela\n",
      "1    Ursula\n",
      "2      Jupp\n",
      "3    Dieter\n",
      "Name: Name, dtype: object\n"
     ]
    }
   ],
   "source": [
    "# Accessing a column\n",
    "print(\"\\nNames in the DataFrame:\\n\")\n",
    "print(df['Name'])"
   ]
  },
  {
   "cell_type": "markdown",
   "id": "8f9801e6",
   "metadata": {},
   "source": [
    "### Zeilenzugriff"
   ]
  },
  {
   "cell_type": "code",
   "execution_count": 10,
   "id": "554713d2",
   "metadata": {},
   "outputs": [
    {
     "name": "stdout",
     "output_type": "stream",
     "text": [
      "\n",
      "Default Index:\n",
      "\n",
      "     Name  Age         City\n",
      "0  Gisela   25  Schabernack\n",
      "1  Ursula   30  Faulebutter\n",
      "2    Jupp   35         Welt\n",
      "3  Dieter   62   Oberbillig\n"
     ]
    }
   ],
   "source": [
    "# Default Index 0, 1, 2....\n",
    "print(\"\\nDefault Index:\\n\")\n",
    "print(df)"
   ]
  },
  {
   "cell_type": "code",
   "execution_count": 11,
   "id": "f9717b1c",
   "metadata": {},
   "outputs": [
    {
     "name": "stdout",
     "output_type": "stream",
     "text": [
      "Name         Ursula\n",
      "Age              30\n",
      "City    Faulebutter\n",
      "Name: 1, dtype: object\n"
     ]
    }
   ],
   "source": [
    "# Selecting a row by index position\n",
    "\n",
    "print(df.iloc[1])"
   ]
  },
  {
   "cell_type": "code",
   "execution_count": 13,
   "id": "b503717f",
   "metadata": {},
   "outputs": [
    {
     "name": "stdout",
     "output_type": "stream",
     "text": [
      "\n",
      "My Index:\n",
      "\n",
      "     Name  Age         City\n",
      "A  Gisela   25  Schabernack\n",
      "B  Ursula   30  Faulebutter\n",
      "C    Jupp   35         Welt\n",
      "D  Dieter   62   Oberbillig\n"
     ]
    }
   ],
   "source": [
    "# Set your own Index\n",
    "my_index = [\"A\", \"B\", \"C\", \"D\"]\n",
    "df_with_index = pd.DataFrame(data, index=my_index)\n",
    "\n",
    "print(\"\\nMy Index:\\n\")\n",
    "print(df_with_index)"
   ]
  },
  {
   "cell_type": "code",
   "execution_count": 14,
   "id": "ddc23001",
   "metadata": {
    "scrolled": true
   },
   "outputs": [
    {
     "name": "stdout",
     "output_type": "stream",
     "text": [
      "\n",
      "Row with index label C:\n",
      "\n",
      "Name    Jupp\n",
      "Age       35\n",
      "City    Welt\n",
      "Name: C, dtype: object\n"
     ]
    }
   ],
   "source": [
    "# Selecting a row by index label\n",
    "print(\"\\nRow with index label C:\\n\")\n",
    "print(df_with_index.loc[\"C\"])"
   ]
  },
  {
   "cell_type": "markdown",
   "id": "6bec9bd9",
   "metadata": {},
   "source": [
    "### Wert setzen"
   ]
  },
  {
   "cell_type": "code",
   "execution_count": 15,
   "id": "b29c6adb",
   "metadata": {},
   "outputs": [
    {
     "name": "stdout",
     "output_type": "stream",
     "text": [
      "\n",
      "Modified DataFrame:\n",
      "\n",
      "     Name  Age         City\n",
      "0  Gisela   25  Schabernack\n",
      "1  Ursula   31  Faulebutter\n",
      "2    Jupp   35         Welt\n",
      "3  Dieter   62   Oberbillig\n"
     ]
    }
   ],
   "source": [
    "# Modifying a value\n",
    "df.loc[1, 'Age'] = 31\n",
    "print(\"\\nModified DataFrame:\\n\")\n",
    "print(df)"
   ]
  },
  {
   "cell_type": "markdown",
   "id": "00534ddc",
   "metadata": {},
   "source": [
    "### Dataframe untersuchen (Basics)"
   ]
  },
  {
   "cell_type": "code",
   "execution_count": 16,
   "id": "459ceb57",
   "metadata": {},
   "outputs": [
    {
     "name": "stdout",
     "output_type": "stream",
     "text": [
      "\n",
      "First two rows:\n",
      "\n",
      "     Name  Age         City\n",
      "0  Gisela   25  Schabernack\n",
      "1  Ursula   31  Faulebutter\n",
      "\n",
      "Last two rows:\n",
      "\n",
      "     Name  Age        City\n",
      "2    Jupp   35        Welt\n",
      "3  Dieter   62  Oberbillig\n"
     ]
    }
   ],
   "source": [
    "# First two rows of the DataFrame\n",
    "print(\"\\nFirst two rows:\\n\")\n",
    "print(df.head(2))\n",
    "\n",
    "# Last two rows of the DataFrame\n",
    "print(\"\\nLast two rows:\\n\")\n",
    "print(df.tail(2))"
   ]
  },
  {
   "cell_type": "markdown",
   "id": "44d8ae3f",
   "metadata": {},
   "source": [
    "### Was ist der Mittelwert der Spalte `Age`?"
   ]
  },
  {
   "cell_type": "code",
   "execution_count": 17,
   "id": "a5245d50",
   "metadata": {
    "scrolled": true
   },
   "outputs": [
    {
     "name": "stdout",
     "output_type": "stream",
     "text": [
      "\n",
      "Summary statistics:\n",
      "\n",
      "             Age\n",
      "count   4.000000\n",
      "mean   38.250000\n",
      "std    16.357975\n",
      "min    25.000000\n",
      "25%    29.500000\n",
      "50%    33.000000\n",
      "75%    41.750000\n",
      "max    62.000000\n"
     ]
    }
   ],
   "source": [
    "# Summary statistics for the DataFrame\n",
    "print(\"\\nSummary statistics:\\n\")\n",
    "print(df.describe())"
   ]
  },
  {
   "cell_type": "code",
   "execution_count": 18,
   "id": "928a2270",
   "metadata": {},
   "outputs": [
    {
     "name": "stdout",
     "output_type": "stream",
     "text": [
      "\n",
      "Basic information:\n",
      "\n",
      "<class 'pandas.core.frame.DataFrame'>\n",
      "RangeIndex: 4 entries, 0 to 3\n",
      "Data columns (total 3 columns):\n",
      " #   Column  Non-Null Count  Dtype \n",
      "---  ------  --------------  ----- \n",
      " 0   Name    4 non-null      object\n",
      " 1   Age     4 non-null      int64 \n",
      " 2   City    4 non-null      object\n",
      "dtypes: int64(1), object(2)\n",
      "memory usage: 224.0+ bytes\n",
      "None\n"
     ]
    }
   ],
   "source": [
    "# Basic information on the DataFrame\n",
    "print(\"\\nBasic information:\\n\")\n",
    "print(df.info())"
   ]
  },
  {
   "cell_type": "markdown",
   "id": "07e2f2f1",
   "metadata": {},
   "source": [
    "### Weitere Daten hinzufügen"
   ]
  },
  {
   "cell_type": "markdown",
   "id": "40ecb5ef",
   "metadata": {},
   "source": [
    "#### Wichtiger Hinweis! Wenn man ein DataFrame aus einem Dictionary erstellen will und es zu den Keys nur einen Wert gibt, müssen diese dennoch in einer Liste stehen"
   ]
  },
  {
   "cell_type": "code",
   "execution_count": 19,
   "id": "b3eab116",
   "metadata": {},
   "outputs": [
    {
     "name": "stdout",
     "output_type": "stream",
     "text": [
      "\n",
      "Updated DataFrame with new person:\n",
      "\n",
      "     Name  Age         City\n",
      "0  Gisela   25  Schabernack\n",
      "1  Ursula   31  Faulebutter\n",
      "2    Jupp   35         Welt\n",
      "3  Dieter   62   Oberbillig\n",
      "0   Lotta   94      Hamburg\n"
     ]
    }
   ],
   "source": [
    "# New person's data\n",
    "new_data = {\n",
    "    'Name': ['Lotta'],\n",
    "    'Age': [94],\n",
    "    'City': ['Hamburg']\n",
    "}\n",
    "\n",
    "df_new = pd.DataFrame(new_data)\n",
    "\n",
    "# Appending the new person to the existing DataFrame\n",
    "updated_df = pd.concat([df, df_new])\n",
    "\n",
    "# Updated DataFrame with the new person added\n",
    "print(\"\\nUpdated DataFrame with new person:\\n\")\n",
    "print(updated_df)"
   ]
  },
  {
   "cell_type": "code",
   "execution_count": 22,
   "id": "df21bd7a",
   "metadata": {},
   "outputs": [
    {
     "data": {
      "text/plain": [
       "Name         Gisela\n",
       "Age              25\n",
       "City    Schabernack\n",
       "Name: 0, dtype: object"
      ]
     },
     "execution_count": 22,
     "metadata": {},
     "output_type": "execute_result"
    }
   ],
   "source": [
    "updated_df.loc[0]"
   ]
  },
  {
   "cell_type": "markdown",
   "id": "0f2eb60d",
   "metadata": {},
   "source": [
    "### Index ignorieren"
   ]
  },
  {
   "cell_type": "code",
   "execution_count": 20,
   "id": "2fd5068e",
   "metadata": {},
   "outputs": [
    {
     "name": "stdout",
     "output_type": "stream",
     "text": [
      "\n",
      "Updated DataFrame with new person:\n",
      "     Name  Age         City\n",
      "0  Gisela   25  Schabernack\n",
      "1  Ursula   30  Faulebutter\n",
      "2    Jupp   35         Welt\n",
      "3  Dieter   62   Oberbillig\n",
      "4   Lotta   94      Hamburg\n"
     ]
    }
   ],
   "source": [
    "# Creating a DataFrame from a dictionary\n",
    "data = {'Name': ['Gisela', 'Ursula', 'Jupp', 'Dieter'],\n",
    "        'Age': [25, 30, 35, 62],\n",
    "        'City': ['Schabernack', 'Faulebutter', 'Welt', 'Oberbillig']}\n",
    "\n",
    "df = pd.DataFrame(data)\n",
    "\n",
    "# New person's data\n",
    "new_data = {\n",
    "    'Name': ['Lotta'],\n",
    "    'Age': [94],\n",
    "    'City': ['Hamburg']\n",
    "}\n",
    "\n",
    "df_new = pd.DataFrame(new_data)\n",
    "\n",
    "# Appending the new person to the existing DataFrame\n",
    "updated_df = pd.concat([df, df_new], ignore_index=True)\n",
    "\n",
    "# Updated DataFrame with the new person added\n",
    "print(\"\\nUpdated DataFrame with new person:\")\n",
    "print(updated_df)"
   ]
  },
  {
   "cell_type": "markdown",
   "id": "94caea71",
   "metadata": {},
   "source": [
    "### Weitere Spalte hinzufügen"
   ]
  },
  {
   "cell_type": "code",
   "execution_count": 23,
   "id": "ef65b90c",
   "metadata": {},
   "outputs": [
    {
     "name": "stdout",
     "output_type": "stream",
     "text": [
      "     Name  Age         City  Height\n",
      "0  Gisela   25  Schabernack   160.0\n",
      "1  Ursula   30  Faulebutter   170.0\n",
      "2    Jupp   35         Welt   190.0\n",
      "3  Dieter   62   Oberbillig   150.0\n",
      "4   Lotta   94      Hamburg     NaN\n"
     ]
    }
   ],
   "source": [
    "new_column = {\n",
    "    \"Height\": [160, 170, 190, 150]\n",
    "}\n",
    "\n",
    "df_new_column = pd.DataFrame(new_column)\n",
    "\n",
    "# Concat along the column axis by choosing axis=1\n",
    "updated_df = pd.concat([updated_df, df_new_column], axis=1)\n",
    "\n",
    "print(updated_df)"
   ]
  },
  {
   "cell_type": "code",
   "execution_count": 28,
   "id": "ceee27c4",
   "metadata": {},
   "outputs": [
    {
     "data": {
      "text/html": [
       "<div>\n",
       "<style scoped>\n",
       "    .dataframe tbody tr th:only-of-type {\n",
       "        vertical-align: middle;\n",
       "    }\n",
       "\n",
       "    .dataframe tbody tr th {\n",
       "        vertical-align: top;\n",
       "    }\n",
       "\n",
       "    .dataframe thead th {\n",
       "        text-align: right;\n",
       "    }\n",
       "</style>\n",
       "<table border=\"1\" class=\"dataframe\">\n",
       "  <thead>\n",
       "    <tr style=\"text-align: right;\">\n",
       "      <th></th>\n",
       "      <th>Name</th>\n",
       "      <th>Age</th>\n",
       "      <th>City</th>\n",
       "      <th>Height</th>\n",
       "    </tr>\n",
       "  </thead>\n",
       "  <tbody>\n",
       "    <tr>\n",
       "      <th>0</th>\n",
       "      <td>Gisela</td>\n",
       "      <td>25</td>\n",
       "      <td>Schabernack</td>\n",
       "      <td>160</td>\n",
       "    </tr>\n",
       "    <tr>\n",
       "      <th>1</th>\n",
       "      <td>Ursula</td>\n",
       "      <td>30</td>\n",
       "      <td>Faulebutter</td>\n",
       "      <td>170</td>\n",
       "    </tr>\n",
       "    <tr>\n",
       "      <th>2</th>\n",
       "      <td>Jupp</td>\n",
       "      <td>35</td>\n",
       "      <td>Welt</td>\n",
       "      <td>190</td>\n",
       "    </tr>\n",
       "    <tr>\n",
       "      <th>3</th>\n",
       "      <td>Dieter</td>\n",
       "      <td>62</td>\n",
       "      <td>Oberbillig</td>\n",
       "      <td>150</td>\n",
       "    </tr>\n",
       "    <tr>\n",
       "      <th>4</th>\n",
       "      <td>Lotta</td>\n",
       "      <td>94</td>\n",
       "      <td>Hamburg</td>\n",
       "      <td>12</td>\n",
       "    </tr>\n",
       "  </tbody>\n",
       "</table>\n",
       "</div>"
      ],
      "text/plain": [
       "     Name  Age         City  Height\n",
       "0  Gisela   25  Schabernack     160\n",
       "1  Ursula   30  Faulebutter     170\n",
       "2    Jupp   35         Welt     190\n",
       "3  Dieter   62   Oberbillig     150\n",
       "4   Lotta   94      Hamburg      12"
      ]
     },
     "execution_count": 28,
     "metadata": {},
     "output_type": "execute_result"
    }
   ],
   "source": [
    "# eine Alternative ohne pd.concat wäre\n",
    "updated_df[\"Height\"] = [160, 170, 190, 150, 12]\n",
    "updated_df"
   ]
  },
  {
   "cell_type": "markdown",
   "id": "d5c7b131",
   "metadata": {},
   "source": [
    "### CSV Files schreiben und lesen mit Pandas"
   ]
  },
  {
   "cell_type": "code",
   "execution_count": 29,
   "id": "1e73047c",
   "metadata": {},
   "outputs": [],
   "source": [
    "# Creating simple sample data\n",
    "sample_data = {\n",
    "    'Name': ['John', 'Alice', 'Bob', 'Cathy', 'David'],\n",
    "    'Age': [32, 24, 28, 35, 30],\n",
    "    'City': ['New York', 'San Francisco', 'Los Angeles', 'Chicago', 'Austin']\n",
    "}\n",
    "\n",
    "sample_df = pd.DataFrame(sample_data)\n",
    "\n",
    "# Save the sample DataFrame as a CSV file in the \"dataset\" folder\n",
    "sample_df.to_csv('dataset/sample_data.csv', index=False)"
   ]
  },
  {
   "cell_type": "markdown",
   "id": "e221c5d8",
   "metadata": {},
   "source": [
    "### Mini-Aufgabe: Die gerade geschriebene Datei wieder einlesen!"
   ]
  },
  {
   "cell_type": "code",
   "execution_count": 30,
   "id": "444173d2",
   "metadata": {},
   "outputs": [
    {
     "name": "stdout",
     "output_type": "stream",
     "text": [
      "\n",
      "Loaded DataFrame from CSV:\n",
      "\n",
      "    Name  Age           City\n",
      "0   John   32       New York\n",
      "1  Alice   24  San Francisco\n",
      "2    Bob   28    Los Angeles\n",
      "3  Cathy   35        Chicago\n",
      "4  David   30         Austin\n"
     ]
    }
   ],
   "source": [
    "# Read the CSV file we just saved into a new DataFrame\n",
    "loaded_df = pd.read_csv('dataset/sample_data.csv')\n",
    "print(\"\\nLoaded DataFrame from CSV:\\n\")\n",
    "print(loaded_df)\n",
    "\n",
    "# Exercise: Read a CSV file from the \"dataset\" folder and save a modified version\n",
    "# In a new code cell, read a CSV file from the \"dataset\" folder, modify the DataFrame,\n",
    "# and save the modified DataFrame as a new CSV file."
   ]
  },
  {
   "cell_type": "code",
   "execution_count": 34,
   "id": "1c8e95c0",
   "metadata": {},
   "outputs": [
    {
     "name": "stdout",
     "output_type": "stream",
     "text": [
      "Original csv\n",
      "    Name  Age           City\n",
      "0   John   32       New York\n",
      "1  Alice   24  San Francisco\n",
      "2    Bob   28    Los Angeles\n",
      "3  Cathy   35        Chicago\n",
      "4  David   30         Austin\n",
      "Modified Dataframe\n",
      "    Name  Age           City              Exercises\n",
      "0   John   32       New York          Read CSV file\n",
      "1  Alice   24  San Francisco       Modify dataframe\n",
      "2    Bob   28    Los Angeles  save dataframe to csv\n",
      "3  Cathy   35        Chicago                  pause\n",
      "4  David   30         Austin                go home\n"
     ]
    }
   ],
   "source": [
    "exercise_df = pd.read_csv('dataset/sample_data.csv')\n",
    "print(\"Original csv\")\n",
    "print(exercise_df)\n",
    "print(\"Modified Dataframe\")\n",
    "exercise_df[\"Exercises\"] = [\"Read CSV file\", \"Modify dataframe\", \"save dataframe to csv\", \"pause\", \"go home\"]\n",
    "print(exercise_df)\n",
    "exercise_df.to_csv('dataset/exercise_data.csv', index=False)"
   ]
  },
  {
   "cell_type": "markdown",
   "id": "93cec4e4",
   "metadata": {},
   "source": [
    "### Kurzer Einblick in weitere Pandas Funktionen"
   ]
  },
  {
   "cell_type": "code",
   "execution_count": 35,
   "id": "6e1ef75f",
   "metadata": {},
   "outputs": [
    {
     "name": "stdout",
     "output_type": "stream",
     "text": [
      "\n",
      "Sorted DataFrame by age:\n",
      "\n",
      "    Name  Age           City\n",
      "1  Alice   24  San Francisco\n",
      "2    Bob   28    Los Angeles\n",
      "4  David   30         Austin\n",
      "0   John   32       New York\n",
      "3  Cathy   35        Chicago\n"
     ]
    }
   ],
   "source": [
    "# Sorting a DataFrame\n",
    "\n",
    "sorted_df = sample_df.sort_values(by=\"Age\")\n",
    "print(\"\\nSorted DataFrame by age:\\n\")\n",
    "print(sorted_df)"
   ]
  },
  {
   "cell_type": "code",
   "execution_count": 36,
   "id": "e7f0dc93",
   "metadata": {},
   "outputs": [
    {
     "name": "stdout",
     "output_type": "stream",
     "text": [
      "\n",
      "Filtered DataFrame with ages greater than 30:\n",
      "\n",
      "    Name  Age      City\n",
      "0   John   32  New York\n",
      "3  Cathy   35   Chicago\n"
     ]
    }
   ],
   "source": [
    "# Filtering a DataFrame\n",
    "\n",
    "mask = sample_df['Age'] > 30\n",
    "filtered_df = sample_df[mask]\n",
    "print(\"\\nFiltered DataFrame with ages greater than 30:\\n\")\n",
    "print(filtered_df)"
   ]
  },
  {
   "cell_type": "code",
   "execution_count": 37,
   "id": "c4e10209",
   "metadata": {},
   "outputs": [
    {
     "name": "stdout",
     "output_type": "stream",
     "text": [
      "\n",
      "Renamed columns in DataFrame:\n",
      "\n",
      "  Full Name  Age in Years       Hometown\n",
      "0      John            32       New York\n",
      "1     Alice            24  San Francisco\n",
      "2       Bob            28    Los Angeles\n",
      "3     Cathy            35        Chicago\n",
      "4     David            30         Austin\n"
     ]
    }
   ],
   "source": [
    "# Renaming columns in a DataFrame\n",
    "\n",
    "renamed_df = sample_df.rename(columns={'Name': 'Full Name', 'Age': 'Age in Years', 'City': 'Hometown'})\n",
    "print(\"\\nRenamed columns in DataFrame:\\n\")\n",
    "print(renamed_df)"
   ]
  },
  {
   "cell_type": "code",
   "execution_count": 38,
   "id": "a077990b",
   "metadata": {},
   "outputs": [
    {
     "name": "stdout",
     "output_type": "stream",
     "text": [
      "\n",
      "DataFrame with a new column 'Country':\n",
      "\n",
      "    Name  Age           City Country\n",
      "0   John   32       New York     USA\n",
      "1  Alice   24  San Francisco     USA\n",
      "2    Bob   28    Los Angeles     USA\n",
      "3  Cathy   35        Chicago     USA\n",
      "4  David   30         Austin     USA\n"
     ]
    }
   ],
   "source": [
    "# Adding a new column to a DataFrame\n",
    "\n",
    "sample_df['Country'] = 'USA'\n",
    "print(\"\\nDataFrame with a new column 'Country':\\n\")\n",
    "print(sample_df)"
   ]
  },
  {
   "cell_type": "code",
   "execution_count": 39,
   "id": "98135946",
   "metadata": {},
   "outputs": [
    {
     "name": "stdout",
     "output_type": "stream",
     "text": [
      "\n",
      "DataFrame with the 'Country' column dropped:\n",
      "\n",
      "    Name  Age           City\n",
      "0   John   32       New York\n",
      "1  Alice   24  San Francisco\n",
      "2    Bob   28    Los Angeles\n",
      "3  Cathy   35        Chicago\n",
      "4  David   30         Austin\n"
     ]
    }
   ],
   "source": [
    "# Dropping a column from a DataFrame\n",
    "\n",
    "dropped_df = sample_df.drop('Country', axis=1)\n",
    "print(\"\\nDataFrame with the 'Country' column dropped:\\n\")\n",
    "print(dropped_df)"
   ]
  },
  {
   "cell_type": "code",
   "execution_count": null,
   "id": "df9a90bf",
   "metadata": {},
   "outputs": [],
   "source": []
  }
 ],
 "metadata": {
  "kernelspec": {
   "display_name": "Python 3 (ipykernel)",
   "language": "python",
   "name": "python3"
  },
  "language_info": {
   "codemirror_mode": {
    "name": "ipython",
    "version": 3
   },
   "file_extension": ".py",
   "mimetype": "text/x-python",
   "name": "python",
   "nbconvert_exporter": "python",
   "pygments_lexer": "ipython3",
   "version": "3.9.19"
  }
 },
 "nbformat": 4,
 "nbformat_minor": 5
}
