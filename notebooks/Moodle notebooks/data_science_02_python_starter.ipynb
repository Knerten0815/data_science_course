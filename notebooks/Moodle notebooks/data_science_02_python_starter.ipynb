{
 "cells": [
  {
   "cell_type": "markdown",
   "id": "e75016b0",
   "metadata": {},
   "source": [
    "# Einführung Python (Crash-Course)"
   ]
  },
  {
   "cell_type": "markdown",
   "id": "a5f1ef55",
   "metadata": {},
   "source": [
    "---\n",
    "# Funktionen\n",
    "Die allgemeine Struktur einer Funktionsdefinition in Python ist:\n",
    "```python\n",
    "def function_name(parameter1, parameter2, etc):\n",
    "    ... code ...\n",
    "    return result\n",
    "```\n",
    "\n",
    "Besser sogar noch so, mit einem sogenannten Docstring der die grundlegende Dokumentation der Funktion darstellt. \n",
    "```python\n",
    "def function_name(parameter1, parameter2, ...):\n",
    "    \"\"\"Hier wird die Funktion beschrieben\n",
    "    \"\"\"\n",
    "    ... code ...\n",
    "    return result\n",
    "```\n",
    "\n",
    "`return` definiert die Ausgabe der Funktion. Funktionen können aber auch ohne `return` definiert werden (in diesen Fällen gibt Python automatisch `None` zurück)."
   ]
  },
  {
   "cell_type": "code",
   "execution_count": 1,
   "id": "8fc61b46",
   "metadata": {},
   "outputs": [
    {
     "name": "stdout",
     "output_type": "stream",
     "text": [
      "10 is smaller than 70\n"
     ]
    }
   ],
   "source": [
    "def x_vs_y(x, y):\n",
    "    \"\"\"Compare the numbers x and y.\n",
    "    \"\"\"\n",
    "    if x == y:\n",
    "        print(\"They are equal!\")\n",
    "    elif x > y:\n",
    "        print(f\"{x} is bigger than {y}\")\n",
    "    else:\n",
    "        print(f\"{x} is smaller than {y}\")\n",
    "\n",
    "x_vs_y(10, 70)"
   ]
  },
  {
   "cell_type": "code",
   "execution_count": 2,
   "id": "48b89a5e",
   "metadata": {},
   "outputs": [
    {
     "data": {
      "text/plain": [
       "19"
      ]
     },
     "execution_count": 2,
     "metadata": {},
     "output_type": "execute_result"
    }
   ],
   "source": [
    "def add_it_twice(a, b):\n",
    "    \"\"\"Macht keinen Sinn. Egal.\"\"\"\n",
    "    return a + b + b\n",
    "\n",
    "add_it_twice(5, 7)"
   ]
  },
  {
   "cell_type": "markdown",
   "id": "3b1bf0b3",
   "metadata": {},
   "source": [
    "---\n",
    "## Mini-Übung\n",
    "Schreiben sie eine Funktion `boxes_to_eggs`, die berechnet viele Eier wir insgesammt haben (**Ostern**...).\n",
    "\n",
    "```\n",
    "def boxes_to_eggs(n_boxes, eggs_per_box):\n",
    "    \"\"\"Compute the total number of eggs in n_boxes boxes.\n",
    "    \"\"\"\n",
    "    ...\n",
    "    return ...\n",
    "```"
   ]
  },
  {
   "cell_type": "code",
   "execution_count": 3,
   "id": "4f316fe8",
   "metadata": {},
   "outputs": [
    {
     "name": "stdout",
     "output_type": "stream",
     "text": [
      "50\n",
      "47\n"
     ]
    }
   ],
   "source": [
    "def boxes_to_eggs(n_boxes,\n",
    "                  eggs_per_box=6,\n",
    "                  broken_eggs_per_box=0):\n",
    "    \"\"\"Compute the total number of eggs in n_boxes boxes.\n",
    "    \"\"\"\n",
    "    return int(n_boxes * (eggs_per_box - broken_eggs_per_box))\n",
    "\n",
    "print(boxes_to_eggs(5, 10))\n",
    "print(boxes_to_eggs(5, 10, broken_eggs_per_box=0.5))"
   ]
  },
  {
   "cell_type": "markdown",
   "id": "0fea57fb",
   "metadata": {},
   "source": [
    "### Namensräume\n",
    "Unter einem Namensraum versteht man einen Teil (oder Raum) innerhalb eines Programmes, in dem ein Name (z.B. Variablen und Funktionen) gültig ist.\n",
    "In Python gibt es drei Arten solcher Geltungsbereiche:\n",
    "+ Lokaler Geltungsbereich (innerhalb einer Funktion oder Methode)\n",
    "+ Modularer Geltungsbereich (innerhalb einer Datei/eines Programmes)\n",
    "+ Eingebauter Geltungsbereich (von Python definierte Namen sind immer gültig)"
   ]
  },
  {
   "cell_type": "code",
   "execution_count": 4,
   "id": "f462910a",
   "metadata": {},
   "outputs": [
    {
     "name": "stdout",
     "output_type": "stream",
     "text": [
      "5 7 1007\n"
     ]
    }
   ],
   "source": [
    "a = 5\n",
    "b = 7\n",
    "\n",
    "def do_stuff():\n",
    "    a = 1000\n",
    "    secret_stuff = 111\n",
    "    #print(a)  # hiermit kann man a innerhalb der Funktion anschauen\n",
    "    #print(locals())  # hiermit werden die lokalen Variablen gezeigt\n",
    "    return a + b\n",
    "    \n",
    "result = do_stuff()\n",
    "print(a, b, result)"
   ]
  },
  {
   "cell_type": "code",
   "execution_count": 5,
   "id": "32757ebc",
   "metadata": {},
   "outputs": [
    {
     "data": {
      "text/plain": [
       "(5, 7)"
      ]
     },
     "execution_count": 5,
     "metadata": {},
     "output_type": "execute_result"
    }
   ],
   "source": [
    "a, b"
   ]
  },
  {
   "cell_type": "raw",
   "id": "b4b8755f",
   "metadata": {
    "vscode": {
     "languageId": "raw"
    }
   },
   "source": [
    "secret_stuff  # gibt?"
   ]
  },
  {
   "cell_type": "markdown",
   "id": "dc3b74b3",
   "metadata": {},
   "source": [
    "---\n",
    "## Sets und Dictionaries\n",
    "Zwei weitere sehr zentrale Datentypen in Python.\n",
    "\n",
    "### Sets"
   ]
  },
  {
   "cell_type": "code",
   "execution_count": 6,
   "id": "e3765aac",
   "metadata": {},
   "outputs": [],
   "source": [
    "my_set = {\"yes\", \"no\", \"maybe\"}"
   ]
  },
  {
   "cell_type": "markdown",
   "id": "94a57bda",
   "metadata": {},
   "source": [
    "Sets sind keine Sequenzen! Elemente haben keine Indizes. Andere Dinge die bei List und/oder Tuple funktionieren aber."
   ]
  },
  {
   "cell_type": "raw",
   "id": "433f1f61",
   "metadata": {
    "vscode": {
     "languageId": "raw"
    }
   },
   "source": [
    "my_set[0]"
   ]
  },
  {
   "cell_type": "code",
   "execution_count": 7,
   "id": "15a5f29f",
   "metadata": {},
   "outputs": [
    {
     "data": {
      "text/plain": [
       "True"
      ]
     },
     "execution_count": 7,
     "metadata": {},
     "output_type": "execute_result"
    }
   ],
   "source": [
    "\"maybe\" in my_set"
   ]
  },
  {
   "cell_type": "markdown",
   "id": "b64cff35",
   "metadata": {},
   "source": [
    "Sets (deutsch: Mengen) können Elemente nicht doppelt enthalten, anders als z.B. Listen oder Strings."
   ]
  },
  {
   "cell_type": "code",
   "execution_count": 8,
   "id": "afee70f4",
   "metadata": {},
   "outputs": [
    {
     "data": {
      "text/plain": [
       "{'cat', 'cow', 'dog', 'elephant', 'goldfish', 'lion', 'parrot'}"
      ]
     },
     "execution_count": 8,
     "metadata": {},
     "output_type": "execute_result"
    }
   ],
   "source": [
    "animal_set1 = {\"cat\", \"dog\", \"elephant\", \"lion\"}\n",
    "animal_set2 = {\"parrot\", \"cat\", \"dog\", \"goldfish\", \"cow\"}\n",
    "\n",
    "all_animals = animal_set1.union(animal_set2)\n",
    "all_animals"
   ]
  },
  {
   "cell_type": "markdown",
   "id": "79054eef",
   "metadata": {},
   "source": [
    "Diese Eigenschaft wird oft genutzt um Elemente ohne Dopplungen zu analysieren."
   ]
  },
  {
   "cell_type": "code",
   "execution_count": 9,
   "id": "9d5d2c47",
   "metadata": {},
   "outputs": [
    {
     "name": "stdout",
     "output_type": "stream",
     "text": [
      "{'n', ' ', 'a', 't', 'e', 'm', 'b', 'i', 'h', 'd'}\n",
      "Anzahl der Zeichen im string: 63\n",
      "Aber nur 10 einzigartige Zeichen!\n"
     ]
    }
   ],
   "source": [
    "s = \"dann am abend baden mit diamentendieben die bananen dabei haben\"\n",
    "\n",
    "characters = set(s)\n",
    "print(characters)\n",
    "print(f\"Anzahl der Zeichen im string: {len(s)}\")\n",
    "print(f\"Aber nur {len(characters)} einzigartige Zeichen!\")"
   ]
  },
  {
   "cell_type": "markdown",
   "id": "8497319e",
   "metadata": {},
   "source": [
    "### Dictionary\n",
    "Enthält `key`-`value` Paare und werden definiert über\n",
    "```python\n",
    "my_dict = {key1: value1,\n",
    "          key2: value2}\n",
    "```"
   ]
  },
  {
   "cell_type": "code",
   "execution_count": 10,
   "id": "551ed23e",
   "metadata": {},
   "outputs": [
    {
     "data": {
      "text/plain": [
       "'thanks'"
      ]
     },
     "execution_count": 10,
     "metadata": {},
     "output_type": "execute_result"
    }
   ],
   "source": [
    "my_dict = {\"Hallo\": \"hello\",\n",
    "           \"Tschüss\": \"bye\",\n",
    "           \"Danke\": \"thanks\"}\n",
    "\n",
    "my_dict[\"Danke\"]"
   ]
  },
  {
   "cell_type": "code",
   "execution_count": 11,
   "id": "60c9b6bc",
   "metadata": {},
   "outputs": [
    {
     "name": "stdout",
     "output_type": "stream",
     "text": [
      "hi\n"
     ]
    }
   ],
   "source": [
    "# Auch bei Dictionaries gibt es keine Dopplungen\n",
    "my_dict = {\"Hallo\": \"hello\",\n",
    "           \"Tschüss\": \"bye\",\n",
    "           \"Danke\": \"thanks\",\n",
    "           \"Hallo\": \"hi\"}\n",
    "\n",
    "print(my_dict[\"Hallo\"])"
   ]
  },
  {
   "cell_type": "code",
   "execution_count": 12,
   "id": "c40fdc7a",
   "metadata": {},
   "outputs": [
    {
     "data": {
      "text/plain": [
       "{'Hallo': 'hi', 'Tschüss': 'bye', 'Danke': 'thanks', 'Ja': 'yes'}"
      ]
     },
     "execution_count": 12,
     "metadata": {},
     "output_type": "execute_result"
    }
   ],
   "source": [
    "# Hinzufügen von Elementen\n",
    "my_dict[\"Ja\"] = \"yes\"\n",
    "my_dict"
   ]
  },
  {
   "cell_type": "code",
   "execution_count": 13,
   "id": "72bc4822",
   "metadata": {},
   "outputs": [
    {
     "name": "stdout",
     "output_type": "stream",
     "text": [
      "dict_keys(['Hallo', 'Tschüss', 'Danke', 'Ja'])\n",
      "dict_values(['hi', 'bye', 'thanks', 'yes'])\n",
      "dict_items([('Hallo', 'hi'), ('Tschüss', 'bye'), ('Danke', 'thanks'), ('Ja', 'yes')])\n"
     ]
    }
   ],
   "source": [
    "print(my_dict.keys())  # alle keys\n",
    "print(my_dict.values())  # alle Werte (values)\n",
    "print(my_dict.items())  # alle key-value Paare"
   ]
  },
  {
   "cell_type": "code",
   "execution_count": 14,
   "id": "336b6a94",
   "metadata": {},
   "outputs": [
    {
     "name": "stdout",
     "output_type": "stream",
     "text": [
      "'Hallo' is 'hi'.\n",
      "'Tschüss' is 'bye'.\n",
      "'Danke' is 'thanks'.\n",
      "'Ja' is 'yes'.\n"
     ]
    }
   ],
   "source": [
    "for key, value in my_dict.items():\n",
    "    print(f\"'{key}' is '{value}'.\")"
   ]
  },
  {
   "cell_type": "code",
   "execution_count": 15,
   "id": "85a91844",
   "metadata": {},
   "outputs": [
    {
     "name": "stdout",
     "output_type": "stream",
     "text": [
      "Hermione\n"
     ]
    }
   ],
   "source": [
    "# nested dictionaries\n",
    "hogwarts = {\n",
    "    \"Dumbeldore\": {\n",
    "        \"surname\": \"Albus\",\n",
    "        \"function\": \"headmaster\"\n",
    "        },\n",
    "    \"Lockhart\": {\n",
    "        \"surname\": \"Gilderoy\",\n",
    "        \"function\": \"teacher\"\n",
    "        },\n",
    "    \"Granger\": {\n",
    "        \"surname\": \"Hermione\",\n",
    "        \"function\": \"pupil\"\n",
    "        },\n",
    "} \n",
    "\n",
    "\n",
    "print(hogwarts[\"Granger\"][\"surname\"])"
   ]
  },
  {
   "cell_type": "markdown",
   "id": "0985d561",
   "metadata": {},
   "source": [
    "## Klassen\n",
    "\n",
    "Mit `class` können wir in Python eine neue Klasse definieren. Im Prinzip können diese genau wie Variablen benannt werden, um aber Variablen, Funktionen und Klassen zu unterscheiden gibt es die Konvention das Klassen im sogenannten *camel case* benannt werden, also jedes Wort mit Großbuchstabe beginnt: `MyClass` oder `DoesWhatYouWants` etc."
   ]
  },
  {
   "cell_type": "code",
   "execution_count": 16,
   "id": "53ccf1bb",
   "metadata": {},
   "outputs": [
    {
     "name": "stdout",
     "output_type": "stream",
     "text": [
      "<__main__.Point object at 0x000001F77D8EC460>\n"
     ]
    }
   ],
   "source": [
    "class Point:\n",
    "    pass  # pass bedeuted nur, dass nicht passiert\n",
    "\n",
    "a = Point()\n",
    "print(a)"
   ]
  },
  {
   "cell_type": "code",
   "execution_count": 17,
   "id": "fce55051",
   "metadata": {},
   "outputs": [
    {
     "name": "stdout",
     "output_type": "stream",
     "text": [
      "5 -2.1\n"
     ]
    }
   ],
   "source": [
    "a.x = 5\n",
    "a.y = -2.1\n",
    "print(a.x, a.y)"
   ]
  },
  {
   "cell_type": "markdown",
   "id": "0c761a9f",
   "metadata": {},
   "source": [
    "Eigentlich sollte jedes Point-Objekt auf jeden Fall eine x und y-Position haben! Das ist auch möglich, und zwar über sogenannte Konstuktoren (*constructors*), das sind Methoden die beim Erstellen eines Objektes aufgerufen werden. In Python nutzen wir dafür eine Methode die mit  `__init__` benannt wird:"
   ]
  },
  {
   "cell_type": "code",
   "execution_count": 18,
   "id": "8cf2bb70",
   "metadata": {},
   "outputs": [
    {
     "name": "stdout",
     "output_type": "stream",
     "text": [
      "10 3\n"
     ]
    }
   ],
   "source": [
    "class Point:\n",
    "    def __init__(self, x, y):\n",
    "        self.x = x\n",
    "        self.y = y\n",
    "\n",
    "    def position(self):\n",
    "        print(self.x, self.y)\n",
    "\n",
    "point1 = Point(10, 3)\n",
    "point1.position() "
   ]
  },
  {
   "cell_type": "markdown",
   "id": "7ebd0567",
   "metadata": {},
   "source": [
    "## Vererbung"
   ]
  },
  {
   "cell_type": "code",
   "execution_count": 19,
   "id": "4c7ea2cb",
   "metadata": {},
   "outputs": [
    {
     "name": "stdout",
     "output_type": "stream",
     "text": [
      "11.180339887498949\n"
     ]
    }
   ],
   "source": [
    "import math\n",
    "\n",
    "class Point:\n",
    "    def __init__(self, x, y):\n",
    "        self.x = x\n",
    "        self.y = y\n",
    "\n",
    "    def position(self):\n",
    "        print(self.x, self.y)\n",
    "\n",
    "    def center_distance(self):\n",
    "        return math.sqrt(self.x ** 2 + self.y ** 2)\n",
    "    \n",
    "    def distance_to_point(self, point):\n",
    "        dist_x = self.x - point.x\n",
    "        dist_y = self.y - point.y\n",
    "        return math.sqrt(dist_x ** 2 + dist_y ** 2)\n",
    "    \n",
    "# Neue Klasse definieren:    \n",
    "class Circle(Point):\n",
    "    def __init__(self, x, y, radius):\n",
    "        self.x = x\n",
    "        self.y = y\n",
    "        self.radius = radius\n",
    "\n",
    "a = Circle(11, 2, 5)\n",
    "print(a.center_distance())"
   ]
  },
  {
   "cell_type": "code",
   "execution_count": 20,
   "id": "e5ac5c16",
   "metadata": {},
   "outputs": [
    {
     "data": {
      "text/plain": [
       "True"
      ]
     },
     "execution_count": 20,
     "metadata": {},
     "output_type": "execute_result"
    }
   ],
   "source": [
    "isinstance(a, Point)"
   ]
  },
  {
   "cell_type": "code",
   "execution_count": 21,
   "id": "7ce2cd41",
   "metadata": {},
   "outputs": [
    {
     "data": {
      "text/plain": [
       "True"
      ]
     },
     "execution_count": 21,
     "metadata": {},
     "output_type": "execute_result"
    }
   ],
   "source": [
    "isinstance(a, Circle)"
   ]
  },
  {
   "cell_type": "code",
   "execution_count": 22,
   "id": "d4c88e6e",
   "metadata": {},
   "outputs": [
    {
     "data": {
      "text/plain": [
       "False"
      ]
     },
     "execution_count": 22,
     "metadata": {},
     "output_type": "execute_result"
    }
   ],
   "source": [
    "point = Point(0, 0)\n",
    "isinstance(point, Circle)"
   ]
  },
  {
   "cell_type": "code",
   "execution_count": null,
   "id": "3f609685",
   "metadata": {},
   "outputs": [],
   "source": []
  }
 ],
 "metadata": {
  "kernelspec": {
   "display_name": "Python 3 (ipykernel)",
   "language": "python",
   "name": "python3"
  },
  "language_info": {
   "codemirror_mode": {
    "name": "ipython",
    "version": 3
   },
   "file_extension": ".py",
   "mimetype": "text/x-python",
   "name": "python",
   "nbconvert_exporter": "python",
   "pygments_lexer": "ipython3",
   "version": "3.9.19"
  }
 },
 "nbformat": 4,
 "nbformat_minor": 5
}
