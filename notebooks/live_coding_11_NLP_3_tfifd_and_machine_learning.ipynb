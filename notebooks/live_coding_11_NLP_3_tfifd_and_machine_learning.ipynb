{
 "cells": [
  {
   "cell_type": "markdown",
   "id": "3dc45e4f",
   "metadata": {},
   "source": [
    "# Computing with Text: Counting words\n",
    "## Turning Text into Vectors\n",
    "\n",
    "As we progress in the world of Data Science, we often find ourselves needing to transform our data into a format that's more suitable for computation and analysis. When dealing with textual data, this means converting our words into numeric representations, often in the form of vectors. But why vectors, you may ask? Machine Learning algorithms, at their core, work with numerical data. They're able to identify patterns, trends and relationships within numeric data much more effectively. Numerical vectors are a very suitable input for machine learning models. In addition, such vectors allow to directly use methods from algebra, for instance to computed distances or similarities between data points.\n",
    "\n",
    "### Distance/similarity measures\n",
    "Depending on the type of numerical vector there are many suitable methods to compute vector-vector similarities (or inverse: distances). For real-numbered (float) vectors we can for instance simply use the **Euclidean distance** which you will know from Pythagoras. Or a **Cosine similarity** based on the angle between two vectors. For binary vectors there are other measures such as the **Jaccard similarity**."
   ]
  },
  {
   "cell_type": "markdown",
   "id": "9cc7abba",
   "metadata": {},
   "source": [
    "## One-Hot Encoding\n",
    "\n",
    "The first step towards this transformation is to use a method known as **One-Hot Encoding**. In this process, each word in the sentence is represented as a vector in an N-dimensional space where N is the number of unique words in the sentence. Each word is represented as a vector of length N, with all elements being 0, except for one element which is 1, indicating the presence of the word.\n",
    "\n",
    "For instance, consider the sentences: \"I like cats\" and \"I like dogs\". In a one-hot encoding scheme, these sentences would be represented by the vectors:\n",
    "\n",
    "- I: [1, 0, 0, 0]\n",
    "- like: [0, 1, 0, 0]\n",
    "- cats: [0, 0, 1, 0]\n",
    "- dogs: [0, 0, 0, 1]\n",
    "\n",
    "With this encoding, we can calculate the Euclidean distance between these sentence vectors, providing a way to compare sentences. However, this method has limitations. The vectors can become extremely large for sentences with many unique words, and all words are treated as orthogonal, meaning the distance between any two different words is always the same, which is often not what we want.\n",
    "\n",
    "For instance, consider the sentences:  \n",
    "*\"That is the one and only way to happiness.\"*  \n",
    "and  \n",
    "*\"That is the one and only way to die.\"* \n",
    "\n",
    "Despite having only one word difference, the Euclidean distance between these sentences would be very small since only one word differs.\n",
    "The distance between \"happiness\" and \"die\" is the same as between \"That\" and \"This\", even though the first obviously has a much larger impact on the meaning of the sentence."
   ]
  },
  {
   "cell_type": "code",
   "execution_count": 7,
   "id": "0953c3ec",
   "metadata": {
    "editable": true,
    "slideshow": {
     "slide_type": ""
    },
    "tags": []
   },
   "outputs": [],
   "source": [
    "import os\n",
    "import numpy as np\n",
    "import pandas as pd\n",
    "import matplotlib.pyplot as plt\n",
    "import seaborn as sb\n",
    "from sklearn.feature_extraction.text import TfidfVectorizer"
   ]
  },
  {
   "cell_type": "code",
   "execution_count": 8,
   "id": "b07bb307",
   "metadata": {
    "editable": true,
    "slideshow": {
     "slide_type": ""
    },
    "tags": []
   },
   "outputs": [
    {
     "name": "stdout",
     "output_type": "stream",
     "text": [
      "Distance between vector1 and vector2: 4.243.\n",
      "Distance between vector1 and vector3: 4.243.\n"
     ]
    }
   ],
   "source": [
    "# That is the one and only way to happiness\n",
    "vector1 = np.array([1, 1, 1, 1, 1, 1, 1, 1, 1, 0])\n",
    "# That is the one and only way to die\n",
    "vector2 = np.array([1, 1, 1, 1, 1, 1, 1, 1, 0, 1])\n",
    "# This is the one and only way to happiness\n",
    "vector3 = np.array([0, 1, 1, 1, 1, 1, 1, 1, 1, 1])\n",
    "\n",
    "\n",
    "distance = np.sqrt(np.sum(vector1 ** 2 + vector2 ** 2))\n",
    "print(f\"Distance between vector1 and vector2: {distance:.3f}.\")\n",
    "\n",
    "distance = np.sqrt(np.sum(vector1 ** 2 + vector3 ** 2))\n",
    "print(f\"Distance between vector1 and vector3: {distance:.3f}.\")"
   ]
  },
  {
   "cell_type": "markdown",
   "id": "b46557f0",
   "metadata": {},
   "source": [
    "## Term Frequency-Inverse Document Frequency (TF-IDF)\n",
    "\n",
    "To resolve these issues, we use a more sophisticated method called **Term Frequency-Inverse Document Frequency (TF-IDF)**. This measure helps us to evaluate how important a word is to a document within a corpus. The importance increases proportionally to the number of times a word appears in the document but is offset by the frequency of the word in the corpus.\n",
    "\n",
    "The TF-IDF weight is composed of two terms:\n",
    "\n",
    "- The Term Frequency (TF), which is the frequency of a word in a document. It is computed as: \n",
    "\n",
    "$$TF(t)=\\frac{\\text{Number of times term t appears in a document}}{\\text{Total number of terms in the document}}\n",
    "$$\n",
    "\n",
    "\n",
    "- The Inverse Document Frequency (IDF), computed as the logarithm of the number of the documents in the corpus divided by the number of documents where the specific term appears.\n",
    "\n",
    "$$IDF(t)=\\log(\\frac{\\text{Total number of documents}}{\\text{Number of documents with term t in it}})\n",
    "$$\n",
    "\n",
    "- The TF-IDF weight is the product of these quantities:\n",
    "\n",
    "$$\\text{TF−IDF}=TF×IDF$$\n",
    "\n",
    "This results in a vector space model where each word is assigned a TF-IDF score, and a document is represented as a vector of these scores. We can use libraries like `scikit-learn` to compute these scores easily.\n",
    "\n",
    "Finally, we can use these TF-IDF vectors to train Machine Learning models. For example, we can train a logistic regression model for sentiment analysis. By turning our words into vectors, we've opened up a new world of possibilities for analysis and model training, pushing the boundaries of what we can achieve with Natural Language Processing."
   ]
  },
  {
   "cell_type": "markdown",
   "id": "982ae7f7",
   "metadata": {},
   "source": [
    "## Hands-on: Hotel Reviews\n",
    "Let's work with some actual data!\n",
    "\n",
    "We here will work with a dataset of about 20,000 hotel reviews from tripadvisor [see original dataset on zenodo](https://zenodo.org/records/1219899) or [see dataset on kaggle](https://www.kaggle.com/datasets/andrewmvd/trip-advisor-hotel-reviews). The goal will be to train a machine learning model to predict rating based on a review text."
   ]
  },
  {
   "cell_type": "markdown",
   "id": "db2a6042",
   "metadata": {
    "editable": true,
    "slideshow": {
     "slide_type": ""
    },
    "tags": []
   },
   "source": [
    "#### Data import and exploration\n",
    "We will import the data using `Pandas`. We will then explore the data a bit. But since this dataset was already prepared to work for machine learning tasks, there is complicated data processing steps that we have to do at this point."
   ]
  },
  {
   "cell_type": "code",
   "execution_count": 9,
   "id": "58260b8c-a93d-438e-878f-c0ecc5e18516",
   "metadata": {
    "editable": true,
    "slideshow": {
     "slide_type": ""
    },
    "tags": [
     "hide-input"
    ]
   },
   "outputs": [
    {
     "name": "stdout",
     "output_type": "stream",
     "text": [
      "File ..\\datasets\\tripadvisor_hotel_reviews.csv already exists. Skipping download.\n"
     ]
    }
   ],
   "source": [
    "\"\"\"\n",
    "This code block downloads the data from zenodo and stores it in\n",
    "a local 'datasets' folder.\n",
    "\"\"\"\n",
    "\n",
    "import requests\n",
    "import os\n",
    "\n",
    "\n",
    "def download_from_zenodo(url, save_path):\n",
    "    \"\"\"\n",
    "    Downloads a file from a given Zenodo link and saves it to the specified path.\n",
    "\n",
    "    Parameters:\n",
    "    - url: The Zenodo link to the file to be downloaded.\n",
    "    - save_path: Path where the file should be saved.\n",
    "    \"\"\"\n",
    "\n",
    "    # Check if the file already exists\n",
    "    if os.path.exists(save_path):\n",
    "        print(f\"File {save_path} already exists. Skipping download.\")\n",
    "        return None\n",
    "\n",
    "    response = requests.get(url, stream=True)\n",
    "    response.raise_for_status()\n",
    "\n",
    "    with open(save_path, 'wb') as f:\n",
    "        for chunk in response.iter_content(chunk_size=8192):\n",
    "            f.write(chunk)\n",
    "\n",
    "    print(f\"File downloaded successfully and saved to {save_path}\")\n",
    "\n",
    "\n",
    "# Zenodo link to the dataset\n",
    "zenodo_link = r\"https://zenodo.org/records/1219899/files/b.csv?download=1\"\n",
    "\n",
    "# Path to save the downloaded dataset (you can modify this as needed)\n",
    "output_path = os.path.join(\"..\", \"datasets\", \"tripadvisor_hotel_reviews.csv\")\n",
    "\n",
    "# Create directory if it doesn't exist\n",
    "os.makedirs(os.path.dirname(output_path), exist_ok=True)\n",
    "\n",
    "# Download the dataset\n",
    "download_from_zenodo(zenodo_link, output_path)"
   ]
  },
  {
   "cell_type": "code",
   "execution_count": 10,
   "id": "c6cabdf7",
   "metadata": {},
   "outputs": [
    {
     "data": {
      "text/html": [
       "<div>\n",
       "<style scoped>\n",
       "    .dataframe tbody tr th:only-of-type {\n",
       "        vertical-align: middle;\n",
       "    }\n",
       "\n",
       "    .dataframe tbody tr th {\n",
       "        vertical-align: top;\n",
       "    }\n",
       "\n",
       "    .dataframe thead th {\n",
       "        text-align: right;\n",
       "    }\n",
       "</style>\n",
       "<table border=\"1\" class=\"dataframe\">\n",
       "  <thead>\n",
       "    <tr style=\"text-align: right;\">\n",
       "      <th></th>\n",
       "      <th>S.No.</th>\n",
       "      <th>Review</th>\n",
       "      <th>Rating</th>\n",
       "    </tr>\n",
       "  </thead>\n",
       "  <tbody>\n",
       "    <tr>\n",
       "      <th>0</th>\n",
       "      <td>1</td>\n",
       "      <td>nice hotel expensive parking got good deal sta...</td>\n",
       "      <td>4</td>\n",
       "    </tr>\n",
       "    <tr>\n",
       "      <th>1</th>\n",
       "      <td>2</td>\n",
       "      <td>ok nothing special charge diamond member hilto...</td>\n",
       "      <td>2</td>\n",
       "    </tr>\n",
       "    <tr>\n",
       "      <th>2</th>\n",
       "      <td>3</td>\n",
       "      <td>nice rooms not 4* experience hotel monaco seat...</td>\n",
       "      <td>3</td>\n",
       "    </tr>\n",
       "    <tr>\n",
       "      <th>3</th>\n",
       "      <td>4</td>\n",
       "      <td>unique \\tgreat stay \\twonderful time hotel mon...</td>\n",
       "      <td>5</td>\n",
       "    </tr>\n",
       "    <tr>\n",
       "      <th>4</th>\n",
       "      <td>5</td>\n",
       "      <td>great stay great stay \\twent seahawk game awes...</td>\n",
       "      <td>5</td>\n",
       "    </tr>\n",
       "  </tbody>\n",
       "</table>\n",
       "</div>"
      ],
      "text/plain": [
       "   S.No.                                             Review  Rating\n",
       "0      1  nice hotel expensive parking got good deal sta...       4\n",
       "1      2  ok nothing special charge diamond member hilto...       2\n",
       "2      3  nice rooms not 4* experience hotel monaco seat...       3\n",
       "3      4  unique \\tgreat stay \\twonderful time hotel mon...       5\n",
       "4      5  great stay great stay \\twent seahawk game awes...       5"
      ]
     },
     "execution_count": 10,
     "metadata": {},
     "output_type": "execute_result"
    }
   ],
   "source": [
    "filename = \"../datasets/tripadvisor_hotel_reviews.csv\"\n",
    "data = pd.read_csv(filename, encoding=\"ansi\")\n",
    "data.head()"
   ]
  },
  {
   "cell_type": "code",
   "execution_count": 11,
   "id": "eb8b6172",
   "metadata": {},
   "outputs": [
    {
     "name": "stdout",
     "output_type": "stream",
     "text": [
      "<class 'pandas.core.frame.DataFrame'>\n",
      "RangeIndex: 20491 entries, 0 to 20490\n",
      "Data columns (total 3 columns):\n",
      " #   Column  Non-Null Count  Dtype \n",
      "---  ------  --------------  ----- \n",
      " 0   S.No.   20491 non-null  int64 \n",
      " 1   Review  20491 non-null  object\n",
      " 2   Rating  20491 non-null  int64 \n",
      "dtypes: int64(2), object(1)\n",
      "memory usage: 480.4+ KB\n"
     ]
    }
   ],
   "source": [
    "data.info()"
   ]
  },
  {
   "cell_type": "code",
   "execution_count": 12,
   "id": "f2bc7712",
   "metadata": {},
   "outputs": [
    {
     "name": "stderr",
     "output_type": "stream",
     "text": [
      "C:\\Users\\flori\\AppData\\Local\\Temp\\ipykernel_7500\\890204809.py:1: FutureWarning: \n",
      "\n",
      "Passing `palette` without assigning `hue` is deprecated and will be removed in v0.14.0. Assign the `x` variable to `hue` and set `legend=False` for the same effect.\n",
      "\n",
      "  sb.countplot(data=data,\n"
     ]
    },
    {
     "data": {
      "text/plain": [
       "Text(0.5, 1.0, 'Rating Distribution')"
      ]
     },
     "execution_count": 12,
     "metadata": {},
     "output_type": "execute_result"
    },
    {
     "data": {
      "image/png": "[encoded data removed]",
      "text/plain": [
       "<Figure size 640x480 with 1 Axes>"
      ]
     },
     "metadata": {},
     "output_type": "display_data"
    }
   ],
   "source": [
    "sb.countplot(data=data,\n",
    "             x='Rating',\n",
    "             palette='viridis'\n",
    "            ).set_title('Rating Distribution')"
   ]
  },
  {
   "cell_type": "markdown",
   "id": "a6708af4",
   "metadata": {},
   "source": [
    "Here we see a first potential issue, a **bias of the ratings**. The dataset contains far more positive reviews (>= 4) than neutral or negative ones. This is a common problem in machine learning and there are strategies to deal with this (e.g. *oversampling* or using *class weights*), but for now we will simply ignore it.\n",
    "\n",
    "### Train/Test Split\n",
    "\n",
    "Let us first split the data into a training and test set (see chapters on machine learning!)."
   ]
  },
  {
   "cell_type": "code",
   "execution_count": 13,
   "id": "acd4c215",
   "metadata": {},
   "outputs": [
    {
     "name": "stdout",
     "output_type": "stream",
     "text": [
      "Train dataset size: (16392,)\n",
      "Test dataset size: (4099,)\n"
     ]
    }
   ],
   "source": [
    "from sklearn.model_selection import train_test_split\n",
    "\n",
    "X_train, X_test, y_train, y_test = train_test_split(\n",
    "    data['Review'], data['Rating'], test_size=0.2, random_state=0)\n",
    "\n",
    "print(f\"Train dataset size: {X_train.shape}\")\n",
    "print(f\"Test dataset size: {X_test.shape}\")    "
   ]
  },
  {
   "cell_type": "code",
   "execution_count": 14,
   "id": "6874ac61",
   "metadata": {},
   "outputs": [
    {
     "data": {
      "text/plain": [
       "(16392, 46813)"
      ]
     },
     "execution_count": 14,
     "metadata": {},
     "output_type": "execute_result"
    }
   ],
   "source": [
    "tfidf = TfidfVectorizer()\n",
    "tfidf_vectors = tfidf.fit_transform(X_train)\n",
    "tfidf_vectors.shape"
   ]
  },
  {
   "cell_type": "markdown",
   "id": "5c375baa",
   "metadata": {},
   "source": [
    "This is a pretty big array (or matrix). So, how does such a tfidf vector look like, for instance the tfidf-vector for the first review?"
   ]
  },
  {
   "cell_type": "code",
   "execution_count": 15,
   "id": "b68dc085",
   "metadata": {},
   "outputs": [
    {
     "data": {
      "text/plain": [
       "1"
      ]
     },
     "execution_count": 15,
     "metadata": {},
     "output_type": "execute_result"
    }
   ],
   "source": [
    "# This is the review\n",
    "data.iloc[0, 0]"
   ]
  },
  {
   "cell_type": "code",
   "execution_count": 16,
   "id": "23725d3a",
   "metadata": {},
   "outputs": [
    {
     "data": {
      "text/plain": [
       "<1x46813 sparse matrix of type '<class 'numpy.float64'>'\n",
       "\twith 247 stored elements in Compressed Sparse Row format>"
      ]
     },
     "execution_count": 16,
     "metadata": {},
     "output_type": "execute_result"
    }
   ],
   "source": [
    "# And this is the tfidf-vector of this review\n",
    "tfidf_vectors[0, :]"
   ]
  },
  {
   "cell_type": "markdown",
   "id": "b06c9709",
   "metadata": {},
   "source": [
    "#### What does `sparse matrix` mean?\n",
    "We have seen before, that such sentence (or text) vector can quickly become very long. Here each vector as 47073 positions, one for each word. But most of these words do not occur in a particular sentence, so most positions in a tfidf-vector are simply `0`.\n",
    "\n",
    "To save all those numbers would be very vastefull memory wise. So, scikit-learn here uses so called `sparse matrices` which only store the data for non-zero positions. We can look at the data with the `.data` attribute. Or we can convert it to a dense vector (that includes all zeros) by using `.toarray()`."
   ]
  },
  {
   "cell_type": "markdown",
   "id": "4888b821",
   "metadata": {},
   "source": [
    "### Reduce tfidf vector size\n",
    "So far we simply used the `TfidfVectorizer` without setting any parameters, which means that it will simply use default values. In our case, however, we end up with rather large tfidf vectors. In particular given the relatively small dataset (small for NLP standards) and the rather short reviews.\n",
    "\n",
    "In many cases, and here as well, we also deal with text data of strongly varying quality. This can lead to many words in the `tfidf model` which are not meaningfull enough. We can have a look at the words which were included:"
   ]
  },
  {
   "cell_type": "code",
   "execution_count": 17,
   "id": "4079580b",
   "metadata": {},
   "outputs": [
    {
     "data": {
      "text/plain": [
       "array(['zones', 'zonethis', 'zoning', 'zoo', 'zoogarten', 'zooji',\n",
       "       'zoological', 'zoologicher', 'zoologische', 'zoologischer',\n",
       "       'zoologisher', 'zoom', 'zooming', 'zooms', 'zoomy', 'zoran',\n",
       "       'zorbas', 'zucca', 'zuid', 'zum', 'zumo', 'zurich', 'zvago',\n",
       "       'zyrtec', 'zytec', 'zz', 'zzzt', 'zzzzt', 'zzzzzs', 'zzzzzzzzz',\n",
       "       'µlack', 'ààmake', 'ààneither', 'ààthe', 'ààthere', 'âge', 'âme',\n",
       "       'ânes', 'âre', 'âs', 'ä__ç', 'ä__ç_é_', 'ä_ëù_ez', 'äarely',\n",
       "       'äbec', 'äcialy', 'äciate', 'äciated', 'äcor', 'äe', 'äed',\n",
       "       'äellement', 'äes', 'ägal', 'älanie', 'älie', 'ändo', 'änial',\n",
       "       'äon', 'äpublique', 'ära', 'ärico', 'äring', 'äro', 'äs', 'ätence',\n",
       "       'ätro', 'äut', 'åeach', 'åreakfast', 'æn', 'ærom', 'æsimas',\n",
       "       'èery', 'èou', 'é__', 'é_ç_a', 'é_çål', 'é_çœybiscus', 'é_çžadizo',\n",
       "       'éenny', 'êtyle', 'öreat', 'ù_šäœ', 'ù_šäœî_', 'ù_šäœî__ere',\n",
       "       'ù_šäœî__here', 'ù_šäœî__hese', 'ùn', 'ùoom', 'ûan', 'ü_e',\n",
       "       'üefinitely', 'üescribed', 'üifficult', 'üust', 'üâjili', 'üã',\n",
       "       'üè__', 'üècia'], dtype=object)"
      ]
     },
     "execution_count": 17,
     "metadata": {},
     "output_type": "execute_result"
    }
   ],
   "source": [
    "# Have a look at the last 100 words in the tfidf model\n",
    "tfidf.get_feature_names_out()[-100:]"
   ]
  },
  {
   "cell_type": "markdown",
   "id": "87ad59ba",
   "metadata": {},
   "source": [
    "Many of those words make no sense! It includes rare strings and typos.\n",
    "\n",
    "In such cases it is generelly advisable to reduce the number of words in our tfidf vector by removing words which are either occuring very rarely (only a few in the whole dataset) or which occur very often (in a large part of the documents). The first means our machine learning models can anyway not really learn a lot from it because it hardly occurs during training. The second means that such words probably have very little *discriminative power* because they are so common.\n",
    "\n",
    "Both things can easily be done with the `TfidfVectorizer` by setting the `min_df` (minimum document frequency) and the `max_df` (maximum document frequency) values. We can use integers which will be interpreted as absolute numbers, for instance `min_df=10` means the word must occur at least 10 times. But we can also use floats which will be interpreted as fractions, so `max_df=0.25` meant that words which occur in more than 25% of all documents are not taken into our tfidf vectors."
   ]
  },
  {
   "cell_type": "code",
   "execution_count": 18,
   "id": "e5732ec6",
   "metadata": {},
   "outputs": [
    {
     "data": {
      "text/plain": [
       "(16392, 8533)"
      ]
     },
     "execution_count": 18,
     "metadata": {},
     "output_type": "execute_result"
    }
   ],
   "source": [
    "tfidf = TfidfVectorizer(min_df=10, max_df=0.25)\n",
    "tfidf_vectors = tfidf.fit_transform(X_train)\n",
    "tfidf_vectors.shape"
   ]
  },
  {
   "cell_type": "code",
   "execution_count": 19,
   "id": "169d4709",
   "metadata": {},
   "outputs": [
    {
     "data": {
      "text/plain": [
       "array(['workers', 'working', 'workmen', 'workout', 'works', 'world',\n",
       "       'worlds', 'worldwide', 'worn', 'worried', 'worries', 'worry',\n",
       "       'worrying', 'worse', 'worst', 'worth', 'worthwhile', 'worthy',\n",
       "       'wotif', 'would', 'wouldn__ç_é_', 'wouldnt', 'wound', 'wow',\n",
       "       'wrap', 'wrapped', 'wraps', 'wreck', 'wrist', 'wristband', 'write',\n",
       "       'writing', 'written', 'wrong', 'wrote', 'wrought', 'wtc', 'www',\n",
       "       'wyndham', 'wynyard', 'xmas', 'ya', 'yahoo', 'yard', 'yards',\n",
       "       'yea', 'yeah', 'year', 'yearly', 'years', 'yell', 'yelled',\n",
       "       'yelling', 'yellow', 'yen', 'yep', 'yes', 'yesterday', 'yet',\n",
       "       'yikes', 'yo', 'yoga', 'yoghurt', 'yoghurts', 'yogurt', 'yogurts',\n",
       "       'york', 'yorker', 'yorkers', 'you', 'you__ç_éèe', 'you__ç_éêl',\n",
       "       'you__ç_éö', 'young', 'younger', 'youngest', 'your', 'youre',\n",
       "       'yourself', 'youth', 'yr', 'yrs', 'yuan', 'yuck', 'yuk', 'yum',\n",
       "       'yummy', 'yunque', 'zealand', 'zen', 'zero', 'zip', 'zocalo',\n",
       "       'zona', 'zone', 'zones', 'zoo', 'äcor', 'äes', 'äs'], dtype=object)"
      ]
     },
     "execution_count": 19,
     "metadata": {},
     "output_type": "execute_result"
    }
   ],
   "source": [
    "# Again have a look at the last 100 words in the tfidf model\n",
    "tfidf.get_feature_names_out()[-100:]"
   ]
  },
  {
   "cell_type": "markdown",
   "id": "02ad2055",
   "metadata": {},
   "source": [
    "This already looks much better! The data still contains some weird words, but we will leave those for now."
   ]
  },
  {
   "cell_type": "code",
   "execution_count": 20,
   "id": "a8ed78c1",
   "metadata": {},
   "outputs": [
    {
     "data": {
      "text/plain": [
       "array([0.06700227, 0.04814239, 0.0737314 , 0.14154248, 0.10954503,\n",
       "       0.07379485, 0.05589574, 0.02538999, 0.03330127, 0.07433131,\n",
       "       0.07433131, 0.04219366, 0.04137184, 0.05397631, 0.03138902,\n",
       "       0.04151596, 0.06958298, 0.02706299, 0.06886759, 0.03304963,\n",
       "       0.04081672, 0.05737137, 0.05624327, 0.05360418, 0.06619347,\n",
       "       0.02755513, 0.05002418, 0.05606788, 0.05404594, 0.04785075,\n",
       "       0.04915887, 0.03642892, 0.03748446, 0.03243513, 0.07721433,\n",
       "       0.30833586, 0.04426299, 0.04034077, 0.03785657, 0.03519163,\n",
       "       0.06277531, 0.02390963, 0.06435793, 0.05350299, 0.06728831,\n",
       "       0.0692184 , 0.05539765, 0.06313989, 0.04911765, 0.05564336,\n",
       "       0.06758343, 0.07433131, 0.06259825, 0.0370815 , 0.1068746 ,\n",
       "       0.04739551, 0.03907159, 0.03288319, 0.04419008, 0.04091831,\n",
       "       0.04135398, 0.04753323, 0.04492   , 0.0333464 , 0.04303091,\n",
       "       0.0957015 , 0.07615933, 0.07316787, 0.06758343, 0.05250387,\n",
       "       0.04423862, 0.04423862, 0.0652141 , 0.05165567, 0.13853985,\n",
       "       0.03150579, 0.02665046, 0.23164298, 0.05275866, 0.09108527,\n",
       "       0.13444755, 0.09382108, 0.10954503, 0.06700227, 0.05539765,\n",
       "       0.04749861, 0.0377591 , 0.04781493, 0.03839869, 0.06351934,\n",
       "       0.0266909 , 0.04271578, 0.03033907, 0.04078311, 0.04557067,\n",
       "       0.03830825, 0.11754202, 0.0503942 , 0.09477833, 0.04329094,\n",
       "       0.05767617, 0.10984981, 0.06160136, 0.05454852, 0.0298762 ,\n",
       "       0.03355992, 0.03233317, 0.07775643, 0.07971517, 0.02936134,\n",
       "       0.02768133, 0.03363738, 0.05462259, 0.1457154 , 0.04588483,\n",
       "       0.07751199, 0.03236025, 0.04746412, 0.03132208, 0.05440213,\n",
       "       0.04421432, 0.05688459, 0.05053684, 0.04746412, 0.05949569,\n",
       "       0.05274376, 0.07336576, 0.07263656, 0.03881012, 0.07509548,\n",
       "       0.04574072, 0.06135586, 0.06454185, 0.0334297 , 0.05994018,\n",
       "       0.03294796, 0.03825697, 0.04636163, 0.05809876, 0.02853945,\n",
       "       0.14633573, 0.05937092, 0.04446024, 0.06802072, 0.09465483,\n",
       "       0.03802962, 0.03411622, 0.03610889, 0.03863536, 0.06470694,\n",
       "       0.09758859, 0.03315243, 0.03636611, 0.06028169, 0.06642336,\n",
       "       0.03533992, 0.09977828, 0.08373493, 0.0373908 , 0.02631188,\n",
       "       0.0526832 , 0.02898129, 0.04008825, 0.04060035, 0.06351934,\n",
       "       0.02896245, 0.04887409, 0.02379561, 0.13081138, 0.03259367,\n",
       "       0.05053684, 0.0942867 , 0.07433131, 0.04409375, 0.07497263,\n",
       "       0.03235347, 0.04421432, 0.0504415 , 0.04993394, 0.06218894,\n",
       "       0.03934063, 0.04173641, 0.05988039, 0.03919806, 0.05102878,\n",
       "       0.06799905, 0.03377057, 0.03209952, 0.04109014, 0.02481554,\n",
       "       0.07081109, 0.08461189, 0.02768953, 0.03248309, 0.05929106,\n",
       "       0.04591393, 0.03610889, 0.03639747, 0.0959347 , 0.03734433,\n",
       "       0.06432815, 0.12320272, 0.05118158, 0.06857963, 0.06271706,\n",
       "       0.07497263, 0.02682822, 0.12083881, 0.05087844, 0.16477471,\n",
       "       0.03443276, 0.14240732, 0.13344956, 0.06313989, 0.05398083])"
      ]
     },
     "execution_count": 20,
     "metadata": {},
     "output_type": "execute_result"
    }
   ],
   "source": [
    "tfidf_vectors[0, :].data"
   ]
  },
  {
   "cell_type": "code",
   "execution_count": 21,
   "id": "19b4001c",
   "metadata": {},
   "outputs": [
    {
     "data": {
      "text/plain": [
       "array([2894,  864,  991, 6611, 6697,  871, 4969, 7835, 3743, 2802, 2268,\n",
       "       6922, 7978, 6620, 5274, 5551, 1555, 8271, 8384, 3622, 1706, 7239,\n",
       "       4021, 8229, 2381, 7254, 7650, 5902,  336, 5069, 2957, 5398, 1479,\n",
       "       4456, 3270, 2976, 2477,  301, 4967, 1333, 6204, 6070, 4966,  302,\n",
       "       1712,  778, 3356, 8206, 7235, 3432, 4619, 8203, 4668, 3875, 6431,\n",
       "       1450, 7299, 2907, 2926,  473, 6766, 2966,  149,  121, 3454, 8364,\n",
       "       6375, 8105, 5406, 2297, 1376, 1040, 5720, 6552, 6816, 2916, 8328,\n",
       "       2384, 8287, 5188, 4808, 2546, 5075,  847, 7547, 3358, 4786, 5623,\n",
       "       6858, 8320, 3170, 3469, 2413, 5074, 5651,    0,    3, 7664, 6484,\n",
       "       1624, 3792, 6825, 1807, 8246, 8041, 7753, 8162, 3746, 3457, 4979,\n",
       "       6266, 2817, 3634, 5681, 7899, 5682, 3674, 8463, 5077, 3914, 4740,\n",
       "       2044, 6343, 5892,  725, 6687, 6286, 6604, 4155, 6285, 6603, 2547,\n",
       "       1904,  656, 7395, 8430, 1453, 7455, 3145, 4410, 5695, 6024, 7961,\n",
       "        258, 8398, 1434, 1242, 4327, 8383, 5197, 3576, 1295, 1670, 5744,\n",
       "       3745, 4296,  249, 7877, 2820,  963,  255, 5281, 7863, 3957, 7139,\n",
       "       6786, 2110,  855, 2891, 7888, 8441, 4394,  903, 6977, 4927, 4832,\n",
       "       3237, 4754, 4810, 7607, 8434, 2553, 7338, 7454, 6112, 6916, 6477,\n",
       "       3861, 8215,  892,  304, 5954, 6550, 3763,  899, 5931, 5136, 8150,\n",
       "        604, 7756, 5295, 5096, 5142, 1211, 4533, 2769, 4546,  662, 1448,\n",
       "       2259, 6005, 2046, 8145, 5973, 1503])"
      ]
     },
     "execution_count": 21,
     "metadata": {},
     "output_type": "execute_result"
    }
   ],
   "source": [
    "tfidf_vectors[0, :].indices"
   ]
  },
  {
   "cell_type": "code",
   "execution_count": 22,
   "id": "aa862adf",
   "metadata": {},
   "outputs": [
    {
     "data": {
      "text/html": [
       "<div>\n",
       "<style scoped>\n",
       "    .dataframe tbody tr th:only-of-type {\n",
       "        vertical-align: middle;\n",
       "    }\n",
       "\n",
       "    .dataframe tbody tr th {\n",
       "        vertical-align: top;\n",
       "    }\n",
       "\n",
       "    .dataframe thead th {\n",
       "        text-align: right;\n",
       "    }\n",
       "</style>\n",
       "<table border=\"1\" class=\"dataframe\">\n",
       "  <thead>\n",
       "    <tr style=\"text-align: right;\">\n",
       "      <th></th>\n",
       "      <th>word</th>\n",
       "      <th>tfidf</th>\n",
       "    </tr>\n",
       "  </thead>\n",
       "  <tbody>\n",
       "    <tr>\n",
       "      <th>0</th>\n",
       "      <td>fajardo</td>\n",
       "      <td>0.067002</td>\n",
       "    </tr>\n",
       "    <tr>\n",
       "      <th>1</th>\n",
       "      <td>bay</td>\n",
       "      <td>0.048142</td>\n",
       "    </tr>\n",
       "    <tr>\n",
       "      <th>2</th>\n",
       "      <td>bioluminescent</td>\n",
       "      <td>0.073731</td>\n",
       "    </tr>\n",
       "    <tr>\n",
       "      <th>3</th>\n",
       "      <td>seas</td>\n",
       "      <td>0.141542</td>\n",
       "    </tr>\n",
       "    <tr>\n",
       "      <th>4</th>\n",
       "      <td>seven</td>\n",
       "      <td>0.109545</td>\n",
       "    </tr>\n",
       "    <tr>\n",
       "      <th>...</th>\n",
       "      <td>...</td>\n",
       "      <td>...</td>\n",
       "    </tr>\n",
       "    <tr>\n",
       "      <th>210</th>\n",
       "      <td>rate</td>\n",
       "      <td>0.034433</td>\n",
       "    </tr>\n",
       "    <tr>\n",
       "      <th>211</th>\n",
       "      <td>culebra</td>\n",
       "      <td>0.142407</td>\n",
       "    </tr>\n",
       "    <tr>\n",
       "      <th>212</th>\n",
       "      <td>vieques</td>\n",
       "      <td>0.133450</td>\n",
       "    </tr>\n",
       "    <tr>\n",
       "      <th>213</th>\n",
       "      <td>rainforest</td>\n",
       "      <td>0.063140</td>\n",
       "    </tr>\n",
       "    <tr>\n",
       "      <th>214</th>\n",
       "      <td>check</td>\n",
       "      <td>0.053981</td>\n",
       "    </tr>\n",
       "  </tbody>\n",
       "</table>\n",
       "<p>215 rows × 2 columns</p>\n",
       "</div>"
      ],
      "text/plain": [
       "               word     tfidf\n",
       "0           fajardo  0.067002\n",
       "1               bay  0.048142\n",
       "2    bioluminescent  0.073731\n",
       "3              seas  0.141542\n",
       "4             seven  0.109545\n",
       "..              ...       ...\n",
       "210            rate  0.034433\n",
       "211         culebra  0.142407\n",
       "212         vieques  0.133450\n",
       "213      rainforest  0.063140\n",
       "214           check  0.053981\n",
       "\n",
       "[215 rows x 2 columns]"
      ]
     },
     "execution_count": 22,
     "metadata": {},
     "output_type": "execute_result"
    }
   ],
   "source": [
    "example_vector = pd.DataFrame({\n",
    "    \"word\": tfidf.get_feature_names_out()[tfidf_vectors[0, :].indices],\n",
    "    \"tfidf\": tfidf_vectors[0, :].data\n",
    "})\n",
    "example_vector"
   ]
  },
  {
   "cell_type": "code",
   "execution_count": 23,
   "id": "49c3790f",
   "metadata": {},
   "outputs": [
    {
     "name": "stdout",
     "output_type": "stream",
     "text": [
      "[0.03830825 0.         0.         0.11754202 0.         0.\n",
      " 0.         0.         0.         0.         0.         0.\n",
      " 0.         0.         0.         0.         0.         0.\n",
      " 0.         0.        ]\n",
      "(1, 8533)\n"
     ]
    }
   ],
   "source": [
    "# we don't really want to look at the full vector (let's do 20)\n",
    "print(tfidf_vectors[0, :].toarray()[0, :20])\n",
    "print(tfidf_vectors[0, :].toarray().shape)"
   ]
  },
  {
   "cell_type": "markdown",
   "id": "a5660b7f",
   "metadata": {},
   "source": [
    "## Regression or Classification?\n",
    "\n",
    "When we're dealing with machine learning tasks involving labels or targets, these tasks usually fall under two main categories: Regression and Classification.\n",
    "\n",
    "As we already discussed in the machine learning part of the course, **regression** generally refers to predicting a continuous number while **classification** refers to the prediction of specific, discrete values.\n",
    "\n",
    "If we want to predict if a mail is spam or not, or if we want to predict if an image displays a dog, a cat, or a parrot, we have a classification task.\n",
    "\n",
    "Here we want to predict ratings between 0 (bad) and 5 (very good), so what kind of task is this? What do you think?"
   ]
  },
  {
   "cell_type": "markdown",
   "id": "cb94f22e",
   "metadata": {},
   "source": [
    "---\n",
    "Actually, this case is a bit of a gray zone.\n",
    "\n",
    "The ratings are discrete numbers: 1, 2, 3, 4, or 5. But the ratings are also **ordered**, so that predicting a 2 where the true label is a 1 is not that bad! When we train a model on a classification task, then it usually doesn't matter which wrong class was predicted, so predicting a 2 where it's actually 1 is as bad as predicting a 4 [^loss-functions]. So, that makes *regression* to appear as the natural choice...\n",
    "\n",
    "However, in practice, training a model on a classification task typically works notably better in such situations where we only have very few possible ordered values (see also {cite}`Gupta2010`).\n",
    "\n",
    "Nevertheless, we will start with a **linear regression** model and than compare it to a **logistic regression** model.\n",
    "\n",
    "[^loss-function]: In reality it is a bit more complex than that, but it remains correct in essence. A classification model will not be judged by its final prediction, but rather by the float values it gives each class before finally picking the one with the highest value (or the one above a certain threshold). Still, an ordering of the classes is not accounted for."
   ]
  },
  {
   "cell_type": "code",
   "execution_count": 24,
   "id": "9ecbed72",
   "metadata": {},
   "outputs": [
    {
     "data": {
      "text/plain": [
       "4115     4\n",
       "16210    5\n",
       "4075     4\n",
       "8215     3\n",
       "6499     4\n",
       "Name: Rating, dtype: int64"
      ]
     },
     "execution_count": 24,
     "metadata": {},
     "output_type": "execute_result"
    }
   ],
   "source": [
    "y_train.head()"
   ]
  },
  {
   "cell_type": "markdown",
   "id": "51ee5463",
   "metadata": {},
   "source": [
    "### Linear Regression model\n",
    "- This model is fast to train an can handle the size of this data fairly well.\n",
    "- It will output floats instead of the actual labels 1 to 5."
   ]
  },
  {
   "cell_type": "code",
   "execution_count": 25,
   "id": "c427e117",
   "metadata": {},
   "outputs": [
    {
     "data": {
      "text/html": [
       "<style>#sk-container-id-1 {color: black;}#sk-container-id-1 pre{padding: 0;}#sk-container-id-1 div.sk-toggleable {background-color: white;}#sk-container-id-1 label.sk-toggleable__label {cursor: pointer;display: block;width: 100%;margin-bottom: 0;padding: 0.3em;box-sizing: border-box;text-align: center;}#sk-container-id-1 label.sk-toggleable__label-arrow:before {content: \"▸\";float: left;margin-right: 0.25em;color: #696969;}#sk-container-id-1 label.sk-toggleable__label-arrow:hover:before {color: black;}#sk-container-id-1 div.sk-estimator:hover label.sk-toggleable__label-arrow:before {color: black;}#sk-container-id-1 div.sk-toggleable__content {max-height: 0;max-width: 0;overflow: hidden;text-align: left;background-color: #f0f8ff;}#sk-container-id-1 div.sk-toggleable__content pre {margin: 0.2em;color: black;border-radius: 0.25em;background-color: #f0f8ff;}#sk-container-id-1 input.sk-toggleable__control:checked~div.sk-toggleable__content {max-height: 200px;max-width: 100%;overflow: auto;}#sk-container-id-1 input.sk-toggleable__control:checked~label.sk-toggleable__label-arrow:before {content: \"▾\";}#sk-container-id-1 div.sk-estimator input.sk-toggleable__control:checked~label.sk-toggleable__label {background-color: #d4ebff;}#sk-container-id-1 div.sk-label input.sk-toggleable__control:checked~label.sk-toggleable__label {background-color: #d4ebff;}#sk-container-id-1 input.sk-hidden--visually {border: 0;clip: rect(1px 1px 1px 1px);clip: rect(1px, 1px, 1px, 1px);height: 1px;margin: -1px;overflow: hidden;padding: 0;position: absolute;width: 1px;}#sk-container-id-1 div.sk-estimator {font-family: monospace;background-color: #f0f8ff;border: 1px dotted black;border-radius: 0.25em;box-sizing: border-box;margin-bottom: 0.5em;}#sk-container-id-1 div.sk-estimator:hover {background-color: #d4ebff;}#sk-container-id-1 div.sk-parallel-item::after {content: \"\";width: 100%;border-bottom: 1px solid gray;flex-grow: 1;}#sk-container-id-1 div.sk-label:hover label.sk-toggleable__label {background-color: #d4ebff;}#sk-container-id-1 div.sk-serial::before {content: \"\";position: absolute;border-left: 1px solid gray;box-sizing: border-box;top: 0;bottom: 0;left: 50%;z-index: 0;}#sk-container-id-1 div.sk-serial {display: flex;flex-direction: column;align-items: center;background-color: white;padding-right: 0.2em;padding-left: 0.2em;position: relative;}#sk-container-id-1 div.sk-item {position: relative;z-index: 1;}#sk-container-id-1 div.sk-parallel {display: flex;align-items: stretch;justify-content: center;background-color: white;position: relative;}#sk-container-id-1 div.sk-item::before, #sk-container-id-1 div.sk-parallel-item::before {content: \"\";position: absolute;border-left: 1px solid gray;box-sizing: border-box;top: 0;bottom: 0;left: 50%;z-index: -1;}#sk-container-id-1 div.sk-parallel-item {display: flex;flex-direction: column;z-index: 1;position: relative;background-color: white;}#sk-container-id-1 div.sk-parallel-item:first-child::after {align-self: flex-end;width: 50%;}#sk-container-id-1 div.sk-parallel-item:last-child::after {align-self: flex-start;width: 50%;}#sk-container-id-1 div.sk-parallel-item:only-child::after {width: 0;}#sk-container-id-1 div.sk-dashed-wrapped {border: 1px dashed gray;margin: 0 0.4em 0.5em 0.4em;box-sizing: border-box;padding-bottom: 0.4em;background-color: white;}#sk-container-id-1 div.sk-label label {font-family: monospace;font-weight: bold;display: inline-block;line-height: 1.2em;}#sk-container-id-1 div.sk-label-container {text-align: center;}#sk-container-id-1 div.sk-container {/* jupyter's `normalize.less` sets `[hidden] { display: none; }` but bootstrap.min.css set `[hidden] { display: none !important; }` so we also need the `!important` here to be able to override the default hidden behavior on the sphinx rendered scikit-learn.org. See: https://github.com/scikit-learn/scikit-learn/issues/21755 */display: inline-block !important;position: relative;}#sk-container-id-1 div.sk-text-repr-fallback {display: none;}</style><div id=\"sk-container-id-1\" class=\"sk-top-container\"><div class=\"sk-text-repr-fallback\"><pre>LinearRegression()</pre><b>In a Jupyter environment, please rerun this cell to show the HTML representation or trust the notebook. <br />On GitHub, the HTML representation is unable to render, please try loading this page with nbviewer.org.</b></div><div class=\"sk-container\" hidden><div class=\"sk-item\"><div class=\"sk-estimator sk-toggleable\"><input class=\"sk-toggleable__control sk-hidden--visually\" id=\"sk-estimator-id-1\" type=\"checkbox\" checked><label for=\"sk-estimator-id-1\" class=\"sk-toggleable__label sk-toggleable__label-arrow\">LinearRegression</label><div class=\"sk-toggleable__content\"><pre>LinearRegression()</pre></div></div></div></div></div>"
      ],
      "text/plain": [
       "LinearRegression()"
      ]
     },
     "execution_count": 25,
     "metadata": {},
     "output_type": "execute_result"
    }
   ],
   "source": [
    "from sklearn.linear_model import LinearRegression\n",
    "\n",
    "model = LinearRegression()\n",
    "model.fit(tfidf_vectors, y_train)"
   ]
  },
  {
   "cell_type": "markdown",
   "id": "8b8ce51c",
   "metadata": {},
   "source": [
    "#### Evaluate the model\n",
    "For this we will first convert the test data using the exact same tfidf model as for the train data. This is very important, if you compute a new tfidf model using fit or fit_transform, this approach won't work!"
   ]
  },
  {
   "cell_type": "code",
   "execution_count": 26,
   "id": "9963dae0",
   "metadata": {},
   "outputs": [],
   "source": [
    "tfidf_vectors_test = tfidf.transform(X_test)\n",
    "\n",
    "predictions = model.predict(tfidf_vectors_test)"
   ]
  },
  {
   "cell_type": "code",
   "execution_count": 27,
   "id": "51e79d29",
   "metadata": {},
   "outputs": [
    {
     "data": {
      "text/plain": [
       "array([1.9, 1.8, 5.7, 6.1, 3.7, 4.7, 3.5, 1.6, 5.2, 3.7, 4. , 4. , 5.3,\n",
       "       4.5, 4.3, 5.3, 5.7, 3. , 4.5, 4.4])"
      ]
     },
     "execution_count": 27,
     "metadata": {},
     "output_type": "execute_result"
    }
   ],
   "source": [
    "np.round(predictions[:20], 1)"
   ]
  },
  {
   "cell_type": "code",
   "execution_count": 28,
   "id": "ff9b3a9d",
   "metadata": {},
   "outputs": [
    {
     "data": {
      "text/plain": [
       "array([2, 2, 4, 5, 3, 5, 4, 3, 4, 5, 4, 4, 4, 4, 5, 5, 5, 4, 5, 5],\n",
       "      dtype=int64)"
      ]
     },
     "execution_count": 28,
     "metadata": {},
     "output_type": "execute_result"
    }
   ],
   "source": [
    "y_test[:20].values"
   ]
  },
  {
   "cell_type": "markdown",
   "id": "e66f3249",
   "metadata": {},
   "source": [
    "How good are the predictions?"
   ]
  },
  {
   "cell_type": "code",
   "execution_count": 29,
   "id": "b40cad58",
   "metadata": {},
   "outputs": [
    {
     "data": {
      "text/plain": [
       "<Axes: xlabel='Rating', ylabel='Count'>"
      ]
     },
     "execution_count": 29,
     "metadata": {},
     "output_type": "execute_result"
    },
    {
     "data": {
      "image/png": "[encoded data removed]",
      "text/plain": [
       "<Figure size 640x480 with 1 Axes>"
      ]
     },
     "metadata": {},
     "output_type": "display_data"
    }
   ],
   "source": [
    "sb.histplot(predictions - y_test)"
   ]
  },
  {
   "cell_type": "code",
   "execution_count": 30,
   "id": "98421bdb",
   "metadata": {},
   "outputs": [
    {
     "data": {
      "text/plain": [
       "0.787206806488315"
      ]
     },
     "execution_count": 30,
     "metadata": {},
     "output_type": "execute_result"
    }
   ],
   "source": [
    "# mean absolute error:\n",
    "np.abs(predictions - y_test).mean()"
   ]
  },
  {
   "cell_type": "markdown",
   "id": "3611d592",
   "metadata": {},
   "source": [
    "A mean absolute error of 0.8 for rating from 1 to 5 is not spectacular, but it isn't bad either. There is one very particular problem due to the linear regression model though:"
   ]
  },
  {
   "cell_type": "code",
   "execution_count": 31,
   "id": "41f7732c",
   "metadata": {},
   "outputs": [
    {
     "data": {
      "text/plain": [
       "(-1.8632384891273492, 7.2737304843207395)"
      ]
     },
     "execution_count": 31,
     "metadata": {},
     "output_type": "execute_result"
    }
   ],
   "source": [
    "predictions.min(), predictions.max()"
   ]
  },
  {
   "cell_type": "markdown",
   "id": "ef1dfbe2",
   "metadata": {},
   "source": [
    "#### Prediction of impossible values\n",
    "The linear regression model has no bounds and could in principle output any float value. Here we got impossible negative values and ratings > 5. This could of course be fixed by simply adding an additional line of code that sets all values < 1 to 1 and all values > 5 to 5."
   ]
  },
  {
   "cell_type": "code",
   "execution_count": 32,
   "id": "733c0fca",
   "metadata": {},
   "outputs": [
    {
     "name": "stdout",
     "output_type": "stream",
     "text": [
      "Mean absolute error after clipping the predictions: 0.6740048418378741\n"
     ]
    }
   ],
   "source": [
    "predictions[predictions < 1] = 1\n",
    "predictions[predictions > 5] = 5\n",
    "\n",
    "print(f\"Mean absolute error after clipping the predictions: {np.abs(predictions - y_test).mean()}\")"
   ]
  },
  {
   "cell_type": "code",
   "execution_count": 33,
   "id": "45848c1c",
   "metadata": {},
   "outputs": [
    {
     "data": {
      "text/plain": [
       "<Axes: xlabel='Rating', ylabel='Count'>"
      ]
     },
     "execution_count": 33,
     "metadata": {},
     "output_type": "execute_result"
    },
    {
     "data": {
      "image/png": "[encoded data removed]",
      "text/plain": [
       "<Figure size 640x480 with 1 Axes>"
      ]
     },
     "metadata": {},
     "output_type": "display_data"
    }
   ],
   "source": [
    "sb.histplot(predictions - y_test)"
   ]
  },
  {
   "cell_type": "markdown",
   "id": "c3126472",
   "metadata": {},
   "source": [
    "Interestingly, this clipping step improved the quality of the predictions notably which can both be seen in the mean absolute error (MAE) and the error distribution.\n",
    "\n",
    "### Logistic Regression model\n",
    "- hint: in this case don't worry if you get warnings about reaching the iterations limit"
   ]
  },
  {
   "cell_type": "code",
   "execution_count": 34,
   "id": "a70afa1a",
   "metadata": {},
   "outputs": [
    {
     "name": "stderr",
     "output_type": "stream",
     "text": [
      "C:\\Users\\flori\\anaconda3\\envs\\data_science\\lib\\site-packages\\sklearn\\linear_model\\_logistic.py:460: ConvergenceWarning: lbfgs failed to converge (status=1):\n",
      "STOP: TOTAL NO. of ITERATIONS REACHED LIMIT.\n",
      "\n",
      "Increase the number of iterations (max_iter) or scale the data as shown in:\n",
      "    https://scikit-learn.org/stable/modules/preprocessing.html\n",
      "Please also refer to the documentation for alternative solver options:\n",
      "    https://scikit-learn.org/stable/modules/linear_model.html#logistic-regression\n",
      "  n_iter_i = _check_optimize_result(\n"
     ]
    },
    {
     "data": {
      "text/html": [
       "<style>#sk-container-id-2 {color: black;}#sk-container-id-2 pre{padding: 0;}#sk-container-id-2 div.sk-toggleable {background-color: white;}#sk-container-id-2 label.sk-toggleable__label {cursor: pointer;display: block;width: 100%;margin-bottom: 0;padding: 0.3em;box-sizing: border-box;text-align: center;}#sk-container-id-2 label.sk-toggleable__label-arrow:before {content: \"▸\";float: left;margin-right: 0.25em;color: #696969;}#sk-container-id-2 label.sk-toggleable__label-arrow:hover:before {color: black;}#sk-container-id-2 div.sk-estimator:hover label.sk-toggleable__label-arrow:before {color: black;}#sk-container-id-2 div.sk-toggleable__content {max-height: 0;max-width: 0;overflow: hidden;text-align: left;background-color: #f0f8ff;}#sk-container-id-2 div.sk-toggleable__content pre {margin: 0.2em;color: black;border-radius: 0.25em;background-color: #f0f8ff;}#sk-container-id-2 input.sk-toggleable__control:checked~div.sk-toggleable__content {max-height: 200px;max-width: 100%;overflow: auto;}#sk-container-id-2 input.sk-toggleable__control:checked~label.sk-toggleable__label-arrow:before {content: \"▾\";}#sk-container-id-2 div.sk-estimator input.sk-toggleable__control:checked~label.sk-toggleable__label {background-color: #d4ebff;}#sk-container-id-2 div.sk-label input.sk-toggleable__control:checked~label.sk-toggleable__label {background-color: #d4ebff;}#sk-container-id-2 input.sk-hidden--visually {border: 0;clip: rect(1px 1px 1px 1px);clip: rect(1px, 1px, 1px, 1px);height: 1px;margin: -1px;overflow: hidden;padding: 0;position: absolute;width: 1px;}#sk-container-id-2 div.sk-estimator {font-family: monospace;background-color: #f0f8ff;border: 1px dotted black;border-radius: 0.25em;box-sizing: border-box;margin-bottom: 0.5em;}#sk-container-id-2 div.sk-estimator:hover {background-color: #d4ebff;}#sk-container-id-2 div.sk-parallel-item::after {content: \"\";width: 100%;border-bottom: 1px solid gray;flex-grow: 1;}#sk-container-id-2 div.sk-label:hover label.sk-toggleable__label {background-color: #d4ebff;}#sk-container-id-2 div.sk-serial::before {content: \"\";position: absolute;border-left: 1px solid gray;box-sizing: border-box;top: 0;bottom: 0;left: 50%;z-index: 0;}#sk-container-id-2 div.sk-serial {display: flex;flex-direction: column;align-items: center;background-color: white;padding-right: 0.2em;padding-left: 0.2em;position: relative;}#sk-container-id-2 div.sk-item {position: relative;z-index: 1;}#sk-container-id-2 div.sk-parallel {display: flex;align-items: stretch;justify-content: center;background-color: white;position: relative;}#sk-container-id-2 div.sk-item::before, #sk-container-id-2 div.sk-parallel-item::before {content: \"\";position: absolute;border-left: 1px solid gray;box-sizing: border-box;top: 0;bottom: 0;left: 50%;z-index: -1;}#sk-container-id-2 div.sk-parallel-item {display: flex;flex-direction: column;z-index: 1;position: relative;background-color: white;}#sk-container-id-2 div.sk-parallel-item:first-child::after {align-self: flex-end;width: 50%;}#sk-container-id-2 div.sk-parallel-item:last-child::after {align-self: flex-start;width: 50%;}#sk-container-id-2 div.sk-parallel-item:only-child::after {width: 0;}#sk-container-id-2 div.sk-dashed-wrapped {border: 1px dashed gray;margin: 0 0.4em 0.5em 0.4em;box-sizing: border-box;padding-bottom: 0.4em;background-color: white;}#sk-container-id-2 div.sk-label label {font-family: monospace;font-weight: bold;display: inline-block;line-height: 1.2em;}#sk-container-id-2 div.sk-label-container {text-align: center;}#sk-container-id-2 div.sk-container {/* jupyter's `normalize.less` sets `[hidden] { display: none; }` but bootstrap.min.css set `[hidden] { display: none !important; }` so we also need the `!important` here to be able to override the default hidden behavior on the sphinx rendered scikit-learn.org. See: https://github.com/scikit-learn/scikit-learn/issues/21755 */display: inline-block !important;position: relative;}#sk-container-id-2 div.sk-text-repr-fallback {display: none;}</style><div id=\"sk-container-id-2\" class=\"sk-top-container\"><div class=\"sk-text-repr-fallback\"><pre>LogisticRegression()</pre><b>In a Jupyter environment, please rerun this cell to show the HTML representation or trust the notebook. <br />On GitHub, the HTML representation is unable to render, please try loading this page with nbviewer.org.</b></div><div class=\"sk-container\" hidden><div class=\"sk-item\"><div class=\"sk-estimator sk-toggleable\"><input class=\"sk-toggleable__control sk-hidden--visually\" id=\"sk-estimator-id-2\" type=\"checkbox\" checked><label for=\"sk-estimator-id-2\" class=\"sk-toggleable__label sk-toggleable__label-arrow\">LogisticRegression</label><div class=\"sk-toggleable__content\"><pre>LogisticRegression()</pre></div></div></div></div></div>"
      ],
      "text/plain": [
       "LogisticRegression()"
      ]
     },
     "execution_count": 34,
     "metadata": {},
     "output_type": "execute_result"
    }
   ],
   "source": [
    "from sklearn.linear_model import LogisticRegression\n",
    "\n",
    "model = LogisticRegression()\n",
    "model.fit(tfidf_vectors, y_train)"
   ]
  },
  {
   "cell_type": "code",
   "execution_count": 35,
   "id": "98a753d6",
   "metadata": {},
   "outputs": [],
   "source": [
    "tfidf_vectors_test = tfidf.transform(X_test)\n",
    "\n",
    "predictions = model.predict(tfidf_vectors_test)"
   ]
  },
  {
   "cell_type": "code",
   "execution_count": 36,
   "id": "835acb48",
   "metadata": {},
   "outputs": [
    {
     "data": {
      "text/plain": [
       "array([2, 4, 5, 5, 4, 5, 5, 2, 5, 5, 4, 4, 4, 5, 5, 5, 5, 4, 4, 5],\n",
       "      dtype=int64)"
      ]
     },
     "execution_count": 36,
     "metadata": {},
     "output_type": "execute_result"
    }
   ],
   "source": [
    "np.round(predictions[:20], 1)"
   ]
  },
  {
   "cell_type": "code",
   "execution_count": 37,
   "id": "6daf658c",
   "metadata": {},
   "outputs": [
    {
     "data": {
      "text/plain": [
       "array([2, 2, 4, 5, 3, 5, 4, 3, 4, 5, 4, 4, 4, 4, 5, 5, 5, 4, 5, 5],\n",
       "      dtype=int64)"
      ]
     },
     "execution_count": 37,
     "metadata": {},
     "output_type": "execute_result"
    }
   ],
   "source": [
    "y_test[:20].values"
   ]
  },
  {
   "cell_type": "code",
   "execution_count": 38,
   "id": "57c09f27",
   "metadata": {},
   "outputs": [
    {
     "data": {
      "text/plain": [
       "<Axes: xlabel='Rating', ylabel='Count'>"
      ]
     },
     "execution_count": 38,
     "metadata": {},
     "output_type": "execute_result"
    },
    {
     "data": {
      "image/png": "[encoded data removed]",
      "text/plain": [
       "<Figure size 640x480 with 1 Axes>"
      ]
     },
     "metadata": {},
     "output_type": "display_data"
    }
   ],
   "source": [
    "sb.histplot(predictions - y_test)"
   ]
  },
  {
   "cell_type": "code",
   "execution_count": 39,
   "id": "73246c8b",
   "metadata": {},
   "outputs": [
    {
     "data": {
      "text/plain": [
       "0.4996340570870944"
      ]
     },
     "execution_count": 39,
     "metadata": {},
     "output_type": "execute_result"
    }
   ],
   "source": [
    "# mean absolute error:\n",
    "np.abs(predictions - y_test).mean()"
   ]
  },
  {
   "cell_type": "markdown",
   "id": "ec7f57b7",
   "metadata": {},
   "source": [
    "### Back to: regression vs. classification\n",
    "For a classification task it usually does not make sense to compute mean absolute errors. But here it does. And it allows us to compare the performance of the linear regression vs. the logistic regression model. And, as spoiled above, the classification task does indeed result in better predictions!"
   ]
  },
  {
   "cell_type": "code",
   "execution_count": 40,
   "id": "1e27f698",
   "metadata": {},
   "outputs": [
    {
     "name": "stdout",
     "output_type": "stream",
     "text": [
      "[[ 167   65    7   30   16]\n",
      " [  59  119   61   78   38]\n",
      " [  12   62  107  229   61]\n",
      " [   5   14   48  612  524]\n",
      " [   1    6    7  337 1434]]\n",
      "              precision    recall  f1-score   support\n",
      "\n",
      "           1       0.68      0.59      0.63       285\n",
      "           2       0.45      0.34      0.38       355\n",
      "           3       0.47      0.23      0.31       471\n",
      "           4       0.48      0.51      0.49      1203\n",
      "           5       0.69      0.80      0.74      1785\n",
      "\n",
      "    accuracy                           0.60      4099\n",
      "   macro avg       0.55      0.49      0.51      4099\n",
      "weighted avg       0.58      0.60      0.58      4099\n",
      "\n"
     ]
    }
   ],
   "source": [
    "from sklearn.metrics import confusion_matrix, classification_report\n",
    "\n",
    "print(confusion_matrix(y_test, predictions))\n",
    "print(classification_report(y_test, predictions))"
   ]
  },
  {
   "cell_type": "markdown",
   "id": "bb8dfa4a",
   "metadata": {},
   "source": [
    "### Confusion matrix\n",
    "The confusion matrix can tell us a lot about where the model works well and where it fails. Often is is more accessible if the matrix is plotted, for instance using seaborns `heatmap`."
   ]
  },
  {
   "cell_type": "code",
   "execution_count": 41,
   "id": "7796bcb4",
   "metadata": {},
   "outputs": [
    {
     "data": {
      "image/png": "[encoded data removed]",
      "text/plain": [
       "<Figure size 900x700 with 2 Axes>"
      ]
     },
     "metadata": {},
     "output_type": "display_data"
    }
   ],
   "source": [
    "cm = confusion_matrix(y_test, predictions, labels=model.classes_)\n",
    "\n",
    "# Plotting the confusion matrix with a heatmap\n",
    "plt.figure(figsize=(9,7))\n",
    "sb.heatmap(cm, annot=True, fmt='d',\n",
    "           cmap='Blues',\n",
    "           xticklabels=model.classes_,\n",
    "           yticklabels=model.classes_)\n",
    "plt.xlabel('Predicted labels')\n",
    "plt.ylabel('True labels')\n",
    "plt.title('Confusion Matrix')\n",
    "plt.show()"
   ]
  },
  {
   "cell_type": "markdown",
   "id": "7547319f",
   "metadata": {},
   "source": [
    "### Convert your prediction tasks\n",
    "Sometimes it can help to change the actual prediction task to make it clearer, and thereby simpler, for a machine learning model to learn. In the present case we could for instance say that we convert that ratings 1 to 5 into only three categories: bad (1 or 2), neutral (3), or good (4 or 5).\n",
    "\n",
    "This is of course less nuanced, but it can make it an easier classification task."
   ]
  },
  {
   "cell_type": "code",
   "execution_count": 42,
   "id": "09e7396c",
   "metadata": {},
   "outputs": [
    {
     "data": {
      "text/html": [
       "<div>\n",
       "<style scoped>\n",
       "    .dataframe tbody tr th:only-of-type {\n",
       "        vertical-align: middle;\n",
       "    }\n",
       "\n",
       "    .dataframe tbody tr th {\n",
       "        vertical-align: top;\n",
       "    }\n",
       "\n",
       "    .dataframe thead th {\n",
       "        text-align: right;\n",
       "    }\n",
       "</style>\n",
       "<table border=\"1\" class=\"dataframe\">\n",
       "  <thead>\n",
       "    <tr style=\"text-align: right;\">\n",
       "      <th></th>\n",
       "      <th>S.No.</th>\n",
       "      <th>Review</th>\n",
       "      <th>Rating</th>\n",
       "      <th>rating_simplified</th>\n",
       "    </tr>\n",
       "  </thead>\n",
       "  <tbody>\n",
       "    <tr>\n",
       "      <th>0</th>\n",
       "      <td>1</td>\n",
       "      <td>nice hotel expensive parking got good deal sta...</td>\n",
       "      <td>4</td>\n",
       "      <td>good</td>\n",
       "    </tr>\n",
       "    <tr>\n",
       "      <th>1</th>\n",
       "      <td>2</td>\n",
       "      <td>ok nothing special charge diamond member hilto...</td>\n",
       "      <td>2</td>\n",
       "      <td>bad</td>\n",
       "    </tr>\n",
       "    <tr>\n",
       "      <th>2</th>\n",
       "      <td>3</td>\n",
       "      <td>nice rooms not 4* experience hotel monaco seat...</td>\n",
       "      <td>3</td>\n",
       "      <td>neutral</td>\n",
       "    </tr>\n",
       "    <tr>\n",
       "      <th>3</th>\n",
       "      <td>4</td>\n",
       "      <td>unique \\tgreat stay \\twonderful time hotel mon...</td>\n",
       "      <td>5</td>\n",
       "      <td>good</td>\n",
       "    </tr>\n",
       "    <tr>\n",
       "      <th>4</th>\n",
       "      <td>5</td>\n",
       "      <td>great stay great stay \\twent seahawk game awes...</td>\n",
       "      <td>5</td>\n",
       "      <td>good</td>\n",
       "    </tr>\n",
       "  </tbody>\n",
       "</table>\n",
       "</div>"
      ],
      "text/plain": [
       "   S.No.                                             Review  Rating  \\\n",
       "0      1  nice hotel expensive parking got good deal sta...       4   \n",
       "1      2  ok nothing special charge diamond member hilto...       2   \n",
       "2      3  nice rooms not 4* experience hotel monaco seat...       3   \n",
       "3      4  unique \\tgreat stay \\twonderful time hotel mon...       5   \n",
       "4      5  great stay great stay \\twent seahawk game awes...       5   \n",
       "\n",
       "  rating_simplified  \n",
       "0              good  \n",
       "1               bad  \n",
       "2           neutral  \n",
       "3              good  \n",
       "4              good  "
      ]
     },
     "execution_count": 42,
     "metadata": {},
     "output_type": "execute_result"
    }
   ],
   "source": [
    "# Change the rating to Good - Neutral - Bad\n",
    "def convert_rating(score):\n",
    "    if score > 3:\n",
    "        return 'good'\n",
    "    if score == 3:\n",
    "        return 'neutral'\n",
    "    return 'bad'\n",
    "\n",
    "data[\"rating_simplified\"] = data['Rating'].apply(convert_rating)\n",
    "data.head()"
   ]
  },
  {
   "cell_type": "code",
   "execution_count": 43,
   "id": "0e9e4970",
   "metadata": {},
   "outputs": [
    {
     "name": "stdout",
     "output_type": "stream",
     "text": [
      "Train dataset size: (16392,)\n",
      "Test dataset size: (4099,)\n"
     ]
    }
   ],
   "source": [
    "from sklearn.model_selection import train_test_split\n",
    "\n",
    "X_train, X_test, y_train, y_test = train_test_split(\n",
    "    data['Review'],\n",
    "    data[\"rating_simplified\"],\n",
    "    test_size=0.2,\n",
    "    random_state=0)\n",
    "\n",
    "print(f\"Train dataset size: {X_train.shape}\")\n",
    "print(f\"Test dataset size: {X_test.shape}\")    "
   ]
  },
  {
   "cell_type": "code",
   "execution_count": 44,
   "id": "b2a2496c",
   "metadata": {},
   "outputs": [
    {
     "data": {
      "text/plain": [
       "(16392, 46813)"
      ]
     },
     "execution_count": 44,
     "metadata": {},
     "output_type": "execute_result"
    }
   ],
   "source": [
    "tfidf = TfidfVectorizer()\n",
    "tfidf_vectors = tfidf.fit_transform(X_train)\n",
    "tfidf_vectors.shape"
   ]
  },
  {
   "cell_type": "code",
   "execution_count": 45,
   "id": "dff004d9",
   "metadata": {},
   "outputs": [
    {
     "name": "stderr",
     "output_type": "stream",
     "text": [
      "C:\\Users\\flori\\anaconda3\\envs\\data_science\\lib\\site-packages\\sklearn\\linear_model\\_logistic.py:460: ConvergenceWarning: lbfgs failed to converge (status=1):\n",
      "STOP: TOTAL NO. of ITERATIONS REACHED LIMIT.\n",
      "\n",
      "Increase the number of iterations (max_iter) or scale the data as shown in:\n",
      "    https://scikit-learn.org/stable/modules/preprocessing.html\n",
      "Please also refer to the documentation for alternative solver options:\n",
      "    https://scikit-learn.org/stable/modules/linear_model.html#logistic-regression\n",
      "  n_iter_i = _check_optimize_result(\n"
     ]
    },
    {
     "data": {
      "text/html": [
       "<style>#sk-container-id-3 {color: black;}#sk-container-id-3 pre{padding: 0;}#sk-container-id-3 div.sk-toggleable {background-color: white;}#sk-container-id-3 label.sk-toggleable__label {cursor: pointer;display: block;width: 100%;margin-bottom: 0;padding: 0.3em;box-sizing: border-box;text-align: center;}#sk-container-id-3 label.sk-toggleable__label-arrow:before {content: \"▸\";float: left;margin-right: 0.25em;color: #696969;}#sk-container-id-3 label.sk-toggleable__label-arrow:hover:before {color: black;}#sk-container-id-3 div.sk-estimator:hover label.sk-toggleable__label-arrow:before {color: black;}#sk-container-id-3 div.sk-toggleable__content {max-height: 0;max-width: 0;overflow: hidden;text-align: left;background-color: #f0f8ff;}#sk-container-id-3 div.sk-toggleable__content pre {margin: 0.2em;color: black;border-radius: 0.25em;background-color: #f0f8ff;}#sk-container-id-3 input.sk-toggleable__control:checked~div.sk-toggleable__content {max-height: 200px;max-width: 100%;overflow: auto;}#sk-container-id-3 input.sk-toggleable__control:checked~label.sk-toggleable__label-arrow:before {content: \"▾\";}#sk-container-id-3 div.sk-estimator input.sk-toggleable__control:checked~label.sk-toggleable__label {background-color: #d4ebff;}#sk-container-id-3 div.sk-label input.sk-toggleable__control:checked~label.sk-toggleable__label {background-color: #d4ebff;}#sk-container-id-3 input.sk-hidden--visually {border: 0;clip: rect(1px 1px 1px 1px);clip: rect(1px, 1px, 1px, 1px);height: 1px;margin: -1px;overflow: hidden;padding: 0;position: absolute;width: 1px;}#sk-container-id-3 div.sk-estimator {font-family: monospace;background-color: #f0f8ff;border: 1px dotted black;border-radius: 0.25em;box-sizing: border-box;margin-bottom: 0.5em;}#sk-container-id-3 div.sk-estimator:hover {background-color: #d4ebff;}#sk-container-id-3 div.sk-parallel-item::after {content: \"\";width: 100%;border-bottom: 1px solid gray;flex-grow: 1;}#sk-container-id-3 div.sk-label:hover label.sk-toggleable__label {background-color: #d4ebff;}#sk-container-id-3 div.sk-serial::before {content: \"\";position: absolute;border-left: 1px solid gray;box-sizing: border-box;top: 0;bottom: 0;left: 50%;z-index: 0;}#sk-container-id-3 div.sk-serial {display: flex;flex-direction: column;align-items: center;background-color: white;padding-right: 0.2em;padding-left: 0.2em;position: relative;}#sk-container-id-3 div.sk-item {position: relative;z-index: 1;}#sk-container-id-3 div.sk-parallel {display: flex;align-items: stretch;justify-content: center;background-color: white;position: relative;}#sk-container-id-3 div.sk-item::before, #sk-container-id-3 div.sk-parallel-item::before {content: \"\";position: absolute;border-left: 1px solid gray;box-sizing: border-box;top: 0;bottom: 0;left: 50%;z-index: -1;}#sk-container-id-3 div.sk-parallel-item {display: flex;flex-direction: column;z-index: 1;position: relative;background-color: white;}#sk-container-id-3 div.sk-parallel-item:first-child::after {align-self: flex-end;width: 50%;}#sk-container-id-3 div.sk-parallel-item:last-child::after {align-self: flex-start;width: 50%;}#sk-container-id-3 div.sk-parallel-item:only-child::after {width: 0;}#sk-container-id-3 div.sk-dashed-wrapped {border: 1px dashed gray;margin: 0 0.4em 0.5em 0.4em;box-sizing: border-box;padding-bottom: 0.4em;background-color: white;}#sk-container-id-3 div.sk-label label {font-family: monospace;font-weight: bold;display: inline-block;line-height: 1.2em;}#sk-container-id-3 div.sk-label-container {text-align: center;}#sk-container-id-3 div.sk-container {/* jupyter's `normalize.less` sets `[hidden] { display: none; }` but bootstrap.min.css set `[hidden] { display: none !important; }` so we also need the `!important` here to be able to override the default hidden behavior on the sphinx rendered scikit-learn.org. See: https://github.com/scikit-learn/scikit-learn/issues/21755 */display: inline-block !important;position: relative;}#sk-container-id-3 div.sk-text-repr-fallback {display: none;}</style><div id=\"sk-container-id-3\" class=\"sk-top-container\"><div class=\"sk-text-repr-fallback\"><pre>LogisticRegression()</pre><b>In a Jupyter environment, please rerun this cell to show the HTML representation or trust the notebook. <br />On GitHub, the HTML representation is unable to render, please try loading this page with nbviewer.org.</b></div><div class=\"sk-container\" hidden><div class=\"sk-item\"><div class=\"sk-estimator sk-toggleable\"><input class=\"sk-toggleable__control sk-hidden--visually\" id=\"sk-estimator-id-3\" type=\"checkbox\" checked><label for=\"sk-estimator-id-3\" class=\"sk-toggleable__label sk-toggleable__label-arrow\">LogisticRegression</label><div class=\"sk-toggleable__content\"><pre>LogisticRegression()</pre></div></div></div></div></div>"
      ],
      "text/plain": [
       "LogisticRegression()"
      ]
     },
     "execution_count": 45,
     "metadata": {},
     "output_type": "execute_result"
    }
   ],
   "source": [
    "model = LogisticRegression()\n",
    "model.fit(tfidf_vectors, y_train)"
   ]
  },
  {
   "cell_type": "code",
   "execution_count": 46,
   "id": "a0ef2a75",
   "metadata": {},
   "outputs": [],
   "source": [
    "tfidf_vectors_test = tfidf.transform(X_test)\n",
    "\n",
    "predictions = model.predict(tfidf_vectors_test)"
   ]
  },
  {
   "cell_type": "code",
   "execution_count": 47,
   "id": "cd868ef4",
   "metadata": {},
   "outputs": [
    {
     "data": {
      "text/plain": [
       "array(['bad', 'bad', 'good', 'good', 'good', 'good', 'good', 'bad',\n",
       "       'good', 'good', 'good', 'good', 'good', 'good', 'good', 'good',\n",
       "       'good', 'good', 'good', 'good'], dtype=object)"
      ]
     },
     "execution_count": 47,
     "metadata": {},
     "output_type": "execute_result"
    }
   ],
   "source": [
    "predictions[:20]"
   ]
  },
  {
   "cell_type": "code",
   "execution_count": 48,
   "id": "4b067e49",
   "metadata": {},
   "outputs": [
    {
     "data": {
      "text/plain": [
       "array(['bad', 'bad', 'good', 'good', 'neutral', 'good', 'good', 'neutral',\n",
       "       'good', 'good', 'good', 'good', 'good', 'good', 'good', 'good',\n",
       "       'good', 'good', 'good', 'good'], dtype=object)"
      ]
     },
     "execution_count": 48,
     "metadata": {},
     "output_type": "execute_result"
    }
   ],
   "source": [
    "y_test[:20].values"
   ]
  },
  {
   "cell_type": "code",
   "execution_count": 49,
   "id": "56187db9",
   "metadata": {},
   "outputs": [
    {
     "name": "stdout",
     "output_type": "stream",
     "text": [
      "[[ 504  108   28]\n",
      " [  20 2926   42]\n",
      " [  99  296   76]]\n",
      "              precision    recall  f1-score   support\n",
      "\n",
      "         bad       0.81      0.79      0.80       640\n",
      "        good       0.88      0.98      0.93      2988\n",
      "     neutral       0.52      0.16      0.25       471\n",
      "\n",
      "    accuracy                           0.86      4099\n",
      "   macro avg       0.74      0.64      0.66      4099\n",
      "weighted avg       0.83      0.86      0.83      4099\n",
      "\n"
     ]
    }
   ],
   "source": [
    "from sklearn.metrics import confusion_matrix, classification_report\n",
    "\n",
    "print(confusion_matrix(y_test, predictions))\n",
    "print(classification_report(y_test, predictions))"
   ]
  },
  {
   "cell_type": "code",
   "execution_count": 50,
   "id": "1a4ceb03",
   "metadata": {},
   "outputs": [
    {
     "data": {
      "image/png": "[encoded data removed]",
      "text/plain": [
       "<Figure size 900x700 with 2 Axes>"
      ]
     },
     "metadata": {},
     "output_type": "display_data"
    }
   ],
   "source": [
    "labels = [\"bad\", \"neutral\", \"good\"]\n",
    "cm = confusion_matrix(y_test, predictions, labels=labels)\n",
    "\n",
    "# Plotting the confusion matrix with a heatmap\n",
    "plt.figure(figsize=(9,7))\n",
    "sb.heatmap(cm, annot=True, fmt='d',\n",
    "           cmap='Blues',\n",
    "           xticklabels=labels,\n",
    "           yticklabels=labels)\n",
    "plt.xlabel('Predicted labels')\n",
    "plt.ylabel('True labels')\n",
    "plt.title('Confusion Matrix')\n",
    "plt.show()"
   ]
  },
  {
   "cell_type": "markdown",
   "id": "88b18803",
   "metadata": {},
   "source": [
    "### Question to you:\n",
    "Judge yourself. Is this a good result? Could this be done better (and if so, how?) ?"
   ]
  },
  {
   "cell_type": "code",
   "execution_count": null,
   "id": "bd262770",
   "metadata": {},
   "outputs": [],
   "source": []
  }
 ],
 "metadata": {
  "kernelspec": {
   "display_name": "Python 3 (ipykernel)",
   "language": "python",
   "name": "python3"
  },
  "language_info": {
   "codemirror_mode": {
    "name": "ipython",
    "version": 3
   },
   "file_extension": ".py",
   "mimetype": "text/x-python",
   "name": "python",
   "nbconvert_exporter": "python",
   "pygments_lexer": "ipython3",
   "version": "3.9.18"
  }
 },
 "nbformat": 4,
 "nbformat_minor": 5
}
