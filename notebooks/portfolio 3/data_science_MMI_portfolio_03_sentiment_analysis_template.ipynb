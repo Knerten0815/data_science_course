{
 "cells": [
  {
   "cell_type": "markdown",
   "id": "19ae5264",
   "metadata": {},
   "source": [
    "### 💾💻📊 Data Science - MMI Portfolio No. 3\n",
    "# 💥 Sentiment Analysis (NLP + Machine Learning) 💥\n",
    "\n",
    "\n",
    "\n",
    "An extremely common dataset for benchmarking, method development, and tutorials is **MNIST** consisting of handwritten digits. In reference to this dataset several variants appeared such as sign-MNIST (photos of hand gestures for sign language), audioMNIST (audiofiles of spoken digits) and **fashionMNIST** made of low resolution photos of 10 types of clothes. We will here use this tp explore different possibilities for using dimensionality reduction techniques.\n",
    "\n",
    "Please complete the following exercises:\n",
    "## 1. Data Exploration and Cleaning\n",
    "- Select equal number of reviews for all possible ratings (1 to 5).\n",
    "- Use suitable Python libraries to detect the language for every restaurant review, for instance `langdetect`.\n",
    "- Show a distribution of detected languages.\n",
    "- Continue to work only with English entries.\n",
    "\n",
    "Hint: This could take a little while, so better use `tqdm` or similar to show the progress.\n",
    "\n",
    "## 2. TF-IDF + Logistic Regression vs Linear Regression\n",
    "- Use the `TfidfVectorizer` to create vectors of all remaining reviews.\n",
    "- Train a Logistic Regression model on the 5 rating classes\n",
    "- Train a Linear Regression model on the rating (1 to 5).\n",
    "- Compare both models, which works better?\n",
    "- Also compare single tokens vs. 1 + 2-grams (`ngrams = (1,2)`), which works better.\n",
    "- Show the 10 most relevant words (or ngrams) for predicting high or low ratings.\n",
    "\n",
    "## 3. Language Model --> word vectors + Logistic Regression vs. Random Forest\n",
    "- Use Spacy and a larger English language model (`spacy.load(\"en_core_web_lg\")`) to create vectors for each review. This might take a while so use a progress bar.\n",
    "- Train a Logistic Regression model as well as a RandomForestClassifier on the review embeddings to predict the 5 rating classes.\n",
    "- Evaluate the performance of both models, and also compare to the TF-IDF case before.\n",
    "\n",
    "\n",
    "\n",
    "## General instructions\n",
    "- The final notebook should be executable in the correct order (this means it should work if you do `Kernel` --> `Restart kernel and run all cells...`)\n",
    "- Just providing code and plots is not enough, you should document and comment where necessary. Not so much on small code-related things (you may still do this if you want though, but this is not required), but mostly to explain what you do, why you do it, what you observe.\n",
    "\n",
    "More specifically:\n",
    "- Please briefly comment on the changes you make to the data, in particular if you apply complex operations or if your changes depend on a certain choice you have to make.\n",
    "- Please add descriptions and/or interpretations to the results you generate (for instance tables, plots). This doesn't have to be a lot of text. For simple, easy-to-understand results, a brief sentence can be enough. For more complex results, you might want to add a bit more explanation."
   ]
  },
  {
   "cell_type": "markdown",
   "id": "4ffc3378-dd52-4e76-ad0a-803e841d72bc",
   "metadata": {},
   "source": [
    "---\n",
    "Please add your Name here\n",
    "## Name: Kevin Zielke\n",
    "\n",
    "---"
   ]
  },
  {
   "cell_type": "markdown",
   "id": "60d8e7eb-0254-48fd-a2ec-c42e82ddf285",
   "metadata": {},
   "source": [
    "## Imports and helper function\n",
    "Use this part to import the main libraries used in this notebook.  \n",
    "Also add more complex helper functions to this part (if you use any)."
   ]
  },
  {
   "cell_type": "code",
   "execution_count": 150,
   "id": "494f1abc",
   "metadata": {},
   "outputs": [],
   "source": [
    "import os\n",
    "import numpy as np\n",
    "import pandas as pd\n",
    "import matplotlib.pyplot as plt\n",
    "import seaborn as sb\n",
    "from sklearn.feature_extraction.text import TfidfVectorizer\n",
    "import spacy\n",
    "\n",
    "from tqdm.notebook import tqdm\n",
    "\n",
    "# add imports if anything is missing\n",
    "# for instance. feel free to use other plotting libraries (e.g. seaborn, plotly...)"
   ]
  },
  {
   "cell_type": "markdown",
   "id": "62da7810-b04b-475d-9775-26d282621a04",
   "metadata": {},
   "source": [
    "## Data download and import\n",
    "The following analysis should be done with data from TripAdvisor, namely restraurant reviews from **Barcelona**. You can find the respective data (`Barcelona_reviews.csv`) on the [TripAdvisor data](https://zenodo.org/records/6583422).\n"
   ]
  },
  {
   "cell_type": "code",
   "execution_count": 151,
   "id": "d832ecac",
   "metadata": {},
   "outputs": [
    {
     "name": "stderr",
     "output_type": "stream",
     "text": [
      "C:\\Users\\kevin\\AppData\\Local\\Temp\\ipykernel_17692\\1716722039.py:3: DtypeWarning: Columns (0,1,3) have mixed types. Specify dtype option on import or set low_memory=False.\n",
      "  data = pd.read_csv(filename)\n"
     ]
    },
    {
     "data": {
      "text/html": [
       "<div>\n",
       "<style scoped>\n",
       "    .dataframe tbody tr th:only-of-type {\n",
       "        vertical-align: middle;\n",
       "    }\n",
       "\n",
       "    .dataframe tbody tr th {\n",
       "        vertical-align: top;\n",
       "    }\n",
       "\n",
       "    .dataframe thead th {\n",
       "        text-align: right;\n",
       "    }\n",
       "</style>\n",
       "<table border=\"1\" class=\"dataframe\">\n",
       "  <thead>\n",
       "    <tr style=\"text-align: right;\">\n",
       "      <th></th>\n",
       "      <th>parse_count</th>\n",
       "      <th>restaurant_name</th>\n",
       "      <th>rating_review</th>\n",
       "      <th>sample</th>\n",
       "      <th>review_id</th>\n",
       "      <th>title_review</th>\n",
       "      <th>review_preview</th>\n",
       "      <th>review_full</th>\n",
       "      <th>date</th>\n",
       "      <th>city</th>\n",
       "      <th>url_restaurant</th>\n",
       "      <th>author_id</th>\n",
       "    </tr>\n",
       "  </thead>\n",
       "  <tbody>\n",
       "    <tr>\n",
       "      <th>0</th>\n",
       "      <td>1</td>\n",
       "      <td>Chalito_Rambla</td>\n",
       "      <td>1</td>\n",
       "      <td>Negative</td>\n",
       "      <td>review_774086112</td>\n",
       "      <td>Terrible food Terrible service</td>\n",
       "      <td>Ok, this place is terrible! Came here bc we’ve...</td>\n",
       "      <td>Ok, this place is terrible! Came here bc we’ve...</td>\n",
       "      <td>October 12, 2020</td>\n",
       "      <td>Barcelona_Catalonia</td>\n",
       "      <td>https://www.tripadvisor.com/Restaurant_Review-...</td>\n",
       "      <td>UID_0</td>\n",
       "    </tr>\n",
       "    <tr>\n",
       "      <th>1</th>\n",
       "      <td>2</td>\n",
       "      <td>Chalito_Rambla</td>\n",
       "      <td>5</td>\n",
       "      <td>Positive</td>\n",
       "      <td>review_739142140</td>\n",
       "      <td>The best milanesa in central Barcelona</td>\n",
       "      <td>This place was a great surprise. The food is d...</td>\n",
       "      <td>This place was a great surprise. The food is d...</td>\n",
       "      <td>January 14, 2020</td>\n",
       "      <td>Barcelona_Catalonia</td>\n",
       "      <td>https://www.tripadvisor.com/Restaurant_Review-...</td>\n",
       "      <td>UID_1</td>\n",
       "    </tr>\n",
       "    <tr>\n",
       "      <th>2</th>\n",
       "      <td>3</td>\n",
       "      <td>Chalito_Rambla</td>\n",
       "      <td>5</td>\n",
       "      <td>Positive</td>\n",
       "      <td>review_749758638</td>\n",
       "      <td>Family bonding</td>\n",
       "      <td>The food is excellent.....the ambiance is very...</td>\n",
       "      <td>The food is excellent.....the ambiance is very...</td>\n",
       "      <td>March 7, 2020</td>\n",
       "      <td>Barcelona_Catalonia</td>\n",
       "      <td>https://www.tripadvisor.com/Restaurant_Review-...</td>\n",
       "      <td>UID_2</td>\n",
       "    </tr>\n",
       "    <tr>\n",
       "      <th>3</th>\n",
       "      <td>4</td>\n",
       "      <td>Chalito_Rambla</td>\n",
       "      <td>5</td>\n",
       "      <td>Positive</td>\n",
       "      <td>review_749732001</td>\n",
       "      <td>Best food</td>\n",
       "      <td>The food is execellent ,affortable price for p...</td>\n",
       "      <td>The food is execellent ,affortable price for p...</td>\n",
       "      <td>March 7, 2020</td>\n",
       "      <td>Barcelona_Catalonia</td>\n",
       "      <td>https://www.tripadvisor.com/Restaurant_Review-...</td>\n",
       "      <td>UID_3</td>\n",
       "    </tr>\n",
       "    <tr>\n",
       "      <th>4</th>\n",
       "      <td>5</td>\n",
       "      <td>Chalito_Rambla</td>\n",
       "      <td>5</td>\n",
       "      <td>Positive</td>\n",
       "      <td>review_749691057</td>\n",
       "      <td>Amazing Food and Fantastic Service</td>\n",
       "      <td>Mr Suarez,The food at your restaurant was abso...</td>\n",
       "      <td>Mr Suarez,The food at your restaurant was abso...</td>\n",
       "      <td>March 7, 2020</td>\n",
       "      <td>Barcelona_Catalonia</td>\n",
       "      <td>https://www.tripadvisor.com/Restaurant_Review-...</td>\n",
       "      <td>UID_4</td>\n",
       "    </tr>\n",
       "  </tbody>\n",
       "</table>\n",
       "</div>"
      ],
      "text/plain": [
       "  parse_count restaurant_name rating_review    sample         review_id  \\\n",
       "0           1  Chalito_Rambla             1  Negative  review_774086112   \n",
       "1           2  Chalito_Rambla             5  Positive  review_739142140   \n",
       "2           3  Chalito_Rambla             5  Positive  review_749758638   \n",
       "3           4  Chalito_Rambla             5  Positive  review_749732001   \n",
       "4           5  Chalito_Rambla             5  Positive  review_749691057   \n",
       "\n",
       "                             title_review  \\\n",
       "0          Terrible food Terrible service   \n",
       "1  The best milanesa in central Barcelona   \n",
       "2                          Family bonding   \n",
       "3                               Best food   \n",
       "4     Amazing Food and Fantastic Service    \n",
       "\n",
       "                                      review_preview  \\\n",
       "0  Ok, this place is terrible! Came here bc we’ve...   \n",
       "1  This place was a great surprise. The food is d...   \n",
       "2  The food is excellent.....the ambiance is very...   \n",
       "3  The food is execellent ,affortable price for p...   \n",
       "4  Mr Suarez,The food at your restaurant was abso...   \n",
       "\n",
       "                                         review_full              date  \\\n",
       "0  Ok, this place is terrible! Came here bc we’ve...  October 12, 2020   \n",
       "1  This place was a great surprise. The food is d...  January 14, 2020   \n",
       "2  The food is excellent.....the ambiance is very...     March 7, 2020   \n",
       "3  The food is execellent ,affortable price for p...     March 7, 2020   \n",
       "4  Mr Suarez,The food at your restaurant was abso...     March 7, 2020   \n",
       "\n",
       "                  city                                     url_restaurant  \\\n",
       "0  Barcelona_Catalonia  https://www.tripadvisor.com/Restaurant_Review-...   \n",
       "1  Barcelona_Catalonia  https://www.tripadvisor.com/Restaurant_Review-...   \n",
       "2  Barcelona_Catalonia  https://www.tripadvisor.com/Restaurant_Review-...   \n",
       "3  Barcelona_Catalonia  https://www.tripadvisor.com/Restaurant_Review-...   \n",
       "4  Barcelona_Catalonia  https://www.tripadvisor.com/Restaurant_Review-...   \n",
       "\n",
       "  author_id  \n",
       "0     UID_0  \n",
       "1     UID_1  \n",
       "2     UID_2  \n",
       "3     UID_3  \n",
       "4     UID_4  "
      ]
     },
     "execution_count": 151,
     "metadata": {},
     "output_type": "execute_result"
    }
   ],
   "source": [
    "path = os.path.join(\"..\", \"..\", \"Datasets\", \"Tripadvisor\")\n",
    "filename = os.path.join(path, \"Barcelona_reviews.csv\")\n",
    "data = pd.read_csv(filename)\n",
    "data = data.drop([\"Unnamed: 0\"], axis=1)\n",
    "data.head()"
   ]
  },
  {
   "cell_type": "code",
   "execution_count": 152,
   "id": "8b3d076a-c192-44de-9039-97388beefd59",
   "metadata": {},
   "outputs": [],
   "source": [
    "# Some cleaning\n",
    "mask = data.rating_review == \"Barcelona_Catalonia\"\n",
    "data = data[~mask]\n",
    "data.rating_review = data.rating_review.astype(int)"
   ]
  },
  {
   "cell_type": "markdown",
   "id": "1168d69f",
   "metadata": {},
   "source": [
    "## 1. Data Exploration and Cleaning\n",
    "\n",
    "Hint: This could take a little while, so better use `tqdm` or similar to show the progress."
   ]
  },
  {
   "cell_type": "code",
   "execution_count": 153,
   "id": "1c8fb7c5",
   "metadata": {},
   "outputs": [],
   "source": [
    "import tqdm as tqdm"
   ]
  },
  {
   "cell_type": "code",
   "execution_count": 154,
   "id": "329f5c68",
   "metadata": {},
   "outputs": [
    {
     "name": "stdout",
     "output_type": "stream",
     "text": [
      "<class 'pandas.core.frame.DataFrame'>\n",
      "Index: 416355 entries, 0 to 416355\n",
      "Data columns (total 12 columns):\n",
      " #   Column           Non-Null Count   Dtype \n",
      "---  ------           --------------   ----- \n",
      " 0   parse_count      416355 non-null  object\n",
      " 1   restaurant_name  416355 non-null  object\n",
      " 2   rating_review    416355 non-null  int32 \n",
      " 3   sample           416355 non-null  object\n",
      " 4   review_id        416355 non-null  object\n",
      " 5   title_review     416355 non-null  object\n",
      " 6   review_preview   416355 non-null  object\n",
      " 7   review_full      416354 non-null  object\n",
      " 8   date             416354 non-null  object\n",
      " 9   city             416354 non-null  object\n",
      " 10  url_restaurant   416354 non-null  object\n",
      " 11  author_id        416354 non-null  object\n",
      "dtypes: int32(1), object(11)\n",
      "memory usage: 39.7+ MB\n"
     ]
    }
   ],
   "source": [
    "data.info()"
   ]
  },
  {
   "cell_type": "markdown",
   "id": "40b5fa82",
   "metadata": {},
   "source": [
    "There is a single null value in the data. I will get rid of it, since a single missing entry wont affect the analysis."
   ]
  },
  {
   "cell_type": "code",
   "execution_count": 155,
   "id": "d0b04bc9",
   "metadata": {},
   "outputs": [],
   "source": [
    "data = data.dropna()"
   ]
  },
  {
   "cell_type": "markdown",
   "id": "51e7e98c",
   "metadata": {},
   "source": [
    "Exept for _rating_reviews_, all columns are strings. Some columns can be converted to proper data types that can be easier processed. _date_ for example can easily be converted to datime."
   ]
  },
  {
   "cell_type": "code",
   "execution_count": 156,
   "id": "7c77341b",
   "metadata": {},
   "outputs": [],
   "source": [
    "data.date = pd.to_datetime(data.date)"
   ]
  },
  {
   "cell_type": "markdown",
   "id": "1df4090d",
   "metadata": {},
   "source": [
    "Every entry of _author_id_ contains \"UID_\" prefix. This can be removed and the column can be converted to integer."
   ]
  },
  {
   "cell_type": "code",
   "execution_count": 157,
   "id": "fb416c62",
   "metadata": {},
   "outputs": [],
   "source": [
    "data.author_id = data.author_id.str.removeprefix(\"UID_\")\n",
    "data.author_id = data.author_id.astype(int)"
   ]
  },
  {
   "cell_type": "code",
   "execution_count": 158,
   "id": "cc5cb0f6",
   "metadata": {},
   "outputs": [
    {
     "data": {
      "text/html": [
       "<div>\n",
       "<style scoped>\n",
       "    .dataframe tbody tr th:only-of-type {\n",
       "        vertical-align: middle;\n",
       "    }\n",
       "\n",
       "    .dataframe tbody tr th {\n",
       "        vertical-align: top;\n",
       "    }\n",
       "\n",
       "    .dataframe thead th {\n",
       "        text-align: right;\n",
       "    }\n",
       "</style>\n",
       "<table border=\"1\" class=\"dataframe\">\n",
       "  <thead>\n",
       "    <tr style=\"text-align: right;\">\n",
       "      <th></th>\n",
       "      <th>parse_count</th>\n",
       "      <th>restaurant_name</th>\n",
       "      <th>rating_review</th>\n",
       "      <th>sample</th>\n",
       "      <th>review_id</th>\n",
       "      <th>title_review</th>\n",
       "      <th>review_preview</th>\n",
       "      <th>review_full</th>\n",
       "      <th>date</th>\n",
       "      <th>city</th>\n",
       "      <th>url_restaurant</th>\n",
       "      <th>author_id</th>\n",
       "    </tr>\n",
       "  </thead>\n",
       "  <tbody>\n",
       "    <tr>\n",
       "      <th>416351</th>\n",
       "      <td>426639</td>\n",
       "      <td>Bodega_Biarritz</td>\n",
       "      <td>5</td>\n",
       "      <td>Positive</td>\n",
       "      <td>review_656474442</td>\n",
       "      <td>Awesome spot!</td>\n",
       "      <td>What a cute little hole in wall! The decorum w...</td>\n",
       "      <td>What a cute little hole in wall! The decorum w...</td>\n",
       "      <td>2019-03-04</td>\n",
       "      <td>Barcelona_Catalonia</td>\n",
       "      <td>https://www.tripadvisor.com/Restaurant_Review-...</td>\n",
       "      <td>232019</td>\n",
       "    </tr>\n",
       "    <tr>\n",
       "      <th>416352</th>\n",
       "      <td>426640</td>\n",
       "      <td>Bodega_Biarritz</td>\n",
       "      <td>5</td>\n",
       "      <td>Positive</td>\n",
       "      <td>review_656066564</td>\n",
       "      <td>Great tapas and great service</td>\n",
       "      <td>We really enjoyed the tapas here.  Each of the...</td>\n",
       "      <td>We really enjoyed the tapas here. Each of the ...</td>\n",
       "      <td>2019-03-03</td>\n",
       "      <td>Barcelona_Catalonia</td>\n",
       "      <td>https://www.tripadvisor.com/Restaurant_Review-...</td>\n",
       "      <td>57970</td>\n",
       "    </tr>\n",
       "    <tr>\n",
       "      <th>416353</th>\n",
       "      <td>426641</td>\n",
       "      <td>Bodega_Biarritz</td>\n",
       "      <td>5</td>\n",
       "      <td>Positive</td>\n",
       "      <td>review_631216398</td>\n",
       "      <td>Fabulous Tapas</td>\n",
       "      <td>Tried to get a table at Bodega Biarritz 1820 b...</td>\n",
       "      <td>Tried to get a table at Bodega Biarritz 1820 b...</td>\n",
       "      <td>2018-11-06</td>\n",
       "      <td>Barcelona_Catalonia</td>\n",
       "      <td>https://www.tripadvisor.com/Restaurant_Review-...</td>\n",
       "      <td>36360</td>\n",
       "    </tr>\n",
       "    <tr>\n",
       "      <th>416354</th>\n",
       "      <td>426642</td>\n",
       "      <td>Bodega_Biarritz</td>\n",
       "      <td>5</td>\n",
       "      <td>Positive</td>\n",
       "      <td>review_630522900</td>\n",
       "      <td>Fantastic!</td>\n",
       "      <td>It was our first time eating tapas and it was ...</td>\n",
       "      <td>It was our first time eating tapas and it was ...</td>\n",
       "      <td>2018-11-03</td>\n",
       "      <td>Barcelona_Catalonia</td>\n",
       "      <td>https://www.tripadvisor.com/Restaurant_Review-...</td>\n",
       "      <td>18363</td>\n",
       "    </tr>\n",
       "    <tr>\n",
       "      <th>416355</th>\n",
       "      <td>426643</td>\n",
       "      <td>Bodega_Biarritz</td>\n",
       "      <td>5</td>\n",
       "      <td>Positive</td>\n",
       "      <td>review_630287967</td>\n",
       "      <td>Great experience</td>\n",
       "      <td>We went early (6.00pm) to avoid queuing as we ...</td>\n",
       "      <td>We went early (6.00pm) to avoid queuing as we ...</td>\n",
       "      <td>2018-11-02</td>\n",
       "      <td>Barcelona_Catalonia</td>\n",
       "      <td>https://www.tripadvisor.com/Restaurant_Review-...</td>\n",
       "      <td>40467</td>\n",
       "    </tr>\n",
       "  </tbody>\n",
       "</table>\n",
       "</div>"
      ],
      "text/plain": [
       "       parse_count  restaurant_name  rating_review    sample  \\\n",
       "416351      426639  Bodega_Biarritz              5  Positive   \n",
       "416352      426640  Bodega_Biarritz              5  Positive   \n",
       "416353      426641  Bodega_Biarritz              5  Positive   \n",
       "416354      426642  Bodega_Biarritz              5  Positive   \n",
       "416355      426643  Bodega_Biarritz              5  Positive   \n",
       "\n",
       "               review_id                   title_review  \\\n",
       "416351  review_656474442                  Awesome spot!   \n",
       "416352  review_656066564  Great tapas and great service   \n",
       "416353  review_631216398                 Fabulous Tapas   \n",
       "416354  review_630522900                    Fantastic!    \n",
       "416355  review_630287967              Great experience    \n",
       "\n",
       "                                           review_preview  \\\n",
       "416351  What a cute little hole in wall! The decorum w...   \n",
       "416352  We really enjoyed the tapas here.  Each of the...   \n",
       "416353  Tried to get a table at Bodega Biarritz 1820 b...   \n",
       "416354  It was our first time eating tapas and it was ...   \n",
       "416355  We went early (6.00pm) to avoid queuing as we ...   \n",
       "\n",
       "                                              review_full       date  \\\n",
       "416351  What a cute little hole in wall! The decorum w... 2019-03-04   \n",
       "416352  We really enjoyed the tapas here. Each of the ... 2019-03-03   \n",
       "416353  Tried to get a table at Bodega Biarritz 1820 b... 2018-11-06   \n",
       "416354  It was our first time eating tapas and it was ... 2018-11-03   \n",
       "416355  We went early (6.00pm) to avoid queuing as we ... 2018-11-02   \n",
       "\n",
       "                       city  \\\n",
       "416351  Barcelona_Catalonia   \n",
       "416352  Barcelona_Catalonia   \n",
       "416353  Barcelona_Catalonia   \n",
       "416354  Barcelona_Catalonia   \n",
       "416355  Barcelona_Catalonia   \n",
       "\n",
       "                                           url_restaurant  author_id  \n",
       "416351  https://www.tripadvisor.com/Restaurant_Review-...     232019  \n",
       "416352  https://www.tripadvisor.com/Restaurant_Review-...      57970  \n",
       "416353  https://www.tripadvisor.com/Restaurant_Review-...      36360  \n",
       "416354  https://www.tripadvisor.com/Restaurant_Review-...      18363  \n",
       "416355  https://www.tripadvisor.com/Restaurant_Review-...      40467  "
      ]
     },
     "execution_count": 158,
     "metadata": {},
     "output_type": "execute_result"
    }
   ],
   "source": [
    "data.tail()"
   ]
  },
  {
   "cell_type": "code",
   "execution_count": 159,
   "id": "8421d700",
   "metadata": {},
   "outputs": [
    {
     "data": {
      "text/plain": [
       "review_id\n",
       "review_774086112    1\n",
       "review_495623401    1\n",
       "review_500779404    1\n",
       "review_500845386    1\n",
       "review_501058790    1\n",
       "                   ..\n",
       "review_582017693    1\n",
       "review_584876128    1\n",
       "review_475586397    1\n",
       "review_476139753    1\n",
       "review_630287967    1\n",
       "Name: count, Length: 416354, dtype: int64"
      ]
     },
     "execution_count": 159,
     "metadata": {},
     "output_type": "execute_result"
    }
   ],
   "source": [
    "data.review_id.value_counts()"
   ]
  },
  {
   "cell_type": "markdown",
   "id": "5b8abc95",
   "metadata": {},
   "source": [
    "By looking at data.head() and data.tail() it looks like the column _parse_count_ is just a messed up ID column. There is also _review_id_, which is another ID column. I will drop them both, because it clutters the output and I will just use the dataframe indexing."
   ]
  },
  {
   "cell_type": "code",
   "execution_count": 160,
   "id": "2578bec6",
   "metadata": {},
   "outputs": [],
   "source": [
    "data.drop([\"parse_count\", \"review_id\"], axis=1, inplace=True)"
   ]
  },
  {
   "cell_type": "markdown",
   "id": "7d3705ac",
   "metadata": {},
   "source": [
    "The _sample_ column only contains the entries positive and negative. We can turn this into a boolean column, where positive is TRUE and negative is FALSE."
   ]
  },
  {
   "cell_type": "code",
   "execution_count": 161,
   "id": "1fae5df8",
   "metadata": {},
   "outputs": [
    {
     "data": {
      "text/plain": [
       "sample\n",
       "Positive    338778\n",
       "Negative     77576\n",
       "Name: count, dtype: int64"
      ]
     },
     "execution_count": 161,
     "metadata": {},
     "output_type": "execute_result"
    }
   ],
   "source": [
    "data[\"sample\"].value_counts()"
   ]
  },
  {
   "cell_type": "code",
   "execution_count": 162,
   "id": "3cf4e061",
   "metadata": {},
   "outputs": [],
   "source": [
    "positive_mask = data[\"sample\"] == \"Positive\"\n",
    "negative_mask = data[\"sample\"] == \"Negative\"\n",
    "\n",
    "data.loc[positive_mask, \"sample\"] = 1\n",
    "data.loc[negative_mask, \"sample\"] = 0\n",
    "\n",
    "data[\"sample\"] = data[\"sample\"].astype(bool)"
   ]
  },
  {
   "cell_type": "markdown",
   "id": "e3ec33c8",
   "metadata": {},
   "source": [
    "Finally I like to code data.sample more than data[\"sample\"]. I will rename the _sample_ column to _bias_ so that python does not mistake this writing for the dataframe method sample(). Also i like short column names in general, so I will rename some of them. "
   ]
  },
  {
   "cell_type": "code",
   "execution_count": 163,
   "id": "025602bb",
   "metadata": {},
   "outputs": [],
   "source": [
    "data = data.rename(columns={\"sample\": \"bias\",\n",
    "                            \"restaurant_name\": \"restaurant\",\n",
    "                            \"rating_review\": \"rating\",\n",
    "                            \"title_review\": \"title\",\n",
    "                            \"review_preview\": \"preview\",\n",
    "                            \"review_full\": \"full\" })"
   ]
  },
  {
   "cell_type": "code",
   "execution_count": 164,
   "id": "4a00a925",
   "metadata": {},
   "outputs": [
    {
     "data": {
      "text/html": [
       "<div>\n",
       "<style scoped>\n",
       "    .dataframe tbody tr th:only-of-type {\n",
       "        vertical-align: middle;\n",
       "    }\n",
       "\n",
       "    .dataframe tbody tr th {\n",
       "        vertical-align: top;\n",
       "    }\n",
       "\n",
       "    .dataframe thead th {\n",
       "        text-align: right;\n",
       "    }\n",
       "</style>\n",
       "<table border=\"1\" class=\"dataframe\">\n",
       "  <thead>\n",
       "    <tr style=\"text-align: right;\">\n",
       "      <th></th>\n",
       "      <th>restaurant</th>\n",
       "      <th>rating</th>\n",
       "      <th>bias</th>\n",
       "      <th>title</th>\n",
       "      <th>preview</th>\n",
       "      <th>full</th>\n",
       "      <th>date</th>\n",
       "      <th>city</th>\n",
       "      <th>url_restaurant</th>\n",
       "      <th>author_id</th>\n",
       "    </tr>\n",
       "  </thead>\n",
       "  <tbody>\n",
       "    <tr>\n",
       "      <th>0</th>\n",
       "      <td>Chalito_Rambla</td>\n",
       "      <td>1</td>\n",
       "      <td>False</td>\n",
       "      <td>Terrible food Terrible service</td>\n",
       "      <td>Ok, this place is terrible! Came here bc we’ve...</td>\n",
       "      <td>Ok, this place is terrible! Came here bc we’ve...</td>\n",
       "      <td>2020-10-12</td>\n",
       "      <td>Barcelona_Catalonia</td>\n",
       "      <td>https://www.tripadvisor.com/Restaurant_Review-...</td>\n",
       "      <td>0</td>\n",
       "    </tr>\n",
       "    <tr>\n",
       "      <th>1</th>\n",
       "      <td>Chalito_Rambla</td>\n",
       "      <td>5</td>\n",
       "      <td>True</td>\n",
       "      <td>The best milanesa in central Barcelona</td>\n",
       "      <td>This place was a great surprise. The food is d...</td>\n",
       "      <td>This place was a great surprise. The food is d...</td>\n",
       "      <td>2020-01-14</td>\n",
       "      <td>Barcelona_Catalonia</td>\n",
       "      <td>https://www.tripadvisor.com/Restaurant_Review-...</td>\n",
       "      <td>1</td>\n",
       "    </tr>\n",
       "    <tr>\n",
       "      <th>2</th>\n",
       "      <td>Chalito_Rambla</td>\n",
       "      <td>5</td>\n",
       "      <td>True</td>\n",
       "      <td>Family bonding</td>\n",
       "      <td>The food is excellent.....the ambiance is very...</td>\n",
       "      <td>The food is excellent.....the ambiance is very...</td>\n",
       "      <td>2020-03-07</td>\n",
       "      <td>Barcelona_Catalonia</td>\n",
       "      <td>https://www.tripadvisor.com/Restaurant_Review-...</td>\n",
       "      <td>2</td>\n",
       "    </tr>\n",
       "    <tr>\n",
       "      <th>3</th>\n",
       "      <td>Chalito_Rambla</td>\n",
       "      <td>5</td>\n",
       "      <td>True</td>\n",
       "      <td>Best food</td>\n",
       "      <td>The food is execellent ,affortable price for p...</td>\n",
       "      <td>The food is execellent ,affortable price for p...</td>\n",
       "      <td>2020-03-07</td>\n",
       "      <td>Barcelona_Catalonia</td>\n",
       "      <td>https://www.tripadvisor.com/Restaurant_Review-...</td>\n",
       "      <td>3</td>\n",
       "    </tr>\n",
       "    <tr>\n",
       "      <th>4</th>\n",
       "      <td>Chalito_Rambla</td>\n",
       "      <td>5</td>\n",
       "      <td>True</td>\n",
       "      <td>Amazing Food and Fantastic Service</td>\n",
       "      <td>Mr Suarez,The food at your restaurant was abso...</td>\n",
       "      <td>Mr Suarez,The food at your restaurant was abso...</td>\n",
       "      <td>2020-03-07</td>\n",
       "      <td>Barcelona_Catalonia</td>\n",
       "      <td>https://www.tripadvisor.com/Restaurant_Review-...</td>\n",
       "      <td>4</td>\n",
       "    </tr>\n",
       "  </tbody>\n",
       "</table>\n",
       "</div>"
      ],
      "text/plain": [
       "       restaurant  rating   bias                                   title  \\\n",
       "0  Chalito_Rambla       1  False          Terrible food Terrible service   \n",
       "1  Chalito_Rambla       5   True  The best milanesa in central Barcelona   \n",
       "2  Chalito_Rambla       5   True                          Family bonding   \n",
       "3  Chalito_Rambla       5   True                               Best food   \n",
       "4  Chalito_Rambla       5   True     Amazing Food and Fantastic Service    \n",
       "\n",
       "                                             preview  \\\n",
       "0  Ok, this place is terrible! Came here bc we’ve...   \n",
       "1  This place was a great surprise. The food is d...   \n",
       "2  The food is excellent.....the ambiance is very...   \n",
       "3  The food is execellent ,affortable price for p...   \n",
       "4  Mr Suarez,The food at your restaurant was abso...   \n",
       "\n",
       "                                                full       date  \\\n",
       "0  Ok, this place is terrible! Came here bc we’ve... 2020-10-12   \n",
       "1  This place was a great surprise. The food is d... 2020-01-14   \n",
       "2  The food is excellent.....the ambiance is very... 2020-03-07   \n",
       "3  The food is execellent ,affortable price for p... 2020-03-07   \n",
       "4  Mr Suarez,The food at your restaurant was abso... 2020-03-07   \n",
       "\n",
       "                  city                                     url_restaurant  \\\n",
       "0  Barcelona_Catalonia  https://www.tripadvisor.com/Restaurant_Review-...   \n",
       "1  Barcelona_Catalonia  https://www.tripadvisor.com/Restaurant_Review-...   \n",
       "2  Barcelona_Catalonia  https://www.tripadvisor.com/Restaurant_Review-...   \n",
       "3  Barcelona_Catalonia  https://www.tripadvisor.com/Restaurant_Review-...   \n",
       "4  Barcelona_Catalonia  https://www.tripadvisor.com/Restaurant_Review-...   \n",
       "\n",
       "   author_id  \n",
       "0          0  \n",
       "1          1  \n",
       "2          2  \n",
       "3          3  \n",
       "4          4  "
      ]
     },
     "execution_count": 164,
     "metadata": {},
     "output_type": "execute_result"
    }
   ],
   "source": [
    "data.head()"
   ]
  },
  {
   "cell_type": "markdown",
   "id": "67a91405",
   "metadata": {},
   "source": [
    "Now the full dataframe fits my screen and every column has the best possible dtype."
   ]
  },
  {
   "cell_type": "code",
   "execution_count": 165,
   "id": "3a839188",
   "metadata": {},
   "outputs": [
    {
     "name": "stdout",
     "output_type": "stream",
     "text": [
      "<class 'pandas.core.frame.DataFrame'>\n",
      "Index: 416354 entries, 0 to 416355\n",
      "Data columns (total 10 columns):\n",
      " #   Column          Non-Null Count   Dtype         \n",
      "---  ------          --------------   -----         \n",
      " 0   restaurant      416354 non-null  object        \n",
      " 1   rating          416354 non-null  int32         \n",
      " 2   bias            416354 non-null  bool          \n",
      " 3   title           416354 non-null  object        \n",
      " 4   preview         416354 non-null  object        \n",
      " 5   full            416354 non-null  object        \n",
      " 6   date            416354 non-null  datetime64[ns]\n",
      " 7   city            416354 non-null  object        \n",
      " 8   url_restaurant  416354 non-null  object        \n",
      " 9   author_id       416354 non-null  int32         \n",
      "dtypes: bool(1), datetime64[ns](1), int32(2), object(6)\n",
      "memory usage: 29.0+ MB\n"
     ]
    }
   ],
   "source": [
    "data.info()"
   ]
  },
  {
   "cell_type": "markdown",
   "id": "5065bbbb",
   "metadata": {},
   "source": [
    "### 1.1 - Select equal number of reviews for all possible ratings (1 to 5).\n",
    "\n",
    "2 is the least frequently given rating with 18178 entries. I will select 18178 random reviews for each rating. "
   ]
  },
  {
   "cell_type": "code",
   "execution_count": 166,
   "id": "49b7458e",
   "metadata": {},
   "outputs": [
    {
     "data": {
      "text/plain": [
       "rating\n",
       "5    241976\n",
       "4     96802\n",
       "3     33148\n",
       "1     26250\n",
       "2     18178\n",
       "Name: count, dtype: int64"
      ]
     },
     "execution_count": 166,
     "metadata": {},
     "output_type": "execute_result"
    }
   ],
   "source": [
    "data.rating.value_counts()"
   ]
  },
  {
   "cell_type": "code",
   "execution_count": 167,
   "id": "e286d12f",
   "metadata": {},
   "outputs": [
    {
     "name": "stderr",
     "output_type": "stream",
     "text": [
      "C:\\Users\\kevin\\AppData\\Local\\Temp\\ipykernel_17692\\3631636527.py:2: DeprecationWarning: DataFrameGroupBy.apply operated on the grouping columns. This behavior is deprecated, and in a future version of pandas the grouping columns will be excluded from the operation. Either pass `include_groups=False` to exclude the groupings or explicitly select the grouping columns after groupby to silence this warning.\n",
      "  data = data.groupby('rating').apply(lambda x: x.sample(n=samples))\n"
     ]
    },
    {
     "data": {
      "text/plain": [
       "rating\n",
       "1    18178\n",
       "2    18178\n",
       "3    18178\n",
       "4    18178\n",
       "5    18178\n",
       "Name: count, dtype: int64"
      ]
     },
     "execution_count": 167,
     "metadata": {},
     "output_type": "execute_result"
    }
   ],
   "source": [
    "samples = data.rating.value_counts().min()\n",
    "data = data.groupby('rating').apply(lambda x: x.sample(n=samples))\n",
    "data.rating.value_counts()"
   ]
  },
  {
   "cell_type": "markdown",
   "id": "a6448a43",
   "metadata": {},
   "source": [
    "### 1.2 - Use suitable Python libraries to detect the language for every restaurant review, for instance `langdetect`."
   ]
  },
  {
   "cell_type": "markdown",
   "id": "ff0beea9",
   "metadata": {},
   "source": [
    "I will create a new column _language_ and fill it with the detected language of the review. I will use the _preview_ of the review to detect the language, because it is processed faster than the whole review and has a sufficient amount of words to detect the language. I will also enable tqdm for the pandas.apply() function (and use progress_apply() instead), so that I can see the progress."
   ]
  },
  {
   "cell_type": "code",
   "execution_count": 168,
   "id": "603248c6",
   "metadata": {},
   "outputs": [
    {
     "name": "stdout",
     "output_type": "stream",
     "text": [
      "Requirement already satisfied: langdetect in c:\\users\\kevin\\miniconda3\\envs\\data_science\\lib\\site-packages (1.0.9)\n",
      "Requirement already satisfied: six in c:\\users\\kevin\\miniconda3\\envs\\data_science\\lib\\site-packages (from langdetect) (1.16.0)\n"
     ]
    }
   ],
   "source": [
    "!pip install langdetect"
   ]
  },
  {
   "cell_type": "code",
   "execution_count": 169,
   "id": "bed4b293",
   "metadata": {},
   "outputs": [],
   "source": [
    "from langdetect import detect\n",
    "from tqdm.auto import tqdm\n",
    "\n",
    "tqdm.pandas()"
   ]
  },
  {
   "cell_type": "code",
   "execution_count": 170,
   "id": "956437af",
   "metadata": {},
   "outputs": [
    {
     "name": "stdout",
     "output_type": "stream",
     "text": [
      "Loaded detected languages from ..\\..\\Datasets\\Tripadvisor\\Barcelona_reviews_cleaned.csv\n"
     ]
    },
    {
     "data": {
      "text/html": [
       "<div>\n",
       "<style scoped>\n",
       "    .dataframe tbody tr th:only-of-type {\n",
       "        vertical-align: middle;\n",
       "    }\n",
       "\n",
       "    .dataframe tbody tr th {\n",
       "        vertical-align: top;\n",
       "    }\n",
       "\n",
       "    .dataframe thead th {\n",
       "        text-align: right;\n",
       "    }\n",
       "</style>\n",
       "<table border=\"1\" class=\"dataframe\">\n",
       "  <thead>\n",
       "    <tr style=\"text-align: right;\">\n",
       "      <th></th>\n",
       "      <th>restaurant</th>\n",
       "      <th>rating</th>\n",
       "      <th>bias</th>\n",
       "      <th>title</th>\n",
       "      <th>preview</th>\n",
       "      <th>full</th>\n",
       "      <th>date</th>\n",
       "      <th>city</th>\n",
       "      <th>url_restaurant</th>\n",
       "      <th>author_id</th>\n",
       "      <th>language</th>\n",
       "    </tr>\n",
       "  </thead>\n",
       "  <tbody>\n",
       "    <tr>\n",
       "      <th>0</th>\n",
       "      <td>Nineteen_Restaurant</td>\n",
       "      <td>1</td>\n",
       "      <td>False</td>\n",
       "      <td>4.50€ For a glass of sparkling water</td>\n",
       "      <td>Being from Barcelona, stop a minute to wait fo...</td>\n",
       "      <td>Being from Barcelona, stop a minute to wait fo...</td>\n",
       "      <td>2016-07-24</td>\n",
       "      <td>Barcelona_Catalonia</td>\n",
       "      <td>https://www.tripadvisor.com/Restaurant_Review-...</td>\n",
       "      <td>54770</td>\n",
       "      <td>en</td>\n",
       "    </tr>\n",
       "    <tr>\n",
       "      <th>1</th>\n",
       "      <td>El_Pi_Antic</td>\n",
       "      <td>1</td>\n",
       "      <td>False</td>\n",
       "      <td>Avoid - poor quality and overpriced</td>\n",
       "      <td>Stumbled upon this place after a long days wor...</td>\n",
       "      <td>Stumbled upon this place after a long days wor...</td>\n",
       "      <td>2015-06-09</td>\n",
       "      <td>Barcelona_Catalonia</td>\n",
       "      <td>https://www.tripadvisor.com/Restaurant_Review-...</td>\n",
       "      <td>217874</td>\n",
       "      <td>en</td>\n",
       "    </tr>\n",
       "    <tr>\n",
       "      <th>2</th>\n",
       "      <td>Restaurant_El_Beso_y_La_Lluna</td>\n",
       "      <td>1</td>\n",
       "      <td>False</td>\n",
       "      <td>One of the worst.</td>\n",
       "      <td>Sometimes a restaurant experience is so bad yo...</td>\n",
       "      <td>Sometimes a restaurant experience is so bad yo...</td>\n",
       "      <td>2017-07-23</td>\n",
       "      <td>Barcelona_Catalonia</td>\n",
       "      <td>https://www.tripadvisor.com/Restaurant_Review-...</td>\n",
       "      <td>197546</td>\n",
       "      <td>en</td>\n",
       "    </tr>\n",
       "    <tr>\n",
       "      <th>3</th>\n",
       "      <td>Casa_Guinart</td>\n",
       "      <td>1</td>\n",
       "      <td>False</td>\n",
       "      <td>not so good tapas</td>\n",
       "      <td>I am sorry to say but hit restaurant was very ...</td>\n",
       "      <td>I am sorry to say but hit restaurant was very ...</td>\n",
       "      <td>2019-05-28</td>\n",
       "      <td>Barcelona_Catalonia</td>\n",
       "      <td>https://www.tripadvisor.com/Restaurant_Review-...</td>\n",
       "      <td>166297</td>\n",
       "      <td>en</td>\n",
       "    </tr>\n",
       "    <tr>\n",
       "      <th>4</th>\n",
       "      <td>Bravo</td>\n",
       "      <td>1</td>\n",
       "      <td>False</td>\n",
       "      <td>Overpriced trap!!</td>\n",
       "      <td>Was at Bravo during Mobile World Congress, I h...</td>\n",
       "      <td>Was at Bravo during Mobile World Congress, I h...</td>\n",
       "      <td>2016-03-02</td>\n",
       "      <td>Barcelona_Catalonia</td>\n",
       "      <td>https://www.tripadvisor.com/Restaurant_Review-...</td>\n",
       "      <td>182238</td>\n",
       "      <td>en</td>\n",
       "    </tr>\n",
       "  </tbody>\n",
       "</table>\n",
       "</div>"
      ],
      "text/plain": [
       "                      restaurant  rating   bias  \\\n",
       "0            Nineteen_Restaurant       1  False   \n",
       "1                    El_Pi_Antic       1  False   \n",
       "2  Restaurant_El_Beso_y_La_Lluna       1  False   \n",
       "3                   Casa_Guinart       1  False   \n",
       "4                          Bravo       1  False   \n",
       "\n",
       "                                   title  \\\n",
       "0  4.50€ For a glass of sparkling water    \n",
       "1   Avoid - poor quality and overpriced    \n",
       "2                     One of the worst.    \n",
       "3                      not so good tapas   \n",
       "4                      Overpriced trap!!   \n",
       "\n",
       "                                             preview  \\\n",
       "0  Being from Barcelona, stop a minute to wait fo...   \n",
       "1  Stumbled upon this place after a long days wor...   \n",
       "2  Sometimes a restaurant experience is so bad yo...   \n",
       "3  I am sorry to say but hit restaurant was very ...   \n",
       "4  Was at Bravo during Mobile World Congress, I h...   \n",
       "\n",
       "                                                full        date  \\\n",
       "0  Being from Barcelona, stop a minute to wait fo...  2016-07-24   \n",
       "1  Stumbled upon this place after a long days wor...  2015-06-09   \n",
       "2  Sometimes a restaurant experience is so bad yo...  2017-07-23   \n",
       "3  I am sorry to say but hit restaurant was very ...  2019-05-28   \n",
       "4  Was at Bravo during Mobile World Congress, I h...  2016-03-02   \n",
       "\n",
       "                  city                                     url_restaurant  \\\n",
       "0  Barcelona_Catalonia  https://www.tripadvisor.com/Restaurant_Review-...   \n",
       "1  Barcelona_Catalonia  https://www.tripadvisor.com/Restaurant_Review-...   \n",
       "2  Barcelona_Catalonia  https://www.tripadvisor.com/Restaurant_Review-...   \n",
       "3  Barcelona_Catalonia  https://www.tripadvisor.com/Restaurant_Review-...   \n",
       "4  Barcelona_Catalonia  https://www.tripadvisor.com/Restaurant_Review-...   \n",
       "\n",
       "   author_id language  \n",
       "0      54770       en  \n",
       "1     217874       en  \n",
       "2     197546       en  \n",
       "3     166297       en  \n",
       "4     182238       en  "
      ]
     },
     "execution_count": 170,
     "metadata": {},
     "output_type": "execute_result"
    }
   ],
   "source": [
    "filepath = os.path.join(path, \"Barcelona_reviews_cleaned.csv\")\n",
    "\n",
    "try:\n",
    "    data = pd.read_csv(filepath)\n",
    "    print(f\"Loaded detected languages from {filepath}\")\n",
    "except:\n",
    "    print(f\"Found no data at {filepath}. Detecting Languages:\")\n",
    "\n",
    "    data[\"language\"] = data.preview.progress_apply(detect)\n",
    "    data.to_csv(filepath, index=False)\n",
    "\n",
    "data.head()"
   ]
  },
  {
   "cell_type": "markdown",
   "id": "cca9d7fb",
   "metadata": {},
   "source": [
    "### 1.3 - Show a distribution of detected languages.\n",
    "\n",
    "Pie plots are well suited to show the distribution of categorical data. We can see that nearly all reviews are in english."
   ]
  },
  {
   "cell_type": "code",
   "execution_count": 171,
   "id": "2fa39f75",
   "metadata": {},
   "outputs": [
    {
     "data": {
      "text/plain": [
       "<Axes: ylabel='count'>"
      ]
     },
     "execution_count": 171,
     "metadata": {},
     "output_type": "execute_result"
    },
    {
     "data": {
      "image/png": "[encoded data removed]",
      "text/plain": [
       "<Figure size 640x480 with 1 Axes>"
      ]
     },
     "metadata": {},
     "output_type": "display_data"
    }
   ],
   "source": [
    "data.language.value_counts().plot(kind=\"pie\")"
   ]
  },
  {
   "cell_type": "markdown",
   "id": "13138da9",
   "metadata": {},
   "source": [
    "### 1.4 - Continue to work only with English entries."
   ]
  },
  {
   "cell_type": "code",
   "execution_count": 172,
   "id": "7aa86077",
   "metadata": {},
   "outputs": [],
   "source": [
    "english_mask = data.language == \"en\"\n",
    "data_cleaned = data[english_mask]"
   ]
  },
  {
   "cell_type": "markdown",
   "id": "ccb52eac",
   "metadata": {},
   "source": [
    "Our ratings were perfectly balanced because we selected the same amount of reviews for each rating in 1.1. After filtering out non-english reviews, the ratings are not perfectly balanced anymore, but as we can see in the pie plots, there were very few non-english reviews and the ratings are still very balanced."
   ]
  },
  {
   "cell_type": "code",
   "execution_count": 173,
   "id": "5902a7ea",
   "metadata": {},
   "outputs": [
    {
     "data": {
      "text/plain": [
       "<Axes: ylabel='count'>"
      ]
     },
     "execution_count": 173,
     "metadata": {},
     "output_type": "execute_result"
    },
    {
     "data": {
      "image/png": "[encoded data removed]",
      "text/plain": [
       "<Figure size 640x480 with 1 Axes>"
      ]
     },
     "metadata": {},
     "output_type": "display_data"
    }
   ],
   "source": [
    "data_cleaned.rating.value_counts().plot(kind=\"pie\")"
   ]
  },
  {
   "cell_type": "markdown",
   "id": "88f4e03d",
   "metadata": {},
   "source": [
    "## 2. TF-IDF + Logistic Regression vs Linear Regression"
   ]
  },
  {
   "cell_type": "markdown",
   "id": "ea8a399c",
   "metadata": {},
   "source": [
    "### 2.1 - Use the `TfidfVectorizer` to create vectors of all remaining reviews.\n",
    "\n",
    "The vectorizer transforms the words of a review into tokens and then converts these tokens to a bunch of numerical vectors. These vectors are essentially just a long list of zeros representing every word in the corpus of the training data. With a single 1 indicating the actual word. This step is called One-Hot-Encoding. Using these numerical vectors opens up many possibilities to compare them using different algebraic methods.\n",
    "It is important to fit the vectorizer only on the training data to prevent data leakage. There will be some tokens in the test data, that are out of vocabulary of the model, but this is just what would happen in the real world too."
   ]
  },
  {
   "cell_type": "code",
   "execution_count": 174,
   "id": "05cf9580",
   "metadata": {},
   "outputs": [],
   "source": [
    "from sklearn.model_selection import train_test_split\n",
    "\n",
    "X_train, X_test, y_train, y_test = train_test_split(data_cleaned.full, data_cleaned.rating, test_size=0.2, random_state=42)"
   ]
  },
  {
   "cell_type": "code",
   "execution_count": 175,
   "id": "275f4f18",
   "metadata": {},
   "outputs": [],
   "source": [
    "vectorizer = TfidfVectorizer(min_df=10, max_df=0.25)\n",
    "vectors_train = vectorizer.fit_transform(X_train)"
   ]
  },
  {
   "cell_type": "markdown",
   "id": "0a87fa09",
   "metadata": {},
   "source": [
    "### 2.2 - Train a Logistic Regression model on the 5 rating classes\n",
    "\n",
    "Although it is called logistic regression, it is still a classification method. The 5 levels of the ratings are an ordinal scale, which has a hierarchical context (5>4>3>2>1), but can be interpreted as just 5 categories too. "
   ]
  },
  {
   "cell_type": "code",
   "execution_count": 176,
   "id": "d92cfa71-5b0e-45a4-a7cf-37cbde7e05d8",
   "metadata": {},
   "outputs": [
    {
     "data": {
      "text/html": [
       "<style>#sk-container-id-5 {\n",
       "  /* Definition of color scheme common for light and dark mode */\n",
       "  --sklearn-color-text: black;\n",
       "  --sklearn-color-line: gray;\n",
       "  /* Definition of color scheme for unfitted estimators */\n",
       "  --sklearn-color-unfitted-level-0: #fff5e6;\n",
       "  --sklearn-color-unfitted-level-1: #f6e4d2;\n",
       "  --sklearn-color-unfitted-level-2: #ffe0b3;\n",
       "  --sklearn-color-unfitted-level-3: chocolate;\n",
       "  /* Definition of color scheme for fitted estimators */\n",
       "  --sklearn-color-fitted-level-0: #f0f8ff;\n",
       "  --sklearn-color-fitted-level-1: #d4ebff;\n",
       "  --sklearn-color-fitted-level-2: #b3dbfd;\n",
       "  --sklearn-color-fitted-level-3: cornflowerblue;\n",
       "\n",
       "  /* Specific color for light theme */\n",
       "  --sklearn-color-text-on-default-background: var(--sg-text-color, var(--theme-code-foreground, var(--jp-content-font-color1, black)));\n",
       "  --sklearn-color-background: var(--sg-background-color, var(--theme-background, var(--jp-layout-color0, white)));\n",
       "  --sklearn-color-border-box: var(--sg-text-color, var(--theme-code-foreground, var(--jp-content-font-color1, black)));\n",
       "  --sklearn-color-icon: #696969;\n",
       "\n",
       "  @media (prefers-color-scheme: dark) {\n",
       "    /* Redefinition of color scheme for dark theme */\n",
       "    --sklearn-color-text-on-default-background: var(--sg-text-color, var(--theme-code-foreground, var(--jp-content-font-color1, white)));\n",
       "    --sklearn-color-background: var(--sg-background-color, var(--theme-background, var(--jp-layout-color0, #111)));\n",
       "    --sklearn-color-border-box: var(--sg-text-color, var(--theme-code-foreground, var(--jp-content-font-color1, white)));\n",
       "    --sklearn-color-icon: #878787;\n",
       "  }\n",
       "}\n",
       "\n",
       "#sk-container-id-5 {\n",
       "  color: var(--sklearn-color-text);\n",
       "}\n",
       "\n",
       "#sk-container-id-5 pre {\n",
       "  padding: 0;\n",
       "}\n",
       "\n",
       "#sk-container-id-5 input.sk-hidden--visually {\n",
       "  border: 0;\n",
       "  clip: rect(1px 1px 1px 1px);\n",
       "  clip: rect(1px, 1px, 1px, 1px);\n",
       "  height: 1px;\n",
       "  margin: -1px;\n",
       "  overflow: hidden;\n",
       "  padding: 0;\n",
       "  position: absolute;\n",
       "  width: 1px;\n",
       "}\n",
       "\n",
       "#sk-container-id-5 div.sk-dashed-wrapped {\n",
       "  border: 1px dashed var(--sklearn-color-line);\n",
       "  margin: 0 0.4em 0.5em 0.4em;\n",
       "  box-sizing: border-box;\n",
       "  padding-bottom: 0.4em;\n",
       "  background-color: var(--sklearn-color-background);\n",
       "}\n",
       "\n",
       "#sk-container-id-5 div.sk-container {\n",
       "  /* jupyter's `normalize.less` sets `[hidden] { display: none; }`\n",
       "     but bootstrap.min.css set `[hidden] { display: none !important; }`\n",
       "     so we also need the `!important` here to be able to override the\n",
       "     default hidden behavior on the sphinx rendered scikit-learn.org.\n",
       "     See: https://github.com/scikit-learn/scikit-learn/issues/21755 */\n",
       "  display: inline-block !important;\n",
       "  position: relative;\n",
       "}\n",
       "\n",
       "#sk-container-id-5 div.sk-text-repr-fallback {\n",
       "  display: none;\n",
       "}\n",
       "\n",
       "div.sk-parallel-item,\n",
       "div.sk-serial,\n",
       "div.sk-item {\n",
       "  /* draw centered vertical line to link estimators */\n",
       "  background-image: linear-gradient(var(--sklearn-color-text-on-default-background), var(--sklearn-color-text-on-default-background));\n",
       "  background-size: 2px 100%;\n",
       "  background-repeat: no-repeat;\n",
       "  background-position: center center;\n",
       "}\n",
       "\n",
       "/* Parallel-specific style estimator block */\n",
       "\n",
       "#sk-container-id-5 div.sk-parallel-item::after {\n",
       "  content: \"\";\n",
       "  width: 100%;\n",
       "  border-bottom: 2px solid var(--sklearn-color-text-on-default-background);\n",
       "  flex-grow: 1;\n",
       "}\n",
       "\n",
       "#sk-container-id-5 div.sk-parallel {\n",
       "  display: flex;\n",
       "  align-items: stretch;\n",
       "  justify-content: center;\n",
       "  background-color: var(--sklearn-color-background);\n",
       "  position: relative;\n",
       "}\n",
       "\n",
       "#sk-container-id-5 div.sk-parallel-item {\n",
       "  display: flex;\n",
       "  flex-direction: column;\n",
       "}\n",
       "\n",
       "#sk-container-id-5 div.sk-parallel-item:first-child::after {\n",
       "  align-self: flex-end;\n",
       "  width: 50%;\n",
       "}\n",
       "\n",
       "#sk-container-id-5 div.sk-parallel-item:last-child::after {\n",
       "  align-self: flex-start;\n",
       "  width: 50%;\n",
       "}\n",
       "\n",
       "#sk-container-id-5 div.sk-parallel-item:only-child::after {\n",
       "  width: 0;\n",
       "}\n",
       "\n",
       "/* Serial-specific style estimator block */\n",
       "\n",
       "#sk-container-id-5 div.sk-serial {\n",
       "  display: flex;\n",
       "  flex-direction: column;\n",
       "  align-items: center;\n",
       "  background-color: var(--sklearn-color-background);\n",
       "  padding-right: 1em;\n",
       "  padding-left: 1em;\n",
       "}\n",
       "\n",
       "\n",
       "/* Toggleable style: style used for estimator/Pipeline/ColumnTransformer box that is\n",
       "clickable and can be expanded/collapsed.\n",
       "- Pipeline and ColumnTransformer use this feature and define the default style\n",
       "- Estimators will overwrite some part of the style using the `sk-estimator` class\n",
       "*/\n",
       "\n",
       "/* Pipeline and ColumnTransformer style (default) */\n",
       "\n",
       "#sk-container-id-5 div.sk-toggleable {\n",
       "  /* Default theme specific background. It is overwritten whether we have a\n",
       "  specific estimator or a Pipeline/ColumnTransformer */\n",
       "  background-color: var(--sklearn-color-background);\n",
       "}\n",
       "\n",
       "/* Toggleable label */\n",
       "#sk-container-id-5 label.sk-toggleable__label {\n",
       "  cursor: pointer;\n",
       "  display: block;\n",
       "  width: 100%;\n",
       "  margin-bottom: 0;\n",
       "  padding: 0.5em;\n",
       "  box-sizing: border-box;\n",
       "  text-align: center;\n",
       "}\n",
       "\n",
       "#sk-container-id-5 label.sk-toggleable__label-arrow:before {\n",
       "  /* Arrow on the left of the label */\n",
       "  content: \"▸\";\n",
       "  float: left;\n",
       "  margin-right: 0.25em;\n",
       "  color: var(--sklearn-color-icon);\n",
       "}\n",
       "\n",
       "#sk-container-id-5 label.sk-toggleable__label-arrow:hover:before {\n",
       "  color: var(--sklearn-color-text);\n",
       "}\n",
       "\n",
       "/* Toggleable content - dropdown */\n",
       "\n",
       "#sk-container-id-5 div.sk-toggleable__content {\n",
       "  max-height: 0;\n",
       "  max-width: 0;\n",
       "  overflow: hidden;\n",
       "  text-align: left;\n",
       "  /* unfitted */\n",
       "  background-color: var(--sklearn-color-unfitted-level-0);\n",
       "}\n",
       "\n",
       "#sk-container-id-5 div.sk-toggleable__content.fitted {\n",
       "  /* fitted */\n",
       "  background-color: var(--sklearn-color-fitted-level-0);\n",
       "}\n",
       "\n",
       "#sk-container-id-5 div.sk-toggleable__content pre {\n",
       "  margin: 0.2em;\n",
       "  border-radius: 0.25em;\n",
       "  color: var(--sklearn-color-text);\n",
       "  /* unfitted */\n",
       "  background-color: var(--sklearn-color-unfitted-level-0);\n",
       "}\n",
       "\n",
       "#sk-container-id-5 div.sk-toggleable__content.fitted pre {\n",
       "  /* unfitted */\n",
       "  background-color: var(--sklearn-color-fitted-level-0);\n",
       "}\n",
       "\n",
       "#sk-container-id-5 input.sk-toggleable__control:checked~div.sk-toggleable__content {\n",
       "  /* Expand drop-down */\n",
       "  max-height: 200px;\n",
       "  max-width: 100%;\n",
       "  overflow: auto;\n",
       "}\n",
       "\n",
       "#sk-container-id-5 input.sk-toggleable__control:checked~label.sk-toggleable__label-arrow:before {\n",
       "  content: \"▾\";\n",
       "}\n",
       "\n",
       "/* Pipeline/ColumnTransformer-specific style */\n",
       "\n",
       "#sk-container-id-5 div.sk-label input.sk-toggleable__control:checked~label.sk-toggleable__label {\n",
       "  color: var(--sklearn-color-text);\n",
       "  background-color: var(--sklearn-color-unfitted-level-2);\n",
       "}\n",
       "\n",
       "#sk-container-id-5 div.sk-label.fitted input.sk-toggleable__control:checked~label.sk-toggleable__label {\n",
       "  background-color: var(--sklearn-color-fitted-level-2);\n",
       "}\n",
       "\n",
       "/* Estimator-specific style */\n",
       "\n",
       "/* Colorize estimator box */\n",
       "#sk-container-id-5 div.sk-estimator input.sk-toggleable__control:checked~label.sk-toggleable__label {\n",
       "  /* unfitted */\n",
       "  background-color: var(--sklearn-color-unfitted-level-2);\n",
       "}\n",
       "\n",
       "#sk-container-id-5 div.sk-estimator.fitted input.sk-toggleable__control:checked~label.sk-toggleable__label {\n",
       "  /* fitted */\n",
       "  background-color: var(--sklearn-color-fitted-level-2);\n",
       "}\n",
       "\n",
       "#sk-container-id-5 div.sk-label label.sk-toggleable__label,\n",
       "#sk-container-id-5 div.sk-label label {\n",
       "  /* The background is the default theme color */\n",
       "  color: var(--sklearn-color-text-on-default-background);\n",
       "}\n",
       "\n",
       "/* On hover, darken the color of the background */\n",
       "#sk-container-id-5 div.sk-label:hover label.sk-toggleable__label {\n",
       "  color: var(--sklearn-color-text);\n",
       "  background-color: var(--sklearn-color-unfitted-level-2);\n",
       "}\n",
       "\n",
       "/* Label box, darken color on hover, fitted */\n",
       "#sk-container-id-5 div.sk-label.fitted:hover label.sk-toggleable__label.fitted {\n",
       "  color: var(--sklearn-color-text);\n",
       "  background-color: var(--sklearn-color-fitted-level-2);\n",
       "}\n",
       "\n",
       "/* Estimator label */\n",
       "\n",
       "#sk-container-id-5 div.sk-label label {\n",
       "  font-family: monospace;\n",
       "  font-weight: bold;\n",
       "  display: inline-block;\n",
       "  line-height: 1.2em;\n",
       "}\n",
       "\n",
       "#sk-container-id-5 div.sk-label-container {\n",
       "  text-align: center;\n",
       "}\n",
       "\n",
       "/* Estimator-specific */\n",
       "#sk-container-id-5 div.sk-estimator {\n",
       "  font-family: monospace;\n",
       "  border: 1px dotted var(--sklearn-color-border-box);\n",
       "  border-radius: 0.25em;\n",
       "  box-sizing: border-box;\n",
       "  margin-bottom: 0.5em;\n",
       "  /* unfitted */\n",
       "  background-color: var(--sklearn-color-unfitted-level-0);\n",
       "}\n",
       "\n",
       "#sk-container-id-5 div.sk-estimator.fitted {\n",
       "  /* fitted */\n",
       "  background-color: var(--sklearn-color-fitted-level-0);\n",
       "}\n",
       "\n",
       "/* on hover */\n",
       "#sk-container-id-5 div.sk-estimator:hover {\n",
       "  /* unfitted */\n",
       "  background-color: var(--sklearn-color-unfitted-level-2);\n",
       "}\n",
       "\n",
       "#sk-container-id-5 div.sk-estimator.fitted:hover {\n",
       "  /* fitted */\n",
       "  background-color: var(--sklearn-color-fitted-level-2);\n",
       "}\n",
       "\n",
       "/* Specification for estimator info (e.g. \"i\" and \"?\") */\n",
       "\n",
       "/* Common style for \"i\" and \"?\" */\n",
       "\n",
       ".sk-estimator-doc-link,\n",
       "a:link.sk-estimator-doc-link,\n",
       "a:visited.sk-estimator-doc-link {\n",
       "  float: right;\n",
       "  font-size: smaller;\n",
       "  line-height: 1em;\n",
       "  font-family: monospace;\n",
       "  background-color: var(--sklearn-color-background);\n",
       "  border-radius: 1em;\n",
       "  height: 1em;\n",
       "  width: 1em;\n",
       "  text-decoration: none !important;\n",
       "  margin-left: 1ex;\n",
       "  /* unfitted */\n",
       "  border: var(--sklearn-color-unfitted-level-1) 1pt solid;\n",
       "  color: var(--sklearn-color-unfitted-level-1);\n",
       "}\n",
       "\n",
       ".sk-estimator-doc-link.fitted,\n",
       "a:link.sk-estimator-doc-link.fitted,\n",
       "a:visited.sk-estimator-doc-link.fitted {\n",
       "  /* fitted */\n",
       "  border: var(--sklearn-color-fitted-level-1) 1pt solid;\n",
       "  color: var(--sklearn-color-fitted-level-1);\n",
       "}\n",
       "\n",
       "/* On hover */\n",
       "div.sk-estimator:hover .sk-estimator-doc-link:hover,\n",
       ".sk-estimator-doc-link:hover,\n",
       "div.sk-label-container:hover .sk-estimator-doc-link:hover,\n",
       ".sk-estimator-doc-link:hover {\n",
       "  /* unfitted */\n",
       "  background-color: var(--sklearn-color-unfitted-level-3);\n",
       "  color: var(--sklearn-color-background);\n",
       "  text-decoration: none;\n",
       "}\n",
       "\n",
       "div.sk-estimator.fitted:hover .sk-estimator-doc-link.fitted:hover,\n",
       ".sk-estimator-doc-link.fitted:hover,\n",
       "div.sk-label-container:hover .sk-estimator-doc-link.fitted:hover,\n",
       ".sk-estimator-doc-link.fitted:hover {\n",
       "  /* fitted */\n",
       "  background-color: var(--sklearn-color-fitted-level-3);\n",
       "  color: var(--sklearn-color-background);\n",
       "  text-decoration: none;\n",
       "}\n",
       "\n",
       "/* Span, style for the box shown on hovering the info icon */\n",
       ".sk-estimator-doc-link span {\n",
       "  display: none;\n",
       "  z-index: 9999;\n",
       "  position: relative;\n",
       "  font-weight: normal;\n",
       "  right: .2ex;\n",
       "  padding: .5ex;\n",
       "  margin: .5ex;\n",
       "  width: min-content;\n",
       "  min-width: 20ex;\n",
       "  max-width: 50ex;\n",
       "  color: var(--sklearn-color-text);\n",
       "  box-shadow: 2pt 2pt 4pt #999;\n",
       "  /* unfitted */\n",
       "  background: var(--sklearn-color-unfitted-level-0);\n",
       "  border: .5pt solid var(--sklearn-color-unfitted-level-3);\n",
       "}\n",
       "\n",
       ".sk-estimator-doc-link.fitted span {\n",
       "  /* fitted */\n",
       "  background: var(--sklearn-color-fitted-level-0);\n",
       "  border: var(--sklearn-color-fitted-level-3);\n",
       "}\n",
       "\n",
       ".sk-estimator-doc-link:hover span {\n",
       "  display: block;\n",
       "}\n",
       "\n",
       "/* \"?\"-specific style due to the `<a>` HTML tag */\n",
       "\n",
       "#sk-container-id-5 a.estimator_doc_link {\n",
       "  float: right;\n",
       "  font-size: 1rem;\n",
       "  line-height: 1em;\n",
       "  font-family: monospace;\n",
       "  background-color: var(--sklearn-color-background);\n",
       "  border-radius: 1rem;\n",
       "  height: 1rem;\n",
       "  width: 1rem;\n",
       "  text-decoration: none;\n",
       "  /* unfitted */\n",
       "  color: var(--sklearn-color-unfitted-level-1);\n",
       "  border: var(--sklearn-color-unfitted-level-1) 1pt solid;\n",
       "}\n",
       "\n",
       "#sk-container-id-5 a.estimator_doc_link.fitted {\n",
       "  /* fitted */\n",
       "  border: var(--sklearn-color-fitted-level-1) 1pt solid;\n",
       "  color: var(--sklearn-color-fitted-level-1);\n",
       "}\n",
       "\n",
       "/* On hover */\n",
       "#sk-container-id-5 a.estimator_doc_link:hover {\n",
       "  /* unfitted */\n",
       "  background-color: var(--sklearn-color-unfitted-level-3);\n",
       "  color: var(--sklearn-color-background);\n",
       "  text-decoration: none;\n",
       "}\n",
       "\n",
       "#sk-container-id-5 a.estimator_doc_link.fitted:hover {\n",
       "  /* fitted */\n",
       "  background-color: var(--sklearn-color-fitted-level-3);\n",
       "}\n",
       "</style><div id=\"sk-container-id-5\" class=\"sk-top-container\"><div class=\"sk-text-repr-fallback\"><pre>LogisticRegression(max_iter=1000)</pre><b>In a Jupyter environment, please rerun this cell to show the HTML representation or trust the notebook. <br />On GitHub, the HTML representation is unable to render, please try loading this page with nbviewer.org.</b></div><div class=\"sk-container\" hidden><div class=\"sk-item\"><div class=\"sk-estimator fitted sk-toggleable\"><input class=\"sk-toggleable__control sk-hidden--visually\" id=\"sk-estimator-id-5\" type=\"checkbox\" checked><label for=\"sk-estimator-id-5\" class=\"sk-toggleable__label fitted sk-toggleable__label-arrow fitted\">&nbsp;&nbsp;LogisticRegression<a class=\"sk-estimator-doc-link fitted\" rel=\"noreferrer\" target=\"_blank\" href=\"https://scikit-learn.org/1.4/modules/generated/sklearn.linear_model.LogisticRegression.html\">?<span>Documentation for LogisticRegression</span></a><span class=\"sk-estimator-doc-link fitted\">i<span>Fitted</span></span></label><div class=\"sk-toggleable__content fitted\"><pre>LogisticRegression(max_iter=1000)</pre></div> </div></div></div></div>"
      ],
      "text/plain": [
       "LogisticRegression(max_iter=1000)"
      ]
     },
     "execution_count": 176,
     "metadata": {},
     "output_type": "execute_result"
    }
   ],
   "source": [
    "# Train a Logistic Regression model on the 5 rating classes\n",
    "from sklearn.linear_model import LogisticRegression\n",
    "\n",
    "logistic_regression = LogisticRegression(max_iter=1000)\n",
    "logistic_regression.fit(vectors_train, y_train)"
   ]
  },
  {
   "cell_type": "markdown",
   "id": "14ff829f",
   "metadata": {},
   "source": [
    "### 2.3 - Train a Linear Regression model on the rating (1 to 5).\n",
    "\n",
    "Linear Regression is an actual regression and works with continous values. This way the ordered context of the ratings is kept, but it will also predict impossible ratings like 4.5 or even something out of the scale like 11. "
   ]
  },
  {
   "cell_type": "code",
   "execution_count": 177,
   "id": "1508c938",
   "metadata": {},
   "outputs": [
    {
     "data": {
      "text/html": [
       "<style>#sk-container-id-6 {\n",
       "  /* Definition of color scheme common for light and dark mode */\n",
       "  --sklearn-color-text: black;\n",
       "  --sklearn-color-line: gray;\n",
       "  /* Definition of color scheme for unfitted estimators */\n",
       "  --sklearn-color-unfitted-level-0: #fff5e6;\n",
       "  --sklearn-color-unfitted-level-1: #f6e4d2;\n",
       "  --sklearn-color-unfitted-level-2: #ffe0b3;\n",
       "  --sklearn-color-unfitted-level-3: chocolate;\n",
       "  /* Definition of color scheme for fitted estimators */\n",
       "  --sklearn-color-fitted-level-0: #f0f8ff;\n",
       "  --sklearn-color-fitted-level-1: #d4ebff;\n",
       "  --sklearn-color-fitted-level-2: #b3dbfd;\n",
       "  --sklearn-color-fitted-level-3: cornflowerblue;\n",
       "\n",
       "  /* Specific color for light theme */\n",
       "  --sklearn-color-text-on-default-background: var(--sg-text-color, var(--theme-code-foreground, var(--jp-content-font-color1, black)));\n",
       "  --sklearn-color-background: var(--sg-background-color, var(--theme-background, var(--jp-layout-color0, white)));\n",
       "  --sklearn-color-border-box: var(--sg-text-color, var(--theme-code-foreground, var(--jp-content-font-color1, black)));\n",
       "  --sklearn-color-icon: #696969;\n",
       "\n",
       "  @media (prefers-color-scheme: dark) {\n",
       "    /* Redefinition of color scheme for dark theme */\n",
       "    --sklearn-color-text-on-default-background: var(--sg-text-color, var(--theme-code-foreground, var(--jp-content-font-color1, white)));\n",
       "    --sklearn-color-background: var(--sg-background-color, var(--theme-background, var(--jp-layout-color0, #111)));\n",
       "    --sklearn-color-border-box: var(--sg-text-color, var(--theme-code-foreground, var(--jp-content-font-color1, white)));\n",
       "    --sklearn-color-icon: #878787;\n",
       "  }\n",
       "}\n",
       "\n",
       "#sk-container-id-6 {\n",
       "  color: var(--sklearn-color-text);\n",
       "}\n",
       "\n",
       "#sk-container-id-6 pre {\n",
       "  padding: 0;\n",
       "}\n",
       "\n",
       "#sk-container-id-6 input.sk-hidden--visually {\n",
       "  border: 0;\n",
       "  clip: rect(1px 1px 1px 1px);\n",
       "  clip: rect(1px, 1px, 1px, 1px);\n",
       "  height: 1px;\n",
       "  margin: -1px;\n",
       "  overflow: hidden;\n",
       "  padding: 0;\n",
       "  position: absolute;\n",
       "  width: 1px;\n",
       "}\n",
       "\n",
       "#sk-container-id-6 div.sk-dashed-wrapped {\n",
       "  border: 1px dashed var(--sklearn-color-line);\n",
       "  margin: 0 0.4em 0.5em 0.4em;\n",
       "  box-sizing: border-box;\n",
       "  padding-bottom: 0.4em;\n",
       "  background-color: var(--sklearn-color-background);\n",
       "}\n",
       "\n",
       "#sk-container-id-6 div.sk-container {\n",
       "  /* jupyter's `normalize.less` sets `[hidden] { display: none; }`\n",
       "     but bootstrap.min.css set `[hidden] { display: none !important; }`\n",
       "     so we also need the `!important` here to be able to override the\n",
       "     default hidden behavior on the sphinx rendered scikit-learn.org.\n",
       "     See: https://github.com/scikit-learn/scikit-learn/issues/21755 */\n",
       "  display: inline-block !important;\n",
       "  position: relative;\n",
       "}\n",
       "\n",
       "#sk-container-id-6 div.sk-text-repr-fallback {\n",
       "  display: none;\n",
       "}\n",
       "\n",
       "div.sk-parallel-item,\n",
       "div.sk-serial,\n",
       "div.sk-item {\n",
       "  /* draw centered vertical line to link estimators */\n",
       "  background-image: linear-gradient(var(--sklearn-color-text-on-default-background), var(--sklearn-color-text-on-default-background));\n",
       "  background-size: 2px 100%;\n",
       "  background-repeat: no-repeat;\n",
       "  background-position: center center;\n",
       "}\n",
       "\n",
       "/* Parallel-specific style estimator block */\n",
       "\n",
       "#sk-container-id-6 div.sk-parallel-item::after {\n",
       "  content: \"\";\n",
       "  width: 100%;\n",
       "  border-bottom: 2px solid var(--sklearn-color-text-on-default-background);\n",
       "  flex-grow: 1;\n",
       "}\n",
       "\n",
       "#sk-container-id-6 div.sk-parallel {\n",
       "  display: flex;\n",
       "  align-items: stretch;\n",
       "  justify-content: center;\n",
       "  background-color: var(--sklearn-color-background);\n",
       "  position: relative;\n",
       "}\n",
       "\n",
       "#sk-container-id-6 div.sk-parallel-item {\n",
       "  display: flex;\n",
       "  flex-direction: column;\n",
       "}\n",
       "\n",
       "#sk-container-id-6 div.sk-parallel-item:first-child::after {\n",
       "  align-self: flex-end;\n",
       "  width: 50%;\n",
       "}\n",
       "\n",
       "#sk-container-id-6 div.sk-parallel-item:last-child::after {\n",
       "  align-self: flex-start;\n",
       "  width: 50%;\n",
       "}\n",
       "\n",
       "#sk-container-id-6 div.sk-parallel-item:only-child::after {\n",
       "  width: 0;\n",
       "}\n",
       "\n",
       "/* Serial-specific style estimator block */\n",
       "\n",
       "#sk-container-id-6 div.sk-serial {\n",
       "  display: flex;\n",
       "  flex-direction: column;\n",
       "  align-items: center;\n",
       "  background-color: var(--sklearn-color-background);\n",
       "  padding-right: 1em;\n",
       "  padding-left: 1em;\n",
       "}\n",
       "\n",
       "\n",
       "/* Toggleable style: style used for estimator/Pipeline/ColumnTransformer box that is\n",
       "clickable and can be expanded/collapsed.\n",
       "- Pipeline and ColumnTransformer use this feature and define the default style\n",
       "- Estimators will overwrite some part of the style using the `sk-estimator` class\n",
       "*/\n",
       "\n",
       "/* Pipeline and ColumnTransformer style (default) */\n",
       "\n",
       "#sk-container-id-6 div.sk-toggleable {\n",
       "  /* Default theme specific background. It is overwritten whether we have a\n",
       "  specific estimator or a Pipeline/ColumnTransformer */\n",
       "  background-color: var(--sklearn-color-background);\n",
       "}\n",
       "\n",
       "/* Toggleable label */\n",
       "#sk-container-id-6 label.sk-toggleable__label {\n",
       "  cursor: pointer;\n",
       "  display: block;\n",
       "  width: 100%;\n",
       "  margin-bottom: 0;\n",
       "  padding: 0.5em;\n",
       "  box-sizing: border-box;\n",
       "  text-align: center;\n",
       "}\n",
       "\n",
       "#sk-container-id-6 label.sk-toggleable__label-arrow:before {\n",
       "  /* Arrow on the left of the label */\n",
       "  content: \"▸\";\n",
       "  float: left;\n",
       "  margin-right: 0.25em;\n",
       "  color: var(--sklearn-color-icon);\n",
       "}\n",
       "\n",
       "#sk-container-id-6 label.sk-toggleable__label-arrow:hover:before {\n",
       "  color: var(--sklearn-color-text);\n",
       "}\n",
       "\n",
       "/* Toggleable content - dropdown */\n",
       "\n",
       "#sk-container-id-6 div.sk-toggleable__content {\n",
       "  max-height: 0;\n",
       "  max-width: 0;\n",
       "  overflow: hidden;\n",
       "  text-align: left;\n",
       "  /* unfitted */\n",
       "  background-color: var(--sklearn-color-unfitted-level-0);\n",
       "}\n",
       "\n",
       "#sk-container-id-6 div.sk-toggleable__content.fitted {\n",
       "  /* fitted */\n",
       "  background-color: var(--sklearn-color-fitted-level-0);\n",
       "}\n",
       "\n",
       "#sk-container-id-6 div.sk-toggleable__content pre {\n",
       "  margin: 0.2em;\n",
       "  border-radius: 0.25em;\n",
       "  color: var(--sklearn-color-text);\n",
       "  /* unfitted */\n",
       "  background-color: var(--sklearn-color-unfitted-level-0);\n",
       "}\n",
       "\n",
       "#sk-container-id-6 div.sk-toggleable__content.fitted pre {\n",
       "  /* unfitted */\n",
       "  background-color: var(--sklearn-color-fitted-level-0);\n",
       "}\n",
       "\n",
       "#sk-container-id-6 input.sk-toggleable__control:checked~div.sk-toggleable__content {\n",
       "  /* Expand drop-down */\n",
       "  max-height: 200px;\n",
       "  max-width: 100%;\n",
       "  overflow: auto;\n",
       "}\n",
       "\n",
       "#sk-container-id-6 input.sk-toggleable__control:checked~label.sk-toggleable__label-arrow:before {\n",
       "  content: \"▾\";\n",
       "}\n",
       "\n",
       "/* Pipeline/ColumnTransformer-specific style */\n",
       "\n",
       "#sk-container-id-6 div.sk-label input.sk-toggleable__control:checked~label.sk-toggleable__label {\n",
       "  color: var(--sklearn-color-text);\n",
       "  background-color: var(--sklearn-color-unfitted-level-2);\n",
       "}\n",
       "\n",
       "#sk-container-id-6 div.sk-label.fitted input.sk-toggleable__control:checked~label.sk-toggleable__label {\n",
       "  background-color: var(--sklearn-color-fitted-level-2);\n",
       "}\n",
       "\n",
       "/* Estimator-specific style */\n",
       "\n",
       "/* Colorize estimator box */\n",
       "#sk-container-id-6 div.sk-estimator input.sk-toggleable__control:checked~label.sk-toggleable__label {\n",
       "  /* unfitted */\n",
       "  background-color: var(--sklearn-color-unfitted-level-2);\n",
       "}\n",
       "\n",
       "#sk-container-id-6 div.sk-estimator.fitted input.sk-toggleable__control:checked~label.sk-toggleable__label {\n",
       "  /* fitted */\n",
       "  background-color: var(--sklearn-color-fitted-level-2);\n",
       "}\n",
       "\n",
       "#sk-container-id-6 div.sk-label label.sk-toggleable__label,\n",
       "#sk-container-id-6 div.sk-label label {\n",
       "  /* The background is the default theme color */\n",
       "  color: var(--sklearn-color-text-on-default-background);\n",
       "}\n",
       "\n",
       "/* On hover, darken the color of the background */\n",
       "#sk-container-id-6 div.sk-label:hover label.sk-toggleable__label {\n",
       "  color: var(--sklearn-color-text);\n",
       "  background-color: var(--sklearn-color-unfitted-level-2);\n",
       "}\n",
       "\n",
       "/* Label box, darken color on hover, fitted */\n",
       "#sk-container-id-6 div.sk-label.fitted:hover label.sk-toggleable__label.fitted {\n",
       "  color: var(--sklearn-color-text);\n",
       "  background-color: var(--sklearn-color-fitted-level-2);\n",
       "}\n",
       "\n",
       "/* Estimator label */\n",
       "\n",
       "#sk-container-id-6 div.sk-label label {\n",
       "  font-family: monospace;\n",
       "  font-weight: bold;\n",
       "  display: inline-block;\n",
       "  line-height: 1.2em;\n",
       "}\n",
       "\n",
       "#sk-container-id-6 div.sk-label-container {\n",
       "  text-align: center;\n",
       "}\n",
       "\n",
       "/* Estimator-specific */\n",
       "#sk-container-id-6 div.sk-estimator {\n",
       "  font-family: monospace;\n",
       "  border: 1px dotted var(--sklearn-color-border-box);\n",
       "  border-radius: 0.25em;\n",
       "  box-sizing: border-box;\n",
       "  margin-bottom: 0.5em;\n",
       "  /* unfitted */\n",
       "  background-color: var(--sklearn-color-unfitted-level-0);\n",
       "}\n",
       "\n",
       "#sk-container-id-6 div.sk-estimator.fitted {\n",
       "  /* fitted */\n",
       "  background-color: var(--sklearn-color-fitted-level-0);\n",
       "}\n",
       "\n",
       "/* on hover */\n",
       "#sk-container-id-6 div.sk-estimator:hover {\n",
       "  /* unfitted */\n",
       "  background-color: var(--sklearn-color-unfitted-level-2);\n",
       "}\n",
       "\n",
       "#sk-container-id-6 div.sk-estimator.fitted:hover {\n",
       "  /* fitted */\n",
       "  background-color: var(--sklearn-color-fitted-level-2);\n",
       "}\n",
       "\n",
       "/* Specification for estimator info (e.g. \"i\" and \"?\") */\n",
       "\n",
       "/* Common style for \"i\" and \"?\" */\n",
       "\n",
       ".sk-estimator-doc-link,\n",
       "a:link.sk-estimator-doc-link,\n",
       "a:visited.sk-estimator-doc-link {\n",
       "  float: right;\n",
       "  font-size: smaller;\n",
       "  line-height: 1em;\n",
       "  font-family: monospace;\n",
       "  background-color: var(--sklearn-color-background);\n",
       "  border-radius: 1em;\n",
       "  height: 1em;\n",
       "  width: 1em;\n",
       "  text-decoration: none !important;\n",
       "  margin-left: 1ex;\n",
       "  /* unfitted */\n",
       "  border: var(--sklearn-color-unfitted-level-1) 1pt solid;\n",
       "  color: var(--sklearn-color-unfitted-level-1);\n",
       "}\n",
       "\n",
       ".sk-estimator-doc-link.fitted,\n",
       "a:link.sk-estimator-doc-link.fitted,\n",
       "a:visited.sk-estimator-doc-link.fitted {\n",
       "  /* fitted */\n",
       "  border: var(--sklearn-color-fitted-level-1) 1pt solid;\n",
       "  color: var(--sklearn-color-fitted-level-1);\n",
       "}\n",
       "\n",
       "/* On hover */\n",
       "div.sk-estimator:hover .sk-estimator-doc-link:hover,\n",
       ".sk-estimator-doc-link:hover,\n",
       "div.sk-label-container:hover .sk-estimator-doc-link:hover,\n",
       ".sk-estimator-doc-link:hover {\n",
       "  /* unfitted */\n",
       "  background-color: var(--sklearn-color-unfitted-level-3);\n",
       "  color: var(--sklearn-color-background);\n",
       "  text-decoration: none;\n",
       "}\n",
       "\n",
       "div.sk-estimator.fitted:hover .sk-estimator-doc-link.fitted:hover,\n",
       ".sk-estimator-doc-link.fitted:hover,\n",
       "div.sk-label-container:hover .sk-estimator-doc-link.fitted:hover,\n",
       ".sk-estimator-doc-link.fitted:hover {\n",
       "  /* fitted */\n",
       "  background-color: var(--sklearn-color-fitted-level-3);\n",
       "  color: var(--sklearn-color-background);\n",
       "  text-decoration: none;\n",
       "}\n",
       "\n",
       "/* Span, style for the box shown on hovering the info icon */\n",
       ".sk-estimator-doc-link span {\n",
       "  display: none;\n",
       "  z-index: 9999;\n",
       "  position: relative;\n",
       "  font-weight: normal;\n",
       "  right: .2ex;\n",
       "  padding: .5ex;\n",
       "  margin: .5ex;\n",
       "  width: min-content;\n",
       "  min-width: 20ex;\n",
       "  max-width: 50ex;\n",
       "  color: var(--sklearn-color-text);\n",
       "  box-shadow: 2pt 2pt 4pt #999;\n",
       "  /* unfitted */\n",
       "  background: var(--sklearn-color-unfitted-level-0);\n",
       "  border: .5pt solid var(--sklearn-color-unfitted-level-3);\n",
       "}\n",
       "\n",
       ".sk-estimator-doc-link.fitted span {\n",
       "  /* fitted */\n",
       "  background: var(--sklearn-color-fitted-level-0);\n",
       "  border: var(--sklearn-color-fitted-level-3);\n",
       "}\n",
       "\n",
       ".sk-estimator-doc-link:hover span {\n",
       "  display: block;\n",
       "}\n",
       "\n",
       "/* \"?\"-specific style due to the `<a>` HTML tag */\n",
       "\n",
       "#sk-container-id-6 a.estimator_doc_link {\n",
       "  float: right;\n",
       "  font-size: 1rem;\n",
       "  line-height: 1em;\n",
       "  font-family: monospace;\n",
       "  background-color: var(--sklearn-color-background);\n",
       "  border-radius: 1rem;\n",
       "  height: 1rem;\n",
       "  width: 1rem;\n",
       "  text-decoration: none;\n",
       "  /* unfitted */\n",
       "  color: var(--sklearn-color-unfitted-level-1);\n",
       "  border: var(--sklearn-color-unfitted-level-1) 1pt solid;\n",
       "}\n",
       "\n",
       "#sk-container-id-6 a.estimator_doc_link.fitted {\n",
       "  /* fitted */\n",
       "  border: var(--sklearn-color-fitted-level-1) 1pt solid;\n",
       "  color: var(--sklearn-color-fitted-level-1);\n",
       "}\n",
       "\n",
       "/* On hover */\n",
       "#sk-container-id-6 a.estimator_doc_link:hover {\n",
       "  /* unfitted */\n",
       "  background-color: var(--sklearn-color-unfitted-level-3);\n",
       "  color: var(--sklearn-color-background);\n",
       "  text-decoration: none;\n",
       "}\n",
       "\n",
       "#sk-container-id-6 a.estimator_doc_link.fitted:hover {\n",
       "  /* fitted */\n",
       "  background-color: var(--sklearn-color-fitted-level-3);\n",
       "}\n",
       "</style><div id=\"sk-container-id-6\" class=\"sk-top-container\"><div class=\"sk-text-repr-fallback\"><pre>LinearRegression()</pre><b>In a Jupyter environment, please rerun this cell to show the HTML representation or trust the notebook. <br />On GitHub, the HTML representation is unable to render, please try loading this page with nbviewer.org.</b></div><div class=\"sk-container\" hidden><div class=\"sk-item\"><div class=\"sk-estimator fitted sk-toggleable\"><input class=\"sk-toggleable__control sk-hidden--visually\" id=\"sk-estimator-id-6\" type=\"checkbox\" checked><label for=\"sk-estimator-id-6\" class=\"sk-toggleable__label fitted sk-toggleable__label-arrow fitted\">&nbsp;&nbsp;LinearRegression<a class=\"sk-estimator-doc-link fitted\" rel=\"noreferrer\" target=\"_blank\" href=\"https://scikit-learn.org/1.4/modules/generated/sklearn.linear_model.LinearRegression.html\">?<span>Documentation for LinearRegression</span></a><span class=\"sk-estimator-doc-link fitted\">i<span>Fitted</span></span></label><div class=\"sk-toggleable__content fitted\"><pre>LinearRegression()</pre></div> </div></div></div></div>"
      ],
      "text/plain": [
       "LinearRegression()"
      ]
     },
     "execution_count": 177,
     "metadata": {},
     "output_type": "execute_result"
    }
   ],
   "source": [
    "from sklearn.linear_model import LinearRegression\n",
    "from sklearn.metrics import mean_squared_error\n",
    "\n",
    "linear_regression = LinearRegression()\n",
    "linear_regression.fit(vectors_train, y_train)"
   ]
  },
  {
   "cell_type": "markdown",
   "id": "95acefc3",
   "metadata": {},
   "source": [
    "### 2.4 - Compare both models, which works better?"
   ]
  },
  {
   "cell_type": "code",
   "execution_count": 178,
   "id": "f65ea28d",
   "metadata": {},
   "outputs": [],
   "source": [
    "import random\n",
    "\n",
    "vectors_test = vectorizer.transform(X_test)\n",
    "\n",
    "logistic_pred = logistic_regression.predict(vectors_test)\n",
    "linear_pred = linear_regression.predict(vectors_test)\n",
    "random_pred = [random.randint(1, 5) for _ in range(vectors_test.shape[0])]\n",
    "all_5s_pred = [5] * vectors_test.shape[0]"
   ]
  },
  {
   "cell_type": "code",
   "execution_count": 179,
   "id": "f3dc10d9",
   "metadata": {},
   "outputs": [],
   "source": [
    "def plot_ditribution_and_errors(y_test, pred, title):\n",
    "    fig, (ax1, ax2, ax3) = plt.subplots(1, 3, figsize=(14, 4), sharey=True)\n",
    "    fig.suptitle(title)\n",
    "    \n",
    "    ax1.hist(y_test, bins=100, rwidth=0.6)\n",
    "    ax1.set_title(\"Ground truth distribution\")\n",
    "\n",
    "    ax2.hist(pred, bins=100, rwidth=0.6)\n",
    "    ax2.set_title(\"Prediction distribution\")\n",
    "\n",
    "    ax3.hist(y_test - pred, bins=100, rwidth=0.6)\n",
    "    ax3.set_title(\"Prediction errors\")\n",
    "\n",
    "    plt.tight_layout()\n",
    "    plt.show()"
   ]
  },
  {
   "cell_type": "code",
   "execution_count": 180,
   "id": "ad2eab98",
   "metadata": {},
   "outputs": [],
   "source": [
    "def mean_absolute_error(y_test, y_pred):\n",
    "    return np.abs(y_pred - y_test).mean()"
   ]
  },
  {
   "cell_type": "markdown",
   "id": "53ff57b6",
   "metadata": {},
   "source": [
    "We will use mean absolute error (MAE) and mean squarred error (MSE) as metrics to evaluate our models. We will later analyze why MSE is not a good metric for this task. To get a better understanding of what good and bad values are for this problem, we will first calculate them for random predictions and for predictions that always rate 5."
   ]
  },
  {
   "cell_type": "code",
   "execution_count": 181,
   "id": "36fa40d2",
   "metadata": {},
   "outputs": [
    {
     "name": "stdout",
     "output_type": "stream",
     "text": [
      "Random predictions MAE:  1.585752851082585\n",
      "Random predictions MSE:  3.937358823205333\n",
      "\n",
      "All 5s predictions MAE:  2.013277505371605\n",
      "All 5s predictions MAE:  6.018897030466641\n"
     ]
    }
   ],
   "source": [
    "print(\"Random predictions MAE: \", mean_absolute_error(random_pred, y_test))\n",
    "print(\"Random predictions MSE: \", mean_squared_error(random_pred, y_test))\n",
    "\n",
    "print(\"\\nAll 5s predictions MAE: \", mean_absolute_error(all_5s_pred, y_test))\n",
    "print(\"All 5s predictions MAE: \", mean_squared_error(all_5s_pred, y_test))"
   ]
  },
  {
   "cell_type": "code",
   "execution_count": 182,
   "id": "ecfe17ed",
   "metadata": {},
   "outputs": [
    {
     "name": "stdout",
     "output_type": "stream",
     "text": [
      "              precision    recall  f1-score   support\n",
      "\n",
      "           1       0.19      0.19      0.19      3579\n",
      "           2       0.21      0.21      0.21      3713\n",
      "           3       0.20      0.20      0.20      3740\n",
      "           4       0.20      0.20      0.20      3608\n",
      "           5       0.19      0.19      0.19      3511\n",
      "\n",
      "    accuracy                           0.20     18151\n",
      "   macro avg       0.20      0.20      0.20     18151\n",
      "weighted avg       0.20      0.20      0.20     18151\n",
      "\n",
      "              precision    recall  f1-score   support\n",
      "\n",
      "           1       0.00      0.00      0.00      3579\n",
      "           2       0.00      0.00      0.00      3713\n",
      "           3       0.00      0.00      0.00      3740\n",
      "           4       0.00      0.00      0.00      3608\n",
      "           5       0.19      1.00      0.32      3511\n",
      "\n",
      "    accuracy                           0.19     18151\n",
      "   macro avg       0.04      0.20      0.06     18151\n",
      "weighted avg       0.04      0.19      0.06     18151\n",
      "\n"
     ]
    },
    {
     "name": "stderr",
     "output_type": "stream",
     "text": [
      "c:\\Users\\kevin\\miniconda3\\envs\\data_science\\lib\\site-packages\\sklearn\\metrics\\_classification.py:1509: UndefinedMetricWarning: Precision is ill-defined and being set to 0.0 in labels with no predicted samples. Use `zero_division` parameter to control this behavior.\n",
      "  _warn_prf(average, modifier, f\"{metric.capitalize()} is\", len(result))\n",
      "c:\\Users\\kevin\\miniconda3\\envs\\data_science\\lib\\site-packages\\sklearn\\metrics\\_classification.py:1509: UndefinedMetricWarning: Precision is ill-defined and being set to 0.0 in labels with no predicted samples. Use `zero_division` parameter to control this behavior.\n",
      "  _warn_prf(average, modifier, f\"{metric.capitalize()} is\", len(result))\n",
      "c:\\Users\\kevin\\miniconda3\\envs\\data_science\\lib\\site-packages\\sklearn\\metrics\\_classification.py:1509: UndefinedMetricWarning: Precision is ill-defined and being set to 0.0 in labels with no predicted samples. Use `zero_division` parameter to control this behavior.\n",
      "  _warn_prf(average, modifier, f\"{metric.capitalize()} is\", len(result))\n"
     ]
    }
   ],
   "source": [
    "from sklearn.metrics import classification_report\n",
    "\n",
    "print(classification_report(y_test, random_pred))\n",
    "print(classification_report(y_test, all_5s_pred))"
   ]
  },
  {
   "cell_type": "code",
   "execution_count": 183,
   "id": "624b9c41",
   "metadata": {},
   "outputs": [
    {
     "data": {
      "text/html": [
       "<div>\n",
       "<style scoped>\n",
       "    .dataframe tbody tr th:only-of-type {\n",
       "        vertical-align: middle;\n",
       "    }\n",
       "\n",
       "    .dataframe tbody tr th {\n",
       "        vertical-align: top;\n",
       "    }\n",
       "\n",
       "    .dataframe thead th {\n",
       "        text-align: right;\n",
       "    }\n",
       "</style>\n",
       "<table border=\"1\" class=\"dataframe\">\n",
       "  <thead>\n",
       "    <tr style=\"text-align: right;\">\n",
       "      <th></th>\n",
       "      <th>name</th>\n",
       "      <th>MAE</th>\n",
       "      <th>MSE</th>\n",
       "      <th>accuracy</th>\n",
       "    </tr>\n",
       "  </thead>\n",
       "  <tbody>\n",
       "    <tr>\n",
       "      <th>0</th>\n",
       "      <td>random</td>\n",
       "      <td>1.598</td>\n",
       "      <td>3.982</td>\n",
       "      <td>0.20</td>\n",
       "    </tr>\n",
       "    <tr>\n",
       "      <th>1</th>\n",
       "      <td>all 5s</td>\n",
       "      <td>2.013</td>\n",
       "      <td>6.019</td>\n",
       "      <td>0.19</td>\n",
       "    </tr>\n",
       "  </tbody>\n",
       "</table>\n",
       "</div>"
      ],
      "text/plain": [
       "     name    MAE    MSE  accuracy\n",
       "0  random  1.598  3.982      0.20\n",
       "1  all 5s  2.013  6.019      0.19"
      ]
     },
     "execution_count": 183,
     "metadata": {},
     "output_type": "execute_result"
    }
   ],
   "source": [
    "conclusion_df = pd.DataFrame(columns=[\"name\", \"MAE\", \"MSE\", \"accuracy\"], data=[[\"random\", 1.598, 3.982, 0.2], [\"all 5s\", 2.013, 6.019, 0.19]])\n",
    "conclusion_df"
   ]
  },
  {
   "cell_type": "markdown",
   "id": "f91d197c",
   "metadata": {},
   "source": [
    "#### 2.4.1 - Linear Regression Evaluation\n",
    "\n",
    "As expected the linear regression will output continuous values instead of integers but also impossible values, such as negative values or values outside the rating range.\n",
    "The prediction errors have a gaussian distribution around 0, which means that most of the predictions are close to the actual rating, which is good. It also looks like most predictions are not a lot farther off the actual rating as 2.  \n",
    "The MAE and MSE are both far better than the random and all 5 predictions, which shows that the model does the job well."
   ]
  },
  {
   "cell_type": "code",
   "execution_count": 184,
   "id": "3051787d",
   "metadata": {},
   "outputs": [
    {
     "name": "stdout",
     "output_type": "stream",
     "text": [
      "Linear Regression: mean absolute error:  0.630211309404829\n",
      "Linear Regression: mean squared error:  0.6298001910821002\n"
     ]
    },
    {
     "data": {
      "image/png": "[encoded data removed]",
      "text/plain": [
       "<Figure size 1400x400 with 3 Axes>"
      ]
     },
     "metadata": {},
     "output_type": "display_data"
    }
   ],
   "source": [
    "print(\"Linear Regression: mean absolute error: \", mean_absolute_error(y_test, linear_pred))\n",
    "print(\"Linear Regression: mean squared error: \", mean_squared_error(y_test, linear_pred))\n",
    "plot_ditribution_and_errors(y_test, linear_pred, \"Linear Regression\")"
   ]
  },
  {
   "cell_type": "code",
   "execution_count": 185,
   "id": "245e1117",
   "metadata": {},
   "outputs": [
    {
     "data": {
      "text/html": [
       "<div>\n",
       "<style scoped>\n",
       "    .dataframe tbody tr th:only-of-type {\n",
       "        vertical-align: middle;\n",
       "    }\n",
       "\n",
       "    .dataframe tbody tr th {\n",
       "        vertical-align: top;\n",
       "    }\n",
       "\n",
       "    .dataframe thead th {\n",
       "        text-align: right;\n",
       "    }\n",
       "</style>\n",
       "<table border=\"1\" class=\"dataframe\">\n",
       "  <thead>\n",
       "    <tr style=\"text-align: right;\">\n",
       "      <th></th>\n",
       "      <th>name</th>\n",
       "      <th>MAE</th>\n",
       "      <th>MSE</th>\n",
       "      <th>accuracy</th>\n",
       "    </tr>\n",
       "  </thead>\n",
       "  <tbody>\n",
       "    <tr>\n",
       "      <th>0</th>\n",
       "      <td>random</td>\n",
       "      <td>1.598</td>\n",
       "      <td>3.982</td>\n",
       "      <td>0.20</td>\n",
       "    </tr>\n",
       "    <tr>\n",
       "      <th>1</th>\n",
       "      <td>all 5s</td>\n",
       "      <td>2.013</td>\n",
       "      <td>6.019</td>\n",
       "      <td>0.19</td>\n",
       "    </tr>\n",
       "    <tr>\n",
       "      <th>2</th>\n",
       "      <td>linear regression</td>\n",
       "      <td>0.630</td>\n",
       "      <td>0.630</td>\n",
       "      <td>NaN</td>\n",
       "    </tr>\n",
       "  </tbody>\n",
       "</table>\n",
       "</div>"
      ],
      "text/plain": [
       "                name    MAE    MSE  accuracy\n",
       "0             random  1.598  3.982      0.20\n",
       "1             all 5s  2.013  6.019      0.19\n",
       "2  linear regression  0.630  0.630       NaN"
      ]
     },
     "execution_count": 185,
     "metadata": {},
     "output_type": "execute_result"
    }
   ],
   "source": [
    "new_entry = pd.DataFrame({\n",
    "    'name': ['linear regression'],\n",
    "    'MAE': [0.630],\n",
    "    'MSE': [0.630]\n",
    "})\n",
    "conclusion_df = pd.concat([conclusion_df, new_entry], ignore_index=True)\n",
    "conclusion_df\n"
   ]
  },
  {
   "cell_type": "code",
   "execution_count": 186,
   "id": "046e5259",
   "metadata": {},
   "outputs": [
    {
     "data": {
      "text/plain": [
       "count    18151.000000\n",
       "mean         2.998477\n",
       "std          1.231985\n",
       "min         -1.423610\n",
       "25%          2.065710\n",
       "50%          3.003868\n",
       "75%          3.963730\n",
       "max          6.759410\n",
       "dtype: float64"
      ]
     },
     "execution_count": 186,
     "metadata": {},
     "output_type": "execute_result"
    }
   ],
   "source": [
    "pd.Series(linear_pred).describe()"
   ]
  },
  {
   "cell_type": "markdown",
   "id": "69cc4444",
   "metadata": {},
   "source": [
    "Since there cant be any ratings higher than 5 or lower than 1, we can simply clip every prediction outside that range. Everything bigger than 5 will just be rated as 5 and everything lower than 1 as 1. We can see that this lead to peaks in the distribution at the values 1 and 5. But also to a high peak in the prediction errors at 0, which is very good, because prediction error 0 means that the prediction is spot on. There are also some visible peaks in the prediction errors at 1 and -1. These are all the 2 and 4 star ratings that were predicted as something outside the range. They are still not correctly predicted, but they got closer to the actual rating. This might have also happened for some 3 star ratings, but there is no peak visible. This makes sense, because we could see in the prediction error distribution from before, that there are very few ratings off by 2 overall.  \n",
    "By clipping the MAE sunk from .63 to .595 and the MSE sunk from .63 to .597 which is good."
   ]
  },
  {
   "cell_type": "code",
   "execution_count": 187,
   "id": "6447cb71",
   "metadata": {},
   "outputs": [
    {
     "name": "stdout",
     "output_type": "stream",
     "text": [
      "Linear Regression (clipped): mean absolute error:  0.5950743099828714\n",
      "Linear Regression (clipped): mean squared error:  0.5967809117567737\n"
     ]
    },
    {
     "data": {
      "image/png": "[encoded data removed]",
      "text/plain": [
       "<Figure size 1400x400 with 3 Axes>"
      ]
     },
     "metadata": {},
     "output_type": "display_data"
    }
   ],
   "source": [
    "linear_pred_clipped = np.clip(linear_pred, 1, 5)\n",
    "\n",
    "print(\"Linear Regression (clipped): mean absolute error: \", mean_absolute_error(y_test, linear_pred_clipped))\n",
    "print(\"Linear Regression (clipped): mean squared error: \", mean_squared_error(y_test, linear_pred_clipped))\n",
    "\n",
    "plot_ditribution_and_errors(y_test, linear_pred_clipped, \"Linear Regression (clipped)\")"
   ]
  },
  {
   "cell_type": "markdown",
   "id": "e4548921",
   "metadata": {},
   "source": [
    "Lastly I will get rid of the continuous nature of the predictitions by rounding them to integers. This way I can directly compare the predictions of the linear regression model to the logistic regression predicitons. Interestingly the MSE rose to .684 (even more than before clipping) when I rounded the values, while the MAE sunk even further to .558. This happens because when the rounded predictions are off, they are no longer off for just some small value <1, but always at least 1 off. The squared nature of MSE penalizes this a lot more. This is why I will look at the MAE for evaluation, because it is a more intuitive metric in this case."
   ]
  },
  {
   "cell_type": "code",
   "execution_count": 188,
   "id": "d0aaca18",
   "metadata": {},
   "outputs": [
    {
     "name": "stdout",
     "output_type": "stream",
     "text": [
      "Linear Regression (clipped & rounded): mean absolute error:  0.5578755991405432\n",
      "Linear Regression (clipped & rounded): mean squared error:  0.6847005674618478\n"
     ]
    },
    {
     "data": {
      "image/png": "[encoded data removed]",
      "text/plain": [
       "<Figure size 1400x400 with 3 Axes>"
      ]
     },
     "metadata": {},
     "output_type": "display_data"
    }
   ],
   "source": [
    "linear_pred_clipped_and_rounded = np.round(linear_pred_clipped)\n",
    "\n",
    "print(\"Linear Regression (clipped & rounded): mean absolute error: \", mean_absolute_error(y_test, linear_pred_clipped_and_rounded))\n",
    "print(\"Linear Regression (clipped & rounded): mean squared error: \", mean_squared_error(y_test, linear_pred_clipped_and_rounded))\n",
    "\n",
    "plot_ditribution_and_errors(y_test, linear_pred_clipped_and_rounded, \"Linear Regression (clipped & rounded)\")"
   ]
  },
  {
   "cell_type": "markdown",
   "id": "e2082fb6",
   "metadata": {},
   "source": [
    "#### 2.4.2 - Logisitic Regression Evaluation\n",
    "\n",
    "The confusion matrix for the logistic regression model shows good results. Especially the 1 and 5 ratings are predicted nicely. The classification report shows that these ratings also have high accuracy scores of 0.67 and 0.68. Even though there are more reviews for the other ratings, the 1 and 5 ratings score better. This might be, because these ratings are more likely to use expressive vocabulary, which can be easily predicted."
   ]
  },
  {
   "cell_type": "code",
   "execution_count": 189,
   "id": "06d899a4",
   "metadata": {},
   "outputs": [
    {
     "name": "stdout",
     "output_type": "stream",
     "text": [
      "              precision    recall  f1-score   support\n",
      "\n",
      "           1       0.67      0.72      0.70      3579\n",
      "           2       0.51      0.47      0.49      3713\n",
      "           3       0.55      0.53      0.54      3740\n",
      "           4       0.54      0.54      0.54      3608\n",
      "           5       0.68      0.71      0.70      3511\n",
      "\n",
      "    accuracy                           0.59     18151\n",
      "   macro avg       0.59      0.59      0.59     18151\n",
      "weighted avg       0.59      0.59      0.59     18151\n",
      "\n"
     ]
    },
    {
     "data": {
      "text/plain": [
       "<Axes: title={'center': 'Logistic Regression Confusion Matrix'}>"
      ]
     },
     "execution_count": 189,
     "metadata": {},
     "output_type": "execute_result"
    },
    {
     "data": {
      "image/png": "[encoded data removed]",
      "text/plain": [
       "<Figure size 600x500 with 2 Axes>"
      ]
     },
     "metadata": {},
     "output_type": "display_data"
    }
   ],
   "source": [
    "from sklearn.metrics import confusion_matrix, classification_report\n",
    "\n",
    "print(classification_report(y_test, logistic_pred))\n",
    "\n",
    "fig, ax = plt.subplots(figsize=(6, 5), dpi=100)\n",
    "ax.set_title(\"Logistic Regression Confusion Matrix\")\n",
    "sb.heatmap(confusion_matrix(y_test, logistic_pred),\n",
    "           annot=True, cmap='Blues', fmt=\"g\", \n",
    "           xticklabels=logistic_regression.classes_,\n",
    "           yticklabels=logistic_regression.classes_,\n",
    "           vmin=0, vmax=2653)"
   ]
  },
  {
   "cell_type": "markdown",
   "id": "024c7a36",
   "metadata": {},
   "source": [
    "#### 2.4.3 - Direct Comparison\n",
    "\n",
    "For direct comparison I use the evaluation method for each model on the other model. The classification report of the linear regression shows overall worse results than the logistic regression one. But the precision scores for the 1 and 5 ratings are noteably higher.  \n",
    "The confusion matrix of the lienar regression also shows that it is less accurate than the logistic regression one."
   ]
  },
  {
   "cell_type": "code",
   "execution_count": 190,
   "id": "7437340a",
   "metadata": {},
   "outputs": [
    {
     "name": "stdout",
     "output_type": "stream",
     "text": [
      "              precision    recall  f1-score   support\n",
      "\n",
      "           1       0.71      0.43      0.53      3579\n",
      "           2       0.43      0.53      0.48      3713\n",
      "           3       0.42      0.53      0.47      3740\n",
      "           4       0.45      0.57      0.51      3608\n",
      "           5       0.71      0.45      0.55      3511\n",
      "\n",
      "    accuracy                           0.50     18151\n",
      "   macro avg       0.55      0.50      0.51     18151\n",
      "weighted avg       0.54      0.50      0.51     18151\n",
      "\n"
     ]
    },
    {
     "data": {
      "text/plain": [
       "<Axes: title={'center': 'Linear Regression (clipped & rounded) Confusion Matrix'}>"
      ]
     },
     "execution_count": 190,
     "metadata": {},
     "output_type": "execute_result"
    },
    {
     "data": {
      "image/png": "[encoded data removed]",
      "text/plain": [
       "<Figure size 600x500 with 2 Axes>"
      ]
     },
     "metadata": {},
     "output_type": "display_data"
    }
   ],
   "source": [
    "from sklearn.metrics import confusion_matrix, classification_report\n",
    "\n",
    "print(classification_report(y_test, linear_pred_clipped_and_rounded))\n",
    "\n",
    "fig, ax = plt.subplots(figsize=(6, 5), dpi=100)\n",
    "ax.set_title(\"Linear Regression (clipped & rounded) Confusion Matrix\")\n",
    "sb.heatmap(confusion_matrix(y_test, linear_pred_clipped_and_rounded),\n",
    "           annot=True, cmap='Blues', fmt=\"g\", \n",
    "           xticklabels=logistic_regression.classes_,\n",
    "           yticklabels=logistic_regression.classes_,\n",
    "           vmin=0, vmax=2585)"
   ]
  },
  {
   "cell_type": "code",
   "execution_count": 191,
   "id": "81810afe",
   "metadata": {},
   "outputs": [
    {
     "name": "stdout",
     "output_type": "stream",
     "text": [
      "Logistic Regression: mean absolute error:  0.47170954768332324\n",
      "Logistic Regression: mean squared error:  0.629166437110903\n"
     ]
    },
    {
     "data": {
      "image/png": "[encoded data removed]",
      "text/plain": [
       "<Figure size 1400x400 with 3 Axes>"
      ]
     },
     "metadata": {},
     "output_type": "display_data"
    }
   ],
   "source": [
    "print(\"Logistic Regression: mean absolute error: \", mean_absolute_error(y_test, logistic_pred))\n",
    "print(\"Logistic Regression: mean squared error: \", mean_squared_error(y_test, logistic_pred))\n",
    "plot_ditribution_and_errors(y_test, logistic_pred, \"Logistic Regression\")"
   ]
  },
  {
   "cell_type": "code",
   "execution_count": 192,
   "id": "33257ba7",
   "metadata": {},
   "outputs": [
    {
     "name": "stdout",
     "output_type": "stream",
     "text": [
      "mean squared error: \n",
      "Linear Regression:  0.6298001910821002\n",
      "Linear Regression clipped and rounded:  0.6847005674618478\n",
      "Logistic Regression:  0.629166437110903\n",
      "\n",
      "mean absolute error: \n",
      "Linear Regression:  0.630211309404829\n",
      "Linear Regression clipped and rounded:  0.5578755991405432\n",
      "Logistic Regression:  0.47170954768332324\n"
     ]
    }
   ],
   "source": [
    "print(\"mean squared error: \")\n",
    "print(\"Linear Regression: \", mean_squared_error(y_test, linear_pred))\n",
    "print(\"Linear Regression clipped and rounded: \", mean_squared_error(y_test, linear_pred_clipped_and_rounded))\n",
    "print(\"Logistic Regression: \", mean_squared_error(y_test, logistic_pred))\n",
    "print(\"\\nmean absolute error: \")\n",
    "print(\"Linear Regression: \", np.abs(linear_pred - y_test).mean())\n",
    "print(\"Linear Regression clipped and rounded: \", np.abs(linear_pred_clipped_and_rounded - y_test).mean())\n",
    "print(\"Logistic Regression: \", np.abs(logistic_pred - y_test).mean())"
   ]
  },
  {
   "cell_type": "markdown",
   "id": "3bcc3c16",
   "metadata": {},
   "source": [
    "The MAE and MSE results also show that the logistic regression model performs better than the linear regression model. Altough there is alsmost no difference in MSE for linear (without clipping and rounding) and logistic regression, i have already established why this metric is not as suitable as MAE.  \n",
    "For MAE we see that logistic regression outperforms the linear models clearly."
   ]
  },
  {
   "cell_type": "code",
   "execution_count": 193,
   "id": "363e53bc",
   "metadata": {},
   "outputs": [
    {
     "data": {
      "text/html": [
       "<div>\n",
       "<style scoped>\n",
       "    .dataframe tbody tr th:only-of-type {\n",
       "        vertical-align: middle;\n",
       "    }\n",
       "\n",
       "    .dataframe tbody tr th {\n",
       "        vertical-align: top;\n",
       "    }\n",
       "\n",
       "    .dataframe thead th {\n",
       "        text-align: right;\n",
       "    }\n",
       "</style>\n",
       "<table border=\"1\" class=\"dataframe\">\n",
       "  <thead>\n",
       "    <tr style=\"text-align: right;\">\n",
       "      <th></th>\n",
       "      <th>name</th>\n",
       "      <th>MAE</th>\n",
       "      <th>MSE</th>\n",
       "      <th>accuracy</th>\n",
       "    </tr>\n",
       "  </thead>\n",
       "  <tbody>\n",
       "    <tr>\n",
       "      <th>0</th>\n",
       "      <td>random</td>\n",
       "      <td>1.598</td>\n",
       "      <td>3.982</td>\n",
       "      <td>0.20</td>\n",
       "    </tr>\n",
       "    <tr>\n",
       "      <th>1</th>\n",
       "      <td>all 5s</td>\n",
       "      <td>2.013</td>\n",
       "      <td>6.019</td>\n",
       "      <td>0.19</td>\n",
       "    </tr>\n",
       "    <tr>\n",
       "      <th>2</th>\n",
       "      <td>linear regression</td>\n",
       "      <td>0.630</td>\n",
       "      <td>0.630</td>\n",
       "      <td>NaN</td>\n",
       "    </tr>\n",
       "    <tr>\n",
       "      <th>3</th>\n",
       "      <td>logistic regression</td>\n",
       "      <td>0.471</td>\n",
       "      <td>0.629</td>\n",
       "      <td>0.59</td>\n",
       "    </tr>\n",
       "    <tr>\n",
       "      <th>4</th>\n",
       "      <td>linear regression (clipped &amp; rounded)</td>\n",
       "      <td>0.558</td>\n",
       "      <td>0.685</td>\n",
       "      <td>0.50</td>\n",
       "    </tr>\n",
       "  </tbody>\n",
       "</table>\n",
       "</div>"
      ],
      "text/plain": [
       "                                    name    MAE    MSE  accuracy\n",
       "0                                 random  1.598  3.982      0.20\n",
       "1                                 all 5s  2.013  6.019      0.19\n",
       "2                      linear regression  0.630  0.630       NaN\n",
       "3                    logistic regression  0.471  0.629      0.59\n",
       "4  linear regression (clipped & rounded)  0.558  0.685      0.50"
      ]
     },
     "execution_count": 193,
     "metadata": {},
     "output_type": "execute_result"
    }
   ],
   "source": [
    "new_entry1 = pd.DataFrame({\n",
    "    'name': ['logistic regression'],\n",
    "    'MAE': [0.471],\n",
    "    'MSE': [0.629],\n",
    "    'accuracy': [0.59]\n",
    "})\n",
    "\n",
    "new_entry2 = pd.DataFrame({\n",
    "    'name': ['linear regression (clipped & rounded)'],\n",
    "    'MAE': [0.558],\n",
    "    'MSE': [0.685],\n",
    "    'accuracy': [0.50]\n",
    "})\n",
    "conclusion_df = pd.concat([conclusion_df, new_entry1, new_entry2], ignore_index=True)\n",
    "conclusion_df"
   ]
  },
  {
   "cell_type": "markdown",
   "id": "b7fef192",
   "metadata": {},
   "source": [
    "### 2.5 - Also compare single tokens vs. 1 + 2-grams (`ngrams = (1,2)`), which works better."
   ]
  },
  {
   "cell_type": "code",
   "execution_count": 194,
   "id": "4ff6faa0",
   "metadata": {},
   "outputs": [
    {
     "name": "stdout",
     "output_type": "stream",
     "text": [
      "Loaded ngram_vectors_train from ..\\..\\Datasets\\Tripadvisor\\reviews_ngram_vectors_train.npz\n",
      "Loaded ngram_vectors_test from ..\\..\\Datasets\\Tripadvisor\\reviews_ngram_vectors_test.npz\n",
      "Loaded ngram_vectorizer from ..\\..\\Datasets\\Tripadvisor\\ngram_vectorizer.pkl\n"
     ]
    }
   ],
   "source": [
    "from scipy.sparse import load_npz, save_npz\n",
    "import joblib\n",
    "\n",
    "filepath_train = os.path.join(path, \"reviews_ngram_vectors_train.npz\")\n",
    "filepath_test = os.path.join(path, \"reviews_ngram_vectors_test.npz\")\n",
    "vectorizer_filepath = os.path.join(path, \"ngram_vectorizer.pkl\")\n",
    "\n",
    "try:\n",
    "    ngram_vectors_train = load_npz(filepath_train)\n",
    "    print(f\"Loaded ngram_vectors_train from {filepath_train}\")\n",
    "\n",
    "    ngram_vectors_test = load_npz(filepath_test)\n",
    "    print(f\"Loaded ngram_vectors_test from {filepath_test}\")\n",
    "\n",
    "    ngram_vectorizer = joblib.load(vectorizer_filepath)\n",
    "    print(f\"Loaded ngram_vectorizer from {vectorizer_filepath}\")\n",
    "\n",
    "except:\n",
    "    print(f\"Found no vectors at {path}. Calculating...\")\n",
    "    ngram_vectorizer = TfidfVectorizer(min_df=10, max_df=0.25,\n",
    "                                    ngram_range=(1, 2))\n",
    "    # fit the vectorizer on the training data and transform the training data\n",
    "    ngram_vectors_train = ngram_vectorizer.fit_transform(X_train)\n",
    "\n",
    "    # save vectors and fitted vectorizer\n",
    "    save_npz(filepath_train, ngram_vectors_train)\n",
    "    print(f\"Saved ngram_vectors_train to {filepath_train}\")\n",
    "    joblib.dump(ngram_vectorizer, vectorizer_filepath)\n",
    "    print(f\"Saved ngram_vectorizer to {vectorizer_filepath}\")\n",
    "\n",
    "    # transform the test data\n",
    "    ngram_vectors_test = ngram_vectorizer.transform(X_test)\n",
    "    save_npz(filepath_test, ngram_vectors_test)\n",
    "    print(f\"Saved ngram_vectors_test to {filepath_test}\")"
   ]
  },
  {
   "cell_type": "code",
   "execution_count": 195,
   "id": "89e680fa",
   "metadata": {},
   "outputs": [
    {
     "name": "stdout",
     "output_type": "stream",
     "text": [
      "Loaded logistic_regression_ngrams from ..\\..\\Datasets\\Tripadvisor\\logistic_regression_ngrams.pkl\n"
     ]
    }
   ],
   "source": [
    "import joblib\n",
    "\n",
    "filepath = os.path.join(path, \"logistic_regression_ngrams.pkl\")\n",
    "\n",
    "try:\n",
    "    with open(filepath, 'rb') as file:\n",
    "        logistic_regression_spacy = joblib.load(filepath)\n",
    "    \n",
    "    print(f\"Loaded logistic_regression_ngrams from {filepath}\")\n",
    "\n",
    "except:\n",
    "    print(f\"Found nothing at {filepath}. Calculating...\")\n",
    "    logistic_regression_spacy = LogisticRegression(max_iter=1000)\n",
    "    logistic_regression_spacy.fit(ngram_vectors_train, y_train)\n",
    "    \n",
    "    joblib.dump(logistic_regression_spacy, filepath)\n",
    "    print(f\"Saved logistic_regression_ngrams to {filepath}\")"
   ]
  },
  {
   "cell_type": "code",
   "execution_count": 196,
   "id": "0a70d011",
   "metadata": {},
   "outputs": [
    {
     "name": "stdout",
     "output_type": "stream",
     "text": [
      "Loaded linear_regression_ngrams from ..\\..\\Datasets\\Tripadvisor\\linear_regression_ngrams.pkl\n"
     ]
    }
   ],
   "source": [
    "import joblib\n",
    "\n",
    "filepath = os.path.join(path, \"linear_regression_ngrams.pkl\")\n",
    "\n",
    "try:\n",
    "    with open(filepath, 'rb') as file:\n",
    "        linear_regression_ngrams = joblib.load(filepath)\n",
    "    \n",
    "    print(f\"Loaded linear_regression_ngrams from {filepath}\")\n",
    "\n",
    "except:\n",
    "    print(f\"Found nothing at {filepath}. Calculating...\")\n",
    "    linear_regression_ngrams = LinearRegression()\n",
    "    linear_regression_ngrams.fit(ngram_vectors_train, y_train)\n",
    "    \n",
    "    joblib.dump(linear_regression_ngrams, filepath)\n",
    "    print(f\"Saved linear_regression_ngrams to {filepath}\")"
   ]
  },
  {
   "cell_type": "code",
   "execution_count": 197,
   "id": "fbfed058",
   "metadata": {},
   "outputs": [],
   "source": [
    "ngram_vectors_test = ngram_vectorizer.transform(X_test)\n",
    "\n",
    "logistic_ngram_pred = logistic_regression_spacy.predict(ngram_vectors_test)\n",
    "linear_ngram_pred = linear_regression_ngrams.predict(ngram_vectors_test)"
   ]
  },
  {
   "cell_type": "code",
   "execution_count": 198,
   "id": "0b240d4b",
   "metadata": {},
   "outputs": [
    {
     "name": "stdout",
     "output_type": "stream",
     "text": [
      "Linear regression with 1- and 2-grams: mean absolute error:  3.0643008788289596\n"
     ]
    },
    {
     "data": {
      "image/png": "[encoded data removed]",
      "text/plain": [
       "<Figure size 1400x400 with 3 Axes>"
      ]
     },
     "metadata": {},
     "output_type": "display_data"
    }
   ],
   "source": [
    "print(\"Linear regression with 1- and 2-grams: mean absolute error: \", mean_absolute_error(y_test, linear_ngram_pred))\n",
    "plot_ditribution_and_errors(y_test, linear_ngram_pred, \"Linear regression with 1- and 2-grams\")"
   ]
  },
  {
   "cell_type": "code",
   "execution_count": 199,
   "id": "6c5f7bfc",
   "metadata": {},
   "outputs": [
    {
     "name": "stdout",
     "output_type": "stream",
     "text": [
      "Linear regression with 1- and 2-grams (clipped): mean absolute error:  1.4777018677872518\n"
     ]
    },
    {
     "data": {
      "image/png": "[encoded data removed]",
      "text/plain": [
       "<Figure size 1400x400 with 3 Axes>"
      ]
     },
     "metadata": {},
     "output_type": "display_data"
    }
   ],
   "source": [
    "linear_ngram_pred_clipped = np.clip(linear_ngram_pred, 1, 5)\n",
    "\n",
    "print(\"Linear regression with 1- and 2-grams (clipped): mean absolute error: \", mean_absolute_error(y_test, linear_ngram_pred_clipped))\n",
    "plot_ditribution_and_errors(y_test, linear_ngram_pred_clipped, \"Linear regression with 1- and 2-grams (clipped)\")"
   ]
  },
  {
   "cell_type": "code",
   "execution_count": 200,
   "id": "fd189e21",
   "metadata": {},
   "outputs": [
    {
     "name": "stdout",
     "output_type": "stream",
     "text": [
      "count    18151.000000\n",
      "mean         3.019071\n",
      "std          4.036301\n",
      "min        -18.988540\n",
      "25%          0.383644\n",
      "50%          3.127576\n",
      "75%          5.729833\n",
      "max         19.910743\n",
      "dtype: float64\n",
      "count    18151.000000\n",
      "mean         3.040836\n",
      "std          1.719084\n",
      "min          1.000000\n",
      "25%          1.000000\n",
      "50%          3.127576\n",
      "75%          5.000000\n",
      "max          5.000000\n",
      "dtype: float64\n"
     ]
    }
   ],
   "source": [
    "print(pd.Series(linear_ngram_pred).describe())\n",
    "print(pd.Series(linear_ngram_pred_clipped).describe())"
   ]
  },
  {
   "cell_type": "code",
   "execution_count": 201,
   "id": "0b76d7eb",
   "metadata": {},
   "outputs": [
    {
     "name": "stdout",
     "output_type": "stream",
     "text": [
      "Linear regression with 1- and 2-grams (clipped & rounded): mean absolute error:  1.4771086992452207\n"
     ]
    },
    {
     "data": {
      "image/png": "[encoded data removed]",
      "text/plain": [
       "<Figure size 1400x400 with 3 Axes>"
      ]
     },
     "metadata": {},
     "output_type": "display_data"
    }
   ],
   "source": [
    "linear_ngram_pred_clipped_and_rounded = np.round(linear_ngram_pred_clipped)\n",
    "\n",
    "print(\"Linear regression with 1- and 2-grams (clipped & rounded): mean absolute error: \", mean_absolute_error(y_test, linear_ngram_pred_clipped_and_rounded))\n",
    "plot_ditribution_and_errors(y_test, linear_ngram_pred_clipped_and_rounded, \"Linear regression with 1- and 2-grams (clipped & rounded)\")"
   ]
  },
  {
   "cell_type": "code",
   "execution_count": 202,
   "id": "5d13224f",
   "metadata": {},
   "outputs": [
    {
     "name": "stdout",
     "output_type": "stream",
     "text": [
      "              precision    recall  f1-score   support\n",
      "\n",
      "           1       0.28      0.50      0.36      3579\n",
      "           2       0.20      0.09      0.13      3713\n",
      "           3       0.22      0.11      0.14      3740\n",
      "           4       0.22      0.11      0.15      3608\n",
      "           5       0.28      0.52      0.36      3511\n",
      "\n",
      "    accuracy                           0.26     18151\n",
      "   macro avg       0.24      0.27      0.23     18151\n",
      "weighted avg       0.24      0.26      0.23     18151\n",
      "\n"
     ]
    },
    {
     "data": {
      "text/plain": [
       "<Axes: title={'center': 'Linear Regression (clipped & rounded) with 1- & 2-grams:\\n Confusion Matrix'}>"
      ]
     },
     "execution_count": 202,
     "metadata": {},
     "output_type": "execute_result"
    },
    {
     "data": {
      "image/png": "[encoded data removed]",
      "text/plain": [
       "<Figure size 600x500 with 2 Axes>"
      ]
     },
     "metadata": {},
     "output_type": "display_data"
    }
   ],
   "source": [
    "print(classification_report(y_test, linear_ngram_pred_clipped_and_rounded))\n",
    "\n",
    "fig, ax = plt.subplots(figsize=(6, 5), dpi=100)\n",
    "ax.set_title(\"Linear Regression (clipped & rounded) with 1- & 2-grams:\\n Confusion Matrix\")\n",
    "sb.heatmap(confusion_matrix(y_test, linear_ngram_pred_clipped_and_rounded),\n",
    "           annot=True, cmap='Blues', fmt=\"g\", \n",
    "           xticklabels=logistic_regression_spacy.classes_,\n",
    "           yticklabels=logistic_regression_spacy.classes_,\n",
    "           vmin=0, vmax=2585)"
   ]
  },
  {
   "cell_type": "code",
   "execution_count": 203,
   "id": "665ca702",
   "metadata": {},
   "outputs": [
    {
     "name": "stdout",
     "output_type": "stream",
     "text": [
      "              precision    recall  f1-score   support\n",
      "\n",
      "           1       0.69      0.74      0.71      3579\n",
      "           2       0.53      0.50      0.51      3713\n",
      "           3       0.59      0.56      0.57      3740\n",
      "           4       0.58      0.57      0.58      3608\n",
      "           5       0.70      0.74      0.72      3511\n",
      "\n",
      "    accuracy                           0.62     18151\n",
      "   macro avg       0.62      0.62      0.62     18151\n",
      "weighted avg       0.62      0.62      0.62     18151\n",
      "\n"
     ]
    },
    {
     "data": {
      "text/plain": [
       "<Axes: title={'center': 'Logistic regression with 1- & 2-grams: Confusion Matrix'}>"
      ]
     },
     "execution_count": 203,
     "metadata": {},
     "output_type": "execute_result"
    },
    {
     "data": {
      "image/png": "[encoded data removed]",
      "text/plain": [
       "<Figure size 600x500 with 2 Axes>"
      ]
     },
     "metadata": {},
     "output_type": "display_data"
    }
   ],
   "source": [
    "print(classification_report(y_test, logistic_ngram_pred))\n",
    "\n",
    "fig, ax = plt.subplots(figsize=(6, 5), dpi=100)\n",
    "ax.set_title(\"Logistic regression with 1- & 2-grams: Confusion Matrix\")\n",
    "sb.heatmap(confusion_matrix(y_test, logistic_ngram_pred),\n",
    "           annot=True, cmap='Blues', fmt=\"g\", \n",
    "           xticklabels=logistic_regression_spacy.classes_,\n",
    "           yticklabels=logistic_regression_spacy.classes_,\n",
    "           vmin=0, vmax=2653)"
   ]
  },
  {
   "cell_type": "code",
   "execution_count": 204,
   "id": "13dcdfd0",
   "metadata": {},
   "outputs": [
    {
     "name": "stdout",
     "output_type": "stream",
     "text": [
      "Logitsic Regression with 1- and 2-grams: mean absolute error:  0.42763484105558924\n"
     ]
    },
    {
     "data": {
      "image/png": "[encoded data removed]",
      "text/plain": [
       "<Figure size 1400x400 with 3 Axes>"
      ]
     },
     "metadata": {},
     "output_type": "display_data"
    }
   ],
   "source": [
    "print(\"Logitsic Regression with 1- and 2-grams: mean absolute error: \", mean_absolute_error(y_test, logistic_ngram_pred))\n",
    "plot_ditribution_and_errors(y_test, logistic_ngram_pred, \"Logitsic Regression with 1- and 2-grams\")"
   ]
  },
  {
   "cell_type": "code",
   "execution_count": 205,
   "id": "12a1be32",
   "metadata": {},
   "outputs": [
    {
     "name": "stdout",
     "output_type": "stream",
     "text": [
      "mean squared error: \n",
      "Linear Regression:  15.085314520743655\n",
      "Linear Regression clipped and rounded:  3.7240372431271003\n",
      "Logistic Regression:  0.541678144454851\n",
      "\n",
      "mean absolute error: \n",
      "Linear Regression:  3.0643008788289596\n",
      "Linear Regression clipped and rounded:  1.4771086992452207\n",
      "Logistic Regression:  0.42763484105558924\n"
     ]
    }
   ],
   "source": [
    "print(\"mean squared error: \")\n",
    "print(\"Linear Regression: \", mean_squared_error(y_test, linear_ngram_pred))\n",
    "print(\"Linear Regression clipped and rounded: \", mean_squared_error(y_test, linear_ngram_pred_clipped_and_rounded))\n",
    "print(\"Logistic Regression: \", mean_squared_error(y_test, logistic_ngram_pred))\n",
    "print(\"\\nmean absolute error: \")\n",
    "print(\"Linear Regression: \", np.abs(linear_ngram_pred - y_test).mean())\n",
    "print(\"Linear Regression clipped and rounded: \", np.abs(linear_ngram_pred_clipped_and_rounded - y_test).mean())\n",
    "print(\"Logistic Regression: \", np.abs(logistic_ngram_pred - y_test).mean())"
   ]
  },
  {
   "cell_type": "markdown",
   "id": "d7897eac",
   "metadata": {},
   "source": [
    "The linear regression model performs very bad with ngram input. It is even worse than randomly guessing the ratings (MAE: 1.598) or just rating everything 5 (MAE: 2).  \n",
    "The predictions range from -19 to +19.9 and a lot of the information is lost when they are clipped. \n",
    "But the logistic regression works even better with ngrams than with tokens lowering the MAE from 0.47 to 0.42."
   ]
  },
  {
   "cell_type": "code",
   "execution_count": 206,
   "id": "0a73331b",
   "metadata": {},
   "outputs": [
    {
     "data": {
      "text/html": [
       "<div>\n",
       "<style scoped>\n",
       "    .dataframe tbody tr th:only-of-type {\n",
       "        vertical-align: middle;\n",
       "    }\n",
       "\n",
       "    .dataframe tbody tr th {\n",
       "        vertical-align: top;\n",
       "    }\n",
       "\n",
       "    .dataframe thead th {\n",
       "        text-align: right;\n",
       "    }\n",
       "</style>\n",
       "<table border=\"1\" class=\"dataframe\">\n",
       "  <thead>\n",
       "    <tr style=\"text-align: right;\">\n",
       "      <th></th>\n",
       "      <th>name</th>\n",
       "      <th>MAE</th>\n",
       "      <th>MSE</th>\n",
       "      <th>accuracy</th>\n",
       "    </tr>\n",
       "  </thead>\n",
       "  <tbody>\n",
       "    <tr>\n",
       "      <th>0</th>\n",
       "      <td>random</td>\n",
       "      <td>1.598</td>\n",
       "      <td>3.982</td>\n",
       "      <td>0.20</td>\n",
       "    </tr>\n",
       "    <tr>\n",
       "      <th>1</th>\n",
       "      <td>all 5s</td>\n",
       "      <td>2.013</td>\n",
       "      <td>6.019</td>\n",
       "      <td>0.19</td>\n",
       "    </tr>\n",
       "    <tr>\n",
       "      <th>2</th>\n",
       "      <td>linear regression</td>\n",
       "      <td>0.630</td>\n",
       "      <td>0.630</td>\n",
       "      <td>NaN</td>\n",
       "    </tr>\n",
       "    <tr>\n",
       "      <th>3</th>\n",
       "      <td>logistic regression</td>\n",
       "      <td>0.471</td>\n",
       "      <td>0.629</td>\n",
       "      <td>0.59</td>\n",
       "    </tr>\n",
       "    <tr>\n",
       "      <th>4</th>\n",
       "      <td>linear regression (clipped &amp; rounded)</td>\n",
       "      <td>0.558</td>\n",
       "      <td>0.685</td>\n",
       "      <td>0.50</td>\n",
       "    </tr>\n",
       "    <tr>\n",
       "      <th>5</th>\n",
       "      <td>logistic regression ngrams</td>\n",
       "      <td>0.428</td>\n",
       "      <td>0.542</td>\n",
       "      <td>0.62</td>\n",
       "    </tr>\n",
       "    <tr>\n",
       "      <th>6</th>\n",
       "      <td>linear regression ngrams</td>\n",
       "      <td>1.477</td>\n",
       "      <td>3.724</td>\n",
       "      <td>0.26</td>\n",
       "    </tr>\n",
       "  </tbody>\n",
       "</table>\n",
       "</div>"
      ],
      "text/plain": [
       "                                    name    MAE    MSE  accuracy\n",
       "0                                 random  1.598  3.982      0.20\n",
       "1                                 all 5s  2.013  6.019      0.19\n",
       "2                      linear regression  0.630  0.630       NaN\n",
       "3                    logistic regression  0.471  0.629      0.59\n",
       "4  linear regression (clipped & rounded)  0.558  0.685      0.50\n",
       "5             logistic regression ngrams  0.428  0.542      0.62\n",
       "6               linear regression ngrams  1.477  3.724      0.26"
      ]
     },
     "execution_count": 206,
     "metadata": {},
     "output_type": "execute_result"
    }
   ],
   "source": [
    "new_entry1 = pd.DataFrame({\n",
    "    'name': ['logistic regression ngrams'],\n",
    "    'MAE': [0.428],\n",
    "    'MSE': [0.542],\n",
    "    'accuracy': [0.62]\n",
    "})\n",
    "\n",
    "new_entry2 = pd.DataFrame({\n",
    "    'name': ['linear regression ngrams'],\n",
    "    'MAE': [1.477],\n",
    "    'MSE': [3.724],\n",
    "    'accuracy': [0.26]\n",
    "})\n",
    "conclusion_df = pd.concat([conclusion_df, new_entry1, new_entry2], ignore_index=True)\n",
    "conclusion_df"
   ]
  },
  {
   "cell_type": "markdown",
   "id": "79a3930c",
   "metadata": {},
   "source": [
    "### 2.6 - Show the 10 most relevant words (or ngrams) for predicting high or low ratings."
   ]
  },
  {
   "cell_type": "code",
   "execution_count": 207,
   "id": "de762601",
   "metadata": {},
   "outputs": [],
   "source": [
    "def show_most_relevant_words(model, rating, vectorizer, top_n_words=10):\n",
    "    feature_names = np.array(vectorizer.get_feature_names_out())\n",
    "    if(type(model) == LogisticRegression):\n",
    "        coef = model.coef_[rating - 1]\n",
    "    else:\n",
    "        coef = model.coef_\n",
    "    top_n = np.argsort(coef)[-top_n_words:]\n",
    "    return feature_names[top_n]"
   ]
  },
  {
   "cell_type": "code",
   "execution_count": 208,
   "id": "c6a9d08e",
   "metadata": {},
   "outputs": [
    {
     "name": "stdout",
     "output_type": "stream",
     "text": [
      "Most relevant words for Rating 1:\n",
      "Logistic Regression:\n",
      " ['waste' 'disgusting' 'poor' 'rude' 'bad' 'horrible' 'avoid' 'awful'\n",
      " 'terrible' 'worst']\n",
      "Logistic Regression with 1- and 2-grams:\n",
      " ['never' 'poor' 'disgusting' 'rude' 'bad' 'avoid' 'horrible' 'awful'\n",
      " 'worst' 'terrible']\n",
      "Linear Regression:\n",
      " ['inches' 'jewel' 'drove' 'blessing' 'stroke' 'appearing' 'fri' 'danced'\n",
      " 'avant' 'carpe']\n",
      "Linear Regression with 1- and 2-grams:\n",
      " ['charts' 'worst enemy' 'de verano' 'taste buds' 'verging on' 'cous cous'\n",
      " 'and drabs' 'mullet' 'interacting with' 'motions']\n",
      "\n",
      "Most relevant words for Rating 5:\n",
      "Logistic Regression:\n",
      " ['wonderful' 'loved' 'perfect' 'fantastic' 'highly' 'best' 'great'\n",
      " 'excellent' 'amazing' 'delicious']\n",
      "Logistic Regression with 1- and 2-grams:\n",
      " ['recommend' 'wonderful' 'highly' 'perfect' 'fantastic' 'best' 'excellent'\n",
      " 'great' 'amazing' 'delicious']\n",
      "Linear Regression:\n",
      " ['inches' 'jewel' 'drove' 'blessing' 'stroke' 'appearing' 'fri' 'danced'\n",
      " 'avant' 'carpe']\n",
      "Linear Regression with 1- and 2-grams:\n",
      " ['charts' 'worst enemy' 'de verano' 'taste buds' 'verging on' 'cous cous'\n",
      " 'and drabs' 'mullet' 'interacting with' 'motions']\n"
     ]
    }
   ],
   "source": [
    "print(\"Most relevant words for Rating 1:\")\n",
    "print(\"Logistic Regression:\\n\", show_most_relevant_words(logistic_regression, 1, vectorizer))\n",
    "print(\"Logistic Regression with 1- and 2-grams:\\n\", show_most_relevant_words(logistic_regression_spacy, 1, ngram_vectorizer))\n",
    "print(\"Linear Regression:\\n\", show_most_relevant_words(linear_regression, 1, vectorizer))\n",
    "print(\"Linear Regression with 1- and 2-grams:\\n\", show_most_relevant_words(linear_regression_ngrams, 1, ngram_vectorizer))\n",
    "\n",
    "print(\"\\nMost relevant words for Rating 5:\")\n",
    "print(\"Logistic Regression:\\n\", show_most_relevant_words(logistic_regression, 5, vectorizer))\n",
    "print(\"Logistic Regression with 1- and 2-grams:\\n\", show_most_relevant_words(logistic_regression_spacy, 5, ngram_vectorizer))\n",
    "print(\"Linear Regression:\\n\", show_most_relevant_words(linear_regression, 5, vectorizer))\n",
    "print(\"Linear Regression with 1- and 2-grams:\\n\", show_most_relevant_words(linear_regression_ngrams, 5, ngram_vectorizer))"
   ]
  },
  {
   "cell_type": "markdown",
   "id": "e57bdc58",
   "metadata": {},
   "source": [
    "For the logistic regression the 10 most relevant words are almost the same (only 1 word differs in both ratings) but are ordered differently. The words also have positive or negative connotations respectively. But for linear regression the 10 most relevant words are actually the same for ratings 1 and 5 but completly different for single tokens and ngrams. They also appear to be quite random in context."
   ]
  },
  {
   "cell_type": "markdown",
   "id": "bff5b2dc",
   "metadata": {},
   "source": [
    "\n",
    "## 3. Language Model --> word vectors + Logistic Regression vs. Random Forest"
   ]
  },
  {
   "cell_type": "markdown",
   "id": "c02099a7",
   "metadata": {},
   "source": [
    "### 3.1 - Use Spacy and a larger English language model (`spacy.load(\"en_core_web_lg\")`) to create vectors for each review. This might take a while so use a progress bar."
   ]
  },
  {
   "cell_type": "code",
   "execution_count": 209,
   "id": "8e0b008f",
   "metadata": {},
   "outputs": [],
   "source": [
    "# try:\n",
    "#     nlp = spacy.load(\"en_core_web_lg\")\n",
    "#     print(\"Loaded en_core_web_lg model from disk.\")\n",
    "# except:\n",
    "#     print(\"Downloading en_core_web_lg...\")\n",
    "#     !python -m spacy download en_core_web_lg\n",
    "#     print(\"Loading en_core_web_lg model...\")\n",
    "#     nlp = spacy.load(\"en_core_web_lg\")"
   ]
  },
  {
   "cell_type": "code",
   "execution_count": 210,
   "id": "5ee96a53",
   "metadata": {},
   "outputs": [],
   "source": [
    "def string_to_array(string):\n",
    "    cleaned_string = string.replace('[', '').replace(']', '').replace('\\n', '')\n",
    "\n",
    "    return pd.Series(np.fromstring(cleaned_string, sep=' '))"
   ]
  },
  {
   "cell_type": "code",
   "execution_count": 211,
   "id": "9bc22cdf",
   "metadata": {},
   "outputs": [
    {
     "name": "stdout",
     "output_type": "stream",
     "text": [
      "Found spacy vectors at ..\\..\\Datasets\\Tripadvisor\\Barcelona_reviews_cleaned_with_vectors.csv. Loading...\n",
      "Parsing strings to arrays...\n"
     ]
    },
    {
     "data": {
      "application/vnd.jupyter.widget-view+json": {
       "model_id": "7ad9c6833ccf4445bb3124e7fb5e9bcb",
       "version_major": 2,
       "version_minor": 0
      },
      "text/plain": [
       "  0%|          | 0/90753 [00:00<?, ?it/s]"
      ]
     },
     "metadata": {},
     "output_type": "display_data"
    },
    {
     "name": "stdout",
     "output_type": "stream",
     "text": [
      "Found nothing at ..\\..\\Datasets\\Tripadvisor\\Barcelona_reviews_cleaned_with_vectors.csv. Calculating...\n"
     ]
    },
    {
     "data": {
      "application/vnd.jupyter.widget-view+json": {
       "model_id": "0d64cb8cb69648c38988931b834c47bc",
       "version_major": 2,
       "version_minor": 0
      },
      "text/plain": [
       "  0%|          | 0/90753 [00:00<?, ?it/s]"
      ]
     },
     "metadata": {},
     "output_type": "display_data"
    },
    {
     "ename": "NameError",
     "evalue": "name 'nlp' is not defined",
     "output_type": "error",
     "traceback": [
      "\u001b[1;31m---------------------------------------------------------------------------\u001b[0m",
      "\u001b[1;31mValueError\u001b[0m                                Traceback (most recent call last)",
      "\u001b[1;32m~\\AppData\\Local\\Temp\\ipykernel_17692\\2641240693.py\u001b[0m in \u001b[0;36m?\u001b[1;34m()\u001b[0m\n\u001b[0;32m      9\u001b[0m     \u001b[0mdata_cleaned\u001b[0m\u001b[1;33m[\u001b[0m\u001b[1;34m\"vectors\"\u001b[0m\u001b[1;33m]\u001b[0m \u001b[1;33m=\u001b[0m \u001b[0mdata_cleaned\u001b[0m\u001b[1;33m.\u001b[0m\u001b[0mvectors\u001b[0m\u001b[1;33m.\u001b[0m\u001b[0mprogress_apply\u001b[0m\u001b[1;33m(\u001b[0m\u001b[1;32mlambda\u001b[0m \u001b[0mx\u001b[0m\u001b[1;33m:\u001b[0m \u001b[0mstring_to_array\u001b[0m\u001b[1;33m(\u001b[0m\u001b[0mx\u001b[0m\u001b[1;33m)\u001b[0m\u001b[1;33m)\u001b[0m\u001b[1;33m\u001b[0m\u001b[1;33m\u001b[0m\u001b[0m\n\u001b[0;32m     10\u001b[0m \u001b[1;33m\u001b[0m\u001b[0m\n\u001b[1;32m---> 11\u001b[1;33m \u001b[1;32mexcept\u001b[0m\u001b[1;33m:\u001b[0m\u001b[1;33m\u001b[0m\u001b[1;33m\u001b[0m\u001b[0m\n\u001b[0m\u001b[0;32m     12\u001b[0m     \u001b[0mprint\u001b[0m\u001b[1;33m(\u001b[0m\u001b[1;34mf\"Found nothing at {filepath}. Calculating...\"\u001b[0m\u001b[1;33m)\u001b[0m\u001b[1;33m\u001b[0m\u001b[1;33m\u001b[0m\u001b[0m\n",
      "\u001b[1;32mc:\\Users\\kevin\\miniconda3\\envs\\data_science\\lib\\site-packages\\pandas\\core\\frame.py\u001b[0m in \u001b[0;36m?\u001b[1;34m(self, key, value)\u001b[0m\n\u001b[0;32m   4287\u001b[0m             \u001b[0mself\u001b[0m\u001b[1;33m.\u001b[0m\u001b[0m_setitem_array\u001b[0m\u001b[1;33m(\u001b[0m\u001b[0mkey\u001b[0m\u001b[1;33m,\u001b[0m \u001b[0mvalue\u001b[0m\u001b[1;33m)\u001b[0m\u001b[1;33m\u001b[0m\u001b[1;33m\u001b[0m\u001b[0m\n\u001b[0;32m   4288\u001b[0m         \u001b[1;32melif\u001b[0m \u001b[0misinstance\u001b[0m\u001b[1;33m(\u001b[0m\u001b[0mvalue\u001b[0m\u001b[1;33m,\u001b[0m \u001b[0mDataFrame\u001b[0m\u001b[1;33m)\u001b[0m\u001b[1;33m:\u001b[0m\u001b[1;33m\u001b[0m\u001b[1;33m\u001b[0m\u001b[0m\n\u001b[1;32m-> 4289\u001b[1;33m             \u001b[0mself\u001b[0m\u001b[1;33m.\u001b[0m\u001b[0m_set_item_frame_value\u001b[0m\u001b[1;33m(\u001b[0m\u001b[0mkey\u001b[0m\u001b[1;33m,\u001b[0m \u001b[0mvalue\u001b[0m\u001b[1;33m)\u001b[0m\u001b[1;33m\u001b[0m\u001b[1;33m\u001b[0m\u001b[0m\n\u001b[0m\u001b[0;32m   4290\u001b[0m         elif (\n",
      "\u001b[1;32mc:\\Users\\kevin\\miniconda3\\envs\\data_science\\lib\\site-packages\\pandas\\core\\frame.py\u001b[0m in \u001b[0;36m?\u001b[1;34m(self, key, value)\u001b[0m\n\u001b[0;32m   4415\u001b[0m             \u001b[0mlen_cols\u001b[0m \u001b[1;33m=\u001b[0m \u001b[1;36m1\u001b[0m \u001b[1;32mif\u001b[0m \u001b[0mis_scalar\u001b[0m\u001b[1;33m(\u001b[0m\u001b[0mcols\u001b[0m\u001b[1;33m)\u001b[0m \u001b[1;32mor\u001b[0m \u001b[0misinstance\u001b[0m\u001b[1;33m(\u001b[0m\u001b[0mcols\u001b[0m\u001b[1;33m,\u001b[0m \u001b[0mtuple\u001b[0m\u001b[1;33m)\u001b[0m \u001b[1;32melse\u001b[0m \u001b[0mlen\u001b[0m\u001b[1;33m(\u001b[0m\u001b[0mcols\u001b[0m\u001b[1;33m)\u001b[0m\u001b[1;33m\u001b[0m\u001b[1;33m\u001b[0m\u001b[0m\n\u001b[0;32m   4416\u001b[0m             \u001b[1;32mif\u001b[0m \u001b[0mlen_cols\u001b[0m \u001b[1;33m!=\u001b[0m \u001b[0mlen\u001b[0m\u001b[1;33m(\u001b[0m\u001b[0mvalue\u001b[0m\u001b[1;33m.\u001b[0m\u001b[0mcolumns\u001b[0m\u001b[1;33m)\u001b[0m\u001b[1;33m:\u001b[0m\u001b[1;33m\u001b[0m\u001b[1;33m\u001b[0m\u001b[0m\n\u001b[1;32m-> 4417\u001b[1;33m                 \u001b[1;32mraise\u001b[0m \u001b[0mValueError\u001b[0m\u001b[1;33m(\u001b[0m\u001b[1;34m\"Columns must be same length as key\"\u001b[0m\u001b[1;33m)\u001b[0m\u001b[1;33m\u001b[0m\u001b[1;33m\u001b[0m\u001b[0m\n\u001b[0m\u001b[0;32m   4418\u001b[0m \u001b[1;33m\u001b[0m\u001b[0m\n",
      "\u001b[1;31mValueError\u001b[0m: Columns must be same length as key",
      "\nDuring handling of the above exception, another exception occurred:\n",
      "\u001b[1;31mNameError\u001b[0m                                 Traceback (most recent call last)",
      "Cell \u001b[1;32mIn[211], line 11\u001b[0m\n\u001b[0;32m      9\u001b[0m \u001b[38;5;28;01mexcept\u001b[39;00m:\n\u001b[0;32m     10\u001b[0m     \u001b[38;5;28mprint\u001b[39m(\u001b[38;5;124mf\u001b[39m\u001b[38;5;124m\"\u001b[39m\u001b[38;5;124mFound nothing at \u001b[39m\u001b[38;5;132;01m{\u001b[39;00mfilepath\u001b[38;5;132;01m}\u001b[39;00m\u001b[38;5;124m. Calculating...\u001b[39m\u001b[38;5;124m\"\u001b[39m)\n\u001b[1;32m---> 11\u001b[0m     data_cleaned[\u001b[38;5;124m\"\u001b[39m\u001b[38;5;124mvectors\u001b[39m\u001b[38;5;124m\"\u001b[39m] \u001b[38;5;241m=\u001b[39m \u001b[43mdata_cleaned\u001b[49m\u001b[38;5;241;43m.\u001b[39;49m\u001b[43mfull\u001b[49m\u001b[38;5;241;43m.\u001b[39;49m\u001b[43mprogress_apply\u001b[49m\u001b[43m(\u001b[49m\u001b[38;5;28;43;01mlambda\u001b[39;49;00m\u001b[43m \u001b[49m\u001b[43mx\u001b[49m\u001b[43m:\u001b[49m\u001b[43m \u001b[49m\u001b[43mnlp\u001b[49m\u001b[43m(\u001b[49m\u001b[43mx\u001b[49m\u001b[43m)\u001b[49m\u001b[38;5;241;43m.\u001b[39;49m\u001b[43mvector\u001b[49m\u001b[43m)\u001b[49m\n\u001b[0;32m     13\u001b[0m     \u001b[38;5;28mprint\u001b[39m(\u001b[38;5;124m\"\u001b[39m\u001b[38;5;124mSaving vectors to disk...\u001b[39m\u001b[38;5;124m\"\u001b[39m)\n\u001b[0;32m     14\u001b[0m     data_cleaned\u001b[38;5;241m.\u001b[39mto_csv(filepath, index\u001b[38;5;241m=\u001b[39m\u001b[38;5;28;01mFalse\u001b[39;00m)\n",
      "File \u001b[1;32mc:\\Users\\kevin\\miniconda3\\envs\\data_science\\lib\\site-packages\\tqdm\\std.py:917\u001b[0m, in \u001b[0;36mtqdm.pandas.<locals>.inner_generator.<locals>.inner\u001b[1;34m(df, func, *args, **kwargs)\u001b[0m\n\u001b[0;32m    914\u001b[0m \u001b[38;5;66;03m# Apply the provided function (in **kwargs)\u001b[39;00m\n\u001b[0;32m    915\u001b[0m \u001b[38;5;66;03m# on the df using our wrapper (which provides bar updating)\u001b[39;00m\n\u001b[0;32m    916\u001b[0m \u001b[38;5;28;01mtry\u001b[39;00m:\n\u001b[1;32m--> 917\u001b[0m     \u001b[38;5;28;01mreturn\u001b[39;00m \u001b[38;5;28mgetattr\u001b[39m(df, df_function)(wrapper, \u001b[38;5;241m*\u001b[39m\u001b[38;5;241m*\u001b[39mkwargs)\n\u001b[0;32m    918\u001b[0m \u001b[38;5;28;01mfinally\u001b[39;00m:\n\u001b[0;32m    919\u001b[0m     t\u001b[38;5;241m.\u001b[39mclose()\n",
      "File \u001b[1;32mc:\\Users\\kevin\\miniconda3\\envs\\data_science\\lib\\site-packages\\pandas\\core\\series.py:4908\u001b[0m, in \u001b[0;36mSeries.apply\u001b[1;34m(self, func, convert_dtype, args, by_row, **kwargs)\u001b[0m\n\u001b[0;32m   4780\u001b[0m \u001b[38;5;28;01mdef\u001b[39;00m \u001b[38;5;21mapply\u001b[39m(\n\u001b[0;32m   4781\u001b[0m     \u001b[38;5;28mself\u001b[39m,\n\u001b[0;32m   4782\u001b[0m     func: AggFuncType,\n\u001b[1;32m   (...)\u001b[0m\n\u001b[0;32m   4787\u001b[0m     \u001b[38;5;241m*\u001b[39m\u001b[38;5;241m*\u001b[39mkwargs,\n\u001b[0;32m   4788\u001b[0m ) \u001b[38;5;241m-\u001b[39m\u001b[38;5;241m>\u001b[39m DataFrame \u001b[38;5;241m|\u001b[39m Series:\n\u001b[0;32m   4789\u001b[0m \u001b[38;5;250m    \u001b[39m\u001b[38;5;124;03m\"\"\"\u001b[39;00m\n\u001b[0;32m   4790\u001b[0m \u001b[38;5;124;03m    Invoke function on values of Series.\u001b[39;00m\n\u001b[0;32m   4791\u001b[0m \n\u001b[1;32m   (...)\u001b[0m\n\u001b[0;32m   4906\u001b[0m \u001b[38;5;124;03m    dtype: float64\u001b[39;00m\n\u001b[0;32m   4907\u001b[0m \u001b[38;5;124;03m    \"\"\"\u001b[39;00m\n\u001b[1;32m-> 4908\u001b[0m     \u001b[38;5;28;01mreturn\u001b[39;00m \u001b[43mSeriesApply\u001b[49m\u001b[43m(\u001b[49m\n\u001b[0;32m   4909\u001b[0m \u001b[43m        \u001b[49m\u001b[38;5;28;43mself\u001b[39;49m\u001b[43m,\u001b[49m\n\u001b[0;32m   4910\u001b[0m \u001b[43m        \u001b[49m\u001b[43mfunc\u001b[49m\u001b[43m,\u001b[49m\n\u001b[0;32m   4911\u001b[0m \u001b[43m        \u001b[49m\u001b[43mconvert_dtype\u001b[49m\u001b[38;5;241;43m=\u001b[39;49m\u001b[43mconvert_dtype\u001b[49m\u001b[43m,\u001b[49m\n\u001b[0;32m   4912\u001b[0m \u001b[43m        \u001b[49m\u001b[43mby_row\u001b[49m\u001b[38;5;241;43m=\u001b[39;49m\u001b[43mby_row\u001b[49m\u001b[43m,\u001b[49m\n\u001b[0;32m   4913\u001b[0m \u001b[43m        \u001b[49m\u001b[43margs\u001b[49m\u001b[38;5;241;43m=\u001b[39;49m\u001b[43margs\u001b[49m\u001b[43m,\u001b[49m\n\u001b[0;32m   4914\u001b[0m \u001b[43m        \u001b[49m\u001b[43mkwargs\u001b[49m\u001b[38;5;241;43m=\u001b[39;49m\u001b[43mkwargs\u001b[49m\u001b[43m,\u001b[49m\n\u001b[0;32m   4915\u001b[0m \u001b[43m    \u001b[49m\u001b[43m)\u001b[49m\u001b[38;5;241;43m.\u001b[39;49m\u001b[43mapply\u001b[49m\u001b[43m(\u001b[49m\u001b[43m)\u001b[49m\n",
      "File \u001b[1;32mc:\\Users\\kevin\\miniconda3\\envs\\data_science\\lib\\site-packages\\pandas\\core\\apply.py:1427\u001b[0m, in \u001b[0;36mSeriesApply.apply\u001b[1;34m(self)\u001b[0m\n\u001b[0;32m   1424\u001b[0m     \u001b[38;5;28;01mreturn\u001b[39;00m \u001b[38;5;28mself\u001b[39m\u001b[38;5;241m.\u001b[39mapply_compat()\n\u001b[0;32m   1426\u001b[0m \u001b[38;5;66;03m# self.func is Callable\u001b[39;00m\n\u001b[1;32m-> 1427\u001b[0m \u001b[38;5;28;01mreturn\u001b[39;00m \u001b[38;5;28;43mself\u001b[39;49m\u001b[38;5;241;43m.\u001b[39;49m\u001b[43mapply_standard\u001b[49m\u001b[43m(\u001b[49m\u001b[43m)\u001b[49m\n",
      "File \u001b[1;32mc:\\Users\\kevin\\miniconda3\\envs\\data_science\\lib\\site-packages\\pandas\\core\\apply.py:1507\u001b[0m, in \u001b[0;36mSeriesApply.apply_standard\u001b[1;34m(self)\u001b[0m\n\u001b[0;32m   1501\u001b[0m \u001b[38;5;66;03m# row-wise access\u001b[39;00m\n\u001b[0;32m   1502\u001b[0m \u001b[38;5;66;03m# apply doesn't have a `na_action` keyword and for backward compat reasons\u001b[39;00m\n\u001b[0;32m   1503\u001b[0m \u001b[38;5;66;03m# we need to give `na_action=\"ignore\"` for categorical data.\u001b[39;00m\n\u001b[0;32m   1504\u001b[0m \u001b[38;5;66;03m# TODO: remove the `na_action=\"ignore\"` when that default has been changed in\u001b[39;00m\n\u001b[0;32m   1505\u001b[0m \u001b[38;5;66;03m#  Categorical (GH51645).\u001b[39;00m\n\u001b[0;32m   1506\u001b[0m action \u001b[38;5;241m=\u001b[39m \u001b[38;5;124m\"\u001b[39m\u001b[38;5;124mignore\u001b[39m\u001b[38;5;124m\"\u001b[39m \u001b[38;5;28;01mif\u001b[39;00m \u001b[38;5;28misinstance\u001b[39m(obj\u001b[38;5;241m.\u001b[39mdtype, CategoricalDtype) \u001b[38;5;28;01melse\u001b[39;00m \u001b[38;5;28;01mNone\u001b[39;00m\n\u001b[1;32m-> 1507\u001b[0m mapped \u001b[38;5;241m=\u001b[39m \u001b[43mobj\u001b[49m\u001b[38;5;241;43m.\u001b[39;49m\u001b[43m_map_values\u001b[49m\u001b[43m(\u001b[49m\n\u001b[0;32m   1508\u001b[0m \u001b[43m    \u001b[49m\u001b[43mmapper\u001b[49m\u001b[38;5;241;43m=\u001b[39;49m\u001b[43mcurried\u001b[49m\u001b[43m,\u001b[49m\u001b[43m \u001b[49m\u001b[43mna_action\u001b[49m\u001b[38;5;241;43m=\u001b[39;49m\u001b[43maction\u001b[49m\u001b[43m,\u001b[49m\u001b[43m \u001b[49m\u001b[43mconvert\u001b[49m\u001b[38;5;241;43m=\u001b[39;49m\u001b[38;5;28;43mself\u001b[39;49m\u001b[38;5;241;43m.\u001b[39;49m\u001b[43mconvert_dtype\u001b[49m\n\u001b[0;32m   1509\u001b[0m \u001b[43m\u001b[49m\u001b[43m)\u001b[49m\n\u001b[0;32m   1511\u001b[0m \u001b[38;5;28;01mif\u001b[39;00m \u001b[38;5;28mlen\u001b[39m(mapped) \u001b[38;5;129;01mand\u001b[39;00m \u001b[38;5;28misinstance\u001b[39m(mapped[\u001b[38;5;241m0\u001b[39m], ABCSeries):\n\u001b[0;32m   1512\u001b[0m     \u001b[38;5;66;03m# GH#43986 Need to do list(mapped) in order to get treated as nested\u001b[39;00m\n\u001b[0;32m   1513\u001b[0m     \u001b[38;5;66;03m#  See also GH#25959 regarding EA support\u001b[39;00m\n\u001b[0;32m   1514\u001b[0m     \u001b[38;5;28;01mreturn\u001b[39;00m obj\u001b[38;5;241m.\u001b[39m_constructor_expanddim(\u001b[38;5;28mlist\u001b[39m(mapped), index\u001b[38;5;241m=\u001b[39mobj\u001b[38;5;241m.\u001b[39mindex)\n",
      "File \u001b[1;32mc:\\Users\\kevin\\miniconda3\\envs\\data_science\\lib\\site-packages\\pandas\\core\\base.py:921\u001b[0m, in \u001b[0;36mIndexOpsMixin._map_values\u001b[1;34m(self, mapper, na_action, convert)\u001b[0m\n\u001b[0;32m    918\u001b[0m \u001b[38;5;28;01mif\u001b[39;00m \u001b[38;5;28misinstance\u001b[39m(arr, ExtensionArray):\n\u001b[0;32m    919\u001b[0m     \u001b[38;5;28;01mreturn\u001b[39;00m arr\u001b[38;5;241m.\u001b[39mmap(mapper, na_action\u001b[38;5;241m=\u001b[39mna_action)\n\u001b[1;32m--> 921\u001b[0m \u001b[38;5;28;01mreturn\u001b[39;00m \u001b[43malgorithms\u001b[49m\u001b[38;5;241;43m.\u001b[39;49m\u001b[43mmap_array\u001b[49m\u001b[43m(\u001b[49m\u001b[43marr\u001b[49m\u001b[43m,\u001b[49m\u001b[43m \u001b[49m\u001b[43mmapper\u001b[49m\u001b[43m,\u001b[49m\u001b[43m \u001b[49m\u001b[43mna_action\u001b[49m\u001b[38;5;241;43m=\u001b[39;49m\u001b[43mna_action\u001b[49m\u001b[43m,\u001b[49m\u001b[43m \u001b[49m\u001b[43mconvert\u001b[49m\u001b[38;5;241;43m=\u001b[39;49m\u001b[43mconvert\u001b[49m\u001b[43m)\u001b[49m\n",
      "File \u001b[1;32mc:\\Users\\kevin\\miniconda3\\envs\\data_science\\lib\\site-packages\\pandas\\core\\algorithms.py:1743\u001b[0m, in \u001b[0;36mmap_array\u001b[1;34m(arr, mapper, na_action, convert)\u001b[0m\n\u001b[0;32m   1741\u001b[0m values \u001b[38;5;241m=\u001b[39m arr\u001b[38;5;241m.\u001b[39mastype(\u001b[38;5;28mobject\u001b[39m, copy\u001b[38;5;241m=\u001b[39m\u001b[38;5;28;01mFalse\u001b[39;00m)\n\u001b[0;32m   1742\u001b[0m \u001b[38;5;28;01mif\u001b[39;00m na_action \u001b[38;5;129;01mis\u001b[39;00m \u001b[38;5;28;01mNone\u001b[39;00m:\n\u001b[1;32m-> 1743\u001b[0m     \u001b[38;5;28;01mreturn\u001b[39;00m \u001b[43mlib\u001b[49m\u001b[38;5;241;43m.\u001b[39;49m\u001b[43mmap_infer\u001b[49m\u001b[43m(\u001b[49m\u001b[43mvalues\u001b[49m\u001b[43m,\u001b[49m\u001b[43m \u001b[49m\u001b[43mmapper\u001b[49m\u001b[43m,\u001b[49m\u001b[43m \u001b[49m\u001b[43mconvert\u001b[49m\u001b[38;5;241;43m=\u001b[39;49m\u001b[43mconvert\u001b[49m\u001b[43m)\u001b[49m\n\u001b[0;32m   1744\u001b[0m \u001b[38;5;28;01melse\u001b[39;00m:\n\u001b[0;32m   1745\u001b[0m     \u001b[38;5;28;01mreturn\u001b[39;00m lib\u001b[38;5;241m.\u001b[39mmap_infer_mask(\n\u001b[0;32m   1746\u001b[0m         values, mapper, mask\u001b[38;5;241m=\u001b[39misna(values)\u001b[38;5;241m.\u001b[39mview(np\u001b[38;5;241m.\u001b[39muint8), convert\u001b[38;5;241m=\u001b[39mconvert\n\u001b[0;32m   1747\u001b[0m     )\n",
      "File \u001b[1;32mlib.pyx:2972\u001b[0m, in \u001b[0;36mpandas._libs.lib.map_infer\u001b[1;34m()\u001b[0m\n",
      "File \u001b[1;32mc:\\Users\\kevin\\miniconda3\\envs\\data_science\\lib\\site-packages\\tqdm\\std.py:912\u001b[0m, in \u001b[0;36mtqdm.pandas.<locals>.inner_generator.<locals>.inner.<locals>.wrapper\u001b[1;34m(*args, **kwargs)\u001b[0m\n\u001b[0;32m    906\u001b[0m \u001b[38;5;28;01mdef\u001b[39;00m \u001b[38;5;21mwrapper\u001b[39m(\u001b[38;5;241m*\u001b[39margs, \u001b[38;5;241m*\u001b[39m\u001b[38;5;241m*\u001b[39mkwargs):\n\u001b[0;32m    907\u001b[0m     \u001b[38;5;66;03m# update tbar correctly\u001b[39;00m\n\u001b[0;32m    908\u001b[0m     \u001b[38;5;66;03m# it seems `pandas apply` calls `func` twice\u001b[39;00m\n\u001b[0;32m    909\u001b[0m     \u001b[38;5;66;03m# on the first column/row to decide whether it can\u001b[39;00m\n\u001b[0;32m    910\u001b[0m     \u001b[38;5;66;03m# take a fast or slow code path; so stop when t.total==t.n\u001b[39;00m\n\u001b[0;32m    911\u001b[0m     t\u001b[38;5;241m.\u001b[39mupdate(n\u001b[38;5;241m=\u001b[39m\u001b[38;5;241m1\u001b[39m \u001b[38;5;28;01mif\u001b[39;00m \u001b[38;5;129;01mnot\u001b[39;00m t\u001b[38;5;241m.\u001b[39mtotal \u001b[38;5;129;01mor\u001b[39;00m t\u001b[38;5;241m.\u001b[39mn \u001b[38;5;241m<\u001b[39m t\u001b[38;5;241m.\u001b[39mtotal \u001b[38;5;28;01melse\u001b[39;00m \u001b[38;5;241m0\u001b[39m)\n\u001b[1;32m--> 912\u001b[0m     \u001b[38;5;28;01mreturn\u001b[39;00m func(\u001b[38;5;241m*\u001b[39margs, \u001b[38;5;241m*\u001b[39m\u001b[38;5;241m*\u001b[39mkwargs)\n",
      "Cell \u001b[1;32mIn[211], line 11\u001b[0m, in \u001b[0;36m<lambda>\u001b[1;34m(x)\u001b[0m\n\u001b[0;32m      9\u001b[0m \u001b[38;5;28;01mexcept\u001b[39;00m:\n\u001b[0;32m     10\u001b[0m     \u001b[38;5;28mprint\u001b[39m(\u001b[38;5;124mf\u001b[39m\u001b[38;5;124m\"\u001b[39m\u001b[38;5;124mFound nothing at \u001b[39m\u001b[38;5;132;01m{\u001b[39;00mfilepath\u001b[38;5;132;01m}\u001b[39;00m\u001b[38;5;124m. Calculating...\u001b[39m\u001b[38;5;124m\"\u001b[39m)\n\u001b[1;32m---> 11\u001b[0m     data_cleaned[\u001b[38;5;124m\"\u001b[39m\u001b[38;5;124mvectors\u001b[39m\u001b[38;5;124m\"\u001b[39m] \u001b[38;5;241m=\u001b[39m data_cleaned\u001b[38;5;241m.\u001b[39mfull\u001b[38;5;241m.\u001b[39mprogress_apply(\u001b[38;5;28;01mlambda\u001b[39;00m x: \u001b[43mnlp\u001b[49m(x)\u001b[38;5;241m.\u001b[39mvector)\n\u001b[0;32m     13\u001b[0m     \u001b[38;5;28mprint\u001b[39m(\u001b[38;5;124m\"\u001b[39m\u001b[38;5;124mSaving vectors to disk...\u001b[39m\u001b[38;5;124m\"\u001b[39m)\n\u001b[0;32m     14\u001b[0m     data_cleaned\u001b[38;5;241m.\u001b[39mto_csv(filepath, index\u001b[38;5;241m=\u001b[39m\u001b[38;5;28;01mFalse\u001b[39;00m)\n",
      "\u001b[1;31mNameError\u001b[0m: name 'nlp' is not defined"
     ]
    }
   ],
   "source": [
    "filepath = os.path.join(path, \"Barcelona_reviews_cleaned_with_vectors.csv\")\n",
    "\n",
    "try:\n",
    "    print(f\"Found spacy vectors at {filepath}. Loading...\")\n",
    "    data_cleaned = pd.read_csv(filepath)\n",
    "    print(f\"Parsing strings to arrays...\")\n",
    "    data_cleaned[\"vectors\"] = data_cleaned.vectors.progress_apply(lambda x: string_to_array(x))\n",
    "\n",
    "except:\n",
    "    print(f\"Found nothing at {filepath}. Calculating...\")\n",
    "    data_cleaned[\"vectors\"] = data_cleaned.full.progress_apply(lambda x: nlp(x).vector)\n",
    "    \n",
    "    print(\"Saving vectors to disk...\")\n",
    "    data_cleaned.to_csv(filepath, index=False)\n",
    "    print(f\"Saved logistic_regression_ngrams to {filepath}\")    "
   ]
  },
  {
   "cell_type": "markdown",
   "id": "419ee47c",
   "metadata": {},
   "source": [
    "### 3.2 - Train a Logistic Regression model as well as a RandomForestClassifier on the review embeddings to predict the 5 rating classes."
   ]
  },
  {
   "cell_type": "code",
   "execution_count": null,
   "id": "77c080c9",
   "metadata": {},
   "outputs": [],
   "source": [
    "spacy_vectors = np.stack(data_cleaned.vectors.to_numpy())\n",
    "X_train_spacy, X_test_spacy, y_train_spacy, y_test_spacy = train_test_split(spacy_vectors, data_cleaned.rating, test_size=0.2, random_state=42)"
   ]
  },
  {
   "cell_type": "markdown",
   "id": "70efa56f",
   "metadata": {},
   "source": [
    "#### 3.2.2 - Random Forest Training"
   ]
  },
  {
   "cell_type": "code",
   "execution_count": null,
   "id": "4c894524",
   "metadata": {},
   "outputs": [],
   "source": [
    "import pickle\n",
    "\n",
    "def grid_search_pickle_file_string(prefix: str, dictionary: dict):\n",
    "    dict_string = str(dictionary).replace(\":\", \"\").replace(\"'\", \"\").replace(\"{\", \"\").replace(\"}\", \"\").replace(\" \", \"\")\n",
    "    filename = f'{prefix}_grid_search-{dict_string}.pkl'\n",
    "    return os.path.join(path, filename)"
   ]
  },
  {
   "cell_type": "code",
   "execution_count": null,
   "id": "f7a5f480",
   "metadata": {},
   "outputs": [],
   "source": [
    "from sklearn.ensemble import RandomForestClassifier\n",
    "from sklearn.model_selection import GridSearchCV\n",
    "\n",
    "def perform_and_plot_RNDForest_grid_search(parameters: dict, train_data, train_labels):\n",
    "    filepath = grid_search_pickle_file_string(\"random_forest\", parameters)\n",
    "    try:\n",
    "        with open(filepath, 'rb') as file:\n",
    "            grid_search = pickle.load(file)\n",
    "        print(f\"Loaded GridSearchCV from {filepath}\\n with best params: {grid_search.best_params_}\")\n",
    "    except:\n",
    "        print(f\"Found no GridSearchCV at {filepath}. Calculating...\")\n",
    "\n",
    "        model = RandomForestClassifier(random_state=42)\n",
    "        \n",
    "        grid_search = GridSearchCV(model, parameters, verbose=3)#, error_score='raise')\n",
    "        grid_search.fit(train_data, train_labels)\n",
    "        \n",
    "        with open(filepath, 'wb') as file:\n",
    "            pickle.dump(grid_search, file)\n",
    "        print(f\"Saved GridSearchCV to {filepath}\")\n",
    "    \n",
    "    # Collect grid search results\n",
    "    cv_results = grid_search.cv_results_\n",
    "    mean_test_scores = cv_results['mean_test_score']\n",
    "\n",
    "    # Prepare data for plotting\n",
    "    scores_array = np.array(mean_test_scores).reshape(len(parameters['max_depth']),\n",
    "                                                    len(parameters['min_samples_leaf']),\n",
    "                                                    len(parameters['n_estimators']))\n",
    "\n",
    "    # Create a line plot for each n_estimators\n",
    "    fig, ax = plt.subplots(figsize=(10, 6))\n",
    "\n",
    "    for k, n_estimators in enumerate(parameters['n_estimators']):\n",
    "        scores_for_n_estimators = scores_array[:, :, k].T\n",
    "        for i, min_samples_leaf in enumerate(parameters['min_samples_leaf']):\n",
    "            ax.plot(parameters['max_depth'], scores_for_n_estimators[i],\n",
    "                    marker='o', linestyle='--', label=f'n_estimators: {n_estimators}, min_samples_leaf: {min_samples_leaf}')\n",
    "\n",
    "    ax.set_title('Grid Search Results')\n",
    "    ax.set_xlabel('Max Depth')\n",
    "    ax.set_ylabel('Mean Test Score')\n",
    "    ax.legend(loc='best')\n",
    "\n",
    "    plt.show()\n",
    "    \n",
    "    print(\"Best parameters with a mean test score of: \", mean_test_scores.max().round(3))\n",
    "    print(grid_search.best_params_)\n",
    "    \n",
    "    return grid_search"
   ]
  },
  {
   "cell_type": "raw",
   "id": "4b0708a6",
   "metadata": {
    "vscode": {
     "languageId": "raw"
    }
   },
   "source": [
    "parameters = {\"max_depth\": [2, 10, 20],\n",
    "              \"min_samples_leaf\": [2, 5, 8],\n",
    "              \"n_estimators\":[10, 25, 50]}\n",
    "\n",
    "grid_search = perform_and_plot_RNDForest_grid_search(parameters, X_train_spacy, y_train_spacy)"
   ]
  },
  {
   "cell_type": "raw",
   "id": "11ab7020",
   "metadata": {
    "vscode": {
     "languageId": "raw"
    }
   },
   "source": [
    "parameters = {\"max_depth\": [15, 25],\n",
    "              \"min_samples_leaf\": [3, 4, 6],\n",
    "              \"n_estimators\":[40, 80]}\n",
    "\n",
    "grid_search = perform_and_plot_RNDForest_grid_search(parameters, X_train_spacy, y_train_spacy)"
   ]
  },
  {
   "cell_type": "code",
   "execution_count": null,
   "id": "23887847",
   "metadata": {},
   "outputs": [
    {
     "data": {
      "text/html": [
       "<style>#sk-container-id-5 {\n",
       "  /* Definition of color scheme common for light and dark mode */\n",
       "  --sklearn-color-text: black;\n",
       "  --sklearn-color-line: gray;\n",
       "  /* Definition of color scheme for unfitted estimators */\n",
       "  --sklearn-color-unfitted-level-0: #fff5e6;\n",
       "  --sklearn-color-unfitted-level-1: #f6e4d2;\n",
       "  --sklearn-color-unfitted-level-2: #ffe0b3;\n",
       "  --sklearn-color-unfitted-level-3: chocolate;\n",
       "  /* Definition of color scheme for fitted estimators */\n",
       "  --sklearn-color-fitted-level-0: #f0f8ff;\n",
       "  --sklearn-color-fitted-level-1: #d4ebff;\n",
       "  --sklearn-color-fitted-level-2: #b3dbfd;\n",
       "  --sklearn-color-fitted-level-3: cornflowerblue;\n",
       "\n",
       "  /* Specific color for light theme */\n",
       "  --sklearn-color-text-on-default-background: var(--sg-text-color, var(--theme-code-foreground, var(--jp-content-font-color1, black)));\n",
       "  --sklearn-color-background: var(--sg-background-color, var(--theme-background, var(--jp-layout-color0, white)));\n",
       "  --sklearn-color-border-box: var(--sg-text-color, var(--theme-code-foreground, var(--jp-content-font-color1, black)));\n",
       "  --sklearn-color-icon: #696969;\n",
       "\n",
       "  @media (prefers-color-scheme: dark) {\n",
       "    /* Redefinition of color scheme for dark theme */\n",
       "    --sklearn-color-text-on-default-background: var(--sg-text-color, var(--theme-code-foreground, var(--jp-content-font-color1, white)));\n",
       "    --sklearn-color-background: var(--sg-background-color, var(--theme-background, var(--jp-layout-color0, #111)));\n",
       "    --sklearn-color-border-box: var(--sg-text-color, var(--theme-code-foreground, var(--jp-content-font-color1, white)));\n",
       "    --sklearn-color-icon: #878787;\n",
       "  }\n",
       "}\n",
       "\n",
       "#sk-container-id-5 {\n",
       "  color: var(--sklearn-color-text);\n",
       "}\n",
       "\n",
       "#sk-container-id-5 pre {\n",
       "  padding: 0;\n",
       "}\n",
       "\n",
       "#sk-container-id-5 input.sk-hidden--visually {\n",
       "  border: 0;\n",
       "  clip: rect(1px 1px 1px 1px);\n",
       "  clip: rect(1px, 1px, 1px, 1px);\n",
       "  height: 1px;\n",
       "  margin: -1px;\n",
       "  overflow: hidden;\n",
       "  padding: 0;\n",
       "  position: absolute;\n",
       "  width: 1px;\n",
       "}\n",
       "\n",
       "#sk-container-id-5 div.sk-dashed-wrapped {\n",
       "  border: 1px dashed var(--sklearn-color-line);\n",
       "  margin: 0 0.4em 0.5em 0.4em;\n",
       "  box-sizing: border-box;\n",
       "  padding-bottom: 0.4em;\n",
       "  background-color: var(--sklearn-color-background);\n",
       "}\n",
       "\n",
       "#sk-container-id-5 div.sk-container {\n",
       "  /* jupyter's `normalize.less` sets `[hidden] { display: none; }`\n",
       "     but bootstrap.min.css set `[hidden] { display: none !important; }`\n",
       "     so we also need the `!important` here to be able to override the\n",
       "     default hidden behavior on the sphinx rendered scikit-learn.org.\n",
       "     See: https://github.com/scikit-learn/scikit-learn/issues/21755 */\n",
       "  display: inline-block !important;\n",
       "  position: relative;\n",
       "}\n",
       "\n",
       "#sk-container-id-5 div.sk-text-repr-fallback {\n",
       "  display: none;\n",
       "}\n",
       "\n",
       "div.sk-parallel-item,\n",
       "div.sk-serial,\n",
       "div.sk-item {\n",
       "  /* draw centered vertical line to link estimators */\n",
       "  background-image: linear-gradient(var(--sklearn-color-text-on-default-background), var(--sklearn-color-text-on-default-background));\n",
       "  background-size: 2px 100%;\n",
       "  background-repeat: no-repeat;\n",
       "  background-position: center center;\n",
       "}\n",
       "\n",
       "/* Parallel-specific style estimator block */\n",
       "\n",
       "#sk-container-id-5 div.sk-parallel-item::after {\n",
       "  content: \"\";\n",
       "  width: 100%;\n",
       "  border-bottom: 2px solid var(--sklearn-color-text-on-default-background);\n",
       "  flex-grow: 1;\n",
       "}\n",
       "\n",
       "#sk-container-id-5 div.sk-parallel {\n",
       "  display: flex;\n",
       "  align-items: stretch;\n",
       "  justify-content: center;\n",
       "  background-color: var(--sklearn-color-background);\n",
       "  position: relative;\n",
       "}\n",
       "\n",
       "#sk-container-id-5 div.sk-parallel-item {\n",
       "  display: flex;\n",
       "  flex-direction: column;\n",
       "}\n",
       "\n",
       "#sk-container-id-5 div.sk-parallel-item:first-child::after {\n",
       "  align-self: flex-end;\n",
       "  width: 50%;\n",
       "}\n",
       "\n",
       "#sk-container-id-5 div.sk-parallel-item:last-child::after {\n",
       "  align-self: flex-start;\n",
       "  width: 50%;\n",
       "}\n",
       "\n",
       "#sk-container-id-5 div.sk-parallel-item:only-child::after {\n",
       "  width: 0;\n",
       "}\n",
       "\n",
       "/* Serial-specific style estimator block */\n",
       "\n",
       "#sk-container-id-5 div.sk-serial {\n",
       "  display: flex;\n",
       "  flex-direction: column;\n",
       "  align-items: center;\n",
       "  background-color: var(--sklearn-color-background);\n",
       "  padding-right: 1em;\n",
       "  padding-left: 1em;\n",
       "}\n",
       "\n",
       "\n",
       "/* Toggleable style: style used for estimator/Pipeline/ColumnTransformer box that is\n",
       "clickable and can be expanded/collapsed.\n",
       "- Pipeline and ColumnTransformer use this feature and define the default style\n",
       "- Estimators will overwrite some part of the style using the `sk-estimator` class\n",
       "*/\n",
       "\n",
       "/* Pipeline and ColumnTransformer style (default) */\n",
       "\n",
       "#sk-container-id-5 div.sk-toggleable {\n",
       "  /* Default theme specific background. It is overwritten whether we have a\n",
       "  specific estimator or a Pipeline/ColumnTransformer */\n",
       "  background-color: var(--sklearn-color-background);\n",
       "}\n",
       "\n",
       "/* Toggleable label */\n",
       "#sk-container-id-5 label.sk-toggleable__label {\n",
       "  cursor: pointer;\n",
       "  display: block;\n",
       "  width: 100%;\n",
       "  margin-bottom: 0;\n",
       "  padding: 0.5em;\n",
       "  box-sizing: border-box;\n",
       "  text-align: center;\n",
       "}\n",
       "\n",
       "#sk-container-id-5 label.sk-toggleable__label-arrow:before {\n",
       "  /* Arrow on the left of the label */\n",
       "  content: \"▸\";\n",
       "  float: left;\n",
       "  margin-right: 0.25em;\n",
       "  color: var(--sklearn-color-icon);\n",
       "}\n",
       "\n",
       "#sk-container-id-5 label.sk-toggleable__label-arrow:hover:before {\n",
       "  color: var(--sklearn-color-text);\n",
       "}\n",
       "\n",
       "/* Toggleable content - dropdown */\n",
       "\n",
       "#sk-container-id-5 div.sk-toggleable__content {\n",
       "  max-height: 0;\n",
       "  max-width: 0;\n",
       "  overflow: hidden;\n",
       "  text-align: left;\n",
       "  /* unfitted */\n",
       "  background-color: var(--sklearn-color-unfitted-level-0);\n",
       "}\n",
       "\n",
       "#sk-container-id-5 div.sk-toggleable__content.fitted {\n",
       "  /* fitted */\n",
       "  background-color: var(--sklearn-color-fitted-level-0);\n",
       "}\n",
       "\n",
       "#sk-container-id-5 div.sk-toggleable__content pre {\n",
       "  margin: 0.2em;\n",
       "  border-radius: 0.25em;\n",
       "  color: var(--sklearn-color-text);\n",
       "  /* unfitted */\n",
       "  background-color: var(--sklearn-color-unfitted-level-0);\n",
       "}\n",
       "\n",
       "#sk-container-id-5 div.sk-toggleable__content.fitted pre {\n",
       "  /* unfitted */\n",
       "  background-color: var(--sklearn-color-fitted-level-0);\n",
       "}\n",
       "\n",
       "#sk-container-id-5 input.sk-toggleable__control:checked~div.sk-toggleable__content {\n",
       "  /* Expand drop-down */\n",
       "  max-height: 200px;\n",
       "  max-width: 100%;\n",
       "  overflow: auto;\n",
       "}\n",
       "\n",
       "#sk-container-id-5 input.sk-toggleable__control:checked~label.sk-toggleable__label-arrow:before {\n",
       "  content: \"▾\";\n",
       "}\n",
       "\n",
       "/* Pipeline/ColumnTransformer-specific style */\n",
       "\n",
       "#sk-container-id-5 div.sk-label input.sk-toggleable__control:checked~label.sk-toggleable__label {\n",
       "  color: var(--sklearn-color-text);\n",
       "  background-color: var(--sklearn-color-unfitted-level-2);\n",
       "}\n",
       "\n",
       "#sk-container-id-5 div.sk-label.fitted input.sk-toggleable__control:checked~label.sk-toggleable__label {\n",
       "  background-color: var(--sklearn-color-fitted-level-2);\n",
       "}\n",
       "\n",
       "/* Estimator-specific style */\n",
       "\n",
       "/* Colorize estimator box */\n",
       "#sk-container-id-5 div.sk-estimator input.sk-toggleable__control:checked~label.sk-toggleable__label {\n",
       "  /* unfitted */\n",
       "  background-color: var(--sklearn-color-unfitted-level-2);\n",
       "}\n",
       "\n",
       "#sk-container-id-5 div.sk-estimator.fitted input.sk-toggleable__control:checked~label.sk-toggleable__label {\n",
       "  /* fitted */\n",
       "  background-color: var(--sklearn-color-fitted-level-2);\n",
       "}\n",
       "\n",
       "#sk-container-id-5 div.sk-label label.sk-toggleable__label,\n",
       "#sk-container-id-5 div.sk-label label {\n",
       "  /* The background is the default theme color */\n",
       "  color: var(--sklearn-color-text-on-default-background);\n",
       "}\n",
       "\n",
       "/* On hover, darken the color of the background */\n",
       "#sk-container-id-5 div.sk-label:hover label.sk-toggleable__label {\n",
       "  color: var(--sklearn-color-text);\n",
       "  background-color: var(--sklearn-color-unfitted-level-2);\n",
       "}\n",
       "\n",
       "/* Label box, darken color on hover, fitted */\n",
       "#sk-container-id-5 div.sk-label.fitted:hover label.sk-toggleable__label.fitted {\n",
       "  color: var(--sklearn-color-text);\n",
       "  background-color: var(--sklearn-color-fitted-level-2);\n",
       "}\n",
       "\n",
       "/* Estimator label */\n",
       "\n",
       "#sk-container-id-5 div.sk-label label {\n",
       "  font-family: monospace;\n",
       "  font-weight: bold;\n",
       "  display: inline-block;\n",
       "  line-height: 1.2em;\n",
       "}\n",
       "\n",
       "#sk-container-id-5 div.sk-label-container {\n",
       "  text-align: center;\n",
       "}\n",
       "\n",
       "/* Estimator-specific */\n",
       "#sk-container-id-5 div.sk-estimator {\n",
       "  font-family: monospace;\n",
       "  border: 1px dotted var(--sklearn-color-border-box);\n",
       "  border-radius: 0.25em;\n",
       "  box-sizing: border-box;\n",
       "  margin-bottom: 0.5em;\n",
       "  /* unfitted */\n",
       "  background-color: var(--sklearn-color-unfitted-level-0);\n",
       "}\n",
       "\n",
       "#sk-container-id-5 div.sk-estimator.fitted {\n",
       "  /* fitted */\n",
       "  background-color: var(--sklearn-color-fitted-level-0);\n",
       "}\n",
       "\n",
       "/* on hover */\n",
       "#sk-container-id-5 div.sk-estimator:hover {\n",
       "  /* unfitted */\n",
       "  background-color: var(--sklearn-color-unfitted-level-2);\n",
       "}\n",
       "\n",
       "#sk-container-id-5 div.sk-estimator.fitted:hover {\n",
       "  /* fitted */\n",
       "  background-color: var(--sklearn-color-fitted-level-2);\n",
       "}\n",
       "\n",
       "/* Specification for estimator info (e.g. \"i\" and \"?\") */\n",
       "\n",
       "/* Common style for \"i\" and \"?\" */\n",
       "\n",
       ".sk-estimator-doc-link,\n",
       "a:link.sk-estimator-doc-link,\n",
       "a:visited.sk-estimator-doc-link {\n",
       "  float: right;\n",
       "  font-size: smaller;\n",
       "  line-height: 1em;\n",
       "  font-family: monospace;\n",
       "  background-color: var(--sklearn-color-background);\n",
       "  border-radius: 1em;\n",
       "  height: 1em;\n",
       "  width: 1em;\n",
       "  text-decoration: none !important;\n",
       "  margin-left: 1ex;\n",
       "  /* unfitted */\n",
       "  border: var(--sklearn-color-unfitted-level-1) 1pt solid;\n",
       "  color: var(--sklearn-color-unfitted-level-1);\n",
       "}\n",
       "\n",
       ".sk-estimator-doc-link.fitted,\n",
       "a:link.sk-estimator-doc-link.fitted,\n",
       "a:visited.sk-estimator-doc-link.fitted {\n",
       "  /* fitted */\n",
       "  border: var(--sklearn-color-fitted-level-1) 1pt solid;\n",
       "  color: var(--sklearn-color-fitted-level-1);\n",
       "}\n",
       "\n",
       "/* On hover */\n",
       "div.sk-estimator:hover .sk-estimator-doc-link:hover,\n",
       ".sk-estimator-doc-link:hover,\n",
       "div.sk-label-container:hover .sk-estimator-doc-link:hover,\n",
       ".sk-estimator-doc-link:hover {\n",
       "  /* unfitted */\n",
       "  background-color: var(--sklearn-color-unfitted-level-3);\n",
       "  color: var(--sklearn-color-background);\n",
       "  text-decoration: none;\n",
       "}\n",
       "\n",
       "div.sk-estimator.fitted:hover .sk-estimator-doc-link.fitted:hover,\n",
       ".sk-estimator-doc-link.fitted:hover,\n",
       "div.sk-label-container:hover .sk-estimator-doc-link.fitted:hover,\n",
       ".sk-estimator-doc-link.fitted:hover {\n",
       "  /* fitted */\n",
       "  background-color: var(--sklearn-color-fitted-level-3);\n",
       "  color: var(--sklearn-color-background);\n",
       "  text-decoration: none;\n",
       "}\n",
       "\n",
       "/* Span, style for the box shown on hovering the info icon */\n",
       ".sk-estimator-doc-link span {\n",
       "  display: none;\n",
       "  z-index: 9999;\n",
       "  position: relative;\n",
       "  font-weight: normal;\n",
       "  right: .2ex;\n",
       "  padding: .5ex;\n",
       "  margin: .5ex;\n",
       "  width: min-content;\n",
       "  min-width: 20ex;\n",
       "  max-width: 50ex;\n",
       "  color: var(--sklearn-color-text);\n",
       "  box-shadow: 2pt 2pt 4pt #999;\n",
       "  /* unfitted */\n",
       "  background: var(--sklearn-color-unfitted-level-0);\n",
       "  border: .5pt solid var(--sklearn-color-unfitted-level-3);\n",
       "}\n",
       "\n",
       ".sk-estimator-doc-link.fitted span {\n",
       "  /* fitted */\n",
       "  background: var(--sklearn-color-fitted-level-0);\n",
       "  border: var(--sklearn-color-fitted-level-3);\n",
       "}\n",
       "\n",
       ".sk-estimator-doc-link:hover span {\n",
       "  display: block;\n",
       "}\n",
       "\n",
       "/* \"?\"-specific style due to the `<a>` HTML tag */\n",
       "\n",
       "#sk-container-id-5 a.estimator_doc_link {\n",
       "  float: right;\n",
       "  font-size: 1rem;\n",
       "  line-height: 1em;\n",
       "  font-family: monospace;\n",
       "  background-color: var(--sklearn-color-background);\n",
       "  border-radius: 1rem;\n",
       "  height: 1rem;\n",
       "  width: 1rem;\n",
       "  text-decoration: none;\n",
       "  /* unfitted */\n",
       "  color: var(--sklearn-color-unfitted-level-1);\n",
       "  border: var(--sklearn-color-unfitted-level-1) 1pt solid;\n",
       "}\n",
       "\n",
       "#sk-container-id-5 a.estimator_doc_link.fitted {\n",
       "  /* fitted */\n",
       "  border: var(--sklearn-color-fitted-level-1) 1pt solid;\n",
       "  color: var(--sklearn-color-fitted-level-1);\n",
       "}\n",
       "\n",
       "/* On hover */\n",
       "#sk-container-id-5 a.estimator_doc_link:hover {\n",
       "  /* unfitted */\n",
       "  background-color: var(--sklearn-color-unfitted-level-3);\n",
       "  color: var(--sklearn-color-background);\n",
       "  text-decoration: none;\n",
       "}\n",
       "\n",
       "#sk-container-id-5 a.estimator_doc_link.fitted:hover {\n",
       "  /* fitted */\n",
       "  background-color: var(--sklearn-color-fitted-level-3);\n",
       "}\n",
       "</style><div id=\"sk-container-id-5\" class=\"sk-top-container\"><div class=\"sk-text-repr-fallback\"><pre>RandomForestClassifier(max_depth=25, min_samples_leaf=6, n_estimators=80,\n",
       "                       random_state=42)</pre><b>In a Jupyter environment, please rerun this cell to show the HTML representation or trust the notebook. <br />On GitHub, the HTML representation is unable to render, please try loading this page with nbviewer.org.</b></div><div class=\"sk-container\" hidden><div class=\"sk-item\"><div class=\"sk-estimator fitted sk-toggleable\"><input class=\"sk-toggleable__control sk-hidden--visually\" id=\"sk-estimator-id-5\" type=\"checkbox\" checked><label for=\"sk-estimator-id-5\" class=\"sk-toggleable__label fitted sk-toggleable__label-arrow fitted\">&nbsp;&nbsp;RandomForestClassifier<a class=\"sk-estimator-doc-link fitted\" rel=\"noreferrer\" target=\"_blank\" href=\"https://scikit-learn.org/1.5/modules/generated/sklearn.ensemble.RandomForestClassifier.html\">?<span>Documentation for RandomForestClassifier</span></a><span class=\"sk-estimator-doc-link fitted\">i<span>Fitted</span></span></label><div class=\"sk-toggleable__content fitted\"><pre>RandomForestClassifier(max_depth=25, min_samples_leaf=6, n_estimators=80,\n",
       "                       random_state=42)</pre></div> </div></div></div></div>"
      ],
      "text/plain": [
       "RandomForestClassifier(max_depth=25, min_samples_leaf=6, n_estimators=80,\n",
       "                       random_state=42)"
      ]
     },
     "execution_count": 189,
     "metadata": {},
     "output_type": "execute_result"
    }
   ],
   "source": [
    "max_depth = 25 # grid_search.best_params_['max_depth']\n",
    "min_samples_leaf = 6 #grid_search.best_params_['min_samples_leaf']\n",
    "n_estimators = 80 #grid_search.best_params_['n_estimators']\n",
    "\n",
    "# train model\n",
    "random_forest = RandomForestClassifier(max_depth=max_depth, min_samples_leaf=min_samples_leaf, n_estimators=n_estimators, random_state=42)\n",
    "random_forest.fit(X_train_spacy, y_train_spacy)"
   ]
  },
  {
   "cell_type": "markdown",
   "id": "52693e3d",
   "metadata": {},
   "source": [
    "I performed two grid searches to narrow out good parameters for the random forest."
   ]
  },
  {
   "cell_type": "markdown",
   "id": "f00bdc24",
   "metadata": {},
   "source": [
    "#### 3.2.1 - Logistic Regression Training"
   ]
  },
  {
   "cell_type": "code",
   "execution_count": null,
   "id": "998c44f0",
   "metadata": {},
   "outputs": [],
   "source": [
    "logistic_regression_spacy = LogisticRegression(max_iter=1000)\n",
    "logistic_regression_spacy.fit(X_train_spacy, y_train_spacy)"
   ]
  },
  {
   "cell_type": "code",
   "execution_count": null,
   "id": "ecc266fa",
   "metadata": {},
   "outputs": [
    {
     "name": "stdout",
     "output_type": "stream",
     "text": [
      "Loaded logistic_regression_ngrams from ..\\..\\Datasets\\Tripadvisor\\logistic_regression_spacy.pkl\n"
     ]
    }
   ],
   "source": [
    "# filepath = os.path.join(path, \"logistic_regression_spacy.pkl\")\n",
    "\n",
    "# try:\n",
    "#     with open(filepath, 'rb') as file:\n",
    "#         logistic_regression_spacy = joblib.load(filepath)\n",
    "    \n",
    "#     print(f\"Loaded logistic_regression_ngrams from {filepath}\")\n",
    "\n",
    "# except:\n",
    "#     print(f\"Found nothing at {filepath}. Calculating...\")\n",
    "#     logistic_regression_spacy = LogisticRegression(max_iter=1000)\n",
    "#     logistic_regression_spacy.fit(X_train_spacy, y_train_spacy)\n",
    "    \n",
    "#     joblib.dump(logistic_regression_spacy, filepath)\n",
    "#     print(f\"Saved logistic_regression_spacy to {filepath}\")"
   ]
  },
  {
   "cell_type": "markdown",
   "id": "b7d3611f",
   "metadata": {},
   "source": [
    "### 3.3 - Evaluate the performance of both models, and also compare to the TF-IDF case before."
   ]
  },
  {
   "cell_type": "markdown",
   "id": "66d802cf",
   "metadata": {},
   "source": [
    "#### 3.3.1 - Logitic Regression Evaluation"
   ]
  },
  {
   "cell_type": "code",
   "execution_count": null,
   "id": "63452fbc",
   "metadata": {},
   "outputs": [],
   "source": [
    "logistic_spacy_pred = logistic_regression_spacy.predict(X_test_spacy)"
   ]
  },
  {
   "cell_type": "code",
   "execution_count": null,
   "id": "21b5c046",
   "metadata": {},
   "outputs": [
    {
     "name": "stdout",
     "output_type": "stream",
     "text": [
      "              precision    recall  f1-score   support\n",
      "\n",
      "           1       0.64      0.69      0.67      3579\n",
      "           2       0.47      0.46      0.46      3713\n",
      "           3       0.51      0.49      0.50      3740\n",
      "           4       0.52      0.49      0.51      3608\n",
      "           5       0.66      0.68      0.67      3511\n",
      "\n",
      "    accuracy                           0.56     18151\n",
      "   macro avg       0.56      0.56      0.56     18151\n",
      "weighted avg       0.56      0.56      0.56     18151\n",
      "\n"
     ]
    },
    {
     "data": {
      "text/plain": [
       "<Axes: title={'center': 'Logitsic Regression Confusion Matrix'}>"
      ]
     },
     "execution_count": 187,
     "metadata": {},
     "output_type": "execute_result"
    },
    {
     "data": {
      "image/png": "[encoded data removed]",
      "text/plain": [
       "<Figure size 600x500 with 2 Axes>"
      ]
     },
     "metadata": {},
     "output_type": "display_data"
    }
   ],
   "source": [
    "from sklearn.metrics import confusion_matrix, classification_report\n",
    "\n",
    "print(classification_report(y_test, logistic_spacy_pred))\n",
    "\n",
    "fig, ax = plt.subplots(figsize=(6, 5), dpi=100)\n",
    "ax.set_title(\"Logitsic Regression Confusion Matrix\")\n",
    "sb.heatmap(confusion_matrix(y_test, logistic_spacy_pred),\n",
    "           annot=True, cmap='Blues', fmt=\"g\", \n",
    "           xticklabels=logistic_regression_spacy.classes_,\n",
    "           yticklabels=logistic_regression_spacy.classes_,\n",
    "           vmin=0, vmax=2653)"
   ]
  },
  {
   "cell_type": "markdown",
   "id": "5b83aee0",
   "metadata": {},
   "source": [
    "#### 3.3.2 - Random Forest Evaluation"
   ]
  },
  {
   "cell_type": "code",
   "execution_count": null,
   "id": "ed8ae9bb",
   "metadata": {},
   "outputs": [],
   "source": [
    "rnd_forest_spacy_pred = random_forest.predict(X_test_spacy)"
   ]
  },
  {
   "cell_type": "code",
   "execution_count": null,
   "id": "fc51fbff",
   "metadata": {},
   "outputs": [
    {
     "name": "stdout",
     "output_type": "stream",
     "text": [
      "              precision    recall  f1-score   support\n",
      "\n",
      "           1       0.50      0.59      0.54      3579\n",
      "           2       0.37      0.32      0.34      3713\n",
      "           3       0.38      0.35      0.37      3740\n",
      "           4       0.40      0.37      0.38      3608\n",
      "           5       0.54      0.60      0.57      3511\n",
      "\n",
      "    accuracy                           0.44     18151\n",
      "   macro avg       0.44      0.45      0.44     18151\n",
      "weighted avg       0.44      0.44      0.44     18151\n",
      "\n"
     ]
    },
    {
     "data": {
      "text/plain": [
       "<Axes: title={'center': 'Random Forest Confusion Matrix'}>"
      ]
     },
     "execution_count": 193,
     "metadata": {},
     "output_type": "execute_result"
    },
    {
     "data": {
      "image/png": "[encoded data removed]",
      "text/plain": [
       "<Figure size 600x500 with 2 Axes>"
      ]
     },
     "metadata": {},
     "output_type": "display_data"
    }
   ],
   "source": [
    "print(classification_report(y_test, rnd_forest_spacy_pred))\n",
    "\n",
    "fig, ax = plt.subplots(figsize=(6, 5), dpi=100)\n",
    "ax.set_title(\"Random Forest Confusion Matrix\")\n",
    "sb.heatmap(confusion_matrix(y_test, rnd_forest_spacy_pred),\n",
    "           annot=True, cmap='Blues', fmt=\"g\", \n",
    "           xticklabels=logistic_regression_spacy.classes_,\n",
    "           yticklabels=logistic_regression_spacy.classes_,\n",
    "           vmin=0, vmax=2653)"
   ]
  },
  {
   "cell_type": "code",
   "execution_count": null,
   "id": "2d3f5330",
   "metadata": {},
   "outputs": [
    {
     "name": "stdout",
     "output_type": "stream",
     "text": [
      "mean squared error: \n",
      "Logistic Regression (tfidf):  0.631149798909151\n",
      "Logistic Regression (spacy):  0.7824913227921326\n",
      "Random Forest:  1.5195856977576994\n",
      "\n",
      "mean absolute error: \n",
      "Logistic Regression (tfidf):  0.47237066828273927\n",
      "Logistic Regression (spacy):  0.5337997906451435\n",
      "Random Forest:  0.808440306319211\n"
     ]
    }
   ],
   "source": [
    "print(\"mean squared error: \")\n",
    "print(\"Logistic Regression (tfidf): \", mean_squared_error(y_test, logistic_ngram_pred))\n",
    "print(\"Logistic Regression (spacy): \", mean_squared_error(y_test, logistic_spacy_pred))\n",
    "print(\"Random Forest: \", mean_squared_error(y_test, rnd_forest_spacy_pred))\n",
    "\n",
    "print(\"\\nmean absolute error: \")\n",
    "print(\"Logistic Regression (tfidf): \", np.abs(logistic_ngram_pred - y_test).mean())\n",
    "print(\"Logistic Regression (spacy): \", np.abs(logistic_spacy_pred - y_test).mean())\n",
    "print(\"Random Forest: \", np.abs(rnd_forest_spacy_pred - y_test).mean())"
   ]
  },
  {
   "cell_type": "markdown",
   "id": "9b69335b",
   "metadata": {},
   "source": [
    "# Conclusion"
   ]
  },
  {
   "cell_type": "markdown",
   "id": "b2ab4b81",
   "metadata": {},
   "source": [
    "Interestingly the tfidf model with the smaller corpus performs better than the spacy model with the large corpus. This might be due to the fact that the features are way more specific in the smaller corpus.  \n",
    "The logistic regression model with the tfidf-ngrams is the best perfroming model for this task. The random forest model could not outperform it and has lower MAE aswell as accuracy. "
   ]
  },
  {
   "cell_type": "code",
   "execution_count": null,
   "id": "152c73f3",
   "metadata": {},
   "outputs": [
    {
     "data": {
      "text/html": [
       "<div>\n",
       "<style scoped>\n",
       "    .dataframe tbody tr th:only-of-type {\n",
       "        vertical-align: middle;\n",
       "    }\n",
       "\n",
       "    .dataframe tbody tr th {\n",
       "        vertical-align: top;\n",
       "    }\n",
       "\n",
       "    .dataframe thead th {\n",
       "        text-align: right;\n",
       "    }\n",
       "</style>\n",
       "<table border=\"1\" class=\"dataframe\">\n",
       "  <thead>\n",
       "    <tr style=\"text-align: right;\">\n",
       "      <th></th>\n",
       "      <th>name</th>\n",
       "      <th>MAE</th>\n",
       "      <th>MSE</th>\n",
       "      <th>accuracy</th>\n",
       "    </tr>\n",
       "  </thead>\n",
       "  <tbody>\n",
       "    <tr>\n",
       "      <th>0</th>\n",
       "      <td>random</td>\n",
       "      <td>1.598</td>\n",
       "      <td>3.982</td>\n",
       "      <td>NaN</td>\n",
       "    </tr>\n",
       "    <tr>\n",
       "      <th>1</th>\n",
       "      <td>all 5s</td>\n",
       "      <td>2.013</td>\n",
       "      <td>6.019</td>\n",
       "      <td>NaN</td>\n",
       "    </tr>\n",
       "    <tr>\n",
       "      <th>2</th>\n",
       "      <td>linear regression</td>\n",
       "      <td>0.630</td>\n",
       "      <td>0.630</td>\n",
       "      <td>NaN</td>\n",
       "    </tr>\n",
       "    <tr>\n",
       "      <th>3</th>\n",
       "      <td>linear regression (clipped &amp; rounded)</td>\n",
       "      <td>0.558</td>\n",
       "      <td>0.685</td>\n",
       "      <td>NaN</td>\n",
       "    </tr>\n",
       "    <tr>\n",
       "      <th>4</th>\n",
       "      <td>logistic regression</td>\n",
       "      <td>NaN</td>\n",
       "      <td>NaN</td>\n",
       "      <td>0.59</td>\n",
       "    </tr>\n",
       "    <tr>\n",
       "      <th>5</th>\n",
       "      <td>logistic regression</td>\n",
       "      <td>0.471</td>\n",
       "      <td>0.629</td>\n",
       "      <td>0.59</td>\n",
       "    </tr>\n",
       "    <tr>\n",
       "      <th>6</th>\n",
       "      <td>linear regression (clipped &amp; rounded)</td>\n",
       "      <td>0.558</td>\n",
       "      <td>0.685</td>\n",
       "      <td>0.50</td>\n",
       "    </tr>\n",
       "    <tr>\n",
       "      <th>7</th>\n",
       "      <td>logistic regression ngrams</td>\n",
       "      <td>0.428</td>\n",
       "      <td>0.542</td>\n",
       "      <td>0.62</td>\n",
       "    </tr>\n",
       "    <tr>\n",
       "      <th>8</th>\n",
       "      <td>linear regression ngrams</td>\n",
       "      <td>1.477</td>\n",
       "      <td>3.724</td>\n",
       "      <td>0.26</td>\n",
       "    </tr>\n",
       "    <tr>\n",
       "      <th>9</th>\n",
       "      <td>logistic regression spacy</td>\n",
       "      <td>0.534</td>\n",
       "      <td>0.782</td>\n",
       "      <td>0.56</td>\n",
       "    </tr>\n",
       "    <tr>\n",
       "      <th>10</th>\n",
       "      <td>random forest</td>\n",
       "      <td>0.808</td>\n",
       "      <td>1.520</td>\n",
       "      <td>0.44</td>\n",
       "    </tr>\n",
       "  </tbody>\n",
       "</table>\n",
       "</div>"
      ],
      "text/plain": [
       "                                     name    MAE    MSE  accuracy\n",
       "0                                  random  1.598  3.982       NaN\n",
       "1                                  all 5s  2.013  6.019       NaN\n",
       "2                       linear regression  0.630  0.630       NaN\n",
       "3   linear regression (clipped & rounded)  0.558  0.685       NaN\n",
       "4                     logistic regression    NaN    NaN      0.59\n",
       "5                     logistic regression  0.471  0.629      0.59\n",
       "6   linear regression (clipped & rounded)  0.558  0.685      0.50\n",
       "7              logistic regression ngrams  0.428  0.542      0.62\n",
       "8                linear regression ngrams  1.477  3.724      0.26\n",
       "9               logistic regression spacy  0.534  0.782      0.56\n",
       "10                          random forest  0.808  1.520      0.44"
      ]
     },
     "execution_count": 144,
     "metadata": {},
     "output_type": "execute_result"
    }
   ],
   "source": [
    "new_entry1 = pd.DataFrame({\n",
    "    'name': ['logistic regression spacy'],\n",
    "    'MAE': [0.534],\n",
    "    'MSE': [0.782],\n",
    "    'accuracy': [0.56]\n",
    "})\n",
    "\n",
    "new_entry2 = pd.DataFrame({\n",
    "    'name': ['random forest'],\n",
    "    'MAE': [0.808],\n",
    "    'MSE': [1.520],\n",
    "    'accuracy': [0.44]\n",
    "})\n",
    "conclusion_df = pd.concat([conclusion_df, new_entry1, new_entry2], ignore_index=True)\n",
    "conclusion_df"
   ]
  }
 ],
 "metadata": {
  "kernelspec": {
   "display_name": "Python 3 (ipykernel)",
   "language": "python",
   "name": "python3"
  },
  "language_info": {
   "codemirror_mode": {
    "name": "ipython",
    "version": 3
   },
   "file_extension": ".py",
   "mimetype": "text/x-python",
   "name": "python",
   "nbconvert_exporter": "python",
   "pygments_lexer": "ipython3",
   "version": "3.9.19"
  }
 },
 "nbformat": 4,
 "nbformat_minor": 5
}
