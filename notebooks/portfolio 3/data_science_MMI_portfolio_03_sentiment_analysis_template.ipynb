{
 "cells": [
  {
   "cell_type": "markdown",
   "id": "19ae5264",
   "metadata": {},
   "source": [
    "### 💾💻📊 Data Science - MMI Portfolio No. 3\n",
    "# 💥 Sentiment Analysis (NLP + Machine Learning) 💥\n",
    "\n",
    "\n",
    "\n",
    "An extremely common dataset for benchmarking, method development, and tutorials is **MNIST** consisting of handwritten digits. In reference to this dataset several variants appeared such as sign-MNIST (photos of hand gestures for sign language), audioMNIST (audiofiles of spoken digits) and **fashionMNIST** made of low resolution photos of 10 types of clothes. We will here use this tp explore different possibilities for using dimensionality reduction techniques.\n",
    "\n",
    "Please complete the following exercises:\n",
    "## 1. Data Exploration and Cleaning\n",
    "- Select equal number of reviews for all possible ratings (1 to 5).\n",
    "- Use suitable Python libraries to detect the language for every restaurant review, for instance `langdetect`.\n",
    "- Show a distribution of detected languages.\n",
    "- Continue to work only with English entries.\n",
    "\n",
    "Hint: This could take a little while, so better use `tqdm` or similar to show the progress.\n",
    "\n",
    "## 2. TF-IDF + Logistic Regression vs Linear Regression\n",
    "- Use the `TfidfVectorizer` to create vectors of all remaining reviews.\n",
    "- Train a Logistic Regression model on the 5 rating classes\n",
    "- Train a Linear Regression model on the rating (1 to 5).\n",
    "- Compare both models, which works better?\n",
    "- Also compare single tokens vs. 1 + 2-grams (`ngrams = (1,2)`), which works better.\n",
    "- Show the 10 most relevant words (or ngrams) for predicting high or low ratings.\n",
    "\n",
    "## 3. Language Model --> word vectors + Logistic Regression vs. Random Forest\n",
    "- Use Spacy and a larger English language model (`spacy.load(\"en_core_web_lg\")`) to create vectors for each review. This might take a while so use a progress bar.\n",
    "- Train a Logistic Regression model as well as a RandomForestClassifier on the review embeddings to predict the 5 rating classes.\n",
    "- Evaluate the performance of both models, and also compare to the TF-IDF case before.\n",
    "\n",
    "\n",
    "\n",
    "## General instructions\n",
    "- The final notebook should be executable in the correct order (this means it should work if you do `Kernel` --> `Restart kernel and run all cells...`)\n",
    "- Just providing code and plots is not enough, you should document and comment where necessary. Not so much on small code-related things (you may still do this if you want though, but this is not required), but mostly to explain what you do, why you do it, what you observe.\n",
    "\n",
    "More specifically:\n",
    "- Please briefly comment on the changes you make to the data, in particular if you apply complex operations or if your changes depend on a certain choice you have to make.\n",
    "- Please add descriptions and/or interpretations to the results you generate (for instance tables, plots). This doesn't have to be a lot of text. For simple, easy-to-understand results, a brief sentence can be enough. For more complex results, you might want to add a bit more explanation."
   ]
  },
  {
   "cell_type": "markdown",
   "id": "4ffc3378-dd52-4e76-ad0a-803e841d72bc",
   "metadata": {},
   "source": [
    "---\n",
    "Please add your Name here\n",
    "## Name: Kevin Zielke\n",
    "\n",
    "---"
   ]
  },
  {
   "cell_type": "markdown",
   "id": "60d8e7eb-0254-48fd-a2ec-c42e82ddf285",
   "metadata": {},
   "source": [
    "## Imports and helper function\n",
    "Use this part to import the main libraries used in this notebook.  \n",
    "Also add more complex helper functions to this part (if you use any)."
   ]
  },
  {
   "cell_type": "code",
   "execution_count": 99,
   "id": "494f1abc",
   "metadata": {},
   "outputs": [],
   "source": [
    "import os\n",
    "import numpy as np\n",
    "import pandas as pd\n",
    "import matplotlib.pyplot as plt\n",
    "import seaborn as sb\n",
    "from sklearn.feature_extraction.text import TfidfVectorizer\n",
    "import spacy\n",
    "\n",
    "from tqdm.notebook import tqdm\n",
    "\n",
    "# add imports if anything is missing\n",
    "# for instance. feel free to use other plotting libraries (e.g. seaborn, plotly...)"
   ]
  },
  {
   "cell_type": "markdown",
   "id": "62da7810-b04b-475d-9775-26d282621a04",
   "metadata": {},
   "source": [
    "## Data download and import\n",
    "The following analysis should be done with data from TripAdvisor, namely restraurant reviews from **Barcelona**. You can find the respective data (`Barcelona_reviews.csv`) on the [TripAdvisor data](https://zenodo.org/records/6583422).\n"
   ]
  },
  {
   "cell_type": "code",
   "execution_count": 100,
   "id": "d832ecac",
   "metadata": {},
   "outputs": [
    {
     "name": "stderr",
     "output_type": "stream",
     "text": [
      "C:\\Users\\kevin\\AppData\\Local\\Temp\\ipykernel_11500\\1716722039.py:3: DtypeWarning: Columns (0,1,3) have mixed types. Specify dtype option on import or set low_memory=False.\n",
      "  data = pd.read_csv(filename)\n"
     ]
    },
    {
     "data": {
      "text/html": [
       "<div>\n",
       "<style scoped>\n",
       "    .dataframe tbody tr th:only-of-type {\n",
       "        vertical-align: middle;\n",
       "    }\n",
       "\n",
       "    .dataframe tbody tr th {\n",
       "        vertical-align: top;\n",
       "    }\n",
       "\n",
       "    .dataframe thead th {\n",
       "        text-align: right;\n",
       "    }\n",
       "</style>\n",
       "<table border=\"1\" class=\"dataframe\">\n",
       "  <thead>\n",
       "    <tr style=\"text-align: right;\">\n",
       "      <th></th>\n",
       "      <th>parse_count</th>\n",
       "      <th>restaurant_name</th>\n",
       "      <th>rating_review</th>\n",
       "      <th>sample</th>\n",
       "      <th>review_id</th>\n",
       "      <th>title_review</th>\n",
       "      <th>review_preview</th>\n",
       "      <th>review_full</th>\n",
       "      <th>date</th>\n",
       "      <th>city</th>\n",
       "      <th>url_restaurant</th>\n",
       "      <th>author_id</th>\n",
       "    </tr>\n",
       "  </thead>\n",
       "  <tbody>\n",
       "    <tr>\n",
       "      <th>0</th>\n",
       "      <td>1</td>\n",
       "      <td>Chalito_Rambla</td>\n",
       "      <td>1</td>\n",
       "      <td>Negative</td>\n",
       "      <td>review_774086112</td>\n",
       "      <td>Terrible food Terrible service</td>\n",
       "      <td>Ok, this place is terrible! Came here bc we’ve...</td>\n",
       "      <td>Ok, this place is terrible! Came here bc we’ve...</td>\n",
       "      <td>October 12, 2020</td>\n",
       "      <td>Barcelona_Catalonia</td>\n",
       "      <td>https://www.tripadvisor.com/Restaurant_Review-...</td>\n",
       "      <td>UID_0</td>\n",
       "    </tr>\n",
       "    <tr>\n",
       "      <th>1</th>\n",
       "      <td>2</td>\n",
       "      <td>Chalito_Rambla</td>\n",
       "      <td>5</td>\n",
       "      <td>Positive</td>\n",
       "      <td>review_739142140</td>\n",
       "      <td>The best milanesa in central Barcelona</td>\n",
       "      <td>This place was a great surprise. The food is d...</td>\n",
       "      <td>This place was a great surprise. The food is d...</td>\n",
       "      <td>January 14, 2020</td>\n",
       "      <td>Barcelona_Catalonia</td>\n",
       "      <td>https://www.tripadvisor.com/Restaurant_Review-...</td>\n",
       "      <td>UID_1</td>\n",
       "    </tr>\n",
       "    <tr>\n",
       "      <th>2</th>\n",
       "      <td>3</td>\n",
       "      <td>Chalito_Rambla</td>\n",
       "      <td>5</td>\n",
       "      <td>Positive</td>\n",
       "      <td>review_749758638</td>\n",
       "      <td>Family bonding</td>\n",
       "      <td>The food is excellent.....the ambiance is very...</td>\n",
       "      <td>The food is excellent.....the ambiance is very...</td>\n",
       "      <td>March 7, 2020</td>\n",
       "      <td>Barcelona_Catalonia</td>\n",
       "      <td>https://www.tripadvisor.com/Restaurant_Review-...</td>\n",
       "      <td>UID_2</td>\n",
       "    </tr>\n",
       "    <tr>\n",
       "      <th>3</th>\n",
       "      <td>4</td>\n",
       "      <td>Chalito_Rambla</td>\n",
       "      <td>5</td>\n",
       "      <td>Positive</td>\n",
       "      <td>review_749732001</td>\n",
       "      <td>Best food</td>\n",
       "      <td>The food is execellent ,affortable price for p...</td>\n",
       "      <td>The food is execellent ,affortable price for p...</td>\n",
       "      <td>March 7, 2020</td>\n",
       "      <td>Barcelona_Catalonia</td>\n",
       "      <td>https://www.tripadvisor.com/Restaurant_Review-...</td>\n",
       "      <td>UID_3</td>\n",
       "    </tr>\n",
       "    <tr>\n",
       "      <th>4</th>\n",
       "      <td>5</td>\n",
       "      <td>Chalito_Rambla</td>\n",
       "      <td>5</td>\n",
       "      <td>Positive</td>\n",
       "      <td>review_749691057</td>\n",
       "      <td>Amazing Food and Fantastic Service</td>\n",
       "      <td>Mr Suarez,The food at your restaurant was abso...</td>\n",
       "      <td>Mr Suarez,The food at your restaurant was abso...</td>\n",
       "      <td>March 7, 2020</td>\n",
       "      <td>Barcelona_Catalonia</td>\n",
       "      <td>https://www.tripadvisor.com/Restaurant_Review-...</td>\n",
       "      <td>UID_4</td>\n",
       "    </tr>\n",
       "  </tbody>\n",
       "</table>\n",
       "</div>"
      ],
      "text/plain": [
       "  parse_count restaurant_name rating_review    sample         review_id  \\\n",
       "0           1  Chalito_Rambla             1  Negative  review_774086112   \n",
       "1           2  Chalito_Rambla             5  Positive  review_739142140   \n",
       "2           3  Chalito_Rambla             5  Positive  review_749758638   \n",
       "3           4  Chalito_Rambla             5  Positive  review_749732001   \n",
       "4           5  Chalito_Rambla             5  Positive  review_749691057   \n",
       "\n",
       "                             title_review  \\\n",
       "0          Terrible food Terrible service   \n",
       "1  The best milanesa in central Barcelona   \n",
       "2                          Family bonding   \n",
       "3                               Best food   \n",
       "4     Amazing Food and Fantastic Service    \n",
       "\n",
       "                                      review_preview  \\\n",
       "0  Ok, this place is terrible! Came here bc we’ve...   \n",
       "1  This place was a great surprise. The food is d...   \n",
       "2  The food is excellent.....the ambiance is very...   \n",
       "3  The food is execellent ,affortable price for p...   \n",
       "4  Mr Suarez,The food at your restaurant was abso...   \n",
       "\n",
       "                                         review_full              date  \\\n",
       "0  Ok, this place is terrible! Came here bc we’ve...  October 12, 2020   \n",
       "1  This place was a great surprise. The food is d...  January 14, 2020   \n",
       "2  The food is excellent.....the ambiance is very...     March 7, 2020   \n",
       "3  The food is execellent ,affortable price for p...     March 7, 2020   \n",
       "4  Mr Suarez,The food at your restaurant was abso...     March 7, 2020   \n",
       "\n",
       "                  city                                     url_restaurant  \\\n",
       "0  Barcelona_Catalonia  https://www.tripadvisor.com/Restaurant_Review-...   \n",
       "1  Barcelona_Catalonia  https://www.tripadvisor.com/Restaurant_Review-...   \n",
       "2  Barcelona_Catalonia  https://www.tripadvisor.com/Restaurant_Review-...   \n",
       "3  Barcelona_Catalonia  https://www.tripadvisor.com/Restaurant_Review-...   \n",
       "4  Barcelona_Catalonia  https://www.tripadvisor.com/Restaurant_Review-...   \n",
       "\n",
       "  author_id  \n",
       "0     UID_0  \n",
       "1     UID_1  \n",
       "2     UID_2  \n",
       "3     UID_3  \n",
       "4     UID_4  "
      ]
     },
     "execution_count": 100,
     "metadata": {},
     "output_type": "execute_result"
    }
   ],
   "source": [
    "path = os.path.join(\"..\", \"..\", \"Datasets\", \"Tripadvisor\")\n",
    "filename = os.path.join(path, \"Barcelona_reviews.csv\")\n",
    "data = pd.read_csv(filename)\n",
    "data = data.drop([\"Unnamed: 0\"], axis=1)\n",
    "data.head()"
   ]
  },
  {
   "cell_type": "code",
   "execution_count": 101,
   "id": "8b3d076a-c192-44de-9039-97388beefd59",
   "metadata": {},
   "outputs": [],
   "source": [
    "# Some cleaning\n",
    "mask = data.rating_review == \"Barcelona_Catalonia\"\n",
    "data = data[~mask]\n",
    "data.rating_review = data.rating_review.astype(int)"
   ]
  },
  {
   "cell_type": "markdown",
   "id": "1168d69f",
   "metadata": {},
   "source": [
    "## 1. Data Exploration and Cleaning\n",
    "\n",
    "Hint: This could take a little while, so better use `tqdm` or similar to show the progress."
   ]
  },
  {
   "cell_type": "code",
   "execution_count": 102,
   "id": "1c8fb7c5",
   "metadata": {},
   "outputs": [],
   "source": [
    "import tqdm as tqdm"
   ]
  },
  {
   "cell_type": "code",
   "execution_count": 103,
   "id": "329f5c68",
   "metadata": {},
   "outputs": [
    {
     "name": "stdout",
     "output_type": "stream",
     "text": [
      "<class 'pandas.core.frame.DataFrame'>\n",
      "Index: 416355 entries, 0 to 416355\n",
      "Data columns (total 12 columns):\n",
      " #   Column           Non-Null Count   Dtype \n",
      "---  ------           --------------   ----- \n",
      " 0   parse_count      416355 non-null  object\n",
      " 1   restaurant_name  416355 non-null  object\n",
      " 2   rating_review    416355 non-null  int32 \n",
      " 3   sample           416355 non-null  object\n",
      " 4   review_id        416355 non-null  object\n",
      " 5   title_review     416355 non-null  object\n",
      " 6   review_preview   416355 non-null  object\n",
      " 7   review_full      416354 non-null  object\n",
      " 8   date             416354 non-null  object\n",
      " 9   city             416354 non-null  object\n",
      " 10  url_restaurant   416354 non-null  object\n",
      " 11  author_id        416354 non-null  object\n",
      "dtypes: int32(1), object(11)\n",
      "memory usage: 39.7+ MB\n"
     ]
    }
   ],
   "source": [
    "data.info()"
   ]
  },
  {
   "cell_type": "markdown",
   "id": "40b5fa82",
   "metadata": {},
   "source": [
    "There is a single null value in the data. I will get rid of it, since a single missing entry wont affect the analysis."
   ]
  },
  {
   "cell_type": "code",
   "execution_count": 104,
   "id": "d0b04bc9",
   "metadata": {},
   "outputs": [],
   "source": [
    "data = data.dropna()"
   ]
  },
  {
   "cell_type": "markdown",
   "id": "51e7e98c",
   "metadata": {},
   "source": [
    "Exept for _rating_reviews_, all columns are strings. Some columns can be converted to proper data types that can be easier processed. _date_ for example can easily be converted to datime."
   ]
  },
  {
   "cell_type": "code",
   "execution_count": 105,
   "id": "7c77341b",
   "metadata": {},
   "outputs": [],
   "source": [
    "data.date = pd.to_datetime(data.date)"
   ]
  },
  {
   "cell_type": "markdown",
   "id": "1df4090d",
   "metadata": {},
   "source": [
    "Every entry of _author_id_ contains \"UID_\" prefix. This can be removed and the column can be converted to integer."
   ]
  },
  {
   "cell_type": "code",
   "execution_count": 106,
   "id": "fb416c62",
   "metadata": {},
   "outputs": [],
   "source": [
    "data.author_id = data.author_id.str.removeprefix(\"UID_\")\n",
    "data.author_id = data.author_id.astype(int)"
   ]
  },
  {
   "cell_type": "code",
   "execution_count": 107,
   "id": "cc5cb0f6",
   "metadata": {},
   "outputs": [
    {
     "data": {
      "text/html": [
       "<div>\n",
       "<style scoped>\n",
       "    .dataframe tbody tr th:only-of-type {\n",
       "        vertical-align: middle;\n",
       "    }\n",
       "\n",
       "    .dataframe tbody tr th {\n",
       "        vertical-align: top;\n",
       "    }\n",
       "\n",
       "    .dataframe thead th {\n",
       "        text-align: right;\n",
       "    }\n",
       "</style>\n",
       "<table border=\"1\" class=\"dataframe\">\n",
       "  <thead>\n",
       "    <tr style=\"text-align: right;\">\n",
       "      <th></th>\n",
       "      <th>parse_count</th>\n",
       "      <th>restaurant_name</th>\n",
       "      <th>rating_review</th>\n",
       "      <th>sample</th>\n",
       "      <th>review_id</th>\n",
       "      <th>title_review</th>\n",
       "      <th>review_preview</th>\n",
       "      <th>review_full</th>\n",
       "      <th>date</th>\n",
       "      <th>city</th>\n",
       "      <th>url_restaurant</th>\n",
       "      <th>author_id</th>\n",
       "    </tr>\n",
       "  </thead>\n",
       "  <tbody>\n",
       "    <tr>\n",
       "      <th>416351</th>\n",
       "      <td>426639</td>\n",
       "      <td>Bodega_Biarritz</td>\n",
       "      <td>5</td>\n",
       "      <td>Positive</td>\n",
       "      <td>review_656474442</td>\n",
       "      <td>Awesome spot!</td>\n",
       "      <td>What a cute little hole in wall! The decorum w...</td>\n",
       "      <td>What a cute little hole in wall! The decorum w...</td>\n",
       "      <td>2019-03-04</td>\n",
       "      <td>Barcelona_Catalonia</td>\n",
       "      <td>https://www.tripadvisor.com/Restaurant_Review-...</td>\n",
       "      <td>232019</td>\n",
       "    </tr>\n",
       "    <tr>\n",
       "      <th>416352</th>\n",
       "      <td>426640</td>\n",
       "      <td>Bodega_Biarritz</td>\n",
       "      <td>5</td>\n",
       "      <td>Positive</td>\n",
       "      <td>review_656066564</td>\n",
       "      <td>Great tapas and great service</td>\n",
       "      <td>We really enjoyed the tapas here.  Each of the...</td>\n",
       "      <td>We really enjoyed the tapas here. Each of the ...</td>\n",
       "      <td>2019-03-03</td>\n",
       "      <td>Barcelona_Catalonia</td>\n",
       "      <td>https://www.tripadvisor.com/Restaurant_Review-...</td>\n",
       "      <td>57970</td>\n",
       "    </tr>\n",
       "    <tr>\n",
       "      <th>416353</th>\n",
       "      <td>426641</td>\n",
       "      <td>Bodega_Biarritz</td>\n",
       "      <td>5</td>\n",
       "      <td>Positive</td>\n",
       "      <td>review_631216398</td>\n",
       "      <td>Fabulous Tapas</td>\n",
       "      <td>Tried to get a table at Bodega Biarritz 1820 b...</td>\n",
       "      <td>Tried to get a table at Bodega Biarritz 1820 b...</td>\n",
       "      <td>2018-11-06</td>\n",
       "      <td>Barcelona_Catalonia</td>\n",
       "      <td>https://www.tripadvisor.com/Restaurant_Review-...</td>\n",
       "      <td>36360</td>\n",
       "    </tr>\n",
       "    <tr>\n",
       "      <th>416354</th>\n",
       "      <td>426642</td>\n",
       "      <td>Bodega_Biarritz</td>\n",
       "      <td>5</td>\n",
       "      <td>Positive</td>\n",
       "      <td>review_630522900</td>\n",
       "      <td>Fantastic!</td>\n",
       "      <td>It was our first time eating tapas and it was ...</td>\n",
       "      <td>It was our first time eating tapas and it was ...</td>\n",
       "      <td>2018-11-03</td>\n",
       "      <td>Barcelona_Catalonia</td>\n",
       "      <td>https://www.tripadvisor.com/Restaurant_Review-...</td>\n",
       "      <td>18363</td>\n",
       "    </tr>\n",
       "    <tr>\n",
       "      <th>416355</th>\n",
       "      <td>426643</td>\n",
       "      <td>Bodega_Biarritz</td>\n",
       "      <td>5</td>\n",
       "      <td>Positive</td>\n",
       "      <td>review_630287967</td>\n",
       "      <td>Great experience</td>\n",
       "      <td>We went early (6.00pm) to avoid queuing as we ...</td>\n",
       "      <td>We went early (6.00pm) to avoid queuing as we ...</td>\n",
       "      <td>2018-11-02</td>\n",
       "      <td>Barcelona_Catalonia</td>\n",
       "      <td>https://www.tripadvisor.com/Restaurant_Review-...</td>\n",
       "      <td>40467</td>\n",
       "    </tr>\n",
       "  </tbody>\n",
       "</table>\n",
       "</div>"
      ],
      "text/plain": [
       "       parse_count  restaurant_name  rating_review    sample  \\\n",
       "416351      426639  Bodega_Biarritz              5  Positive   \n",
       "416352      426640  Bodega_Biarritz              5  Positive   \n",
       "416353      426641  Bodega_Biarritz              5  Positive   \n",
       "416354      426642  Bodega_Biarritz              5  Positive   \n",
       "416355      426643  Bodega_Biarritz              5  Positive   \n",
       "\n",
       "               review_id                   title_review  \\\n",
       "416351  review_656474442                  Awesome spot!   \n",
       "416352  review_656066564  Great tapas and great service   \n",
       "416353  review_631216398                 Fabulous Tapas   \n",
       "416354  review_630522900                    Fantastic!    \n",
       "416355  review_630287967              Great experience    \n",
       "\n",
       "                                           review_preview  \\\n",
       "416351  What a cute little hole in wall! The decorum w...   \n",
       "416352  We really enjoyed the tapas here.  Each of the...   \n",
       "416353  Tried to get a table at Bodega Biarritz 1820 b...   \n",
       "416354  It was our first time eating tapas and it was ...   \n",
       "416355  We went early (6.00pm) to avoid queuing as we ...   \n",
       "\n",
       "                                              review_full       date  \\\n",
       "416351  What a cute little hole in wall! The decorum w... 2019-03-04   \n",
       "416352  We really enjoyed the tapas here. Each of the ... 2019-03-03   \n",
       "416353  Tried to get a table at Bodega Biarritz 1820 b... 2018-11-06   \n",
       "416354  It was our first time eating tapas and it was ... 2018-11-03   \n",
       "416355  We went early (6.00pm) to avoid queuing as we ... 2018-11-02   \n",
       "\n",
       "                       city  \\\n",
       "416351  Barcelona_Catalonia   \n",
       "416352  Barcelona_Catalonia   \n",
       "416353  Barcelona_Catalonia   \n",
       "416354  Barcelona_Catalonia   \n",
       "416355  Barcelona_Catalonia   \n",
       "\n",
       "                                           url_restaurant  author_id  \n",
       "416351  https://www.tripadvisor.com/Restaurant_Review-...     232019  \n",
       "416352  https://www.tripadvisor.com/Restaurant_Review-...      57970  \n",
       "416353  https://www.tripadvisor.com/Restaurant_Review-...      36360  \n",
       "416354  https://www.tripadvisor.com/Restaurant_Review-...      18363  \n",
       "416355  https://www.tripadvisor.com/Restaurant_Review-...      40467  "
      ]
     },
     "execution_count": 107,
     "metadata": {},
     "output_type": "execute_result"
    }
   ],
   "source": [
    "data.tail()"
   ]
  },
  {
   "cell_type": "code",
   "execution_count": 108,
   "id": "8421d700",
   "metadata": {},
   "outputs": [
    {
     "data": {
      "text/plain": [
       "review_id\n",
       "review_774086112    1\n",
       "review_495623401    1\n",
       "review_500779404    1\n",
       "review_500845386    1\n",
       "review_501058790    1\n",
       "                   ..\n",
       "review_582017693    1\n",
       "review_584876128    1\n",
       "review_475586397    1\n",
       "review_476139753    1\n",
       "review_630287967    1\n",
       "Name: count, Length: 416354, dtype: int64"
      ]
     },
     "execution_count": 108,
     "metadata": {},
     "output_type": "execute_result"
    }
   ],
   "source": [
    "data.review_id.value_counts()"
   ]
  },
  {
   "cell_type": "markdown",
   "id": "5b8abc95",
   "metadata": {},
   "source": [
    "By looking at data.head() and data.tail() it looks like the column _parse_count_ is just a messed up ID column. There is also _review_id_, which is another ID column. I will drop them both, because it clutters the output and I will just use the dataframe indexing."
   ]
  },
  {
   "cell_type": "code",
   "execution_count": 109,
   "id": "2578bec6",
   "metadata": {},
   "outputs": [],
   "source": [
    "data.drop([\"parse_count\", \"review_id\"], axis=1, inplace=True)"
   ]
  },
  {
   "cell_type": "markdown",
   "id": "7d3705ac",
   "metadata": {},
   "source": [
    "The _sample_ column only contains the entries positive and negative. We can turn this into a boolean column, where positive is TRUE and negative is FALSE."
   ]
  },
  {
   "cell_type": "code",
   "execution_count": 110,
   "id": "1fae5df8",
   "metadata": {},
   "outputs": [
    {
     "data": {
      "text/plain": [
       "sample\n",
       "Positive    338778\n",
       "Negative     77576\n",
       "Name: count, dtype: int64"
      ]
     },
     "execution_count": 110,
     "metadata": {},
     "output_type": "execute_result"
    }
   ],
   "source": [
    "data[\"sample\"].value_counts()"
   ]
  },
  {
   "cell_type": "code",
   "execution_count": 111,
   "id": "3cf4e061",
   "metadata": {},
   "outputs": [],
   "source": [
    "positive_mask = data[\"sample\"] == \"Positive\"\n",
    "negative_mask = data[\"sample\"] == \"Negative\"\n",
    "\n",
    "data.loc[positive_mask, \"sample\"] = 1\n",
    "data.loc[negative_mask, \"sample\"] = 0\n",
    "\n",
    "data[\"sample\"] = data[\"sample\"].astype(bool)"
   ]
  },
  {
   "cell_type": "markdown",
   "id": "e3ec33c8",
   "metadata": {},
   "source": [
    "Finally I like to code data.sample more than data[\"sample\"]. I will rename the _sample_ column to _bias_ so that python does not mistake this writing for the dataframe method sample(). Also i like short column names in general, so I will rename some of them. "
   ]
  },
  {
   "cell_type": "code",
   "execution_count": 112,
   "id": "025602bb",
   "metadata": {},
   "outputs": [],
   "source": [
    "data = data.rename(columns={\"sample\": \"bias\",\n",
    "                            \"restaurant_name\": \"restaurant\",\n",
    "                            \"rating_review\": \"rating\",\n",
    "                            \"title_review\": \"title\",\n",
    "                            \"review_preview\": \"preview\",\n",
    "                            \"review_full\": \"full\" })"
   ]
  },
  {
   "cell_type": "code",
   "execution_count": 113,
   "id": "4a00a925",
   "metadata": {},
   "outputs": [
    {
     "data": {
      "text/html": [
       "<div>\n",
       "<style scoped>\n",
       "    .dataframe tbody tr th:only-of-type {\n",
       "        vertical-align: middle;\n",
       "    }\n",
       "\n",
       "    .dataframe tbody tr th {\n",
       "        vertical-align: top;\n",
       "    }\n",
       "\n",
       "    .dataframe thead th {\n",
       "        text-align: right;\n",
       "    }\n",
       "</style>\n",
       "<table border=\"1\" class=\"dataframe\">\n",
       "  <thead>\n",
       "    <tr style=\"text-align: right;\">\n",
       "      <th></th>\n",
       "      <th>restaurant</th>\n",
       "      <th>rating</th>\n",
       "      <th>bias</th>\n",
       "      <th>title</th>\n",
       "      <th>preview</th>\n",
       "      <th>full</th>\n",
       "      <th>date</th>\n",
       "      <th>city</th>\n",
       "      <th>url_restaurant</th>\n",
       "      <th>author_id</th>\n",
       "    </tr>\n",
       "  </thead>\n",
       "  <tbody>\n",
       "    <tr>\n",
       "      <th>0</th>\n",
       "      <td>Chalito_Rambla</td>\n",
       "      <td>1</td>\n",
       "      <td>False</td>\n",
       "      <td>Terrible food Terrible service</td>\n",
       "      <td>Ok, this place is terrible! Came here bc we’ve...</td>\n",
       "      <td>Ok, this place is terrible! Came here bc we’ve...</td>\n",
       "      <td>2020-10-12</td>\n",
       "      <td>Barcelona_Catalonia</td>\n",
       "      <td>https://www.tripadvisor.com/Restaurant_Review-...</td>\n",
       "      <td>0</td>\n",
       "    </tr>\n",
       "    <tr>\n",
       "      <th>1</th>\n",
       "      <td>Chalito_Rambla</td>\n",
       "      <td>5</td>\n",
       "      <td>True</td>\n",
       "      <td>The best milanesa in central Barcelona</td>\n",
       "      <td>This place was a great surprise. The food is d...</td>\n",
       "      <td>This place was a great surprise. The food is d...</td>\n",
       "      <td>2020-01-14</td>\n",
       "      <td>Barcelona_Catalonia</td>\n",
       "      <td>https://www.tripadvisor.com/Restaurant_Review-...</td>\n",
       "      <td>1</td>\n",
       "    </tr>\n",
       "    <tr>\n",
       "      <th>2</th>\n",
       "      <td>Chalito_Rambla</td>\n",
       "      <td>5</td>\n",
       "      <td>True</td>\n",
       "      <td>Family bonding</td>\n",
       "      <td>The food is excellent.....the ambiance is very...</td>\n",
       "      <td>The food is excellent.....the ambiance is very...</td>\n",
       "      <td>2020-03-07</td>\n",
       "      <td>Barcelona_Catalonia</td>\n",
       "      <td>https://www.tripadvisor.com/Restaurant_Review-...</td>\n",
       "      <td>2</td>\n",
       "    </tr>\n",
       "    <tr>\n",
       "      <th>3</th>\n",
       "      <td>Chalito_Rambla</td>\n",
       "      <td>5</td>\n",
       "      <td>True</td>\n",
       "      <td>Best food</td>\n",
       "      <td>The food is execellent ,affortable price for p...</td>\n",
       "      <td>The food is execellent ,affortable price for p...</td>\n",
       "      <td>2020-03-07</td>\n",
       "      <td>Barcelona_Catalonia</td>\n",
       "      <td>https://www.tripadvisor.com/Restaurant_Review-...</td>\n",
       "      <td>3</td>\n",
       "    </tr>\n",
       "    <tr>\n",
       "      <th>4</th>\n",
       "      <td>Chalito_Rambla</td>\n",
       "      <td>5</td>\n",
       "      <td>True</td>\n",
       "      <td>Amazing Food and Fantastic Service</td>\n",
       "      <td>Mr Suarez,The food at your restaurant was abso...</td>\n",
       "      <td>Mr Suarez,The food at your restaurant was abso...</td>\n",
       "      <td>2020-03-07</td>\n",
       "      <td>Barcelona_Catalonia</td>\n",
       "      <td>https://www.tripadvisor.com/Restaurant_Review-...</td>\n",
       "      <td>4</td>\n",
       "    </tr>\n",
       "  </tbody>\n",
       "</table>\n",
       "</div>"
      ],
      "text/plain": [
       "       restaurant  rating   bias                                   title  \\\n",
       "0  Chalito_Rambla       1  False          Terrible food Terrible service   \n",
       "1  Chalito_Rambla       5   True  The best milanesa in central Barcelona   \n",
       "2  Chalito_Rambla       5   True                          Family bonding   \n",
       "3  Chalito_Rambla       5   True                               Best food   \n",
       "4  Chalito_Rambla       5   True     Amazing Food and Fantastic Service    \n",
       "\n",
       "                                             preview  \\\n",
       "0  Ok, this place is terrible! Came here bc we’ve...   \n",
       "1  This place was a great surprise. The food is d...   \n",
       "2  The food is excellent.....the ambiance is very...   \n",
       "3  The food is execellent ,affortable price for p...   \n",
       "4  Mr Suarez,The food at your restaurant was abso...   \n",
       "\n",
       "                                                full       date  \\\n",
       "0  Ok, this place is terrible! Came here bc we’ve... 2020-10-12   \n",
       "1  This place was a great surprise. The food is d... 2020-01-14   \n",
       "2  The food is excellent.....the ambiance is very... 2020-03-07   \n",
       "3  The food is execellent ,affortable price for p... 2020-03-07   \n",
       "4  Mr Suarez,The food at your restaurant was abso... 2020-03-07   \n",
       "\n",
       "                  city                                     url_restaurant  \\\n",
       "0  Barcelona_Catalonia  https://www.tripadvisor.com/Restaurant_Review-...   \n",
       "1  Barcelona_Catalonia  https://www.tripadvisor.com/Restaurant_Review-...   \n",
       "2  Barcelona_Catalonia  https://www.tripadvisor.com/Restaurant_Review-...   \n",
       "3  Barcelona_Catalonia  https://www.tripadvisor.com/Restaurant_Review-...   \n",
       "4  Barcelona_Catalonia  https://www.tripadvisor.com/Restaurant_Review-...   \n",
       "\n",
       "   author_id  \n",
       "0          0  \n",
       "1          1  \n",
       "2          2  \n",
       "3          3  \n",
       "4          4  "
      ]
     },
     "execution_count": 113,
     "metadata": {},
     "output_type": "execute_result"
    }
   ],
   "source": [
    "data.head()"
   ]
  },
  {
   "cell_type": "markdown",
   "id": "67a91405",
   "metadata": {},
   "source": [
    "Now the full dataframe fits my screen and every column has the best possible dtype."
   ]
  },
  {
   "cell_type": "code",
   "execution_count": 114,
   "id": "3a839188",
   "metadata": {},
   "outputs": [
    {
     "name": "stdout",
     "output_type": "stream",
     "text": [
      "<class 'pandas.core.frame.DataFrame'>\n",
      "Index: 416354 entries, 0 to 416355\n",
      "Data columns (total 10 columns):\n",
      " #   Column          Non-Null Count   Dtype         \n",
      "---  ------          --------------   -----         \n",
      " 0   restaurant      416354 non-null  object        \n",
      " 1   rating          416354 non-null  int32         \n",
      " 2   bias            416354 non-null  bool          \n",
      " 3   title           416354 non-null  object        \n",
      " 4   preview         416354 non-null  object        \n",
      " 5   full            416354 non-null  object        \n",
      " 6   date            416354 non-null  datetime64[ns]\n",
      " 7   city            416354 non-null  object        \n",
      " 8   url_restaurant  416354 non-null  object        \n",
      " 9   author_id       416354 non-null  int32         \n",
      "dtypes: bool(1), datetime64[ns](1), int32(2), object(6)\n",
      "memory usage: 29.0+ MB\n"
     ]
    }
   ],
   "source": [
    "data.info()"
   ]
  },
  {
   "cell_type": "markdown",
   "id": "5065bbbb",
   "metadata": {},
   "source": [
    "### 1.1 - Select equal number of reviews for all possible ratings (1 to 5).\n",
    "\n",
    "2 is the least frequently given rating with 18178 entries. I will select 18178 random reviews for each rating. "
   ]
  },
  {
   "cell_type": "code",
   "execution_count": 115,
   "id": "49b7458e",
   "metadata": {},
   "outputs": [
    {
     "data": {
      "text/plain": [
       "rating\n",
       "5    241976\n",
       "4     96802\n",
       "3     33148\n",
       "1     26250\n",
       "2     18178\n",
       "Name: count, dtype: int64"
      ]
     },
     "execution_count": 115,
     "metadata": {},
     "output_type": "execute_result"
    }
   ],
   "source": [
    "data.rating.value_counts()"
   ]
  },
  {
   "cell_type": "code",
   "execution_count": 116,
   "id": "e286d12f",
   "metadata": {},
   "outputs": [
    {
     "name": "stderr",
     "output_type": "stream",
     "text": [
      "C:\\Users\\kevin\\AppData\\Local\\Temp\\ipykernel_11500\\3631636527.py:2: DeprecationWarning: DataFrameGroupBy.apply operated on the grouping columns. This behavior is deprecated, and in a future version of pandas the grouping columns will be excluded from the operation. Either pass `include_groups=False` to exclude the groupings or explicitly select the grouping columns after groupby to silence this warning.\n",
      "  data = data.groupby('rating').apply(lambda x: x.sample(n=samples))\n"
     ]
    },
    {
     "data": {
      "text/plain": [
       "rating\n",
       "1    18178\n",
       "2    18178\n",
       "3    18178\n",
       "4    18178\n",
       "5    18178\n",
       "Name: count, dtype: int64"
      ]
     },
     "execution_count": 116,
     "metadata": {},
     "output_type": "execute_result"
    }
   ],
   "source": [
    "samples = data.rating.value_counts().min()\n",
    "data = data.groupby('rating').apply(lambda x: x.sample(n=samples))\n",
    "data.rating.value_counts()"
   ]
  },
  {
   "cell_type": "markdown",
   "id": "a6448a43",
   "metadata": {},
   "source": [
    "### 1.2 - Use suitable Python libraries to detect the language for every restaurant review, for instance `langdetect`."
   ]
  },
  {
   "cell_type": "markdown",
   "id": "ff0beea9",
   "metadata": {},
   "source": [
    "I will create a new column _language_ and fill it with the detected language of the review. I will use the _preview_ of the review to detect the language, because it is processed faster than the whole review and has a sufficient amount of words to detect the language. I will also enable tqdm for the pandas.apply() function (and use progress_apply() instead), so that I can see the progress."
   ]
  },
  {
   "cell_type": "code",
   "execution_count": 117,
   "id": "bed4b293",
   "metadata": {},
   "outputs": [],
   "source": [
    "from langdetect import detect\n",
    "from tqdm.auto import tqdm\n",
    "\n",
    "tqdm.pandas()"
   ]
  },
  {
   "cell_type": "code",
   "execution_count": 118,
   "id": "956437af",
   "metadata": {},
   "outputs": [
    {
     "name": "stdout",
     "output_type": "stream",
     "text": [
      "Loaded detected languages from ..\\..\\Datasets\\Tripadvisor\\Barcelona_reviews_cleaned.csv\n"
     ]
    },
    {
     "data": {
      "text/html": [
       "<div>\n",
       "<style scoped>\n",
       "    .dataframe tbody tr th:only-of-type {\n",
       "        vertical-align: middle;\n",
       "    }\n",
       "\n",
       "    .dataframe tbody tr th {\n",
       "        vertical-align: top;\n",
       "    }\n",
       "\n",
       "    .dataframe thead th {\n",
       "        text-align: right;\n",
       "    }\n",
       "</style>\n",
       "<table border=\"1\" class=\"dataframe\">\n",
       "  <thead>\n",
       "    <tr style=\"text-align: right;\">\n",
       "      <th></th>\n",
       "      <th>restaurant</th>\n",
       "      <th>rating</th>\n",
       "      <th>bias</th>\n",
       "      <th>title</th>\n",
       "      <th>preview</th>\n",
       "      <th>full</th>\n",
       "      <th>date</th>\n",
       "      <th>city</th>\n",
       "      <th>url_restaurant</th>\n",
       "      <th>author_id</th>\n",
       "      <th>language</th>\n",
       "    </tr>\n",
       "  </thead>\n",
       "  <tbody>\n",
       "    <tr>\n",
       "      <th>0</th>\n",
       "      <td>Nineteen_Restaurant</td>\n",
       "      <td>1</td>\n",
       "      <td>False</td>\n",
       "      <td>4.50€ For a glass of sparkling water</td>\n",
       "      <td>Being from Barcelona, stop a minute to wait fo...</td>\n",
       "      <td>Being from Barcelona, stop a minute to wait fo...</td>\n",
       "      <td>2016-07-24</td>\n",
       "      <td>Barcelona_Catalonia</td>\n",
       "      <td>https://www.tripadvisor.com/Restaurant_Review-...</td>\n",
       "      <td>54770</td>\n",
       "      <td>en</td>\n",
       "    </tr>\n",
       "    <tr>\n",
       "      <th>1</th>\n",
       "      <td>El_Pi_Antic</td>\n",
       "      <td>1</td>\n",
       "      <td>False</td>\n",
       "      <td>Avoid - poor quality and overpriced</td>\n",
       "      <td>Stumbled upon this place after a long days wor...</td>\n",
       "      <td>Stumbled upon this place after a long days wor...</td>\n",
       "      <td>2015-06-09</td>\n",
       "      <td>Barcelona_Catalonia</td>\n",
       "      <td>https://www.tripadvisor.com/Restaurant_Review-...</td>\n",
       "      <td>217874</td>\n",
       "      <td>en</td>\n",
       "    </tr>\n",
       "    <tr>\n",
       "      <th>2</th>\n",
       "      <td>Restaurant_El_Beso_y_La_Lluna</td>\n",
       "      <td>1</td>\n",
       "      <td>False</td>\n",
       "      <td>One of the worst.</td>\n",
       "      <td>Sometimes a restaurant experience is so bad yo...</td>\n",
       "      <td>Sometimes a restaurant experience is so bad yo...</td>\n",
       "      <td>2017-07-23</td>\n",
       "      <td>Barcelona_Catalonia</td>\n",
       "      <td>https://www.tripadvisor.com/Restaurant_Review-...</td>\n",
       "      <td>197546</td>\n",
       "      <td>en</td>\n",
       "    </tr>\n",
       "    <tr>\n",
       "      <th>3</th>\n",
       "      <td>Casa_Guinart</td>\n",
       "      <td>1</td>\n",
       "      <td>False</td>\n",
       "      <td>not so good tapas</td>\n",
       "      <td>I am sorry to say but hit restaurant was very ...</td>\n",
       "      <td>I am sorry to say but hit restaurant was very ...</td>\n",
       "      <td>2019-05-28</td>\n",
       "      <td>Barcelona_Catalonia</td>\n",
       "      <td>https://www.tripadvisor.com/Restaurant_Review-...</td>\n",
       "      <td>166297</td>\n",
       "      <td>en</td>\n",
       "    </tr>\n",
       "    <tr>\n",
       "      <th>4</th>\n",
       "      <td>Bravo</td>\n",
       "      <td>1</td>\n",
       "      <td>False</td>\n",
       "      <td>Overpriced trap!!</td>\n",
       "      <td>Was at Bravo during Mobile World Congress, I h...</td>\n",
       "      <td>Was at Bravo during Mobile World Congress, I h...</td>\n",
       "      <td>2016-03-02</td>\n",
       "      <td>Barcelona_Catalonia</td>\n",
       "      <td>https://www.tripadvisor.com/Restaurant_Review-...</td>\n",
       "      <td>182238</td>\n",
       "      <td>en</td>\n",
       "    </tr>\n",
       "  </tbody>\n",
       "</table>\n",
       "</div>"
      ],
      "text/plain": [
       "                      restaurant  rating   bias  \\\n",
       "0            Nineteen_Restaurant       1  False   \n",
       "1                    El_Pi_Antic       1  False   \n",
       "2  Restaurant_El_Beso_y_La_Lluna       1  False   \n",
       "3                   Casa_Guinart       1  False   \n",
       "4                          Bravo       1  False   \n",
       "\n",
       "                                   title  \\\n",
       "0  4.50€ For a glass of sparkling water    \n",
       "1   Avoid - poor quality and overpriced    \n",
       "2                     One of the worst.    \n",
       "3                      not so good tapas   \n",
       "4                      Overpriced trap!!   \n",
       "\n",
       "                                             preview  \\\n",
       "0  Being from Barcelona, stop a minute to wait fo...   \n",
       "1  Stumbled upon this place after a long days wor...   \n",
       "2  Sometimes a restaurant experience is so bad yo...   \n",
       "3  I am sorry to say but hit restaurant was very ...   \n",
       "4  Was at Bravo during Mobile World Congress, I h...   \n",
       "\n",
       "                                                full        date  \\\n",
       "0  Being from Barcelona, stop a minute to wait fo...  2016-07-24   \n",
       "1  Stumbled upon this place after a long days wor...  2015-06-09   \n",
       "2  Sometimes a restaurant experience is so bad yo...  2017-07-23   \n",
       "3  I am sorry to say but hit restaurant was very ...  2019-05-28   \n",
       "4  Was at Bravo during Mobile World Congress, I h...  2016-03-02   \n",
       "\n",
       "                  city                                     url_restaurant  \\\n",
       "0  Barcelona_Catalonia  https://www.tripadvisor.com/Restaurant_Review-...   \n",
       "1  Barcelona_Catalonia  https://www.tripadvisor.com/Restaurant_Review-...   \n",
       "2  Barcelona_Catalonia  https://www.tripadvisor.com/Restaurant_Review-...   \n",
       "3  Barcelona_Catalonia  https://www.tripadvisor.com/Restaurant_Review-...   \n",
       "4  Barcelona_Catalonia  https://www.tripadvisor.com/Restaurant_Review-...   \n",
       "\n",
       "   author_id language  \n",
       "0      54770       en  \n",
       "1     217874       en  \n",
       "2     197546       en  \n",
       "3     166297       en  \n",
       "4     182238       en  "
      ]
     },
     "execution_count": 118,
     "metadata": {},
     "output_type": "execute_result"
    }
   ],
   "source": [
    "filepath = os.path.join(path, \"Barcelona_reviews_cleaned.csv\")\n",
    "\n",
    "try:\n",
    "    data = pd.read_csv(filepath)\n",
    "    print(f\"Loaded detected languages from {filepath}\")\n",
    "except:\n",
    "    print(f\"Found no data at {filepath}. Detecting Languages:\")\n",
    "\n",
    "    data[\"language\"] = data.preview.progress_apply(detect)\n",
    "    data.to_csv(filepath, index=False)\n",
    "\n",
    "data.head()"
   ]
  },
  {
   "cell_type": "markdown",
   "id": "cca9d7fb",
   "metadata": {},
   "source": [
    "### 1.3 - Show a distribution of detected languages.\n",
    "\n",
    "Pie plots are well suited to show the distribution of categorical data."
   ]
  },
  {
   "cell_type": "code",
   "execution_count": 119,
   "id": "2fa39f75",
   "metadata": {},
   "outputs": [
    {
     "data": {
      "text/plain": [
       "<Axes: ylabel='count'>"
      ]
     },
     "execution_count": 119,
     "metadata": {},
     "output_type": "execute_result"
    },
    {
     "data": {
      "image/png": "[encoded data removed]",
      "text/plain": [
       "<Figure size 640x480 with 1 Axes>"
      ]
     },
     "metadata": {},
     "output_type": "display_data"
    }
   ],
   "source": [
    "data.language.value_counts().plot(kind=\"pie\")"
   ]
  },
  {
   "cell_type": "markdown",
   "id": "13138da9",
   "metadata": {},
   "source": [
    "### 1.4 - Continue to work only with English entries."
   ]
  },
  {
   "cell_type": "code",
   "execution_count": 120,
   "id": "7aa86077",
   "metadata": {},
   "outputs": [],
   "source": [
    "english_mask = data.language == \"en\"\n",
    "data_cleaned = data[english_mask]"
   ]
  },
  {
   "cell_type": "markdown",
   "id": "ccb52eac",
   "metadata": {},
   "source": [
    "Our ratings were perfectly balanced because we selected the same amount of reviews for each rating in 1.1. After filtering out non-english reviews, the ratings are not perfectly balanced anymore, but as we can see in the pie plots, there were very few non-english reviews and the ratings are still very balanced."
   ]
  },
  {
   "cell_type": "code",
   "execution_count": 121,
   "id": "5902a7ea",
   "metadata": {},
   "outputs": [
    {
     "data": {
      "text/plain": [
       "<Axes: ylabel='count'>"
      ]
     },
     "execution_count": 121,
     "metadata": {},
     "output_type": "execute_result"
    },
    {
     "data": {
      "image/png": "[encoded data removed]",
      "text/plain": [
       "<Figure size 640x480 with 1 Axes>"
      ]
     },
     "metadata": {},
     "output_type": "display_data"
    }
   ],
   "source": [
    "data_cleaned.rating.value_counts().plot(kind=\"pie\")"
   ]
  },
  {
   "cell_type": "markdown",
   "id": "88f4e03d",
   "metadata": {},
   "source": [
    "## 2. TF-IDF + Logistic Regression vs Linear Regression"
   ]
  },
  {
   "cell_type": "markdown",
   "id": "ea8a399c",
   "metadata": {},
   "source": [
    "### 2.1 - Use the `TfidfVectorizer` to create vectors of all remaining reviews."
   ]
  },
  {
   "cell_type": "code",
   "execution_count": 122,
   "id": "05cf9580",
   "metadata": {},
   "outputs": [],
   "source": [
    "from sklearn.model_selection import train_test_split\n",
    "\n",
    "X_train, X_test, y_train, y_test = train_test_split(data_cleaned.full, data_cleaned.rating, test_size=0.2, random_state=42)"
   ]
  },
  {
   "cell_type": "code",
   "execution_count": 123,
   "id": "275f4f18",
   "metadata": {},
   "outputs": [],
   "source": [
    "vectorizer = TfidfVectorizer(min_df=10, max_df=0.25)\n",
    "vectors_train = vectorizer.fit_transform(X_train)"
   ]
  },
  {
   "cell_type": "markdown",
   "id": "0a87fa09",
   "metadata": {},
   "source": [
    "### 2.2 - Train a Logistic Regression model on the 5 rating classes\n",
    "\n",
    "The rating is done on an ordinal scale from 1 to 5. "
   ]
  },
  {
   "cell_type": "code",
   "execution_count": 124,
   "id": "d92cfa71-5b0e-45a4-a7cf-37cbde7e05d8",
   "metadata": {},
   "outputs": [
    {
     "data": {
      "text/html": [
       "<style>#sk-container-id-3 {\n",
       "  /* Definition of color scheme common for light and dark mode */\n",
       "  --sklearn-color-text: black;\n",
       "  --sklearn-color-line: gray;\n",
       "  /* Definition of color scheme for unfitted estimators */\n",
       "  --sklearn-color-unfitted-level-0: #fff5e6;\n",
       "  --sklearn-color-unfitted-level-1: #f6e4d2;\n",
       "  --sklearn-color-unfitted-level-2: #ffe0b3;\n",
       "  --sklearn-color-unfitted-level-3: chocolate;\n",
       "  /* Definition of color scheme for fitted estimators */\n",
       "  --sklearn-color-fitted-level-0: #f0f8ff;\n",
       "  --sklearn-color-fitted-level-1: #d4ebff;\n",
       "  --sklearn-color-fitted-level-2: #b3dbfd;\n",
       "  --sklearn-color-fitted-level-3: cornflowerblue;\n",
       "\n",
       "  /* Specific color for light theme */\n",
       "  --sklearn-color-text-on-default-background: var(--sg-text-color, var(--theme-code-foreground, var(--jp-content-font-color1, black)));\n",
       "  --sklearn-color-background: var(--sg-background-color, var(--theme-background, var(--jp-layout-color0, white)));\n",
       "  --sklearn-color-border-box: var(--sg-text-color, var(--theme-code-foreground, var(--jp-content-font-color1, black)));\n",
       "  --sklearn-color-icon: #696969;\n",
       "\n",
       "  @media (prefers-color-scheme: dark) {\n",
       "    /* Redefinition of color scheme for dark theme */\n",
       "    --sklearn-color-text-on-default-background: var(--sg-text-color, var(--theme-code-foreground, var(--jp-content-font-color1, white)));\n",
       "    --sklearn-color-background: var(--sg-background-color, var(--theme-background, var(--jp-layout-color0, #111)));\n",
       "    --sklearn-color-border-box: var(--sg-text-color, var(--theme-code-foreground, var(--jp-content-font-color1, white)));\n",
       "    --sklearn-color-icon: #878787;\n",
       "  }\n",
       "}\n",
       "\n",
       "#sk-container-id-3 {\n",
       "  color: var(--sklearn-color-text);\n",
       "}\n",
       "\n",
       "#sk-container-id-3 pre {\n",
       "  padding: 0;\n",
       "}\n",
       "\n",
       "#sk-container-id-3 input.sk-hidden--visually {\n",
       "  border: 0;\n",
       "  clip: rect(1px 1px 1px 1px);\n",
       "  clip: rect(1px, 1px, 1px, 1px);\n",
       "  height: 1px;\n",
       "  margin: -1px;\n",
       "  overflow: hidden;\n",
       "  padding: 0;\n",
       "  position: absolute;\n",
       "  width: 1px;\n",
       "}\n",
       "\n",
       "#sk-container-id-3 div.sk-dashed-wrapped {\n",
       "  border: 1px dashed var(--sklearn-color-line);\n",
       "  margin: 0 0.4em 0.5em 0.4em;\n",
       "  box-sizing: border-box;\n",
       "  padding-bottom: 0.4em;\n",
       "  background-color: var(--sklearn-color-background);\n",
       "}\n",
       "\n",
       "#sk-container-id-3 div.sk-container {\n",
       "  /* jupyter's `normalize.less` sets `[hidden] { display: none; }`\n",
       "     but bootstrap.min.css set `[hidden] { display: none !important; }`\n",
       "     so we also need the `!important` here to be able to override the\n",
       "     default hidden behavior on the sphinx rendered scikit-learn.org.\n",
       "     See: https://github.com/scikit-learn/scikit-learn/issues/21755 */\n",
       "  display: inline-block !important;\n",
       "  position: relative;\n",
       "}\n",
       "\n",
       "#sk-container-id-3 div.sk-text-repr-fallback {\n",
       "  display: none;\n",
       "}\n",
       "\n",
       "div.sk-parallel-item,\n",
       "div.sk-serial,\n",
       "div.sk-item {\n",
       "  /* draw centered vertical line to link estimators */\n",
       "  background-image: linear-gradient(var(--sklearn-color-text-on-default-background), var(--sklearn-color-text-on-default-background));\n",
       "  background-size: 2px 100%;\n",
       "  background-repeat: no-repeat;\n",
       "  background-position: center center;\n",
       "}\n",
       "\n",
       "/* Parallel-specific style estimator block */\n",
       "\n",
       "#sk-container-id-3 div.sk-parallel-item::after {\n",
       "  content: \"\";\n",
       "  width: 100%;\n",
       "  border-bottom: 2px solid var(--sklearn-color-text-on-default-background);\n",
       "  flex-grow: 1;\n",
       "}\n",
       "\n",
       "#sk-container-id-3 div.sk-parallel {\n",
       "  display: flex;\n",
       "  align-items: stretch;\n",
       "  justify-content: center;\n",
       "  background-color: var(--sklearn-color-background);\n",
       "  position: relative;\n",
       "}\n",
       "\n",
       "#sk-container-id-3 div.sk-parallel-item {\n",
       "  display: flex;\n",
       "  flex-direction: column;\n",
       "}\n",
       "\n",
       "#sk-container-id-3 div.sk-parallel-item:first-child::after {\n",
       "  align-self: flex-end;\n",
       "  width: 50%;\n",
       "}\n",
       "\n",
       "#sk-container-id-3 div.sk-parallel-item:last-child::after {\n",
       "  align-self: flex-start;\n",
       "  width: 50%;\n",
       "}\n",
       "\n",
       "#sk-container-id-3 div.sk-parallel-item:only-child::after {\n",
       "  width: 0;\n",
       "}\n",
       "\n",
       "/* Serial-specific style estimator block */\n",
       "\n",
       "#sk-container-id-3 div.sk-serial {\n",
       "  display: flex;\n",
       "  flex-direction: column;\n",
       "  align-items: center;\n",
       "  background-color: var(--sklearn-color-background);\n",
       "  padding-right: 1em;\n",
       "  padding-left: 1em;\n",
       "}\n",
       "\n",
       "\n",
       "/* Toggleable style: style used for estimator/Pipeline/ColumnTransformer box that is\n",
       "clickable and can be expanded/collapsed.\n",
       "- Pipeline and ColumnTransformer use this feature and define the default style\n",
       "- Estimators will overwrite some part of the style using the `sk-estimator` class\n",
       "*/\n",
       "\n",
       "/* Pipeline and ColumnTransformer style (default) */\n",
       "\n",
       "#sk-container-id-3 div.sk-toggleable {\n",
       "  /* Default theme specific background. It is overwritten whether we have a\n",
       "  specific estimator or a Pipeline/ColumnTransformer */\n",
       "  background-color: var(--sklearn-color-background);\n",
       "}\n",
       "\n",
       "/* Toggleable label */\n",
       "#sk-container-id-3 label.sk-toggleable__label {\n",
       "  cursor: pointer;\n",
       "  display: block;\n",
       "  width: 100%;\n",
       "  margin-bottom: 0;\n",
       "  padding: 0.5em;\n",
       "  box-sizing: border-box;\n",
       "  text-align: center;\n",
       "}\n",
       "\n",
       "#sk-container-id-3 label.sk-toggleable__label-arrow:before {\n",
       "  /* Arrow on the left of the label */\n",
       "  content: \"▸\";\n",
       "  float: left;\n",
       "  margin-right: 0.25em;\n",
       "  color: var(--sklearn-color-icon);\n",
       "}\n",
       "\n",
       "#sk-container-id-3 label.sk-toggleable__label-arrow:hover:before {\n",
       "  color: var(--sklearn-color-text);\n",
       "}\n",
       "\n",
       "/* Toggleable content - dropdown */\n",
       "\n",
       "#sk-container-id-3 div.sk-toggleable__content {\n",
       "  max-height: 0;\n",
       "  max-width: 0;\n",
       "  overflow: hidden;\n",
       "  text-align: left;\n",
       "  /* unfitted */\n",
       "  background-color: var(--sklearn-color-unfitted-level-0);\n",
       "}\n",
       "\n",
       "#sk-container-id-3 div.sk-toggleable__content.fitted {\n",
       "  /* fitted */\n",
       "  background-color: var(--sklearn-color-fitted-level-0);\n",
       "}\n",
       "\n",
       "#sk-container-id-3 div.sk-toggleable__content pre {\n",
       "  margin: 0.2em;\n",
       "  border-radius: 0.25em;\n",
       "  color: var(--sklearn-color-text);\n",
       "  /* unfitted */\n",
       "  background-color: var(--sklearn-color-unfitted-level-0);\n",
       "}\n",
       "\n",
       "#sk-container-id-3 div.sk-toggleable__content.fitted pre {\n",
       "  /* unfitted */\n",
       "  background-color: var(--sklearn-color-fitted-level-0);\n",
       "}\n",
       "\n",
       "#sk-container-id-3 input.sk-toggleable__control:checked~div.sk-toggleable__content {\n",
       "  /* Expand drop-down */\n",
       "  max-height: 200px;\n",
       "  max-width: 100%;\n",
       "  overflow: auto;\n",
       "}\n",
       "\n",
       "#sk-container-id-3 input.sk-toggleable__control:checked~label.sk-toggleable__label-arrow:before {\n",
       "  content: \"▾\";\n",
       "}\n",
       "\n",
       "/* Pipeline/ColumnTransformer-specific style */\n",
       "\n",
       "#sk-container-id-3 div.sk-label input.sk-toggleable__control:checked~label.sk-toggleable__label {\n",
       "  color: var(--sklearn-color-text);\n",
       "  background-color: var(--sklearn-color-unfitted-level-2);\n",
       "}\n",
       "\n",
       "#sk-container-id-3 div.sk-label.fitted input.sk-toggleable__control:checked~label.sk-toggleable__label {\n",
       "  background-color: var(--sklearn-color-fitted-level-2);\n",
       "}\n",
       "\n",
       "/* Estimator-specific style */\n",
       "\n",
       "/* Colorize estimator box */\n",
       "#sk-container-id-3 div.sk-estimator input.sk-toggleable__control:checked~label.sk-toggleable__label {\n",
       "  /* unfitted */\n",
       "  background-color: var(--sklearn-color-unfitted-level-2);\n",
       "}\n",
       "\n",
       "#sk-container-id-3 div.sk-estimator.fitted input.sk-toggleable__control:checked~label.sk-toggleable__label {\n",
       "  /* fitted */\n",
       "  background-color: var(--sklearn-color-fitted-level-2);\n",
       "}\n",
       "\n",
       "#sk-container-id-3 div.sk-label label.sk-toggleable__label,\n",
       "#sk-container-id-3 div.sk-label label {\n",
       "  /* The background is the default theme color */\n",
       "  color: var(--sklearn-color-text-on-default-background);\n",
       "}\n",
       "\n",
       "/* On hover, darken the color of the background */\n",
       "#sk-container-id-3 div.sk-label:hover label.sk-toggleable__label {\n",
       "  color: var(--sklearn-color-text);\n",
       "  background-color: var(--sklearn-color-unfitted-level-2);\n",
       "}\n",
       "\n",
       "/* Label box, darken color on hover, fitted */\n",
       "#sk-container-id-3 div.sk-label.fitted:hover label.sk-toggleable__label.fitted {\n",
       "  color: var(--sklearn-color-text);\n",
       "  background-color: var(--sklearn-color-fitted-level-2);\n",
       "}\n",
       "\n",
       "/* Estimator label */\n",
       "\n",
       "#sk-container-id-3 div.sk-label label {\n",
       "  font-family: monospace;\n",
       "  font-weight: bold;\n",
       "  display: inline-block;\n",
       "  line-height: 1.2em;\n",
       "}\n",
       "\n",
       "#sk-container-id-3 div.sk-label-container {\n",
       "  text-align: center;\n",
       "}\n",
       "\n",
       "/* Estimator-specific */\n",
       "#sk-container-id-3 div.sk-estimator {\n",
       "  font-family: monospace;\n",
       "  border: 1px dotted var(--sklearn-color-border-box);\n",
       "  border-radius: 0.25em;\n",
       "  box-sizing: border-box;\n",
       "  margin-bottom: 0.5em;\n",
       "  /* unfitted */\n",
       "  background-color: var(--sklearn-color-unfitted-level-0);\n",
       "}\n",
       "\n",
       "#sk-container-id-3 div.sk-estimator.fitted {\n",
       "  /* fitted */\n",
       "  background-color: var(--sklearn-color-fitted-level-0);\n",
       "}\n",
       "\n",
       "/* on hover */\n",
       "#sk-container-id-3 div.sk-estimator:hover {\n",
       "  /* unfitted */\n",
       "  background-color: var(--sklearn-color-unfitted-level-2);\n",
       "}\n",
       "\n",
       "#sk-container-id-3 div.sk-estimator.fitted:hover {\n",
       "  /* fitted */\n",
       "  background-color: var(--sklearn-color-fitted-level-2);\n",
       "}\n",
       "\n",
       "/* Specification for estimator info (e.g. \"i\" and \"?\") */\n",
       "\n",
       "/* Common style for \"i\" and \"?\" */\n",
       "\n",
       ".sk-estimator-doc-link,\n",
       "a:link.sk-estimator-doc-link,\n",
       "a:visited.sk-estimator-doc-link {\n",
       "  float: right;\n",
       "  font-size: smaller;\n",
       "  line-height: 1em;\n",
       "  font-family: monospace;\n",
       "  background-color: var(--sklearn-color-background);\n",
       "  border-radius: 1em;\n",
       "  height: 1em;\n",
       "  width: 1em;\n",
       "  text-decoration: none !important;\n",
       "  margin-left: 1ex;\n",
       "  /* unfitted */\n",
       "  border: var(--sklearn-color-unfitted-level-1) 1pt solid;\n",
       "  color: var(--sklearn-color-unfitted-level-1);\n",
       "}\n",
       "\n",
       ".sk-estimator-doc-link.fitted,\n",
       "a:link.sk-estimator-doc-link.fitted,\n",
       "a:visited.sk-estimator-doc-link.fitted {\n",
       "  /* fitted */\n",
       "  border: var(--sklearn-color-fitted-level-1) 1pt solid;\n",
       "  color: var(--sklearn-color-fitted-level-1);\n",
       "}\n",
       "\n",
       "/* On hover */\n",
       "div.sk-estimator:hover .sk-estimator-doc-link:hover,\n",
       ".sk-estimator-doc-link:hover,\n",
       "div.sk-label-container:hover .sk-estimator-doc-link:hover,\n",
       ".sk-estimator-doc-link:hover {\n",
       "  /* unfitted */\n",
       "  background-color: var(--sklearn-color-unfitted-level-3);\n",
       "  color: var(--sklearn-color-background);\n",
       "  text-decoration: none;\n",
       "}\n",
       "\n",
       "div.sk-estimator.fitted:hover .sk-estimator-doc-link.fitted:hover,\n",
       ".sk-estimator-doc-link.fitted:hover,\n",
       "div.sk-label-container:hover .sk-estimator-doc-link.fitted:hover,\n",
       ".sk-estimator-doc-link.fitted:hover {\n",
       "  /* fitted */\n",
       "  background-color: var(--sklearn-color-fitted-level-3);\n",
       "  color: var(--sklearn-color-background);\n",
       "  text-decoration: none;\n",
       "}\n",
       "\n",
       "/* Span, style for the box shown on hovering the info icon */\n",
       ".sk-estimator-doc-link span {\n",
       "  display: none;\n",
       "  z-index: 9999;\n",
       "  position: relative;\n",
       "  font-weight: normal;\n",
       "  right: .2ex;\n",
       "  padding: .5ex;\n",
       "  margin: .5ex;\n",
       "  width: min-content;\n",
       "  min-width: 20ex;\n",
       "  max-width: 50ex;\n",
       "  color: var(--sklearn-color-text);\n",
       "  box-shadow: 2pt 2pt 4pt #999;\n",
       "  /* unfitted */\n",
       "  background: var(--sklearn-color-unfitted-level-0);\n",
       "  border: .5pt solid var(--sklearn-color-unfitted-level-3);\n",
       "}\n",
       "\n",
       ".sk-estimator-doc-link.fitted span {\n",
       "  /* fitted */\n",
       "  background: var(--sklearn-color-fitted-level-0);\n",
       "  border: var(--sklearn-color-fitted-level-3);\n",
       "}\n",
       "\n",
       ".sk-estimator-doc-link:hover span {\n",
       "  display: block;\n",
       "}\n",
       "\n",
       "/* \"?\"-specific style due to the `<a>` HTML tag */\n",
       "\n",
       "#sk-container-id-3 a.estimator_doc_link {\n",
       "  float: right;\n",
       "  font-size: 1rem;\n",
       "  line-height: 1em;\n",
       "  font-family: monospace;\n",
       "  background-color: var(--sklearn-color-background);\n",
       "  border-radius: 1rem;\n",
       "  height: 1rem;\n",
       "  width: 1rem;\n",
       "  text-decoration: none;\n",
       "  /* unfitted */\n",
       "  color: var(--sklearn-color-unfitted-level-1);\n",
       "  border: var(--sklearn-color-unfitted-level-1) 1pt solid;\n",
       "}\n",
       "\n",
       "#sk-container-id-3 a.estimator_doc_link.fitted {\n",
       "  /* fitted */\n",
       "  border: var(--sklearn-color-fitted-level-1) 1pt solid;\n",
       "  color: var(--sklearn-color-fitted-level-1);\n",
       "}\n",
       "\n",
       "/* On hover */\n",
       "#sk-container-id-3 a.estimator_doc_link:hover {\n",
       "  /* unfitted */\n",
       "  background-color: var(--sklearn-color-unfitted-level-3);\n",
       "  color: var(--sklearn-color-background);\n",
       "  text-decoration: none;\n",
       "}\n",
       "\n",
       "#sk-container-id-3 a.estimator_doc_link.fitted:hover {\n",
       "  /* fitted */\n",
       "  background-color: var(--sklearn-color-fitted-level-3);\n",
       "}\n",
       "</style><div id=\"sk-container-id-3\" class=\"sk-top-container\"><div class=\"sk-text-repr-fallback\"><pre>LogisticRegression(max_iter=1000)</pre><b>In a Jupyter environment, please rerun this cell to show the HTML representation or trust the notebook. <br />On GitHub, the HTML representation is unable to render, please try loading this page with nbviewer.org.</b></div><div class=\"sk-container\" hidden><div class=\"sk-item\"><div class=\"sk-estimator fitted sk-toggleable\"><input class=\"sk-toggleable__control sk-hidden--visually\" id=\"sk-estimator-id-3\" type=\"checkbox\" checked><label for=\"sk-estimator-id-3\" class=\"sk-toggleable__label fitted sk-toggleable__label-arrow fitted\">&nbsp;&nbsp;LogisticRegression<a class=\"sk-estimator-doc-link fitted\" rel=\"noreferrer\" target=\"_blank\" href=\"https://scikit-learn.org/1.5/modules/generated/sklearn.linear_model.LogisticRegression.html\">?<span>Documentation for LogisticRegression</span></a><span class=\"sk-estimator-doc-link fitted\">i<span>Fitted</span></span></label><div class=\"sk-toggleable__content fitted\"><pre>LogisticRegression(max_iter=1000)</pre></div> </div></div></div></div>"
      ],
      "text/plain": [
       "LogisticRegression(max_iter=1000)"
      ]
     },
     "execution_count": 124,
     "metadata": {},
     "output_type": "execute_result"
    }
   ],
   "source": [
    "# Train a Logistic Regression model on the 5 rating classes\n",
    "from sklearn.linear_model import LogisticRegression\n",
    "from sklearn.model_selection import train_test_split\n",
    "\n",
    "logistic_regression = LogisticRegression(max_iter=1000)\n",
    "logistic_regression.fit(vectors_train, y_train)"
   ]
  },
  {
   "cell_type": "markdown",
   "id": "14ff829f",
   "metadata": {},
   "source": [
    "### 2.3 - Train a Linear Regression model on the rating (1 to 5)."
   ]
  },
  {
   "cell_type": "code",
   "execution_count": 125,
   "id": "1508c938",
   "metadata": {},
   "outputs": [
    {
     "data": {
      "text/html": [
       "<style>#sk-container-id-4 {\n",
       "  /* Definition of color scheme common for light and dark mode */\n",
       "  --sklearn-color-text: black;\n",
       "  --sklearn-color-line: gray;\n",
       "  /* Definition of color scheme for unfitted estimators */\n",
       "  --sklearn-color-unfitted-level-0: #fff5e6;\n",
       "  --sklearn-color-unfitted-level-1: #f6e4d2;\n",
       "  --sklearn-color-unfitted-level-2: #ffe0b3;\n",
       "  --sklearn-color-unfitted-level-3: chocolate;\n",
       "  /* Definition of color scheme for fitted estimators */\n",
       "  --sklearn-color-fitted-level-0: #f0f8ff;\n",
       "  --sklearn-color-fitted-level-1: #d4ebff;\n",
       "  --sklearn-color-fitted-level-2: #b3dbfd;\n",
       "  --sklearn-color-fitted-level-3: cornflowerblue;\n",
       "\n",
       "  /* Specific color for light theme */\n",
       "  --sklearn-color-text-on-default-background: var(--sg-text-color, var(--theme-code-foreground, var(--jp-content-font-color1, black)));\n",
       "  --sklearn-color-background: var(--sg-background-color, var(--theme-background, var(--jp-layout-color0, white)));\n",
       "  --sklearn-color-border-box: var(--sg-text-color, var(--theme-code-foreground, var(--jp-content-font-color1, black)));\n",
       "  --sklearn-color-icon: #696969;\n",
       "\n",
       "  @media (prefers-color-scheme: dark) {\n",
       "    /* Redefinition of color scheme for dark theme */\n",
       "    --sklearn-color-text-on-default-background: var(--sg-text-color, var(--theme-code-foreground, var(--jp-content-font-color1, white)));\n",
       "    --sklearn-color-background: var(--sg-background-color, var(--theme-background, var(--jp-layout-color0, #111)));\n",
       "    --sklearn-color-border-box: var(--sg-text-color, var(--theme-code-foreground, var(--jp-content-font-color1, white)));\n",
       "    --sklearn-color-icon: #878787;\n",
       "  }\n",
       "}\n",
       "\n",
       "#sk-container-id-4 {\n",
       "  color: var(--sklearn-color-text);\n",
       "}\n",
       "\n",
       "#sk-container-id-4 pre {\n",
       "  padding: 0;\n",
       "}\n",
       "\n",
       "#sk-container-id-4 input.sk-hidden--visually {\n",
       "  border: 0;\n",
       "  clip: rect(1px 1px 1px 1px);\n",
       "  clip: rect(1px, 1px, 1px, 1px);\n",
       "  height: 1px;\n",
       "  margin: -1px;\n",
       "  overflow: hidden;\n",
       "  padding: 0;\n",
       "  position: absolute;\n",
       "  width: 1px;\n",
       "}\n",
       "\n",
       "#sk-container-id-4 div.sk-dashed-wrapped {\n",
       "  border: 1px dashed var(--sklearn-color-line);\n",
       "  margin: 0 0.4em 0.5em 0.4em;\n",
       "  box-sizing: border-box;\n",
       "  padding-bottom: 0.4em;\n",
       "  background-color: var(--sklearn-color-background);\n",
       "}\n",
       "\n",
       "#sk-container-id-4 div.sk-container {\n",
       "  /* jupyter's `normalize.less` sets `[hidden] { display: none; }`\n",
       "     but bootstrap.min.css set `[hidden] { display: none !important; }`\n",
       "     so we also need the `!important` here to be able to override the\n",
       "     default hidden behavior on the sphinx rendered scikit-learn.org.\n",
       "     See: https://github.com/scikit-learn/scikit-learn/issues/21755 */\n",
       "  display: inline-block !important;\n",
       "  position: relative;\n",
       "}\n",
       "\n",
       "#sk-container-id-4 div.sk-text-repr-fallback {\n",
       "  display: none;\n",
       "}\n",
       "\n",
       "div.sk-parallel-item,\n",
       "div.sk-serial,\n",
       "div.sk-item {\n",
       "  /* draw centered vertical line to link estimators */\n",
       "  background-image: linear-gradient(var(--sklearn-color-text-on-default-background), var(--sklearn-color-text-on-default-background));\n",
       "  background-size: 2px 100%;\n",
       "  background-repeat: no-repeat;\n",
       "  background-position: center center;\n",
       "}\n",
       "\n",
       "/* Parallel-specific style estimator block */\n",
       "\n",
       "#sk-container-id-4 div.sk-parallel-item::after {\n",
       "  content: \"\";\n",
       "  width: 100%;\n",
       "  border-bottom: 2px solid var(--sklearn-color-text-on-default-background);\n",
       "  flex-grow: 1;\n",
       "}\n",
       "\n",
       "#sk-container-id-4 div.sk-parallel {\n",
       "  display: flex;\n",
       "  align-items: stretch;\n",
       "  justify-content: center;\n",
       "  background-color: var(--sklearn-color-background);\n",
       "  position: relative;\n",
       "}\n",
       "\n",
       "#sk-container-id-4 div.sk-parallel-item {\n",
       "  display: flex;\n",
       "  flex-direction: column;\n",
       "}\n",
       "\n",
       "#sk-container-id-4 div.sk-parallel-item:first-child::after {\n",
       "  align-self: flex-end;\n",
       "  width: 50%;\n",
       "}\n",
       "\n",
       "#sk-container-id-4 div.sk-parallel-item:last-child::after {\n",
       "  align-self: flex-start;\n",
       "  width: 50%;\n",
       "}\n",
       "\n",
       "#sk-container-id-4 div.sk-parallel-item:only-child::after {\n",
       "  width: 0;\n",
       "}\n",
       "\n",
       "/* Serial-specific style estimator block */\n",
       "\n",
       "#sk-container-id-4 div.sk-serial {\n",
       "  display: flex;\n",
       "  flex-direction: column;\n",
       "  align-items: center;\n",
       "  background-color: var(--sklearn-color-background);\n",
       "  padding-right: 1em;\n",
       "  padding-left: 1em;\n",
       "}\n",
       "\n",
       "\n",
       "/* Toggleable style: style used for estimator/Pipeline/ColumnTransformer box that is\n",
       "clickable and can be expanded/collapsed.\n",
       "- Pipeline and ColumnTransformer use this feature and define the default style\n",
       "- Estimators will overwrite some part of the style using the `sk-estimator` class\n",
       "*/\n",
       "\n",
       "/* Pipeline and ColumnTransformer style (default) */\n",
       "\n",
       "#sk-container-id-4 div.sk-toggleable {\n",
       "  /* Default theme specific background. It is overwritten whether we have a\n",
       "  specific estimator or a Pipeline/ColumnTransformer */\n",
       "  background-color: var(--sklearn-color-background);\n",
       "}\n",
       "\n",
       "/* Toggleable label */\n",
       "#sk-container-id-4 label.sk-toggleable__label {\n",
       "  cursor: pointer;\n",
       "  display: block;\n",
       "  width: 100%;\n",
       "  margin-bottom: 0;\n",
       "  padding: 0.5em;\n",
       "  box-sizing: border-box;\n",
       "  text-align: center;\n",
       "}\n",
       "\n",
       "#sk-container-id-4 label.sk-toggleable__label-arrow:before {\n",
       "  /* Arrow on the left of the label */\n",
       "  content: \"▸\";\n",
       "  float: left;\n",
       "  margin-right: 0.25em;\n",
       "  color: var(--sklearn-color-icon);\n",
       "}\n",
       "\n",
       "#sk-container-id-4 label.sk-toggleable__label-arrow:hover:before {\n",
       "  color: var(--sklearn-color-text);\n",
       "}\n",
       "\n",
       "/* Toggleable content - dropdown */\n",
       "\n",
       "#sk-container-id-4 div.sk-toggleable__content {\n",
       "  max-height: 0;\n",
       "  max-width: 0;\n",
       "  overflow: hidden;\n",
       "  text-align: left;\n",
       "  /* unfitted */\n",
       "  background-color: var(--sklearn-color-unfitted-level-0);\n",
       "}\n",
       "\n",
       "#sk-container-id-4 div.sk-toggleable__content.fitted {\n",
       "  /* fitted */\n",
       "  background-color: var(--sklearn-color-fitted-level-0);\n",
       "}\n",
       "\n",
       "#sk-container-id-4 div.sk-toggleable__content pre {\n",
       "  margin: 0.2em;\n",
       "  border-radius: 0.25em;\n",
       "  color: var(--sklearn-color-text);\n",
       "  /* unfitted */\n",
       "  background-color: var(--sklearn-color-unfitted-level-0);\n",
       "}\n",
       "\n",
       "#sk-container-id-4 div.sk-toggleable__content.fitted pre {\n",
       "  /* unfitted */\n",
       "  background-color: var(--sklearn-color-fitted-level-0);\n",
       "}\n",
       "\n",
       "#sk-container-id-4 input.sk-toggleable__control:checked~div.sk-toggleable__content {\n",
       "  /* Expand drop-down */\n",
       "  max-height: 200px;\n",
       "  max-width: 100%;\n",
       "  overflow: auto;\n",
       "}\n",
       "\n",
       "#sk-container-id-4 input.sk-toggleable__control:checked~label.sk-toggleable__label-arrow:before {\n",
       "  content: \"▾\";\n",
       "}\n",
       "\n",
       "/* Pipeline/ColumnTransformer-specific style */\n",
       "\n",
       "#sk-container-id-4 div.sk-label input.sk-toggleable__control:checked~label.sk-toggleable__label {\n",
       "  color: var(--sklearn-color-text);\n",
       "  background-color: var(--sklearn-color-unfitted-level-2);\n",
       "}\n",
       "\n",
       "#sk-container-id-4 div.sk-label.fitted input.sk-toggleable__control:checked~label.sk-toggleable__label {\n",
       "  background-color: var(--sklearn-color-fitted-level-2);\n",
       "}\n",
       "\n",
       "/* Estimator-specific style */\n",
       "\n",
       "/* Colorize estimator box */\n",
       "#sk-container-id-4 div.sk-estimator input.sk-toggleable__control:checked~label.sk-toggleable__label {\n",
       "  /* unfitted */\n",
       "  background-color: var(--sklearn-color-unfitted-level-2);\n",
       "}\n",
       "\n",
       "#sk-container-id-4 div.sk-estimator.fitted input.sk-toggleable__control:checked~label.sk-toggleable__label {\n",
       "  /* fitted */\n",
       "  background-color: var(--sklearn-color-fitted-level-2);\n",
       "}\n",
       "\n",
       "#sk-container-id-4 div.sk-label label.sk-toggleable__label,\n",
       "#sk-container-id-4 div.sk-label label {\n",
       "  /* The background is the default theme color */\n",
       "  color: var(--sklearn-color-text-on-default-background);\n",
       "}\n",
       "\n",
       "/* On hover, darken the color of the background */\n",
       "#sk-container-id-4 div.sk-label:hover label.sk-toggleable__label {\n",
       "  color: var(--sklearn-color-text);\n",
       "  background-color: var(--sklearn-color-unfitted-level-2);\n",
       "}\n",
       "\n",
       "/* Label box, darken color on hover, fitted */\n",
       "#sk-container-id-4 div.sk-label.fitted:hover label.sk-toggleable__label.fitted {\n",
       "  color: var(--sklearn-color-text);\n",
       "  background-color: var(--sklearn-color-fitted-level-2);\n",
       "}\n",
       "\n",
       "/* Estimator label */\n",
       "\n",
       "#sk-container-id-4 div.sk-label label {\n",
       "  font-family: monospace;\n",
       "  font-weight: bold;\n",
       "  display: inline-block;\n",
       "  line-height: 1.2em;\n",
       "}\n",
       "\n",
       "#sk-container-id-4 div.sk-label-container {\n",
       "  text-align: center;\n",
       "}\n",
       "\n",
       "/* Estimator-specific */\n",
       "#sk-container-id-4 div.sk-estimator {\n",
       "  font-family: monospace;\n",
       "  border: 1px dotted var(--sklearn-color-border-box);\n",
       "  border-radius: 0.25em;\n",
       "  box-sizing: border-box;\n",
       "  margin-bottom: 0.5em;\n",
       "  /* unfitted */\n",
       "  background-color: var(--sklearn-color-unfitted-level-0);\n",
       "}\n",
       "\n",
       "#sk-container-id-4 div.sk-estimator.fitted {\n",
       "  /* fitted */\n",
       "  background-color: var(--sklearn-color-fitted-level-0);\n",
       "}\n",
       "\n",
       "/* on hover */\n",
       "#sk-container-id-4 div.sk-estimator:hover {\n",
       "  /* unfitted */\n",
       "  background-color: var(--sklearn-color-unfitted-level-2);\n",
       "}\n",
       "\n",
       "#sk-container-id-4 div.sk-estimator.fitted:hover {\n",
       "  /* fitted */\n",
       "  background-color: var(--sklearn-color-fitted-level-2);\n",
       "}\n",
       "\n",
       "/* Specification for estimator info (e.g. \"i\" and \"?\") */\n",
       "\n",
       "/* Common style for \"i\" and \"?\" */\n",
       "\n",
       ".sk-estimator-doc-link,\n",
       "a:link.sk-estimator-doc-link,\n",
       "a:visited.sk-estimator-doc-link {\n",
       "  float: right;\n",
       "  font-size: smaller;\n",
       "  line-height: 1em;\n",
       "  font-family: monospace;\n",
       "  background-color: var(--sklearn-color-background);\n",
       "  border-radius: 1em;\n",
       "  height: 1em;\n",
       "  width: 1em;\n",
       "  text-decoration: none !important;\n",
       "  margin-left: 1ex;\n",
       "  /* unfitted */\n",
       "  border: var(--sklearn-color-unfitted-level-1) 1pt solid;\n",
       "  color: var(--sklearn-color-unfitted-level-1);\n",
       "}\n",
       "\n",
       ".sk-estimator-doc-link.fitted,\n",
       "a:link.sk-estimator-doc-link.fitted,\n",
       "a:visited.sk-estimator-doc-link.fitted {\n",
       "  /* fitted */\n",
       "  border: var(--sklearn-color-fitted-level-1) 1pt solid;\n",
       "  color: var(--sklearn-color-fitted-level-1);\n",
       "}\n",
       "\n",
       "/* On hover */\n",
       "div.sk-estimator:hover .sk-estimator-doc-link:hover,\n",
       ".sk-estimator-doc-link:hover,\n",
       "div.sk-label-container:hover .sk-estimator-doc-link:hover,\n",
       ".sk-estimator-doc-link:hover {\n",
       "  /* unfitted */\n",
       "  background-color: var(--sklearn-color-unfitted-level-3);\n",
       "  color: var(--sklearn-color-background);\n",
       "  text-decoration: none;\n",
       "}\n",
       "\n",
       "div.sk-estimator.fitted:hover .sk-estimator-doc-link.fitted:hover,\n",
       ".sk-estimator-doc-link.fitted:hover,\n",
       "div.sk-label-container:hover .sk-estimator-doc-link.fitted:hover,\n",
       ".sk-estimator-doc-link.fitted:hover {\n",
       "  /* fitted */\n",
       "  background-color: var(--sklearn-color-fitted-level-3);\n",
       "  color: var(--sklearn-color-background);\n",
       "  text-decoration: none;\n",
       "}\n",
       "\n",
       "/* Span, style for the box shown on hovering the info icon */\n",
       ".sk-estimator-doc-link span {\n",
       "  display: none;\n",
       "  z-index: 9999;\n",
       "  position: relative;\n",
       "  font-weight: normal;\n",
       "  right: .2ex;\n",
       "  padding: .5ex;\n",
       "  margin: .5ex;\n",
       "  width: min-content;\n",
       "  min-width: 20ex;\n",
       "  max-width: 50ex;\n",
       "  color: var(--sklearn-color-text);\n",
       "  box-shadow: 2pt 2pt 4pt #999;\n",
       "  /* unfitted */\n",
       "  background: var(--sklearn-color-unfitted-level-0);\n",
       "  border: .5pt solid var(--sklearn-color-unfitted-level-3);\n",
       "}\n",
       "\n",
       ".sk-estimator-doc-link.fitted span {\n",
       "  /* fitted */\n",
       "  background: var(--sklearn-color-fitted-level-0);\n",
       "  border: var(--sklearn-color-fitted-level-3);\n",
       "}\n",
       "\n",
       ".sk-estimator-doc-link:hover span {\n",
       "  display: block;\n",
       "}\n",
       "\n",
       "/* \"?\"-specific style due to the `<a>` HTML tag */\n",
       "\n",
       "#sk-container-id-4 a.estimator_doc_link {\n",
       "  float: right;\n",
       "  font-size: 1rem;\n",
       "  line-height: 1em;\n",
       "  font-family: monospace;\n",
       "  background-color: var(--sklearn-color-background);\n",
       "  border-radius: 1rem;\n",
       "  height: 1rem;\n",
       "  width: 1rem;\n",
       "  text-decoration: none;\n",
       "  /* unfitted */\n",
       "  color: var(--sklearn-color-unfitted-level-1);\n",
       "  border: var(--sklearn-color-unfitted-level-1) 1pt solid;\n",
       "}\n",
       "\n",
       "#sk-container-id-4 a.estimator_doc_link.fitted {\n",
       "  /* fitted */\n",
       "  border: var(--sklearn-color-fitted-level-1) 1pt solid;\n",
       "  color: var(--sklearn-color-fitted-level-1);\n",
       "}\n",
       "\n",
       "/* On hover */\n",
       "#sk-container-id-4 a.estimator_doc_link:hover {\n",
       "  /* unfitted */\n",
       "  background-color: var(--sklearn-color-unfitted-level-3);\n",
       "  color: var(--sklearn-color-background);\n",
       "  text-decoration: none;\n",
       "}\n",
       "\n",
       "#sk-container-id-4 a.estimator_doc_link.fitted:hover {\n",
       "  /* fitted */\n",
       "  background-color: var(--sklearn-color-fitted-level-3);\n",
       "}\n",
       "</style><div id=\"sk-container-id-4\" class=\"sk-top-container\"><div class=\"sk-text-repr-fallback\"><pre>LinearRegression()</pre><b>In a Jupyter environment, please rerun this cell to show the HTML representation or trust the notebook. <br />On GitHub, the HTML representation is unable to render, please try loading this page with nbviewer.org.</b></div><div class=\"sk-container\" hidden><div class=\"sk-item\"><div class=\"sk-estimator fitted sk-toggleable\"><input class=\"sk-toggleable__control sk-hidden--visually\" id=\"sk-estimator-id-4\" type=\"checkbox\" checked><label for=\"sk-estimator-id-4\" class=\"sk-toggleable__label fitted sk-toggleable__label-arrow fitted\">&nbsp;&nbsp;LinearRegression<a class=\"sk-estimator-doc-link fitted\" rel=\"noreferrer\" target=\"_blank\" href=\"https://scikit-learn.org/1.5/modules/generated/sklearn.linear_model.LinearRegression.html\">?<span>Documentation for LinearRegression</span></a><span class=\"sk-estimator-doc-link fitted\">i<span>Fitted</span></span></label><div class=\"sk-toggleable__content fitted\"><pre>LinearRegression()</pre></div> </div></div></div></div>"
      ],
      "text/plain": [
       "LinearRegression()"
      ]
     },
     "execution_count": 125,
     "metadata": {},
     "output_type": "execute_result"
    }
   ],
   "source": [
    "from sklearn.linear_model import LinearRegression\n",
    "from sklearn.metrics import mean_squared_error\n",
    "\n",
    "linear_regression = LinearRegression()\n",
    "linear_regression.fit(vectors_train, y_train)"
   ]
  },
  {
   "cell_type": "markdown",
   "id": "95acefc3",
   "metadata": {},
   "source": [
    "### 2.4 - Compare both models, which works better?"
   ]
  },
  {
   "cell_type": "code",
   "execution_count": 126,
   "id": "f65ea28d",
   "metadata": {},
   "outputs": [],
   "source": [
    "vectors_test = vectorizer.transform(X_test)\n",
    "\n",
    "logistic_pred = logistic_regression.predict(vectors_test)\n",
    "linear_pred = linear_regression.predict(vectors_test)"
   ]
  },
  {
   "cell_type": "code",
   "execution_count": 127,
   "id": "f3dc10d9",
   "metadata": {},
   "outputs": [],
   "source": [
    "def plot_ditribution_and_errors(y_test, pred, title):\n",
    "    fig, (ax1, ax2, ax3) = plt.subplots(1, 3, figsize=(14, 4), sharey=True)\n",
    "    fig.suptitle(title)\n",
    "    \n",
    "    ax1.hist(y_test, bins=100, rwidth=0.6)\n",
    "    ax1.set_title(\"Ground truth distribution\")\n",
    "\n",
    "    ax2.hist(pred, bins=100, rwidth=0.6)\n",
    "    ax2.set_title(\"Prediction distribution\")\n",
    "\n",
    "    ax3.hist(y_test - pred, bins=100, rwidth=0.6)\n",
    "    ax3.set_title(\"Prediction errors\")\n",
    "\n",
    "    plt.tight_layout()\n",
    "    plt.show()"
   ]
  },
  {
   "cell_type": "markdown",
   "id": "f91d197c",
   "metadata": {},
   "source": [
    "#### 2.4.1 - Linear Regression Evaluation"
   ]
  },
  {
   "cell_type": "code",
   "execution_count": 128,
   "id": "3051787d",
   "metadata": {},
   "outputs": [
    {
     "name": "stdout",
     "output_type": "stream",
     "text": [
      "Linear Regression: mean squared error:  0.6298003348975959\n"
     ]
    },
    {
     "data": {
      "image/png": "[encoded data removed]",
      "text/plain": [
       "<Figure size 1400x400 with 3 Axes>"
      ]
     },
     "metadata": {},
     "output_type": "display_data"
    }
   ],
   "source": [
    "print(\"Linear Regression: mean squared error: \", mean_squared_error(y_test, linear_pred))\n",
    "plot_ditribution_and_errors(y_test, linear_pred, \"Linear Regression\")"
   ]
  },
  {
   "cell_type": "code",
   "execution_count": 129,
   "id": "046e5259",
   "metadata": {},
   "outputs": [
    {
     "data": {
      "text/plain": [
       "count    18151.000000\n",
       "mean         2.998477\n",
       "std          1.231983\n",
       "min         -1.423636\n",
       "25%          2.065716\n",
       "50%          3.003905\n",
       "75%          3.963734\n",
       "max          6.759393\n",
       "dtype: float64"
      ]
     },
     "execution_count": 129,
     "metadata": {},
     "output_type": "execute_result"
    }
   ],
   "source": [
    "pd.Series(linear_pred).describe()"
   ]
  },
  {
   "cell_type": "code",
   "execution_count": 130,
   "id": "6447cb71",
   "metadata": {},
   "outputs": [
    {
     "name": "stdout",
     "output_type": "stream",
     "text": [
      "Linear Regression (clipped): mean squared error:  0.5967813005608756\n"
     ]
    },
    {
     "data": {
      "image/png": "[encoded data removed]",
      "text/plain": [
       "<Figure size 1400x400 with 3 Axes>"
      ]
     },
     "metadata": {},
     "output_type": "display_data"
    }
   ],
   "source": [
    "linear_pred_clipped = np.clip(linear_pred, 1, 5)\n",
    "\n",
    "print(\"Linear Regression (clipped): mean squared error: \", mean_squared_error(y_test, linear_pred_clipped))\n",
    "plot_ditribution_and_errors(y_test, linear_pred_clipped, \"Linear Regression (clipped)\")"
   ]
  },
  {
   "cell_type": "code",
   "execution_count": 131,
   "id": "d0aaca18",
   "metadata": {},
   "outputs": [
    {
     "name": "stdout",
     "output_type": "stream",
     "text": [
      "Linear Regression (clipped & rounded): mean squared error:  0.6847005674618478\n"
     ]
    },
    {
     "data": {
      "image/png": "[encoded data removed]",
      "text/plain": [
       "<Figure size 1400x400 with 3 Axes>"
      ]
     },
     "metadata": {},
     "output_type": "display_data"
    }
   ],
   "source": [
    "linear_pred_clipped_and_rounded = np.round(linear_pred_clipped)\n",
    "\n",
    "print(\"Linear Regression (clipped & rounded): mean squared error: \", mean_squared_error(y_test, linear_pred_clipped_and_rounded))\n",
    "plot_ditribution_and_errors(y_test, linear_pred_clipped_and_rounded, \"Linear Regression (clipped & rounded)\")"
   ]
  },
  {
   "cell_type": "markdown",
   "id": "e2082fb6",
   "metadata": {},
   "source": [
    "#### 2.4.2 - Logisitic Regression Evaluation"
   ]
  },
  {
   "cell_type": "code",
   "execution_count": 132,
   "id": "06d899a4",
   "metadata": {},
   "outputs": [
    {
     "name": "stdout",
     "output_type": "stream",
     "text": [
      "              precision    recall  f1-score   support\n",
      "\n",
      "           1       0.68      0.72      0.70      3579\n",
      "           2       0.51      0.47      0.49      3713\n",
      "           3       0.55      0.52      0.53      3740\n",
      "           4       0.54      0.54      0.54      3608\n",
      "           5       0.68      0.71      0.70      3511\n",
      "\n",
      "    accuracy                           0.59     18151\n",
      "   macro avg       0.59      0.59      0.59     18151\n",
      "weighted avg       0.59      0.59      0.59     18151\n",
      "\n"
     ]
    },
    {
     "data": {
      "text/plain": [
       "<Axes: title={'center': 'Logitsic Regression Confusion Matrix'}>"
      ]
     },
     "execution_count": 132,
     "metadata": {},
     "output_type": "execute_result"
    },
    {
     "data": {
      "image/png": "[encoded data removed]",
      "text/plain": [
       "<Figure size 600x500 with 2 Axes>"
      ]
     },
     "metadata": {},
     "output_type": "display_data"
    }
   ],
   "source": [
    "from sklearn.metrics import confusion_matrix, classification_report\n",
    "\n",
    "print(classification_report(y_test, logistic_pred))\n",
    "\n",
    "fig, ax = plt.subplots(figsize=(6, 5), dpi=100)\n",
    "ax.set_title(\"Logitsic Regression Confusion Matrix\")\n",
    "sb.heatmap(confusion_matrix(y_test, logistic_pred),\n",
    "           annot=True, cmap='Blues', fmt=\"g\", \n",
    "           xticklabels=logistic_regression.classes_,\n",
    "           yticklabels=logistic_regression.classes_)"
   ]
  },
  {
   "cell_type": "markdown",
   "id": "024c7a36",
   "metadata": {},
   "source": [
    "#### 2.4.3 - Direct Comparison"
   ]
  },
  {
   "cell_type": "code",
   "execution_count": 133,
   "id": "7437340a",
   "metadata": {},
   "outputs": [
    {
     "name": "stdout",
     "output_type": "stream",
     "text": [
      "              precision    recall  f1-score   support\n",
      "\n",
      "           1       0.71      0.43      0.53      3579\n",
      "           2       0.43      0.53      0.48      3713\n",
      "           3       0.42      0.53      0.47      3740\n",
      "           4       0.45      0.57      0.51      3608\n",
      "           5       0.71      0.45      0.55      3511\n",
      "\n",
      "    accuracy                           0.50     18151\n",
      "   macro avg       0.55      0.50      0.51     18151\n",
      "weighted avg       0.54      0.50      0.51     18151\n",
      "\n"
     ]
    },
    {
     "data": {
      "text/plain": [
       "<Axes: title={'center': 'Linear Regression (clipped & rounded) Confusion Matrix'}>"
      ]
     },
     "execution_count": 133,
     "metadata": {},
     "output_type": "execute_result"
    },
    {
     "data": {
      "image/png": "[encoded data removed]",
      "text/plain": [
       "<Figure size 600x500 with 2 Axes>"
      ]
     },
     "metadata": {},
     "output_type": "display_data"
    }
   ],
   "source": [
    "from sklearn.metrics import confusion_matrix, classification_report\n",
    "\n",
    "print(classification_report(y_test, linear_pred_clipped_and_rounded))\n",
    "\n",
    "fig, ax = plt.subplots(figsize=(6, 5), dpi=100)\n",
    "ax.set_title(\"Linear Regression (clipped & rounded) Confusion Matrix\")\n",
    "sb.heatmap(confusion_matrix(y_test, linear_pred_clipped_and_rounded),\n",
    "           annot=True, cmap='Blues', fmt=\"g\", \n",
    "           xticklabels=logistic_regression.classes_,\n",
    "           yticklabels=logistic_regression.classes_)"
   ]
  },
  {
   "cell_type": "code",
   "execution_count": 134,
   "id": "81810afe",
   "metadata": {},
   "outputs": [
    {
     "name": "stdout",
     "output_type": "stream",
     "text": [
      "Logitsic Regression: mean squared error:  0.631149798909151\n"
     ]
    },
    {
     "data": {
      "image/png": "[encoded data removed]",
      "text/plain": [
       "<Figure size 1400x400 with 3 Axes>"
      ]
     },
     "metadata": {},
     "output_type": "display_data"
    }
   ],
   "source": [
    "print(\"Logitsic Regression: mean squared error: \", mean_squared_error(y_test, logistic_pred))\n",
    "plot_ditribution_and_errors(y_test, logistic_pred, \"Logitsic Regression\")"
   ]
  },
  {
   "cell_type": "code",
   "execution_count": 135,
   "id": "33257ba7",
   "metadata": {},
   "outputs": [
    {
     "name": "stdout",
     "output_type": "stream",
     "text": [
      "mean squared error: \n",
      "Linear Regression:  0.6298003348975959\n",
      "Linear Regression clipped and rounded:  0.6847005674618478\n",
      "Logistic Regression:  0.631149798909151\n",
      "\n",
      "mean absolute error: \n",
      "Linear Regression:  0.6302113768367593\n",
      "Linear Regression clipped and rounded:  0.5578755991405432\n",
      "Logistic Regression:  0.47237066828273927\n"
     ]
    }
   ],
   "source": [
    "print(\"mean squared error: \")\n",
    "print(\"Linear Regression: \", mean_squared_error(y_test, linear_pred))\n",
    "print(\"Linear Regression clipped and rounded: \", mean_squared_error(y_test, linear_pred_clipped_and_rounded))\n",
    "print(\"Logistic Regression: \", mean_squared_error(y_test, logistic_pred))\n",
    "print(\"\\nmean absolute error: \")\n",
    "print(\"Linear Regression: \", np.abs(linear_pred - y_test).mean())\n",
    "print(\"Linear Regression clipped and rounded: \", np.abs(linear_pred_clipped_and_rounded - y_test).mean())\n",
    "print(\"Logistic Regression: \", np.abs(logistic_pred - y_test).mean())"
   ]
  },
  {
   "cell_type": "markdown",
   "id": "b7fef192",
   "metadata": {},
   "source": [
    "### 2.5 - Also compare single tokens vs. 1 + 2-grams (`ngrams = (1,2)`), which works better."
   ]
  },
  {
   "cell_type": "code",
   "execution_count": 136,
   "id": "4ff6faa0",
   "metadata": {},
   "outputs": [
    {
     "name": "stdout",
     "output_type": "stream",
     "text": [
      "Loaded ngram_vectors_train from ..\\..\\Datasets\\Tripadvisor\\reviews_ngram_vectors_train.npz\n",
      "Loaded ngram_vectors_test from ..\\..\\Datasets\\Tripadvisor\\reviews_ngram_vectors_test.npz\n",
      "Loaded ngram_vectorizer from ..\\..\\Datasets\\Tripadvisor\\ngram_vectorizer.pkl\n"
     ]
    }
   ],
   "source": [
    "from scipy.sparse import load_npz, save_npz\n",
    "import joblib\n",
    "\n",
    "filepath_train = os.path.join(path, \"reviews_ngram_vectors_train.npz\")\n",
    "filepath_test = os.path.join(path, \"reviews_ngram_vectors_test.npz\")\n",
    "vectorizer_filepath = os.path.join(path, \"ngram_vectorizer.pkl\")\n",
    "\n",
    "try:\n",
    "    ngram_vectors_train = load_npz(filepath_train)\n",
    "    print(f\"Loaded ngram_vectors_train from {filepath_train}\")\n",
    "\n",
    "    ngram_vectors_test = load_npz(filepath_test)\n",
    "    print(f\"Loaded ngram_vectors_test from {filepath_test}\")\n",
    "\n",
    "    ngram_vectorizer = joblib.load(vectorizer_filepath)\n",
    "    print(f\"Loaded ngram_vectorizer from {vectorizer_filepath}\")\n",
    "\n",
    "except:\n",
    "    print(f\"Found no vectors at {path}. Calculating...\")\n",
    "    ngram_vectorizer = TfidfVectorizer(min_df=10, max_df=0.25,\n",
    "                                    ngram_range=(1, 2))\n",
    "    # fit the vectorizer on the training data and transform the training data\n",
    "    ngram_vectors_train = ngram_vectorizer.fit_transform(X_train)\n",
    "\n",
    "    # save vectors and fitted vectorizer\n",
    "    save_npz(filepath_train, ngram_vectors_train)\n",
    "    print(f\"Saved ngram_vectors_train to {filepath_train}\")\n",
    "    joblib.dump(ngram_vectorizer, vectorizer_filepath)\n",
    "    print(f\"Saved ngram_vectorizer to {vectorizer_filepath}\")\n",
    "\n",
    "    # transform the test data\n",
    "    ngram_vectors_test = ngram_vectorizer.transform(X_test)\n",
    "    save_npz(filepath_test, ngram_vectors_test)\n",
    "    print(f\"Saved ngram_vectors_test to {filepath_test}\")"
   ]
  },
  {
   "cell_type": "code",
   "execution_count": 137,
   "id": "89e680fa",
   "metadata": {},
   "outputs": [
    {
     "name": "stdout",
     "output_type": "stream",
     "text": [
      "Loaded logistic_regression_ngrams from ..\\..\\Datasets\\Tripadvisor\\logistic_regression_ngrams.pkl\n"
     ]
    }
   ],
   "source": [
    "import joblib\n",
    "\n",
    "filepath = os.path.join(path, \"logistic_regression_ngrams.pkl\")\n",
    "\n",
    "try:\n",
    "    with open(filepath, 'rb') as file:\n",
    "        logistic_regression_ngrams = joblib.load(filepath)\n",
    "    \n",
    "    print(f\"Loaded logistic_regression_ngrams from {filepath}\")\n",
    "\n",
    "except:\n",
    "    print(f\"Found nothing at {filepath}. Calculating...\")\n",
    "    logistic_regression_ngrams = LogisticRegression(max_iter=1000)\n",
    "    logistic_regression_ngrams.fit(ngram_vectors_train, y_train)\n",
    "    \n",
    "    joblib.dump(logistic_regression_ngrams, filepath)\n",
    "    print(f\"Saved logistic_regression_ngrams to {filepath}\")"
   ]
  },
  {
   "cell_type": "code",
   "execution_count": 138,
   "id": "0a70d011",
   "metadata": {},
   "outputs": [
    {
     "name": "stdout",
     "output_type": "stream",
     "text": [
      "Loaded logistic_regression_ngrams from ..\\..\\Datasets\\Tripadvisor\\linear_regression_ngrams.pkl\n"
     ]
    }
   ],
   "source": [
    "import joblib\n",
    "\n",
    "filepath = os.path.join(path, \"linear_regression_ngrams.pkl\")\n",
    "\n",
    "try:\n",
    "    with open(filepath, 'rb') as file:\n",
    "        linear_regression_ngrams = joblib.load(filepath)\n",
    "    \n",
    "    print(f\"Loaded logistic_regression_ngrams from {filepath}\")\n",
    "\n",
    "except:\n",
    "    print(f\"Found nothing at {filepath}. Calculating...\")\n",
    "    linear_regression_ngrams = LinearRegression()\n",
    "    linear_regression_ngrams.fit(ngram_vectors_train, y_train)\n",
    "    \n",
    "    joblib.dump(logistic_regression_ngrams, filepath)\n",
    "    print(f\"Saved linear_regression_ngrams to {filepath}\")"
   ]
  },
  {
   "cell_type": "code",
   "execution_count": 139,
   "id": "fbfed058",
   "metadata": {},
   "outputs": [],
   "source": [
    "ngram_vectors_test = ngram_vectorizer.transform(X_test)\n",
    "\n",
    "logistic_ngram_pred = logistic_regression_ngrams.predict(ngram_vectors_test)\n",
    "linear_ngram_pred = linear_regression_ngrams.predict(ngram_vectors_test)"
   ]
  },
  {
   "cell_type": "code",
   "execution_count": 140,
   "id": "0b240d4b",
   "metadata": {},
   "outputs": [
    {
     "name": "stdout",
     "output_type": "stream",
     "text": [
      "Linear regression with 1- and 2-grams: mean squared error:  0.5422290782876976\n"
     ]
    },
    {
     "data": {
      "image/png": "[encoded data removed]",
      "text/plain": [
       "<Figure size 1400x400 with 3 Axes>"
      ]
     },
     "metadata": {},
     "output_type": "display_data"
    }
   ],
   "source": [
    "print(\"Linear regression with 1- and 2-grams: mean squared error: \", mean_squared_error(y_test, linear_ngram_pred))\n",
    "plot_ditribution_and_errors(y_test, linear_ngram_pred, \"Linear regression with 1- and 2-grams\")"
   ]
  },
  {
   "cell_type": "code",
   "execution_count": 141,
   "id": "6c5f7bfc",
   "metadata": {},
   "outputs": [
    {
     "name": "stdout",
     "output_type": "stream",
     "text": [
      "Linear regression with 1- and 2-grams (clipped): mean squared error:  0.5422290782876976\n"
     ]
    },
    {
     "data": {
      "image/png": "[encoded data removed]",
      "text/plain": [
       "<Figure size 1400x400 with 3 Axes>"
      ]
     },
     "metadata": {},
     "output_type": "display_data"
    }
   ],
   "source": [
    "linear_ngram_pred_clipped = np.clip(linear_ngram_pred, 1, 5)\n",
    "\n",
    "print(\"Linear regression with 1- and 2-grams (clipped): mean squared error: \", mean_squared_error(y_test, linear_ngram_pred_clipped))\n",
    "plot_ditribution_and_errors(y_test, linear_ngram_pred_clipped, \"Linear regression with 1- and 2-grams (clipped)\")"
   ]
  },
  {
   "cell_type": "code",
   "execution_count": 142,
   "id": "fd189e21",
   "metadata": {},
   "outputs": [
    {
     "name": "stdout",
     "output_type": "stream",
     "text": [
      "count    18151.000000\n",
      "mean         2.988816\n",
      "std          1.431767\n",
      "min          1.000000\n",
      "25%          2.000000\n",
      "50%          3.000000\n",
      "75%          4.000000\n",
      "max          5.000000\n",
      "dtype: float64\n",
      "count    18151.000000\n",
      "mean         2.988816\n",
      "std          1.431767\n",
      "min          1.000000\n",
      "25%          2.000000\n",
      "50%          3.000000\n",
      "75%          4.000000\n",
      "max          5.000000\n",
      "dtype: float64\n"
     ]
    }
   ],
   "source": [
    "print(pd.Series(linear_ngram_pred).describe())\n",
    "print(pd.Series(linear_ngram_pred_clipped).describe())"
   ]
  },
  {
   "cell_type": "code",
   "execution_count": 143,
   "id": "0b76d7eb",
   "metadata": {},
   "outputs": [
    {
     "name": "stdout",
     "output_type": "stream",
     "text": [
      "Linear regression with 1- and 2-grams (clipped & rounded): mean squared error:  0.5422290782876976\n"
     ]
    },
    {
     "data": {
      "image/png": "[encoded data removed]",
      "text/plain": [
       "<Figure size 1400x400 with 3 Axes>"
      ]
     },
     "metadata": {},
     "output_type": "display_data"
    }
   ],
   "source": [
    "linear_ngram_pred_clipped_and_rounded = np.round(linear_ngram_pred_clipped)\n",
    "\n",
    "print(\"Linear regression with 1- and 2-grams (clipped & rounded): mean squared error: \", mean_squared_error(y_test, linear_ngram_pred_clipped_and_rounded))\n",
    "plot_ditribution_and_errors(y_test, linear_ngram_pred_clipped_and_rounded, \"Linear regression with 1- and 2-grams (clipped & rounded)\")"
   ]
  },
  {
   "cell_type": "code",
   "execution_count": 144,
   "id": "5d13224f",
   "metadata": {},
   "outputs": [
    {
     "name": "stdout",
     "output_type": "stream",
     "text": [
      "              precision    recall  f1-score   support\n",
      "\n",
      "           1       0.69      0.74      0.71      3579\n",
      "           2       0.53      0.50      0.51      3713\n",
      "           3       0.59      0.56      0.57      3740\n",
      "           4       0.57      0.58      0.58      3608\n",
      "           5       0.70      0.74      0.72      3511\n",
      "\n",
      "    accuracy                           0.62     18151\n",
      "   macro avg       0.62      0.62      0.62     18151\n",
      "weighted avg       0.62      0.62      0.62     18151\n",
      "\n"
     ]
    },
    {
     "data": {
      "text/plain": [
       "<Axes: title={'center': 'Linear Regression (clipped & rounded) with 1- & 2-grams:\\n Confusion Matrix'}>"
      ]
     },
     "execution_count": 144,
     "metadata": {},
     "output_type": "execute_result"
    },
    {
     "data": {
      "image/png": "[encoded data removed]",
      "text/plain": [
       "<Figure size 600x500 with 2 Axes>"
      ]
     },
     "metadata": {},
     "output_type": "display_data"
    }
   ],
   "source": [
    "print(classification_report(y_test, linear_ngram_pred_clipped_and_rounded))\n",
    "\n",
    "fig, ax = plt.subplots(figsize=(6, 5), dpi=100)\n",
    "ax.set_title(\"Linear Regression (clipped & rounded) with 1- & 2-grams:\\n Confusion Matrix\")\n",
    "sb.heatmap(confusion_matrix(y_test, linear_ngram_pred_clipped_and_rounded),\n",
    "           annot=True, cmap='Blues', fmt=\"g\", \n",
    "           xticklabels=logistic_regression_ngrams.classes_,\n",
    "           yticklabels=logistic_regression_ngrams.classes_)"
   ]
  },
  {
   "cell_type": "code",
   "execution_count": 145,
   "id": "665ca702",
   "metadata": {},
   "outputs": [
    {
     "name": "stdout",
     "output_type": "stream",
     "text": [
      "              precision    recall  f1-score   support\n",
      "\n",
      "           1       0.69      0.74      0.71      3579\n",
      "           2       0.53      0.50      0.51      3713\n",
      "           3       0.59      0.56      0.57      3740\n",
      "           4       0.57      0.58      0.58      3608\n",
      "           5       0.70      0.74      0.72      3511\n",
      "\n",
      "    accuracy                           0.62     18151\n",
      "   macro avg       0.62      0.62      0.62     18151\n",
      "weighted avg       0.62      0.62      0.62     18151\n",
      "\n"
     ]
    },
    {
     "data": {
      "text/plain": [
       "<Axes: title={'center': 'Logistic regression with 1- & 2-grams: Confusion Matrix'}>"
      ]
     },
     "execution_count": 145,
     "metadata": {},
     "output_type": "execute_result"
    },
    {
     "data": {
      "image/png": "[encoded data removed]",
      "text/plain": [
       "<Figure size 600x500 with 2 Axes>"
      ]
     },
     "metadata": {},
     "output_type": "display_data"
    }
   ],
   "source": [
    "print(classification_report(y_test, logistic_ngram_pred))\n",
    "\n",
    "fig, ax = plt.subplots(figsize=(6, 5), dpi=100)\n",
    "ax.set_title(\"Logistic regression with 1- & 2-grams: Confusion Matrix\")\n",
    "sb.heatmap(confusion_matrix(y_test, logistic_ngram_pred),\n",
    "           annot=True, cmap='Blues', fmt=\"g\", \n",
    "           xticklabels=logistic_regression_ngrams.classes_,\n",
    "           yticklabels=logistic_regression_ngrams.classes_)"
   ]
  },
  {
   "cell_type": "code",
   "execution_count": 146,
   "id": "13dcdfd0",
   "metadata": {},
   "outputs": [
    {
     "name": "stdout",
     "output_type": "stream",
     "text": [
      "Logitsic Regression with 1- and 2-grams: mean squared error:  0.5422290782876976\n"
     ]
    },
    {
     "data": {
      "image/png": "[encoded data removed]",
      "text/plain": [
       "<Figure size 1400x400 with 3 Axes>"
      ]
     },
     "metadata": {},
     "output_type": "display_data"
    }
   ],
   "source": [
    "print(\"Logitsic Regression with 1- and 2-grams: mean squared error: \", mean_squared_error(y_test, logistic_ngram_pred))\n",
    "plot_ditribution_and_errors(y_test, logistic_ngram_pred, \"Logitsic Regression with 1- and 2-grams\")"
   ]
  },
  {
   "cell_type": "code",
   "execution_count": 147,
   "id": "12a1be32",
   "metadata": {},
   "outputs": [
    {
     "name": "stdout",
     "output_type": "stream",
     "text": [
      "mean squared error: \n",
      "Linear Regression:  0.5422290782876976\n",
      "Linear Regression clipped and rounded:  0.5422290782876976\n",
      "Logistic Regression:  0.631149798909151\n",
      "\n",
      "mean absolute error: \n",
      "Linear Regression:  0.4279654013552972\n",
      "Linear Regression clipped and rounded:  0.4279654013552972\n",
      "Logistic Regression:  0.47237066828273927\n"
     ]
    }
   ],
   "source": [
    "print(\"mean squared error: \")\n",
    "print(\"Linear Regression: \", mean_squared_error(y_test, linear_ngram_pred))\n",
    "print(\"Linear Regression clipped and rounded: \", mean_squared_error(y_test, linear_ngram_pred_clipped_and_rounded))\n",
    "print(\"Logistic Regression: \", mean_squared_error(y_test, logistic_pred))\n",
    "print(\"\\nmean absolute error: \")\n",
    "print(\"Linear Regression: \", np.abs(linear_ngram_pred - y_test).mean())\n",
    "print(\"Linear Regression clipped and rounded: \", np.abs(linear_ngram_pred_clipped_and_rounded - y_test).mean())\n",
    "print(\"Logistic Regression: \", np.abs(logistic_pred - y_test).mean())"
   ]
  },
  {
   "cell_type": "markdown",
   "id": "79a3930c",
   "metadata": {},
   "source": [
    "### 2.6 - Show the 10 most relevant words (or ngrams) for predicting high or low ratings."
   ]
  },
  {
   "cell_type": "code",
   "execution_count": 206,
   "id": "de762601",
   "metadata": {},
   "outputs": [],
   "source": [
    "def show_most_relevant_words(model, rating, vectorizer, top_n_words=10):\n",
    "    feature_names = np.array(vectorizer.get_feature_names_out())\n",
    "    if(type(model) == LogisticRegression):\n",
    "        coef = model.coef_[rating - 1]\n",
    "    else:\n",
    "        coef = model.coef_\n",
    "    top_n = np.argsort(coef)[-top_n_words:]\n",
    "    return feature_names[top_n]"
   ]
  },
  {
   "cell_type": "code",
   "execution_count": 208,
   "id": "c6a9d08e",
   "metadata": {},
   "outputs": [
    {
     "name": "stdout",
     "output_type": "stream",
     "text": [
      "Most relevant words for Rating 1:\n",
      "Logistic Regression:\n",
      " ['waste' 'disgusting' 'poor' 'bad' 'rude' 'horrible' 'avoid' 'awful'\n",
      " 'terrible' 'worst']\n",
      "Logistic Regression with 1- and 2-grams:\n",
      " ['poor' 'never' 'disgusting' 'rude' 'bad' 'avoid' 'horrible' 'awful'\n",
      " 'worst' 'terrible']\n",
      "Linear Regression:\n",
      " ['inches' 'jewel' 'drove' 'blessing' 'stroke' 'appearing' 'fri' 'danced'\n",
      " 'avant' 'carpe']\n",
      "Linear Regression with 1- and 2-grams:\n",
      " ['poor' 'never' 'disgusting' 'rude' 'bad' 'avoid' 'horrible' 'awful'\n",
      " 'worst' 'terrible']\n",
      "Most relevant words for Rating 5:\n",
      "Logistic Regression:\n",
      " ['awesome' 'loved' 'fantastic' 'perfect' 'highly' 'best' 'great'\n",
      " 'excellent' 'amazing' 'delicious']\n",
      "Logistic Regression with 1- and 2-grams:\n",
      " ['recommend' 'wonderful' 'highly' 'perfect' 'fantastic' 'best' 'excellent'\n",
      " 'great' 'amazing' 'delicious']\n",
      "Linear Regression:\n",
      " ['inches' 'jewel' 'drove' 'blessing' 'stroke' 'appearing' 'fri' 'danced'\n",
      " 'avant' 'carpe']\n",
      "Linear Regression with 1- and 2-grams:\n",
      " ['recommend' 'wonderful' 'highly' 'perfect' 'fantastic' 'best' 'excellent'\n",
      " 'great' 'amazing' 'delicious']\n"
     ]
    }
   ],
   "source": [
    "print(\"Most relevant words for Rating 1:\")\n",
    "print(\"Logistic Regression:\\n\", show_most_relevant_words(logistic_regression, 1, vectorizer))\n",
    "print(\"Logistic Regression with 1- and 2-grams:\\n\", show_most_relevant_words(logistic_regression_ngrams, 1, ngram_vectorizer))\n",
    "print(\"Linear Regression:\\n\", show_most_relevant_words(linear_regression, 1, vectorizer))\n",
    "print(\"Linear Regression with 1- and 2-grams:\\n\", show_most_relevant_words(linear_regression_ngrams, 1, ngram_vectorizer))\n",
    "\n",
    "print(\"Most relevant words for Rating 5:\")\n",
    "print(\"Logistic Regression:\\n\", show_most_relevant_words(logistic_regression, 5, vectorizer))\n",
    "print(\"Logistic Regression with 1- and 2-grams:\\n\", show_most_relevant_words(logistic_regression_ngrams, 5, ngram_vectorizer))\n",
    "print(\"Linear Regression:\\n\", show_most_relevant_words(linear_regression, 5, vectorizer))\n",
    "print(\"Linear Regression with 1- and 2-grams:\\n\", show_most_relevant_words(linear_regression_ngrams, 5, ngram_vectorizer))"
   ]
  },
  {
   "cell_type": "markdown",
   "id": "bff5b2dc",
   "metadata": {},
   "source": [
    "\n",
    "## 3. Language Model --> word vectors + Logistic Regression vs. Random Forest"
   ]
  },
  {
   "cell_type": "markdown",
   "id": "c02099a7",
   "metadata": {},
   "source": [
    "### 3.1 - Use Spacy and a larger English language model (`spacy.load(\"en_core_web_lg\")`) to create vectors for each review. This might take a while so use a progress bar."
   ]
  },
  {
   "cell_type": "markdown",
   "id": "1423d5df",
   "metadata": {},
   "source": []
  },
  {
   "cell_type": "markdown",
   "id": "fcee876a",
   "metadata": {},
   "source": []
  },
  {
   "cell_type": "markdown",
   "id": "419ee47c",
   "metadata": {},
   "source": [
    "### 3.2 - Train a Logistic Regression model as well as a RandomForestClassifier on the review embeddings to predict the 5 rating classes."
   ]
  },
  {
   "cell_type": "code",
   "execution_count": null,
   "id": "77c080c9",
   "metadata": {},
   "outputs": [],
   "source": []
  },
  {
   "cell_type": "markdown",
   "id": "b7d3611f",
   "metadata": {},
   "source": [
    "### 3.3 - Evaluate the performance of both models, and also compare to the TF-IDF case before."
   ]
  },
  {
   "cell_type": "markdown",
   "id": "b405bd8a",
   "metadata": {},
   "source": []
  }
 ],
 "metadata": {
  "kernelspec": {
   "display_name": "Python 3 (ipykernel)",
   "language": "python",
   "name": "python3"
  },
  "language_info": {
   "codemirror_mode": {
    "name": "ipython",
    "version": 3
   },
   "file_extension": ".py",
   "mimetype": "text/x-python",
   "name": "python",
   "nbconvert_exporter": "python",
   "pygments_lexer": "ipython3",
   "version": "3.10.14"
  }
 },
 "nbformat": 4,
 "nbformat_minor": 5
}
