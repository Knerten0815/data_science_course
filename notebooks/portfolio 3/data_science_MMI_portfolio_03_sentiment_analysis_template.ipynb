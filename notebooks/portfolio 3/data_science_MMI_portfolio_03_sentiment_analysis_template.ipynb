{
 "cells": [
  {
   "cell_type": "markdown",
   "id": "19ae5264",
   "metadata": {},
   "source": [
    "### 💾💻📊 Data Science - MMI Portfolio No. 3\n",
    "# 💥 Sentiment Analysis (NLP + Machine Learning) 💥\n",
    "\n",
    "\n",
    "\n",
    "An extremely common dataset for benchmarking, method development, and tutorials is **MNIST** consisting of handwritten digits. In reference to this dataset several variants appeared such as sign-MNIST (photos of hand gestures for sign language), audioMNIST (audiofiles of spoken digits) and **fashionMNIST** made of low resolution photos of 10 types of clothes. We will here use this tp explore different possibilities for using dimensionality reduction techniques.\n",
    "\n",
    "Please complete the following exercises:\n",
    "## 1. Data Exploration and Cleaning\n",
    "- Select equal number of reviews for all possible ratings (1 to 5).\n",
    "- Use suitable Python libraries to detect the language for every restaurant review, for instance `langdetect`.\n",
    "- Show a distribution of detected languages.\n",
    "- Continue to work only with English entries.\n",
    "\n",
    "Hint: This could take a little while, so better use `tqdm` or similar to show the progress.\n",
    "\n",
    "## 2. TF-IDF + Logistic Regression vs Linear Regression\n",
    "- Use the `TfidfVectorizer` to create vectors of all remaining reviews.\n",
    "- Train a Logistic Regression model on the 5 rating classes\n",
    "- Train a Linear Regression model on the rating (1 to 5).\n",
    "- Compare both models, which works better?\n",
    "- Also compare single tokens vs. 1 + 2-grams (`ngrams = (1,2)`), which works better.\n",
    "- Show the 10 most relevant words (or ngrams) for predicting high or low ratings.\n",
    "\n",
    "## 3. Language Model --> word vectors + Logistic Regression vs. Random Forest\n",
    "- Use Spacy and a larger English language model (`spacy.load(\"en_core_web_lg\")`) to create vectors for each review. This might take a while so use a progress bar.\n",
    "- Train a Logistic Regression model as well as a RandomForestClassifier on the review embeddings to predict the 5 rating classes.\n",
    "- Evaluate the performance of both models, and also compare to the TF-IDF case before.\n",
    "\n",
    "\n",
    "\n",
    "## General instructions\n",
    "- The final notebook should be executable in the correct order (this means it should work if you do `Kernel` --> `Restart kernel and run all cells...`)\n",
    "- Just providing code and plots is not enough, you should document and comment where necessary. Not so much on small code-related things (you may still do this if you want though, but this is not required), but mostly to explain what you do, why you do it, what you observe.\n",
    "\n",
    "More specifically:\n",
    "- Please briefly comment on the changes you make to the data, in particular if you apply complex operations or if your changes depend on a certain choice you have to make.\n",
    "- Please add descriptions and/or interpretations to the results you generate (for instance tables, plots). This doesn't have to be a lot of text. For simple, easy-to-understand results, a brief sentence can be enough. For more complex results, you might want to add a bit more explanation."
   ]
  },
  {
   "cell_type": "markdown",
   "id": "4ffc3378-dd52-4e76-ad0a-803e841d72bc",
   "metadata": {},
   "source": [
    "---\n",
    "Please add your Name here\n",
    "## Name: Kevin Zielke\n",
    "\n",
    "---"
   ]
  },
  {
   "cell_type": "markdown",
   "id": "60d8e7eb-0254-48fd-a2ec-c42e82ddf285",
   "metadata": {},
   "source": [
    "## Imports and helper function\n",
    "Use this part to import the main libraries used in this notebook.  \n",
    "Also add more complex helper functions to this part (if you use any)."
   ]
  },
  {
   "cell_type": "code",
   "execution_count": 1,
   "id": "494f1abc",
   "metadata": {},
   "outputs": [],
   "source": [
    "import os\n",
    "import numpy as np\n",
    "import pandas as pd\n",
    "import matplotlib.pyplot as plt\n",
    "import seaborn as sb\n",
    "from sklearn.feature_extraction.text import TfidfVectorizer\n",
    "import spacy\n",
    "\n",
    "from tqdm.notebook import tqdm\n",
    "\n",
    "# add imports if anything is missing\n",
    "# for instance. feel free to use other plotting libraries (e.g. seaborn, plotly...)"
   ]
  },
  {
   "cell_type": "markdown",
   "id": "62da7810-b04b-475d-9775-26d282621a04",
   "metadata": {},
   "source": [
    "## Data download and import\n",
    "The following analysis should be done with data from TripAdvisor, namely restraurant reviews from **Barcelona**. You can find the respective data (`Barcelona_reviews.csv`) on the [TripAdvisor data](https://zenodo.org/records/6583422).\n"
   ]
  },
  {
   "cell_type": "code",
   "execution_count": 3,
   "id": "d832ecac",
   "metadata": {},
   "outputs": [
    {
     "name": "stderr",
     "output_type": "stream",
     "text": [
      "C:\\Users\\kevin\\AppData\\Local\\Temp\\ipykernel_11640\\361200809.py:2: DtypeWarning: Columns (0,1,3) have mixed types. Specify dtype option on import or set low_memory=False.\n",
      "  data = pd.read_csv(filename)\n"
     ]
    },
    {
     "data": {
      "text/html": [
       "<div>\n",
       "<style scoped>\n",
       "    .dataframe tbody tr th:only-of-type {\n",
       "        vertical-align: middle;\n",
       "    }\n",
       "\n",
       "    .dataframe tbody tr th {\n",
       "        vertical-align: top;\n",
       "    }\n",
       "\n",
       "    .dataframe thead th {\n",
       "        text-align: right;\n",
       "    }\n",
       "</style>\n",
       "<table border=\"1\" class=\"dataframe\">\n",
       "  <thead>\n",
       "    <tr style=\"text-align: right;\">\n",
       "      <th></th>\n",
       "      <th>parse_count</th>\n",
       "      <th>restaurant_name</th>\n",
       "      <th>rating_review</th>\n",
       "      <th>sample</th>\n",
       "      <th>review_id</th>\n",
       "      <th>title_review</th>\n",
       "      <th>review_preview</th>\n",
       "      <th>review_full</th>\n",
       "      <th>date</th>\n",
       "      <th>city</th>\n",
       "      <th>url_restaurant</th>\n",
       "      <th>author_id</th>\n",
       "    </tr>\n",
       "  </thead>\n",
       "  <tbody>\n",
       "    <tr>\n",
       "      <th>0</th>\n",
       "      <td>1</td>\n",
       "      <td>Chalito_Rambla</td>\n",
       "      <td>1</td>\n",
       "      <td>Negative</td>\n",
       "      <td>review_774086112</td>\n",
       "      <td>Terrible food Terrible service</td>\n",
       "      <td>Ok, this place is terrible! Came here bc we’ve...</td>\n",
       "      <td>Ok, this place is terrible! Came here bc we’ve...</td>\n",
       "      <td>October 12, 2020</td>\n",
       "      <td>Barcelona_Catalonia</td>\n",
       "      <td>https://www.tripadvisor.com/Restaurant_Review-...</td>\n",
       "      <td>UID_0</td>\n",
       "    </tr>\n",
       "    <tr>\n",
       "      <th>1</th>\n",
       "      <td>2</td>\n",
       "      <td>Chalito_Rambla</td>\n",
       "      <td>5</td>\n",
       "      <td>Positive</td>\n",
       "      <td>review_739142140</td>\n",
       "      <td>The best milanesa in central Barcelona</td>\n",
       "      <td>This place was a great surprise. The food is d...</td>\n",
       "      <td>This place was a great surprise. The food is d...</td>\n",
       "      <td>January 14, 2020</td>\n",
       "      <td>Barcelona_Catalonia</td>\n",
       "      <td>https://www.tripadvisor.com/Restaurant_Review-...</td>\n",
       "      <td>UID_1</td>\n",
       "    </tr>\n",
       "    <tr>\n",
       "      <th>2</th>\n",
       "      <td>3</td>\n",
       "      <td>Chalito_Rambla</td>\n",
       "      <td>5</td>\n",
       "      <td>Positive</td>\n",
       "      <td>review_749758638</td>\n",
       "      <td>Family bonding</td>\n",
       "      <td>The food is excellent.....the ambiance is very...</td>\n",
       "      <td>The food is excellent.....the ambiance is very...</td>\n",
       "      <td>March 7, 2020</td>\n",
       "      <td>Barcelona_Catalonia</td>\n",
       "      <td>https://www.tripadvisor.com/Restaurant_Review-...</td>\n",
       "      <td>UID_2</td>\n",
       "    </tr>\n",
       "    <tr>\n",
       "      <th>3</th>\n",
       "      <td>4</td>\n",
       "      <td>Chalito_Rambla</td>\n",
       "      <td>5</td>\n",
       "      <td>Positive</td>\n",
       "      <td>review_749732001</td>\n",
       "      <td>Best food</td>\n",
       "      <td>The food is execellent ,affortable price for p...</td>\n",
       "      <td>The food is execellent ,affortable price for p...</td>\n",
       "      <td>March 7, 2020</td>\n",
       "      <td>Barcelona_Catalonia</td>\n",
       "      <td>https://www.tripadvisor.com/Restaurant_Review-...</td>\n",
       "      <td>UID_3</td>\n",
       "    </tr>\n",
       "    <tr>\n",
       "      <th>4</th>\n",
       "      <td>5</td>\n",
       "      <td>Chalito_Rambla</td>\n",
       "      <td>5</td>\n",
       "      <td>Positive</td>\n",
       "      <td>review_749691057</td>\n",
       "      <td>Amazing Food and Fantastic Service</td>\n",
       "      <td>Mr Suarez,The food at your restaurant was abso...</td>\n",
       "      <td>Mr Suarez,The food at your restaurant was abso...</td>\n",
       "      <td>March 7, 2020</td>\n",
       "      <td>Barcelona_Catalonia</td>\n",
       "      <td>https://www.tripadvisor.com/Restaurant_Review-...</td>\n",
       "      <td>UID_4</td>\n",
       "    </tr>\n",
       "  </tbody>\n",
       "</table>\n",
       "</div>"
      ],
      "text/plain": [
       "  parse_count restaurant_name rating_review    sample         review_id  \\\n",
       "0           1  Chalito_Rambla             1  Negative  review_774086112   \n",
       "1           2  Chalito_Rambla             5  Positive  review_739142140   \n",
       "2           3  Chalito_Rambla             5  Positive  review_749758638   \n",
       "3           4  Chalito_Rambla             5  Positive  review_749732001   \n",
       "4           5  Chalito_Rambla             5  Positive  review_749691057   \n",
       "\n",
       "                             title_review  \\\n",
       "0          Terrible food Terrible service   \n",
       "1  The best milanesa in central Barcelona   \n",
       "2                          Family bonding   \n",
       "3                               Best food   \n",
       "4     Amazing Food and Fantastic Service    \n",
       "\n",
       "                                      review_preview  \\\n",
       "0  Ok, this place is terrible! Came here bc we’ve...   \n",
       "1  This place was a great surprise. The food is d...   \n",
       "2  The food is excellent.....the ambiance is very...   \n",
       "3  The food is execellent ,affortable price for p...   \n",
       "4  Mr Suarez,The food at your restaurant was abso...   \n",
       "\n",
       "                                         review_full              date  \\\n",
       "0  Ok, this place is terrible! Came here bc we’ve...  October 12, 2020   \n",
       "1  This place was a great surprise. The food is d...  January 14, 2020   \n",
       "2  The food is excellent.....the ambiance is very...     March 7, 2020   \n",
       "3  The food is execellent ,affortable price for p...     March 7, 2020   \n",
       "4  Mr Suarez,The food at your restaurant was abso...     March 7, 2020   \n",
       "\n",
       "                  city                                     url_restaurant  \\\n",
       "0  Barcelona_Catalonia  https://www.tripadvisor.com/Restaurant_Review-...   \n",
       "1  Barcelona_Catalonia  https://www.tripadvisor.com/Restaurant_Review-...   \n",
       "2  Barcelona_Catalonia  https://www.tripadvisor.com/Restaurant_Review-...   \n",
       "3  Barcelona_Catalonia  https://www.tripadvisor.com/Restaurant_Review-...   \n",
       "4  Barcelona_Catalonia  https://www.tripadvisor.com/Restaurant_Review-...   \n",
       "\n",
       "  author_id  \n",
       "0     UID_0  \n",
       "1     UID_1  \n",
       "2     UID_2  \n",
       "3     UID_3  \n",
       "4     UID_4  "
      ]
     },
     "execution_count": 3,
     "metadata": {},
     "output_type": "execute_result"
    }
   ],
   "source": [
    "filename = \"../../Datasets/TripAdvisor/Barcelona_reviews.csv\"\n",
    "data = pd.read_csv(filename)\n",
    "data = data.drop([\"Unnamed: 0\"], axis=1)\n",
    "data.head()"
   ]
  },
  {
   "cell_type": "code",
   "execution_count": null,
   "id": "8b3d076a-c192-44de-9039-97388beefd59",
   "metadata": {},
   "outputs": [],
   "source": [
    "# Some cleaning\n",
    "mask = data.rating_review == \"Barcelona_Catalonia\"\n",
    "data = data[~mask]\n",
    "data.rating_review = data.rating_review.astype(int)"
   ]
  },
  {
   "cell_type": "markdown",
   "id": "1168d69f",
   "metadata": {},
   "source": [
    "## 1. Data Exploration and Cleaning\n",
    "\n",
    "Hint: This could take a little while, so better use `tqdm` or similar to show the progress."
   ]
  },
  {
   "cell_type": "markdown",
   "id": "5065bbbb",
   "metadata": {},
   "source": [
    "### 1.1 - Select equal number of reviews for all possible ratings (1 to 5)."
   ]
  },
  {
   "cell_type": "code",
   "execution_count": null,
   "id": "49b7458e",
   "metadata": {},
   "outputs": [],
   "source": []
  },
  {
   "cell_type": "markdown",
   "id": "a6448a43",
   "metadata": {},
   "source": [
    "### 1.2 - Use suitable Python libraries to detect the language for every restaurant review, for instance `langdetect`."
   ]
  },
  {
   "cell_type": "code",
   "execution_count": null,
   "id": "3c14dfaf",
   "metadata": {},
   "outputs": [],
   "source": []
  },
  {
   "cell_type": "markdown",
   "id": "cca9d7fb",
   "metadata": {},
   "source": [
    "### 1.3 - Show a distribution of detected languages."
   ]
  },
  {
   "cell_type": "code",
   "execution_count": null,
   "id": "2fa39f75",
   "metadata": {},
   "outputs": [],
   "source": []
  },
  {
   "cell_type": "markdown",
   "id": "13138da9",
   "metadata": {},
   "source": [
    "### 1.4 - Continue to work only with English entries."
   ]
  },
  {
   "cell_type": "code",
   "execution_count": null,
   "id": "7aa86077",
   "metadata": {},
   "outputs": [],
   "source": []
  },
  {
   "cell_type": "markdown",
   "id": "88f4e03d",
   "metadata": {},
   "source": [
    "## 2. TF-IDF + Logistic Regression vs Linear Regression"
   ]
  },
  {
   "cell_type": "markdown",
   "id": "ea8a399c",
   "metadata": {},
   "source": [
    "### 2.1 - Use the `TfidfVectorizer` to create vectors of all remaining reviews."
   ]
  },
  {
   "cell_type": "code",
   "execution_count": null,
   "id": "275f4f18",
   "metadata": {},
   "outputs": [],
   "source": []
  },
  {
   "cell_type": "markdown",
   "id": "0a87fa09",
   "metadata": {},
   "source": [
    "### 2.2 - Train a Logistic Regression model on the 5 rating classes"
   ]
  },
  {
   "cell_type": "code",
   "execution_count": null,
   "id": "d92cfa71-5b0e-45a4-a7cf-37cbde7e05d8",
   "metadata": {},
   "outputs": [],
   "source": []
  },
  {
   "cell_type": "markdown",
   "id": "14ff829f",
   "metadata": {},
   "source": [
    "### 2.3 - Train a Linear Regression model on the rating (1 to 5)."
   ]
  },
  {
   "cell_type": "code",
   "execution_count": null,
   "id": "1508c938",
   "metadata": {},
   "outputs": [],
   "source": []
  },
  {
   "cell_type": "markdown",
   "id": "95acefc3",
   "metadata": {},
   "source": [
    "### 2.4 - Compare both models, which works better?"
   ]
  },
  {
   "cell_type": "code",
   "execution_count": null,
   "id": "f65ea28d",
   "metadata": {},
   "outputs": [],
   "source": []
  },
  {
   "cell_type": "markdown",
   "id": "b7fef192",
   "metadata": {},
   "source": [
    "### 2.5 - Also compare single tokens vs. 1 + 2-grams (`ngrams = (1,2)`), which works better."
   ]
  },
  {
   "cell_type": "code",
   "execution_count": null,
   "id": "f8bea353",
   "metadata": {},
   "outputs": [],
   "source": []
  },
  {
   "cell_type": "markdown",
   "id": "79a3930c",
   "metadata": {},
   "source": [
    "### 2.6 - Show the 10 most relevant words (or ngrams) for predicting high or low ratings."
   ]
  },
  {
   "cell_type": "code",
   "execution_count": null,
   "id": "de762601",
   "metadata": {},
   "outputs": [],
   "source": []
  },
  {
   "cell_type": "markdown",
   "id": "bff5b2dc",
   "metadata": {},
   "source": [
    "\n",
    "## 3. Language Model --> word vectors + Logistic Regression vs. Random Forest"
   ]
  },
  {
   "cell_type": "markdown",
   "id": "c02099a7",
   "metadata": {},
   "source": [
    "### 3.1 - Use Spacy and a larger English language model (`spacy.load(\"en_core_web_lg\")`) to create vectors for each review. This might take a while so use a progress bar."
   ]
  },
  {
   "cell_type": "markdown",
   "id": "1423d5df",
   "metadata": {},
   "source": []
  },
  {
   "cell_type": "markdown",
   "id": "fcee876a",
   "metadata": {},
   "source": []
  },
  {
   "cell_type": "markdown",
   "id": "419ee47c",
   "metadata": {},
   "source": [
    "### 3.2 - Train a Logistic Regression model as well as a RandomForestClassifier on the review embeddings to predict the 5 rating classes."
   ]
  },
  {
   "cell_type": "code",
   "execution_count": null,
   "id": "77c080c9",
   "metadata": {},
   "outputs": [],
   "source": []
  },
  {
   "cell_type": "markdown",
   "id": "b7d3611f",
   "metadata": {},
   "source": [
    "### 3.3 - Evaluate the performance of both models, and also compare to the TF-IDF case before."
   ]
  },
  {
   "cell_type": "markdown",
   "id": "b405bd8a",
   "metadata": {},
   "source": []
  }
 ],
 "metadata": {
  "kernelspec": {
   "display_name": "Python 3 (ipykernel)",
   "language": "python",
   "name": "python3"
  },
  "language_info": {
   "codemirror_mode": {
    "name": "ipython",
    "version": 3
   },
   "file_extension": ".py",
   "mimetype": "text/x-python",
   "name": "python",
   "nbconvert_exporter": "python",
   "pygments_lexer": "ipython3",
   "version": "3.9.19"
  }
 },
 "nbformat": 4,
 "nbformat_minor": 5
}
