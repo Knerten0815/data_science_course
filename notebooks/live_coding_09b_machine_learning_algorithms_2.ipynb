{
 "cells": [
  {
   "cell_type": "markdown",
   "id": "1e8f20b9-a562-4dac-9a57-e887e9372651",
   "metadata": {},
   "source": [
    "# Common Algorithms II - Linear Models\n",
    "\n",
    "We first looked at k-nearest neighbors (k-NN) and applied it to a simple dataset by using the Scikit-Learn implementation.\n",
    "Scikit-Learn provides many more machine learning models, and all are relatively easy to use from a coding perspective {cite}`scikit-learn`.\n",
    "\n",
    "The supervised models (see [the Scikit-Learn guide](https://scikit-learn.org/stable/supervised_learning.html)) are usually handled in a very similar way. We first train a model using `model.fit(X, y)` where `X` is our training data and `y` our targets or labels. Predictions on new data `X_new` are generated using `model.predict(X_new)`.\n",
    "\n",
    "In most cases, the main difficulty is not the code part. It is the right choice of an algorithm and the proper preparation of the input data.\n",
    "One thing that can lead to quite embarrassing outcomes, but also to drastic failure of a project, is the use of machine learning models without a proper understanding of how they work. A good data scientist will develop an intuition over time for what type of models work well for a certain task and dataset. This is nothing that can be developed within a few days or weeks, but we can set a good starting point here.\n",
    "\n",
    "## Linear Models\n",
    "\n",
    "Linear models are a cornerstone of machine learning, offering a simple yet powerful approach for both regression and classification tasks. They are based on the principle of a linear combination of input features to predict an output. These models are favored for their interpretability, computational efficiency, and the foundational role they play in understanding complex machine learning concepts."
   ]
  },
  {
   "cell_type": "markdown",
   "id": "04bb1245-ab15-4c3b-be5b-6ff7932e568d",
   "metadata": {},
   "source": [
    "## Linear Regression\n",
    "Linear regression is one of the simplest and most fundamental machine learning algorithms. Whenever you had a calculator or a program to find a linear fit through many datapoints, that was, in principle, already a linear regression model. It is used for predictive modeling, specifically for forecasting a quantitative response based on one or more predictor variables (features). The essence of linear regression lies in fitting a linear equation to the observed data. The equation takes the form:\n",
    "\n",
    "$$\n",
    " y=\\beta_0​ + \\beta_1 ​x_1 ​+ \\beta_2 ​x_2​ + ... + \\beta_n ​x_n ​+ \\epsilon\n",
    "$$\n",
    "\n",
    "Here, $y$ represents the dependent variable we aim to predict, $x_1$, $x_2$, ... , $x_n$ are the independent variables (features), $\\beta_0$ is the y-intercept, $\\beta_1$, $\\beta_2$,...,$\\beta_n$ are the coefficients that represent the weight of each feature in predicting the target variable, and $\\epsilon$ is the error term, capturing the difference between the observed and predicted values.\n",
    "\n",
    "The goal of linear regression is to find the best-fitting line through the data points that minimizes the sum of the squared differences between the observed and predicted values, known as the least squares criterion.\n",
    "\n",
    "**But how does the algorithm learn from the data?**\n",
    "Linear regression \"learns\" from the data by adjusting the coefficients ($β$ values) to minimize the cost function, typically the mean squared error (MSE) between the predicted and actual values of the dependent variable. The learning process involves solving for the coefficients that result in the best fit. This can be achieved through various methods, including gradient descent or more direct mathematical approaches like the Ordinary Least Squares (OLS) method. Such a process is an iterative process, as illustrated in {numref}`fig_linear_regression_fitting`.\n",
    "\n",
    "The illustrated example used one-dimensional data ($x_1$) which is used to model a one-dimensional label ($y$). Here, only $\\beta_0$ and $\\beta_1$ would need to be learned. In practice, however, most datasets we use will be of much higher dimensionality and the resulting models will have to learn many coefficients.\n",
    "\n",
    "```{figure} ../images/fig_linear_regression_fitting.png\n",
    ":name: fig_linear_regression_fitting\n",
    "\n",
    "The coefficients of the linear model are learned by an iterative optimization process. A common procedure for this is the minimization of the mean squared error (errors are indicated by the yellow lines). \n",
    "```\n",
    "\n",
    "---\n"
   ]
  },
  {
   "cell_type": "markdown",
   "id": "8509d818-97a6-45d4-8b70-a0bdaa81d607",
   "metadata": {},
   "source": [
    "### Pros, Cons, Caveats\n",
    "\n",
    "One of the main advantages of Linear Regression models lies in the simplicity of the concept. It is very easy to understand what such a model does, and computationally, it is very efficient.\n",
    "\n",
    "Unlike k-NN, linear regression models learn one coefficient per input feature. As a result, such linear models are not sensitive to features of different scales, and rescaling is not required. \n",
    "\n",
    "However, linear models come with some important limitations.  \n",
    "Their main issue is, that they are often just *too* simple to describe data well enough because, very often, relationships between features or features and labels are not linear {numref}`fig_linear_regression_issues`. And, in contrast to k-NN, linear models can output predictions that are nonsensical or impossible (e.g. negative heights, prices, physically impossible temperatures etc.). Since they will always output something, they also come at a risk of making overconfident predictions, so predictions for datapoints that are very different from all training samples.\n",
    "\n",
    "```{figure} ../images/fig_linear_regression_issues.png\n",
    ":name: fig_linear_regression_issues\n",
    "\n",
    "The coefficients of the linear model are learned by an iterative optimization process. A common procedure for this is the minimization of the mean squared error (errors are indicated by the yellow lines). \n",
    "```\n",
    "\n",
    "**Pros:**\n",
    "\n",
    "- **Simplicity and interpretability:** The linear regression model is straightforward to understand and interpret, making it an excellent starting point for predictive modeling.\n",
    "- **Computational efficiency:** It is computationally inexpensive to train and predict with linear regression, allowing it to handle large datasets effectively.\n",
    "- **Continuous and categorical data:** It can handle both types of data, with categorical variables often incorporated through dummy coding.\n",
    "\n",
    "**Cons:**\n",
    "\n",
    "- **Assumption of linearity:** The biggest limitation is the assumption that there is a linear relationship between the dependent and independent variables. This assumption does not hold for many real-world scenarios.\n",
    "- **Outliers sensitivity:** Linear regression is sensitive to outliers in the data, which can significantly affect the regression line and coefficients.\n",
    "- **Impossible predictions & Overconfidence:** Linear models can easily output values far outsize the desired or possible ranges. This is here linked to over-confidence when data is used with the model that is far away from all training data."
   ]
  },
  {
   "cell_type": "markdown",
   "id": "47de9430-74a2-49d8-a932-3dca6d6c883e",
   "metadata": {},
   "source": [
    "## Hands-on Example\n",
    "\n",
    "We here again work with the [`Penguin Dataset`](https://allisonhorst.github.io/palmerpenguins/) {cite}`penguins`. But instead of predicting the species (which is a categorical value), we will try to predict numerical values. \n",
    "This will create a *regression* task instead of a classification task."
   ]
  },
  {
   "cell_type": "code",
   "execution_count": 1,
   "id": "34a77333-5216-4766-996d-9723af411f61",
   "metadata": {},
   "outputs": [],
   "source": [
    "import os\n",
    "import pandas as pd\n",
    "import numpy as np\n",
    "from matplotlib import pyplot as plt\n",
    "import seaborn as sb"
   ]
  },
  {
   "cell_type": "markdown",
   "id": "d09af06a-4b43-43ce-9da5-0af079b075b5",
   "metadata": {},
   "source": [
    "### Data Inspection & Cleaning"
   ]
  },
  {
   "cell_type": "code",
   "execution_count": 2,
   "id": "c42c7331-88e2-4403-a73d-734355274ed4",
   "metadata": {},
   "outputs": [],
   "source": [
    "filename = \"../datasets/penguins_size.csv\"  # contains some changes with respect to the original dataset!\n",
    "data = pd.read_csv(filename)"
   ]
  },
  {
   "cell_type": "code",
   "execution_count": 3,
   "id": "774865e2-8861-4b34-975b-302e78ccc834",
   "metadata": {},
   "outputs": [
    {
     "data": {
      "text/html": [
       "<div>\n",
       "<style scoped>\n",
       "    .dataframe tbody tr th:only-of-type {\n",
       "        vertical-align: middle;\n",
       "    }\n",
       "\n",
       "    .dataframe tbody tr th {\n",
       "        vertical-align: top;\n",
       "    }\n",
       "\n",
       "    .dataframe thead th {\n",
       "        text-align: right;\n",
       "    }\n",
       "</style>\n",
       "<table border=\"1\" class=\"dataframe\">\n",
       "  <thead>\n",
       "    <tr style=\"text-align: right;\">\n",
       "      <th></th>\n",
       "      <th>culmen_length_mm</th>\n",
       "      <th>culmen_depth_mm</th>\n",
       "      <th>body_mass_g</th>\n",
       "      <th>female</th>\n",
       "    </tr>\n",
       "  </thead>\n",
       "  <tbody>\n",
       "    <tr>\n",
       "      <th>0</th>\n",
       "      <td>39.1</td>\n",
       "      <td>18.7</td>\n",
       "      <td>3750.0</td>\n",
       "      <td>0</td>\n",
       "    </tr>\n",
       "    <tr>\n",
       "      <th>1</th>\n",
       "      <td>39.5</td>\n",
       "      <td>17.4</td>\n",
       "      <td>3800.0</td>\n",
       "      <td>1</td>\n",
       "    </tr>\n",
       "    <tr>\n",
       "      <th>2</th>\n",
       "      <td>40.3</td>\n",
       "      <td>18.0</td>\n",
       "      <td>3250.0</td>\n",
       "      <td>1</td>\n",
       "    </tr>\n",
       "    <tr>\n",
       "      <th>4</th>\n",
       "      <td>36.7</td>\n",
       "      <td>19.3</td>\n",
       "      <td>3450.0</td>\n",
       "      <td>1</td>\n",
       "    </tr>\n",
       "    <tr>\n",
       "      <th>5</th>\n",
       "      <td>39.3</td>\n",
       "      <td>20.6</td>\n",
       "      <td>3650.0</td>\n",
       "      <td>0</td>\n",
       "    </tr>\n",
       "  </tbody>\n",
       "</table>\n",
       "</div>"
      ],
      "text/plain": [
       "   culmen_length_mm  culmen_depth_mm  body_mass_g  female\n",
       "0              39.1             18.7       3750.0       0\n",
       "1              39.5             17.4       3800.0       1\n",
       "2              40.3             18.0       3250.0       1\n",
       "4              36.7             19.3       3450.0       1\n",
       "5              39.3             20.6       3650.0       0"
      ]
     },
     "execution_count": 3,
     "metadata": {},
     "output_type": "execute_result"
    }
   ],
   "source": [
    "data = data.dropna()\n",
    "\n",
    "label_name = \"flipper_length_mm\"\n",
    "y = data[label_name]\n",
    "X = data.drop([\"species\", \"island\", label_name], axis=1)\n",
    "X[\"sex\"] = 1 * pd.get_dummies(X[\"sex\"])[\"FEMALE\"]\n",
    "X = X.rename(columns={\"sex\": \"female\"})\n",
    "X.head()"
   ]
  },
  {
   "cell_type": "markdown",
   "id": "f82faa4e-776e-4497-85c7-b5fb0d0443e2",
   "metadata": {},
   "source": [
    "### Train/Test split\n",
    "\n",
    "As done before, we will simply split the data into a training set and a test set."
   ]
  },
  {
   "cell_type": "code",
   "execution_count": 4,
   "id": "15d7fef0-654e-41f3-aa46-6782f49e2f53",
   "metadata": {},
   "outputs": [],
   "source": [
    "from sklearn.model_selection import train_test_split\n",
    "\n",
    "# Train-test split\n",
    "X_train, X_test, y_train, y_test = train_test_split(X, y, test_size=0.25, random_state=0)"
   ]
  },
  {
   "cell_type": "code",
   "execution_count": 5,
   "id": "0176b348-001f-423c-a907-511ffdd467f2",
   "metadata": {},
   "outputs": [
    {
     "data": {
      "text/plain": [
       "((250, 4), (84, 4), (250,), (84,))"
      ]
     },
     "execution_count": 5,
     "metadata": {},
     "output_type": "execute_result"
    }
   ],
   "source": [
    "# Let's check the outcome dimensions\n",
    "X_train.shape, X_test.shape, y_train.shape, y_test.shape"
   ]
  },
  {
   "cell_type": "markdown",
   "id": "38607365-8912-4d5d-a9ca-d3b6fa2ef56a",
   "metadata": {},
   "source": [
    "### Train a model (and make predictions)"
   ]
  },
  {
   "cell_type": "code",
   "execution_count": 6,
   "id": "a0fb1309-4824-49b0-9c8e-e47425798114",
   "metadata": {},
   "outputs": [
    {
     "data": {
      "text/html": [
       "<style>#sk-container-id-1 {color: black;}#sk-container-id-1 pre{padding: 0;}#sk-container-id-1 div.sk-toggleable {background-color: white;}#sk-container-id-1 label.sk-toggleable__label {cursor: pointer;display: block;width: 100%;margin-bottom: 0;padding: 0.3em;box-sizing: border-box;text-align: center;}#sk-container-id-1 label.sk-toggleable__label-arrow:before {content: \"▸\";float: left;margin-right: 0.25em;color: #696969;}#sk-container-id-1 label.sk-toggleable__label-arrow:hover:before {color: black;}#sk-container-id-1 div.sk-estimator:hover label.sk-toggleable__label-arrow:before {color: black;}#sk-container-id-1 div.sk-toggleable__content {max-height: 0;max-width: 0;overflow: hidden;text-align: left;background-color: #f0f8ff;}#sk-container-id-1 div.sk-toggleable__content pre {margin: 0.2em;color: black;border-radius: 0.25em;background-color: #f0f8ff;}#sk-container-id-1 input.sk-toggleable__control:checked~div.sk-toggleable__content {max-height: 200px;max-width: 100%;overflow: auto;}#sk-container-id-1 input.sk-toggleable__control:checked~label.sk-toggleable__label-arrow:before {content: \"▾\";}#sk-container-id-1 div.sk-estimator input.sk-toggleable__control:checked~label.sk-toggleable__label {background-color: #d4ebff;}#sk-container-id-1 div.sk-label input.sk-toggleable__control:checked~label.sk-toggleable__label {background-color: #d4ebff;}#sk-container-id-1 input.sk-hidden--visually {border: 0;clip: rect(1px 1px 1px 1px);clip: rect(1px, 1px, 1px, 1px);height: 1px;margin: -1px;overflow: hidden;padding: 0;position: absolute;width: 1px;}#sk-container-id-1 div.sk-estimator {font-family: monospace;background-color: #f0f8ff;border: 1px dotted black;border-radius: 0.25em;box-sizing: border-box;margin-bottom: 0.5em;}#sk-container-id-1 div.sk-estimator:hover {background-color: #d4ebff;}#sk-container-id-1 div.sk-parallel-item::after {content: \"\";width: 100%;border-bottom: 1px solid gray;flex-grow: 1;}#sk-container-id-1 div.sk-label:hover label.sk-toggleable__label {background-color: #d4ebff;}#sk-container-id-1 div.sk-serial::before {content: \"\";position: absolute;border-left: 1px solid gray;box-sizing: border-box;top: 0;bottom: 0;left: 50%;z-index: 0;}#sk-container-id-1 div.sk-serial {display: flex;flex-direction: column;align-items: center;background-color: white;padding-right: 0.2em;padding-left: 0.2em;position: relative;}#sk-container-id-1 div.sk-item {position: relative;z-index: 1;}#sk-container-id-1 div.sk-parallel {display: flex;align-items: stretch;justify-content: center;background-color: white;position: relative;}#sk-container-id-1 div.sk-item::before, #sk-container-id-1 div.sk-parallel-item::before {content: \"\";position: absolute;border-left: 1px solid gray;box-sizing: border-box;top: 0;bottom: 0;left: 50%;z-index: -1;}#sk-container-id-1 div.sk-parallel-item {display: flex;flex-direction: column;z-index: 1;position: relative;background-color: white;}#sk-container-id-1 div.sk-parallel-item:first-child::after {align-self: flex-end;width: 50%;}#sk-container-id-1 div.sk-parallel-item:last-child::after {align-self: flex-start;width: 50%;}#sk-container-id-1 div.sk-parallel-item:only-child::after {width: 0;}#sk-container-id-1 div.sk-dashed-wrapped {border: 1px dashed gray;margin: 0 0.4em 0.5em 0.4em;box-sizing: border-box;padding-bottom: 0.4em;background-color: white;}#sk-container-id-1 div.sk-label label {font-family: monospace;font-weight: bold;display: inline-block;line-height: 1.2em;}#sk-container-id-1 div.sk-label-container {text-align: center;}#sk-container-id-1 div.sk-container {/* jupyter's `normalize.less` sets `[hidden] { display: none; }` but bootstrap.min.css set `[hidden] { display: none !important; }` so we also need the `!important` here to be able to override the default hidden behavior on the sphinx rendered scikit-learn.org. See: https://github.com/scikit-learn/scikit-learn/issues/21755 */display: inline-block !important;position: relative;}#sk-container-id-1 div.sk-text-repr-fallback {display: none;}</style><div id=\"sk-container-id-1\" class=\"sk-top-container\"><div class=\"sk-text-repr-fallback\"><pre>LinearRegression()</pre><b>In a Jupyter environment, please rerun this cell to show the HTML representation or trust the notebook. <br />On GitHub, the HTML representation is unable to render, please try loading this page with nbviewer.org.</b></div><div class=\"sk-container\" hidden><div class=\"sk-item\"><div class=\"sk-estimator sk-toggleable\"><input class=\"sk-toggleable__control sk-hidden--visually\" id=\"sk-estimator-id-1\" type=\"checkbox\" checked><label for=\"sk-estimator-id-1\" class=\"sk-toggleable__label sk-toggleable__label-arrow\">LinearRegression</label><div class=\"sk-toggleable__content\"><pre>LinearRegression()</pre></div></div></div></div></div>"
      ],
      "text/plain": [
       "LinearRegression()"
      ]
     },
     "execution_count": 6,
     "metadata": {},
     "output_type": "execute_result"
    }
   ],
   "source": [
    "from sklearn.linear_model import LinearRegression\n",
    "\n",
    "model = LinearRegression()\n",
    "model.fit(X_train, y_train)"
   ]
  },
  {
   "cell_type": "markdown",
   "id": "9674b56c-0465-47f6-84a4-d9e73c1b6df3",
   "metadata": {},
   "source": [
    "#### What has the model \"learned\"?\n",
    "Our model takes numerical input, in this case with 4 dimensions (4 features --> see `X_train.shape`).  \n",
    "Through the training, which here is simply an optimization of the linear fit, our model has then learned one coefficient per input. These are the before-mentioned values for $\\beta_1$ to $\\beta_4$ in this case."
   ]
  },
  {
   "cell_type": "code",
   "execution_count": 7,
   "id": "854cbadf-a0a9-4213-b086-6cfc00101f3a",
   "metadata": {},
   "outputs": [
    {
     "data": {
      "text/plain": [
       "array([ 0.56942041, -1.5552058 ,  0.01114168, -0.02814116])"
      ]
     },
     "execution_count": 7,
     "metadata": {},
     "output_type": "execute_result"
    }
   ],
   "source": [
    "model.coef_"
   ]
  },
  {
   "cell_type": "markdown",
   "id": "adafdb8f-76e3-4670-b2a8-295fc8198ce6",
   "metadata": {},
   "source": [
    "The model has also learned the y-intercept $\\beta_0$:"
   ]
  },
  {
   "cell_type": "code",
   "execution_count": 8,
   "id": "a3c0b667-2c23-42ab-8a01-9aaf63408b51",
   "metadata": {},
   "outputs": [
    {
     "data": {
      "text/plain": [
       "156.04773034515992"
      ]
     },
     "execution_count": 8,
     "metadata": {},
     "output_type": "execute_result"
    }
   ],
   "source": [
    "model.intercept_"
   ]
  },
  {
   "cell_type": "markdown",
   "id": "6156af1e-7218-4e61-977e-313a1e4ee002",
   "metadata": {},
   "source": [
    "**Compute predictions**  \n",
    "Just as before with the k-NN model, we can simply create predictions on any data of the expected size (here: 4 features)."
   ]
  },
  {
   "cell_type": "code",
   "execution_count": 9,
   "id": "e2754e98-6c9c-45a4-84ae-1551a294098c",
   "metadata": {},
   "outputs": [
    {
     "data": {
      "text/plain": [
       "array([193.36801925, 186.90095107, 186.96514261, 216.78177533,\n",
       "       192.5010084 , 218.96978654, 187.11302035, 188.36432361,\n",
       "       184.62538673, 223.42560836, 204.29932642, 195.77336369,\n",
       "       182.2866393 , 182.74081935, 185.65632772, 185.16122669,\n",
       "       190.24214572, 209.81139846, 196.76588675, 191.91914093,\n",
       "       190.01785114, 192.53351504, 212.30073619, 219.58809295,\n",
       "       226.64536711, 212.19702546, 222.7882205 , 224.88228114,\n",
       "       196.79434262, 194.28741805, 191.54089813, 190.14804443,\n",
       "       191.95268066, 187.10027097, 221.95745147, 187.2304965 ,\n",
       "       195.75156967, 199.25900799, 209.14328103, 189.30897673,\n",
       "       195.24710661, 186.65085722, 221.30229292, 207.25208685,\n",
       "       195.39348974, 218.42292117, 198.16769688, 222.22600408,\n",
       "       189.14585881, 187.70453709, 199.97435282, 191.37207844,\n",
       "       208.85914802, 186.89632311, 219.34255409, 191.10136301,\n",
       "       193.81986592, 189.7923519 , 193.03099497, 216.95602953,\n",
       "       193.49050434, 224.38722562, 187.15019287, 222.91529282,\n",
       "       198.19291897, 187.19884951, 188.94023249, 193.65535099,\n",
       "       186.75182794, 190.91060338, 194.4856158 , 198.11059563,\n",
       "       190.52188012, 202.63218985, 215.41547344, 212.7758582 ,\n",
       "       195.47410897, 213.25641471, 193.78951642, 202.3466731 ,\n",
       "       187.39539717, 216.12611255, 208.97056695, 197.21031903])"
      ]
     },
     "execution_count": 9,
     "metadata": {},
     "output_type": "execute_result"
    }
   ],
   "source": [
    "predictions = model.predict(X_test)\n",
    "predictions"
   ]
  },
  {
   "cell_type": "markdown",
   "id": "fd7dd03d-5214-4e2e-9ba8-e3182897e381",
   "metadata": {},
   "source": [
    "### Model evaluation\n",
    "\n",
    "Unlike for classification, we don't have a simpe distinction between right (correct class was predicted) and wrong. In most cases, we will not even expect our model to make perfect predictions, but predictions which in most cases come very close to the true values.\n",
    "\n",
    "This can be tested in several ways. Here, we will do two very simple and easy-to-read tests. First, we just plot the predicted values against the true values in a scatter plot:"
   ]
  },
  {
   "cell_type": "code",
   "execution_count": 10,
   "id": "f8bde23b-886d-40fe-b284-f1ccc0aceb57",
   "metadata": {},
   "outputs": [
    {
     "data": {
      "text/plain": [
       "Text(0.5, 0, 'Predicted label')"
      ]
     },
     "execution_count": 10,
     "metadata": {},
     "output_type": "execute_result"
    },
    {
     "data": {
      "image/png": "[encoded data removed]",
      "text/plain": [
       "<Figure size 500x500 with 1 Axes>"
      ]
     },
     "metadata": {},
     "output_type": "display_data"
    }
   ],
   "source": [
    "fig, ax = plt.subplots(figsize=(5, 5))\n",
    "\n",
    "ax.scatter(predictions, y_test)\n",
    "ax.set_ylabel(\"True label\")\n",
    "ax.set_xlabel(\"Predicted label\")"
   ]
  },
  {
   "cell_type": "markdown",
   "id": "d0c0d5d5-2c1d-4947-9f95-bfb62e80c868",
   "metadata": {},
   "source": [
    "We can also look at the prediction errors, which simply is `y_test - predictions`.  \n",
    "A histogram can quickly show us by how far our model predictions are off."
   ]
  },
  {
   "cell_type": "code",
   "execution_count": 11,
   "id": "2b00896a-c871-43cc-8428-8fd52183ccbb",
   "metadata": {},
   "outputs": [
    {
     "data": {
      "text/plain": [
       "Text(0.5, 1.0, 'Prediction errors')"
      ]
     },
     "execution_count": 11,
     "metadata": {},
     "output_type": "execute_result"
    },
    {
     "data": {
      "image/png": "[encoded data removed]",
      "text/plain": [
       "<Figure size 700x400 with 1 Axes>"
      ]
     },
     "metadata": {},
     "output_type": "display_data"
    }
   ],
   "source": [
    "fig, ax = plt.subplots(figsize=(7, 4))\n",
    "\n",
    "ax.hist(y_test - predictions, bins=15, rwidth=0.8)\n",
    "ax.set_title(\"Prediction errors\")"
   ]
  },
  {
   "cell_type": "markdown",
   "id": "b7242790-8a81-427c-acc3-1807635b9b35",
   "metadata": {},
   "source": [
    "In this example we see that most predictions are off by no more than +- 5."
   ]
  },
  {
   "cell_type": "markdown",
   "id": "7449485c-b8a1-4b0b-8147-e910cedd2dd2",
   "metadata": {},
   "source": [
    "## Logistic Regression\n",
    "Logistic regression, despite its name, is not used for regression tasks. Instead, it is a classification algorithm, primarily used when the dependent variable is binary or categorical. It is a powerful statistical method used to model the probability of a certain class or event existing. Like linear regression, logistic regression models the relationship between a set of independent variables and a dependent variable. However, instead of fitting a line to the data, it uses a logistic function to output a probability value that is used for classification.\n",
    "\n",
    "### The Logistic Function\n",
    "The core of logistic regression is the logistic function, also known as the sigmoid function. The logistic function is defined as:\n",
    "\n",
    "$$\n",
    "\\sigma(z) = \\frac{1}{1 + e^{−z}}\n",
    "$$\n",
    "\n",
    "where $z$ is the linear combination of input features, similar to linear regression:\n",
    "\n",
    "$$\n",
    "z = \\beta_0 + \\beta_1 x_1 + \\beta_2 x_2 + ... + \\beta_n x_n\n",
    "$$\n",
    "\n",
    "In this equation, $\\beta_0$​ is the intercept, $\\beta_1$, $\\beta_2$, ..., $\\beta_n$ are the coefficients, $x_1$, $x_2$, ..., $x_n$​ are the independent variables, and $e$ is the base of the natural logarithm.\n",
    "\n",
    "The output of the logistic function, $\\sigma(z)$, ranges between 0 and 1, making it suitable for binary classification. The probability $P$ of the dependent variable $y$ being 1 (or belonging to a particular class) is given by:\n",
    "\n",
    "$$\n",
    "P(y=1 ∣ x) = \\sigma(z) = \\frac{1}{1+e^{−(\\beta_0 + \\beta_1 x_1 + \\beta_2 x_2 + ... + \\beta_n x_n)}}\n",
    "$$​"
   ]
  },
  {
   "cell_type": "markdown",
   "id": "ca77c983-394d-45cf-8d75-cdc5983ab2ef",
   "metadata": {},
   "source": [
    "### Decision Boundary\n",
    "\n",
    "The probability output by the logistic function is often compared to a threshold value (commonly 0.5) to make a binary decision. If the predicted probability is greater than or equal to 0.5, the output class is 1; otherwise, it is 0. This threshold can be adjusted based on the specific problem and the cost of false positives and false negatives.\n",
    "\n",
    "### Training the Model\n",
    "\n",
    "Logistic regression is trained using a method called Maximum Likelihood Estimation (MLE). The goal of MLE is to find the values of the coefficients $\\beta$ that maximize the likelihood of the observed data. This is done by iteratively adjusting the coefficients to minimize the difference between the predicted probabilities and the actual class labels in the training data.\n",
    "\n",
    "The cost function for logistic regression is the log-loss (or binary cross-entropy), which measures the performance of the classification model:\n",
    "\n",
    "$$\n",
    "\\text{Log-Loss} = - \\frac{1}{m} \\sum_{i=1}^{m} \\left[ y_i \\log(p_i) + (1 - y_i) \\log(1 - p_i) \\right]\n",
    "$$\n",
    "\n",
    "where $m$ is the number of observations, $y_i$ is the actual class label for observation $i$, and $p_i$ is the predicted probability for observation $i$."
   ]
  },
  {
   "cell_type": "markdown",
   "id": "e8ed2301-955f-4d73-adc0-fa9d3b9941fc",
   "metadata": {},
   "source": [
    "### Pros, Cons, Caveats\n",
    "\n",
    "#### Pros:\n",
    "\n",
    "- **Interpretability:** Logistic regression provides clear and interpretable coefficients that indicate the strength and direction of the relationship between independent variables and the dependent variable.\n",
    "- **Efficiency:** It is computationally efficient and scales well with large datasets.\n",
    "- **Probabilistic Outputs:** Provides probabilistic predictions, which can be useful for decision-making processes that incorporate uncertainty.\n",
    "\n",
    "#### Cons:\n",
    "\n",
    "- **Linearity Assumption:** Assumes a linear relationship between the independent variables and the log-odds of the dependent variable, which may not hold in all cases.\n",
    "- **Not Suitable for Complex Relationships:** Logistic regression may not perform well when the relationship between the independent and dependent variables is highly complex and non-linear.\n",
    "- **Sensitivity to Outliers:** Like linear regression, logistic regression can be sensitive to outliers, which can affect the model's performance.\n",
    "\n",
    "### Python Example: Logistic Regression with the Iris Dataset\n",
    "\n",
    "Let's apply logistic regression to a well-known dataset, the Iris dataset. This dataset contains three classes of iris plants, but for simplicity, we will perform binary classification to distinguish one class from the others."
   ]
  },
  {
   "cell_type": "code",
   "execution_count": 12,
   "id": "f6405972-3148-403e-8cb6-bef42ae06585",
   "metadata": {},
   "outputs": [
    {
     "name": "stdout",
     "output_type": "stream",
     "text": [
      "Accuracy: 1.0\n",
      "Confusion Matrix:\n",
      " [[12  0]\n",
      " [ 0  8]]\n",
      "Classification Report:\n",
      "               precision    recall  f1-score   support\n",
      "\n",
      "           0       1.00      1.00      1.00        12\n",
      "           1       1.00      1.00      1.00         8\n",
      "\n",
      "    accuracy                           1.00        20\n",
      "   macro avg       1.00      1.00      1.00        20\n",
      "weighted avg       1.00      1.00      1.00        20\n",
      "\n"
     ]
    }
   ],
   "source": [
    "from sklearn.datasets import load_iris\n",
    "from sklearn.model_selection import train_test_split\n",
    "from sklearn.linear_model import LogisticRegression\n",
    "from sklearn.metrics import accuracy_score, confusion_matrix, classification_report\n",
    "\n",
    "# Load the Iris dataset\n",
    "iris = load_iris()\n",
    "X = iris.data\n",
    "y = iris.target\n",
    "\n",
    "# For binary classification, consider only two classes\n",
    "binary_target_indices = y != 2  # Exclude class 2\n",
    "X_binary = X[binary_target_indices]\n",
    "y_binary = y[binary_target_indices]\n",
    "\n",
    "# Split the data into training and testing sets\n",
    "X_train, X_test, y_train, y_test = train_test_split(X_binary, y_binary, test_size=0.2, random_state=42)\n",
    "\n",
    "# Train the logistic regression model\n",
    "log_reg = LogisticRegression()\n",
    "log_reg.fit(X_train, y_train)\n",
    "\n",
    "# Predict on the test set\n",
    "y_pred = log_reg.predict(X_test)\n",
    "\n",
    "# Evaluate the model\n",
    "accuracy = accuracy_score(y_test, y_pred)\n",
    "conf_matrix = confusion_matrix(y_test, y_pred)\n",
    "class_report = classification_report(y_test, y_pred)\n",
    "\n",
    "print(\"Accuracy:\", accuracy)\n",
    "print(\"Confusion Matrix:\\n\", conf_matrix)\n",
    "print(\"Classification Report:\\n\", class_report)"
   ]
  },
  {
   "cell_type": "markdown",
   "id": "49fa8104-fa87-4736-bad2-fbb4769194c4",
   "metadata": {},
   "source": [
    "Logistic regression is a comparably simple model. It remains, however, a widely used algorithm in machine learning, and we will apply it in a later chapter to classify text documents."
   ]
  },
  {
   "cell_type": "code",
   "execution_count": null,
   "id": "76b8e91f-1d6b-4e40-9580-24bb3e8586d5",
   "metadata": {},
   "outputs": [],
   "source": []
  }
 ],
 "metadata": {
  "kernelspec": {
   "display_name": "Python 3 (ipykernel)",
   "language": "python",
   "name": "python3"
  },
  "language_info": {
   "codemirror_mode": {
    "name": "ipython",
    "version": 3
   },
   "file_extension": ".py",
   "mimetype": "text/x-python",
   "name": "python",
   "nbconvert_exporter": "python",
   "pygments_lexer": "ipython3",
   "version": "3.9.18"
  }
 },
 "nbformat": 4,
 "nbformat_minor": 5
}
